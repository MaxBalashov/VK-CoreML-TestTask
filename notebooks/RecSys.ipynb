{
 "cells": [
  {
   "cell_type": "markdown",
   "metadata": {},
   "source": [
    "**Идея текущего подзода:**"
   ]
  },
  {
   "cell_type": "markdown",
   "metadata": {},
   "source": [
    "# Import"
   ]
  },
  {
   "cell_type": "code",
   "execution_count": 1,
   "metadata": {},
   "outputs": [],
   "source": [
    "import numpy as np\n",
    "import pandas as pd\n",
    "from tqdm import tqdm\n",
    "\n",
    "import sys\n",
    "sys.path.append('../')"
   ]
  },
  {
   "cell_type": "code",
   "execution_count": 2,
   "metadata": {},
   "outputs": [],
   "source": [
    "from src.config import (\n",
    "    path_users_temp,\n",
    "    path_persons_temp,\n",
    "    path_sessions_train,\n",
    "    path_sessions_test,\n",
    "    path_sessions_val\n",
    ")"
   ]
  },
  {
   "cell_type": "markdown",
   "metadata": {},
   "source": [
    "# Чтение файлов"
   ]
  },
  {
   "cell_type": "markdown",
   "metadata": {},
   "source": [
    "### Данные о пользователях"
   ]
  },
  {
   "cell_type": "code",
   "execution_count": 3,
   "metadata": {},
   "outputs": [
    {
     "name": "stdout",
     "output_type": "stream",
     "text": [
      "(45167, 9)\n"
     ]
    },
    {
     "data": {
      "text/html": [
       "<div>\n",
       "<style scoped>\n",
       "    .dataframe tbody tr th:only-of-type {\n",
       "        vertical-align: middle;\n",
       "    }\n",
       "\n",
       "    .dataframe tbody tr th {\n",
       "        vertical-align: top;\n",
       "    }\n",
       "\n",
       "    .dataframe thead th {\n",
       "        text-align: right;\n",
       "    }\n",
       "</style>\n",
       "<table border=\"1\" class=\"dataframe\">\n",
       "  <thead>\n",
       "    <tr style=\"text-align: right;\">\n",
       "      <th></th>\n",
       "      <th>user_id</th>\n",
       "      <th>timestamp</th>\n",
       "      <th>age</th>\n",
       "      <th>gender</th>\n",
       "      <th>country</th>\n",
       "      <th>playcount</th>\n",
       "      <th>playlists</th>\n",
       "      <th>user_name</th>\n",
       "      <th>subscribertype</th>\n",
       "    </tr>\n",
       "  </thead>\n",
       "  <tbody>\n",
       "    <tr>\n",
       "      <th>0</th>\n",
       "      <td>1</td>\n",
       "      <td>1116715959</td>\n",
       "      <td>24.0</td>\n",
       "      <td>f</td>\n",
       "      <td>US</td>\n",
       "      <td>221012.0</td>\n",
       "      <td>2.0</td>\n",
       "      <td>000123</td>\n",
       "      <td>base</td>\n",
       "    </tr>\n",
       "    <tr>\n",
       "      <th>1</th>\n",
       "      <td>2</td>\n",
       "      <td>1163123792</td>\n",
       "      <td>39.0</td>\n",
       "      <td>m</td>\n",
       "      <td>CZ</td>\n",
       "      <td>217535.0</td>\n",
       "      <td>9.0</td>\n",
       "      <td>000333</td>\n",
       "      <td>base</td>\n",
       "    </tr>\n",
       "    <tr>\n",
       "      <th>2</th>\n",
       "      <td>3</td>\n",
       "      <td>1184426573</td>\n",
       "      <td>NaN</td>\n",
       "      <td>f</td>\n",
       "      <td>NaN</td>\n",
       "      <td>49733.0</td>\n",
       "      <td>2.0</td>\n",
       "      <td>00elen</td>\n",
       "      <td>base</td>\n",
       "    </tr>\n",
       "    <tr>\n",
       "      <th>3</th>\n",
       "      <td>4</td>\n",
       "      <td>1123157597</td>\n",
       "      <td>32.0</td>\n",
       "      <td>m</td>\n",
       "      <td>DE</td>\n",
       "      <td>168054.0</td>\n",
       "      <td>2.0</td>\n",
       "      <td>00Eraser00</td>\n",
       "      <td>base</td>\n",
       "    </tr>\n",
       "    <tr>\n",
       "      <th>4</th>\n",
       "      <td>5</td>\n",
       "      <td>1171302116</td>\n",
       "      <td>23.0</td>\n",
       "      <td>m</td>\n",
       "      <td>UK</td>\n",
       "      <td>45700.0</td>\n",
       "      <td>2.0</td>\n",
       "      <td>00fieldsy</td>\n",
       "      <td>base</td>\n",
       "    </tr>\n",
       "  </tbody>\n",
       "</table>\n",
       "</div>"
      ],
      "text/plain": [
       "   user_id   timestamp   age gender country  playcount  playlists   user_name  \\\n",
       "0        1  1116715959  24.0      f      US   221012.0        2.0      000123   \n",
       "1        2  1163123792  39.0      m      CZ   217535.0        9.0      000333   \n",
       "2        3  1184426573   NaN      f     NaN    49733.0        2.0      00elen   \n",
       "3        4  1123157597  32.0      m      DE   168054.0        2.0  00Eraser00   \n",
       "4        5  1171302116  23.0      m      UK    45700.0        2.0   00fieldsy   \n",
       "\n",
       "  subscribertype  \n",
       "0           base  \n",
       "1           base  \n",
       "2           base  \n",
       "3           base  \n",
       "4           base  "
      ]
     },
     "execution_count": 3,
     "metadata": {},
     "output_type": "execute_result"
    }
   ],
   "source": [
    "users = pd.read_csv(path_users_temp)\n",
    "print(users.shape)\n",
    "users.head()"
   ]
  },
  {
   "cell_type": "markdown",
   "metadata": {},
   "source": [
    "### Данные об исполнителях"
   ]
  },
  {
   "cell_type": "code",
   "execution_count": 4,
   "metadata": {
    "scrolled": true
   },
   "outputs": [
    {
     "name": "stdout",
     "output_type": "stream",
     "text": [
      "(595049, 3)\n"
     ]
    },
    {
     "data": {
      "text/html": [
       "<div>\n",
       "<style scoped>\n",
       "    .dataframe tbody tr th:only-of-type {\n",
       "        vertical-align: middle;\n",
       "    }\n",
       "\n",
       "    .dataframe tbody tr th {\n",
       "        vertical-align: top;\n",
       "    }\n",
       "\n",
       "    .dataframe thead th {\n",
       "        text-align: right;\n",
       "    }\n",
       "</style>\n",
       "<table border=\"1\" class=\"dataframe\">\n",
       "  <thead>\n",
       "    <tr style=\"text-align: right;\">\n",
       "      <th></th>\n",
       "      <th>person_id</th>\n",
       "      <th>person_name</th>\n",
       "      <th>person_MBID</th>\n",
       "    </tr>\n",
       "  </thead>\n",
       "  <tbody>\n",
       "    <tr>\n",
       "      <th>4673</th>\n",
       "      <td>227</td>\n",
       "      <td>David+Guetta+&amp;+Nicky+Romero</td>\n",
       "      <td>NaN</td>\n",
       "    </tr>\n",
       "    <tr>\n",
       "      <th>12079</th>\n",
       "      <td>227</td>\n",
       "      <td>David+Guetta,+Sam+Martin</td>\n",
       "      <td>1bb1eec6-88c3-4028-8920-a985c4b9081a</td>\n",
       "    </tr>\n",
       "    <tr>\n",
       "      <th>17306</th>\n",
       "      <td>227</td>\n",
       "      <td>David+Guetta+ft.+Chris+Willis</td>\n",
       "      <td>1bb1eec6-88c3-4028-8920-a985c4b9081a</td>\n",
       "    </tr>\n",
       "    <tr>\n",
       "      <th>31403</th>\n",
       "      <td>227</td>\n",
       "      <td>David+Guetta+-+Ne-Yo+-+Kelly+Rowland</td>\n",
       "      <td>1bb1eec6-88c3-4028-8920-a985c4b9081a</td>\n",
       "    </tr>\n",
       "    <tr>\n",
       "      <th>38019</th>\n",
       "      <td>227</td>\n",
       "      <td>David+Guetta+&amp;+Chris+Willis+Feat.+Fergie+&amp;+LMFAO</td>\n",
       "      <td>1bb1eec6-88c3-4028-8920-a985c4b9081a</td>\n",
       "    </tr>\n",
       "    <tr>\n",
       "      <th>...</th>\n",
       "      <td>...</td>\n",
       "      <td>...</td>\n",
       "      <td>...</td>\n",
       "    </tr>\n",
       "    <tr>\n",
       "      <th>570347</th>\n",
       "      <td>227</td>\n",
       "      <td>David+Guetta+&amp;+Alesso+feat.+Tegan+&amp;+Sara</td>\n",
       "      <td>NaN</td>\n",
       "    </tr>\n",
       "    <tr>\n",
       "      <th>572905</th>\n",
       "      <td>227</td>\n",
       "      <td>David+Guetta+ft.+Kelly+Rowland</td>\n",
       "      <td>1bb1eec6-88c3-4028-8920-a985c4b9081a</td>\n",
       "    </tr>\n",
       "    <tr>\n",
       "      <th>578055</th>\n",
       "      <td>227</td>\n",
       "      <td>David+Guetta+Feat+Lil+Wayne+&amp;+Chris+Brown</td>\n",
       "      <td>1bb1eec6-88c3-4028-8920-a985c4b9081a</td>\n",
       "    </tr>\n",
       "    <tr>\n",
       "      <th>588531</th>\n",
       "      <td>227</td>\n",
       "      <td>David+Guetta+&amp;+Glowinthedark+feat.+Harrison+Shaw</td>\n",
       "      <td>NaN</td>\n",
       "    </tr>\n",
       "    <tr>\n",
       "      <th>590460</th>\n",
       "      <td>227</td>\n",
       "      <td>David+Guetta+&amp;+Avicii+vs.+Laidback+Luke</td>\n",
       "      <td>NaN</td>\n",
       "    </tr>\n",
       "  </tbody>\n",
       "</table>\n",
       "<p>69 rows × 3 columns</p>\n",
       "</div>"
      ],
      "text/plain": [
       "        person_id                                       person_name  \\\n",
       "4673          227                       David+Guetta+&+Nicky+Romero   \n",
       "12079         227                          David+Guetta,+Sam+Martin   \n",
       "17306         227                     David+Guetta+ft.+Chris+Willis   \n",
       "31403         227              David+Guetta+-+Ne-Yo+-+Kelly+Rowland   \n",
       "38019         227  David+Guetta+&+Chris+Willis+Feat.+Fergie+&+LMFAO   \n",
       "...           ...                                               ...   \n",
       "570347        227          David+Guetta+&+Alesso+feat.+Tegan+&+Sara   \n",
       "572905        227                    David+Guetta+ft.+Kelly+Rowland   \n",
       "578055        227         David+Guetta+Feat+Lil+Wayne+&+Chris+Brown   \n",
       "588531        227  David+Guetta+&+Glowinthedark+feat.+Harrison+Shaw   \n",
       "590460        227           David+Guetta+&+Avicii+vs.+Laidback+Luke   \n",
       "\n",
       "                                 person_MBID  \n",
       "4673                                     NaN  \n",
       "12079   1bb1eec6-88c3-4028-8920-a985c4b9081a  \n",
       "17306   1bb1eec6-88c3-4028-8920-a985c4b9081a  \n",
       "31403   1bb1eec6-88c3-4028-8920-a985c4b9081a  \n",
       "38019   1bb1eec6-88c3-4028-8920-a985c4b9081a  \n",
       "...                                      ...  \n",
       "570347                                   NaN  \n",
       "572905  1bb1eec6-88c3-4028-8920-a985c4b9081a  \n",
       "578055  1bb1eec6-88c3-4028-8920-a985c4b9081a  \n",
       "588531                                   NaN  \n",
       "590460                                   NaN  \n",
       "\n",
       "[69 rows x 3 columns]"
      ]
     },
     "execution_count": 4,
     "metadata": {},
     "output_type": "execute_result"
    }
   ],
   "source": [
    "# исполнители\n",
    "persons = pd.read_csv(path_persons_temp)\n",
    "print(persons.shape)\n",
    "persons.head()\n",
    "\n",
    "# поле \"person_name\" по фиксированному \"person_id\" может иметь несколько вариаций\n",
    "# пример с \"David Guetta\"\n",
    "# будем использовать для декодинга person_id\n",
    "persons[persons['person_id'].isin([227])]"
   ]
  },
  {
   "cell_type": "markdown",
   "metadata": {},
   "source": [
    "### Данные о сессиях пользователей"
   ]
  },
  {
   "cell_type": "code",
   "execution_count": 5,
   "metadata": {},
   "outputs": [
    {
     "name": "stdout",
     "output_type": "stream",
     "text": [
      "CPU times: user 4.04 s, sys: 528 ms, total: 4.56 s\n",
      "Wall time: 9.66 s\n"
     ]
    }
   ],
   "source": [
    "%%time\n",
    "sessions_train = pd.read_csv(path_sessions_train)\n",
    "sessions_test = pd.read_csv(path_sessions_test)\n",
    "# sessions_val = pd.read_csv(path_sessions_val)"
   ]
  },
  {
   "cell_type": "code",
   "execution_count": 6,
   "metadata": {},
   "outputs": [
    {
     "name": "stdout",
     "output_type": "stream",
     "text": [
      "(6549461, 10)\n"
     ]
    },
    {
     "data": {
      "text/html": [
       "<div>\n",
       "<style scoped>\n",
       "    .dataframe tbody tr th:only-of-type {\n",
       "        vertical-align: middle;\n",
       "    }\n",
       "\n",
       "    .dataframe tbody tr th {\n",
       "        vertical-align: top;\n",
       "    }\n",
       "\n",
       "    .dataframe thead th {\n",
       "        text-align: right;\n",
       "    }\n",
       "</style>\n",
       "<table border=\"1\" class=\"dataframe\">\n",
       "  <thead>\n",
       "    <tr style=\"text-align: right;\">\n",
       "      <th></th>\n",
       "      <th>session_id</th>\n",
       "      <th>timestamp</th>\n",
       "      <th>playtime</th>\n",
       "      <th>numtracks</th>\n",
       "      <th>user_id</th>\n",
       "      <th>track_id</th>\n",
       "      <th>track_playratio</th>\n",
       "      <th>playcount</th>\n",
       "      <th>person_id</th>\n",
       "      <th>numpersons</th>\n",
       "    </tr>\n",
       "  </thead>\n",
       "  <tbody>\n",
       "    <tr>\n",
       "      <th>0</th>\n",
       "      <td>12</td>\n",
       "      <td>1405519516</td>\n",
       "      <td>5202</td>\n",
       "      <td>25</td>\n",
       "      <td>41504</td>\n",
       "      <td>1210840</td>\n",
       "      <td>1.0</td>\n",
       "      <td>353.0</td>\n",
       "      <td>154295</td>\n",
       "      <td>4</td>\n",
       "    </tr>\n",
       "    <tr>\n",
       "      <th>1</th>\n",
       "      <td>12</td>\n",
       "      <td>1405519516</td>\n",
       "      <td>5202</td>\n",
       "      <td>25</td>\n",
       "      <td>41504</td>\n",
       "      <td>1210840</td>\n",
       "      <td>1.0</td>\n",
       "      <td>94.0</td>\n",
       "      <td>154295</td>\n",
       "      <td>4</td>\n",
       "    </tr>\n",
       "    <tr>\n",
       "      <th>2</th>\n",
       "      <td>12</td>\n",
       "      <td>1405519516</td>\n",
       "      <td>5202</td>\n",
       "      <td>25</td>\n",
       "      <td>41504</td>\n",
       "      <td>1210766</td>\n",
       "      <td>1.0</td>\n",
       "      <td>1093.0</td>\n",
       "      <td>154295</td>\n",
       "      <td>4</td>\n",
       "    </tr>\n",
       "    <tr>\n",
       "      <th>3</th>\n",
       "      <td>12</td>\n",
       "      <td>1405519516</td>\n",
       "      <td>5202</td>\n",
       "      <td>25</td>\n",
       "      <td>41504</td>\n",
       "      <td>1210626</td>\n",
       "      <td>1.0</td>\n",
       "      <td>328.0</td>\n",
       "      <td>154295</td>\n",
       "      <td>4</td>\n",
       "    </tr>\n",
       "    <tr>\n",
       "      <th>4</th>\n",
       "      <td>12</td>\n",
       "      <td>1405519516</td>\n",
       "      <td>5202</td>\n",
       "      <td>25</td>\n",
       "      <td>41504</td>\n",
       "      <td>1210759</td>\n",
       "      <td>1.0</td>\n",
       "      <td>4.0</td>\n",
       "      <td>154295</td>\n",
       "      <td>4</td>\n",
       "    </tr>\n",
       "  </tbody>\n",
       "</table>\n",
       "</div>"
      ],
      "text/plain": [
       "   session_id   timestamp  playtime  numtracks  user_id  track_id  \\\n",
       "0          12  1405519516      5202         25    41504   1210840   \n",
       "1          12  1405519516      5202         25    41504   1210840   \n",
       "2          12  1405519516      5202         25    41504   1210766   \n",
       "3          12  1405519516      5202         25    41504   1210626   \n",
       "4          12  1405519516      5202         25    41504   1210759   \n",
       "\n",
       "   track_playratio  playcount  person_id  numpersons  \n",
       "0              1.0      353.0     154295           4  \n",
       "1              1.0       94.0     154295           4  \n",
       "2              1.0     1093.0     154295           4  \n",
       "3              1.0      328.0     154295           4  \n",
       "4              1.0        4.0     154295           4  "
      ]
     },
     "execution_count": 6,
     "metadata": {},
     "output_type": "execute_result"
    }
   ],
   "source": [
    "print(sessions_train.shape)\n",
    "sessions_train.head()"
   ]
  },
  {
   "cell_type": "code",
   "execution_count": 7,
   "metadata": {
    "scrolled": true
   },
   "outputs": [
    {
     "name": "stdout",
     "output_type": "stream",
     "text": [
      "(1403506, 10)\n"
     ]
    },
    {
     "data": {
      "text/html": [
       "<div>\n",
       "<style scoped>\n",
       "    .dataframe tbody tr th:only-of-type {\n",
       "        vertical-align: middle;\n",
       "    }\n",
       "\n",
       "    .dataframe tbody tr th {\n",
       "        vertical-align: top;\n",
       "    }\n",
       "\n",
       "    .dataframe thead th {\n",
       "        text-align: right;\n",
       "    }\n",
       "</style>\n",
       "<table border=\"1\" class=\"dataframe\">\n",
       "  <thead>\n",
       "    <tr style=\"text-align: right;\">\n",
       "      <th></th>\n",
       "      <th>session_id</th>\n",
       "      <th>timestamp</th>\n",
       "      <th>playtime</th>\n",
       "      <th>numtracks</th>\n",
       "      <th>user_id</th>\n",
       "      <th>track_id</th>\n",
       "      <th>track_playratio</th>\n",
       "      <th>playcount</th>\n",
       "      <th>person_id</th>\n",
       "      <th>numpersons</th>\n",
       "    </tr>\n",
       "  </thead>\n",
       "  <tbody>\n",
       "    <tr>\n",
       "      <th>0</th>\n",
       "      <td>20</td>\n",
       "      <td>1418303964</td>\n",
       "      <td>7654</td>\n",
       "      <td>31</td>\n",
       "      <td>41504</td>\n",
       "      <td>3488336</td>\n",
       "      <td>1.00</td>\n",
       "      <td>415.0</td>\n",
       "      <td>435780</td>\n",
       "      <td>4</td>\n",
       "    </tr>\n",
       "    <tr>\n",
       "      <th>1</th>\n",
       "      <td>20</td>\n",
       "      <td>1418303964</td>\n",
       "      <td>7654</td>\n",
       "      <td>31</td>\n",
       "      <td>41504</td>\n",
       "      <td>3488271</td>\n",
       "      <td>1.00</td>\n",
       "      <td>2395.0</td>\n",
       "      <td>435780</td>\n",
       "      <td>4</td>\n",
       "    </tr>\n",
       "    <tr>\n",
       "      <th>2</th>\n",
       "      <td>20</td>\n",
       "      <td>1418303964</td>\n",
       "      <td>7654</td>\n",
       "      <td>31</td>\n",
       "      <td>41504</td>\n",
       "      <td>3488314</td>\n",
       "      <td>1.00</td>\n",
       "      <td>1448.0</td>\n",
       "      <td>435780</td>\n",
       "      <td>4</td>\n",
       "    </tr>\n",
       "    <tr>\n",
       "      <th>3</th>\n",
       "      <td>20</td>\n",
       "      <td>1418303964</td>\n",
       "      <td>7654</td>\n",
       "      <td>31</td>\n",
       "      <td>41504</td>\n",
       "      <td>3488330</td>\n",
       "      <td>0.81</td>\n",
       "      <td>1806.0</td>\n",
       "      <td>435780</td>\n",
       "      <td>4</td>\n",
       "    </tr>\n",
       "    <tr>\n",
       "      <th>4</th>\n",
       "      <td>20</td>\n",
       "      <td>1418303964</td>\n",
       "      <td>7654</td>\n",
       "      <td>31</td>\n",
       "      <td>41504</td>\n",
       "      <td>1975962</td>\n",
       "      <td>1.46</td>\n",
       "      <td>76.0</td>\n",
       "      <td>247876</td>\n",
       "      <td>4</td>\n",
       "    </tr>\n",
       "  </tbody>\n",
       "</table>\n",
       "</div>"
      ],
      "text/plain": [
       "   session_id   timestamp  playtime  numtracks  user_id  track_id  \\\n",
       "0          20  1418303964      7654         31    41504   3488336   \n",
       "1          20  1418303964      7654         31    41504   3488271   \n",
       "2          20  1418303964      7654         31    41504   3488314   \n",
       "3          20  1418303964      7654         31    41504   3488330   \n",
       "4          20  1418303964      7654         31    41504   1975962   \n",
       "\n",
       "   track_playratio  playcount  person_id  numpersons  \n",
       "0             1.00      415.0     435780           4  \n",
       "1             1.00     2395.0     435780           4  \n",
       "2             1.00     1448.0     435780           4  \n",
       "3             0.81     1806.0     435780           4  \n",
       "4             1.46       76.0     247876           4  "
      ]
     },
     "execution_count": 7,
     "metadata": {},
     "output_type": "execute_result"
    }
   ],
   "source": [
    "print(sessions_test.shape)\n",
    "sessions_test.head()"
   ]
  },
  {
   "cell_type": "code",
   "execution_count": 8,
   "metadata": {},
   "outputs": [
    {
     "name": "stderr",
     "output_type": "stream",
     "text": [
      "/home/user/miniconda3/envs/ds/lib/python3.8/site-packages/pandas/core/indexing.py:1763: SettingWithCopyWarning: \n",
      "A value is trying to be set on a copy of a slice from a DataFrame.\n",
      "Try using .loc[row_indexer,col_indexer] = value instead\n",
      "\n",
      "See the caveats in the documentation: https://pandas.pydata.org/pandas-docs/stable/user_guide/indexing.html#returning-a-view-versus-a-copy\n",
      "  isetter(loc, value)\n",
      "<ipython-input-8-6c512d8e4b92>:5: SettingWithCopyWarning: \n",
      "A value is trying to be set on a copy of a slice from a DataFrame.\n",
      "Try using .loc[row_indexer,col_indexer] = value instead\n",
      "\n",
      "See the caveats in the documentation: https://pandas.pydata.org/pandas-docs/stable/user_guide/indexing.html#returning-a-view-versus-a-copy\n",
      "  user_person_train['track_playratio'] = user_person_train['track_playratio'].round()\n",
      "/home/user/miniconda3/envs/ds/lib/python3.8/site-packages/pandas/core/indexing.py:1763: SettingWithCopyWarning: \n",
      "A value is trying to be set on a copy of a slice from a DataFrame.\n",
      "Try using .loc[row_indexer,col_indexer] = value instead\n",
      "\n",
      "See the caveats in the documentation: https://pandas.pydata.org/pandas-docs/stable/user_guide/indexing.html#returning-a-view-versus-a-copy\n",
      "  isetter(loc, value)\n",
      "<ipython-input-8-6c512d8e4b92>:12: SettingWithCopyWarning: \n",
      "A value is trying to be set on a copy of a slice from a DataFrame.\n",
      "Try using .loc[row_indexer,col_indexer] = value instead\n",
      "\n",
      "See the caveats in the documentation: https://pandas.pydata.org/pandas-docs/stable/user_guide/indexing.html#returning-a-view-versus-a-copy\n",
      "  user_person_test['track_playratio'] = user_person_test['track_playratio'].round()\n"
     ]
    }
   ],
   "source": [
    "user_person_train = sessions_train[['session_id', 'user_id', 'person_id', 'track_playratio']]\n",
    "user_person_test = sessions_test[['session_id', 'user_id', 'person_id', 'track_playratio']]\n",
    "\n",
    "user_person_train.loc[user_person_train['track_playratio'] > 1, 'track_playratio'] = 1\n",
    "user_person_train['track_playratio'] = user_person_train['track_playratio'].round()\n",
    "# user_person_train = user_person_train[\n",
    "#     ~user_person_train['track_playratio'].isna()\n",
    "#     & ~(user_person_train['track_playratio'] == 0)\n",
    "# ]\n",
    "\n",
    "user_person_test.loc[user_person_test['track_playratio'] > 1, 'track_playratio'] = 1\n",
    "user_person_test['track_playratio'] = user_person_test['track_playratio'].round()\n",
    "# user_person_test = user_person_test[\n",
    "#     ~user_person_test['track_playratio'].isna()\n",
    "#     & ~(user_person_test['track_playratio'] == 0)\n",
    "# ]"
   ]
  },
  {
   "cell_type": "code",
   "execution_count": 9,
   "metadata": {
    "scrolled": true
   },
   "outputs": [
    {
     "data": {
      "text/html": [
       "<div>\n",
       "<style scoped>\n",
       "    .dataframe tbody tr th:only-of-type {\n",
       "        vertical-align: middle;\n",
       "    }\n",
       "\n",
       "    .dataframe tbody tr th {\n",
       "        vertical-align: top;\n",
       "    }\n",
       "\n",
       "    .dataframe thead th {\n",
       "        text-align: right;\n",
       "    }\n",
       "</style>\n",
       "<table border=\"1\" class=\"dataframe\">\n",
       "  <thead>\n",
       "    <tr style=\"text-align: right;\">\n",
       "      <th></th>\n",
       "      <th>session_id</th>\n",
       "      <th>user_id</th>\n",
       "      <th>person_id</th>\n",
       "      <th>track_playratio</th>\n",
       "    </tr>\n",
       "  </thead>\n",
       "  <tbody>\n",
       "    <tr>\n",
       "      <th>0</th>\n",
       "      <td>12</td>\n",
       "      <td>41504</td>\n",
       "      <td>154295</td>\n",
       "      <td>1.0</td>\n",
       "    </tr>\n",
       "    <tr>\n",
       "      <th>1</th>\n",
       "      <td>12</td>\n",
       "      <td>41504</td>\n",
       "      <td>154295</td>\n",
       "      <td>1.0</td>\n",
       "    </tr>\n",
       "    <tr>\n",
       "      <th>2</th>\n",
       "      <td>12</td>\n",
       "      <td>41504</td>\n",
       "      <td>154295</td>\n",
       "      <td>1.0</td>\n",
       "    </tr>\n",
       "    <tr>\n",
       "      <th>3</th>\n",
       "      <td>12</td>\n",
       "      <td>41504</td>\n",
       "      <td>154295</td>\n",
       "      <td>1.0</td>\n",
       "    </tr>\n",
       "    <tr>\n",
       "      <th>4</th>\n",
       "      <td>12</td>\n",
       "      <td>41504</td>\n",
       "      <td>154295</td>\n",
       "      <td>1.0</td>\n",
       "    </tr>\n",
       "  </tbody>\n",
       "</table>\n",
       "</div>"
      ],
      "text/plain": [
       "   session_id  user_id  person_id  track_playratio\n",
       "0          12    41504     154295              1.0\n",
       "1          12    41504     154295              1.0\n",
       "2          12    41504     154295              1.0\n",
       "3          12    41504     154295              1.0\n",
       "4          12    41504     154295              1.0"
      ]
     },
     "execution_count": 9,
     "metadata": {},
     "output_type": "execute_result"
    }
   ],
   "source": [
    "user_person_train.head()"
   ]
  },
  {
   "cell_type": "code",
   "execution_count": 10,
   "metadata": {},
   "outputs": [
    {
     "data": {
      "text/html": [
       "<div>\n",
       "<style scoped>\n",
       "    .dataframe tbody tr th:only-of-type {\n",
       "        vertical-align: middle;\n",
       "    }\n",
       "\n",
       "    .dataframe tbody tr th {\n",
       "        vertical-align: top;\n",
       "    }\n",
       "\n",
       "    .dataframe thead th {\n",
       "        text-align: right;\n",
       "    }\n",
       "</style>\n",
       "<table border=\"1\" class=\"dataframe\">\n",
       "  <thead>\n",
       "    <tr style=\"text-align: right;\">\n",
       "      <th></th>\n",
       "      <th>session_id</th>\n",
       "      <th>user_id</th>\n",
       "      <th>person_id</th>\n",
       "      <th>track_playratio</th>\n",
       "    </tr>\n",
       "  </thead>\n",
       "  <tbody>\n",
       "    <tr>\n",
       "      <th>0</th>\n",
       "      <td>20</td>\n",
       "      <td>41504</td>\n",
       "      <td>435780</td>\n",
       "      <td>1.0</td>\n",
       "    </tr>\n",
       "    <tr>\n",
       "      <th>1</th>\n",
       "      <td>20</td>\n",
       "      <td>41504</td>\n",
       "      <td>435780</td>\n",
       "      <td>1.0</td>\n",
       "    </tr>\n",
       "    <tr>\n",
       "      <th>2</th>\n",
       "      <td>20</td>\n",
       "      <td>41504</td>\n",
       "      <td>435780</td>\n",
       "      <td>1.0</td>\n",
       "    </tr>\n",
       "    <tr>\n",
       "      <th>3</th>\n",
       "      <td>20</td>\n",
       "      <td>41504</td>\n",
       "      <td>435780</td>\n",
       "      <td>1.0</td>\n",
       "    </tr>\n",
       "    <tr>\n",
       "      <th>4</th>\n",
       "      <td>20</td>\n",
       "      <td>41504</td>\n",
       "      <td>247876</td>\n",
       "      <td>1.0</td>\n",
       "    </tr>\n",
       "  </tbody>\n",
       "</table>\n",
       "</div>"
      ],
      "text/plain": [
       "   session_id  user_id  person_id  track_playratio\n",
       "0          20    41504     435780              1.0\n",
       "1          20    41504     435780              1.0\n",
       "2          20    41504     435780              1.0\n",
       "3          20    41504     435780              1.0\n",
       "4          20    41504     247876              1.0"
      ]
     },
     "execution_count": 10,
     "metadata": {},
     "output_type": "execute_result"
    }
   ],
   "source": [
    "user_person_test.head()"
   ]
  },
  {
   "cell_type": "code",
   "execution_count": 11,
   "metadata": {},
   "outputs": [],
   "source": [
    "def split_session_one(session):\n",
    "    return [(session[session != person], person) for person in session]\n",
    "\n",
    "\n",
    "def prepare_X_y(sessions_df): # le_user\n",
    "    sessions_splited = sessions_df.copy()\n",
    "    sessions_splited = sessions_splited.groupby(['session_id', 'user_id'])['person_id'].unique()\n",
    "    sessions_splited = sessions_splited.apply(split_session_one)\n",
    "    sessions_splited = sessions_splited.explode()\n",
    "    sessions_splited = pd.DataFrame(\n",
    "        sessions_splited.tolist(),\n",
    "        columns=['X', 'y'],\n",
    "        index=sessions_splited.index\n",
    "    )\n",
    "    return sessions_splited['X'], sessions_splited['y']"
   ]
  },
  {
   "cell_type": "code",
   "execution_count": 12,
   "metadata": {},
   "outputs": [
    {
     "name": "stdout",
     "output_type": "stream",
     "text": [
      "CPU times: user 38.9 s, sys: 1.13 s, total: 40.1 s\n",
      "Wall time: 39.7 s\n"
     ]
    }
   ],
   "source": [
    "%%time\n",
    "X_train, y_train = prepare_X_y(user_person_train)\n",
    "X_test, y_test = prepare_X_y(user_person_test)"
   ]
  },
  {
   "cell_type": "code",
   "execution_count": 13,
   "metadata": {
    "scrolled": true
   },
   "outputs": [
    {
     "data": {
      "text/plain": [
       "session_id  user_id\n",
       "12          41504                               [288626, 341684, 325050]\n",
       "            41504                               [154295, 341684, 325050]\n",
       "            41504                               [154295, 288626, 325050]\n",
       "            41504                               [154295, 288626, 341684]\n",
       "69          40796                                [28445, 377440, 303680]\n",
       "                                             ...                        \n",
       "2764449     39905      [49737, 191960, 276125, 238733, 165188, 191300...\n",
       "            39905      [49737, 191960, 276125, 238733, 165188, 191300...\n",
       "            39905      [49737, 191960, 276125, 238733, 165188, 191300...\n",
       "            39905      [49737, 191960, 276125, 238733, 165188, 191300...\n",
       "            39905      [49737, 191960, 276125, 238733, 165188, 191300...\n",
       "Name: X, Length: 3398732, dtype: object"
      ]
     },
     "execution_count": 13,
     "metadata": {},
     "output_type": "execute_result"
    }
   ],
   "source": [
    "X_train"
   ]
  },
  {
   "cell_type": "code",
   "execution_count": 14,
   "metadata": {},
   "outputs": [],
   "source": [
    "# def unique_concat(x):\n",
    "#     return np.unique(np.concatenate(x.values))\n",
    "\n",
    "# X_cp = (X_train\n",
    "#     .reset_index()\n",
    "#     .groupby(['session_id', 'user_id'])['X']\n",
    "#     .apply(unique_concat)\n",
    "#     .explode()\n",
    "#     .reset_index()\n",
    "#     .rename(columns={'X':'person_id'})\n",
    "#     .assign(track_playratio=1.0)\n",
    "# )"
   ]
  },
  {
   "cell_type": "code",
   "execution_count": 15,
   "metadata": {},
   "outputs": [],
   "source": [
    "from sklearn.preprocessing import LabelEncoder\n",
    "from sklearn.base import BaseEstimator, ClassifierMixin\n",
    "from scipy.sparse import csc_matrix, csr_matrix\n",
    "from scipy.sparse.linalg import svds\n",
    "from scipy.spatial.distance import cdist\n",
    "\n",
    "\n",
    "def hit_rate(y, y_pred):\n",
    "    hits = [\n",
    "        int(y_el in y_pred_el)\n",
    "        for y_el, y_pred_el in zip(y, y_pred)\n",
    "    ]\n",
    "    return sum(hits) / len(hits)\n",
    "\n",
    "\n",
    "def unique_concat(x):\n",
    "    return np.unique(np.concatenate(x.values))\n",
    "\n",
    "\n",
    "class SVDNearestPersons(BaseEstimator, ClassifierMixin):\n",
    "    def __init__(self, num_top_elements=10):\n",
    "        self.num_top_elements = num_top_elements\n",
    "        self.le_user = LabelEncoder()\n",
    "        self.le_person = LabelEncoder()\n",
    "        self.X_cp_csc = None\n",
    "        self.U = None\n",
    "        self.sigma = None\n",
    "        self.Vt = None\n",
    "        self.V = None\n",
    "        \n",
    "    def fit(self, X):\n",
    "        X_cp = (X\n",
    "            .reset_index()\n",
    "            .groupby(['session_id', 'user_id'])['X']\n",
    "            .apply(unique_concat)\n",
    "            .explode()\n",
    "            .reset_index()\n",
    "            .rename(columns={'X':'person_id'})\n",
    "            .assign(track_playratio=1.0)\n",
    "        )\n",
    "\n",
    "        X_cp['user_id'] = self.le_user.fit_transform(X_cp['user_id'])\n",
    "        X_cp['person_id'] = self.le_person.fit_transform(X_cp['person_id'])\n",
    "\n",
    "        X_cp = X_cp.groupby(['user_id', 'person_id'], as_index=False)['track_playratio'].sum()\n",
    "        \n",
    "        # формат: csc_matrix((data, (row, col)))\n",
    "        # взято отсюда: https://docs.scipy.org/doc/scipy/reference/generated/scipy.sparse.csc_matrix.html\n",
    "        X_cp_csc = csc_matrix((X_cp['track_playratio'], (X_cp['user_id'], X_cp['person_id'])))\n",
    "        self.X_cp_csc = X_cp_csc\n",
    "        \n",
    "        self.U, self.sigma, self.Vt = svds(\n",
    "            X_cp_csc, #  - X_cp_csc.mean(axis=1)\n",
    "            k = 100\n",
    "        )\n",
    "        self.sigma = np.diag(self.sigma)\n",
    "        self.V = self.Vt.T\n",
    "        \n",
    "#     def predict(self, X):\n",
    "#         X_cp = X.apply(self.le_person.transform)\n",
    "#         y_pred = []\n",
    "#         for (session_id, user_id), x in tqdm(zip(X_cp.index, X_cp)):\n",
    "#             x_embedding = self.V[x]\n",
    "#             dist = cdist(self.V, x_embedding, metric='cosine')\n",
    "#             dist = dist.mean(axis=1)\n",
    "#             #\n",
    "#             top_n = dist.argsort()\n",
    "#             # выбрасываем из топа person_id, которые были в x\n",
    "#             # после выбиараем top_n \n",
    "#             top_n = top_n[~np.isin(top_n, x)][:self.num_top_elements]\n",
    "#             # привод к настоящим person_id \n",
    "#             top_n = self.le_person.inverse_transform(top_n)\n",
    "#             y_pred.append(top_n)\n",
    "#         return np.array(y_pred)\n",
    "\n",
    "    def predict(self, X):\n",
    "        X_cp = X.apply(self.le_person.transform)\n",
    "        y_pred = []\n",
    "        for (session_id, user_id), x in tqdm(zip(X_cp.index, X_cp)):\n",
    "            if user_id in self.le_user.classes_:\n",
    "                user_id_transformed = self.le_user.transform([user_id])[0]\n",
    "                user_raitings = np.dot(\n",
    "                    np.dot(\n",
    "                        self.U[[user_id_transformed]],\n",
    "                        self.sigma),\n",
    "                    self.Vt\n",
    "                ).flatten()\n",
    "                top_n = user_raitings.argsort()\n",
    "                top_n = top_n[~np.isin(top_n, x)][-self.num_top_elements:]\n",
    "            else:\n",
    "                x_embedding = self.V[x]\n",
    "                dist = cdist(self.V, x_embedding, metric='cosine')\n",
    "                dist = dist.mean(axis=1) # min\n",
    "                #\n",
    "                top_n = dist.argsort()\n",
    "                # выбрасываем из топа person_id, которые были в x\n",
    "                # после выбиараем top_n \n",
    "                top_n = top_n[~np.isin(top_n, x)][:self.num_top_elements]\n",
    "            # привод к настоящим person_id \n",
    "            top_n = self.le_person.inverse_transform(top_n)\n",
    "            y_pred.append(top_n)\n",
    "        return np.array(y_pred)\n",
    "    \n",
    "    def score(self, X, y):\n",
    "        y_pred = self.predict(X)\n",
    "        return hit_rate(y, y_pred)"
   ]
  },
  {
   "cell_type": "code",
   "execution_count": 16,
   "metadata": {
    "scrolled": true
   },
   "outputs": [
    {
     "name": "stdout",
     "output_type": "stream",
     "text": [
      "CPU times: user 30.8 s, sys: 591 ms, total: 31.4 s\n",
      "Wall time: 21.9 s\n"
     ]
    }
   ],
   "source": [
    "%%time\n",
    "svd_np = SVDNearestPersons()\n",
    "svd_np.fit(X_train)"
   ]
  },
  {
   "cell_type": "code",
   "execution_count": 17,
   "metadata": {},
   "outputs": [],
   "source": [
    "X, y = X_test.head(1000), y_test.head(1000)"
   ]
  },
  {
   "cell_type": "code",
   "execution_count": 18,
   "metadata": {},
   "outputs": [
    {
     "name": "stderr",
     "output_type": "stream",
     "text": [
      "1000it [00:01, 591.75it/s]\n"
     ]
    },
    {
     "data": {
      "text/plain": [
       "0.132"
      ]
     },
     "execution_count": 18,
     "metadata": {},
     "output_type": "execute_result"
    }
   ],
   "source": [
    "svd_np.score(X, y)"
   ]
  },
  {
   "cell_type": "markdown",
   "metadata": {},
   "source": [
    "# DRAFT"
   ]
  },
  {
   "cell_type": "code",
   "execution_count": 9,
   "metadata": {},
   "outputs": [],
   "source": [
    "# from scipy.sparse import csc_matrix, csr_matrix\n",
    "# from scipy.sparse.linalg import svds\n",
    "\n",
    "# from sklearn.preprocessing import LabelEncoder\n",
    "\n",
    "\n",
    "# le_user = LabelEncoder()\n",
    "# le_person = LabelEncoder()\n",
    "\n",
    "# user_person_train.loc[user_person_train['track_playratio'] > 1, 'track_playratio'] = 1\n",
    "# user_person_train['track_playratio'] = user_person_train['track_playratio'].round()\n",
    "\n",
    "# user_person_train['user_id'] = le_user.fit_transform(user_person_train['user_id'])\n",
    "# user_person_train['person_id'] = le_person.fit_transform(user_person_train['person_id'])\n",
    "\n",
    "# user_person_train = user_person_train.groupby(['user_id', 'person_id'], as_index=False)['track_playratio'].sum()\n",
    "\n",
    "# # формат: csc_matrix((data, (row, col))), но работает: csc_matrix((data, (col, row)))\n",
    "# # взято отсюда: https://docs.scipy.org/doc/scipy/reference/generated/scipy.sparse.csc_matrix.html\n",
    "# user_person_csc = csc_matrix(\n",
    "#     (user_person_train['track_playratio'], (user_person_train['user_id'], user_person_train['person_id']))\n",
    "# )\n",
    "# user_person_csc\n",
    "\n",
    "# U, sigma, Vt = svds(user_person_csc, k = 100)\n",
    "# sigma = np.diag(sigma)\n",
    "# print(U.shape)\n",
    "# print(sigma.shape)\n",
    "# print(Vt.shape)\n",
    "\n",
    "# # all_user_predicted_ratings = \n",
    "# np.dot(np.dot(U, sigma), Vt).shape #+ user_ratings_mean.reshape(-1, 1)"
   ]
  },
  {
   "cell_type": "code",
   "execution_count": 24,
   "metadata": {},
   "outputs": [
    {
     "name": "stderr",
     "output_type": "stream",
     "text": [
      "0it [00:00, ?it/s]\n"
     ]
    }
   ],
   "source": [
    "# X_cp = X.apply(svd_np.le_person.transform)\n",
    "# for (session_id, user_id), x in tqdm(zip(X_cp.index, X_cp)):\n",
    "# #     if user_id in \n",
    "#     x_embedding = svd_np.V[x]\n",
    "#     dist = cdist(svd_np.V, x_embedding, metric='cosine')\n",
    "#     dist = dist.mean(axis=1) # min\n",
    "#     #\n",
    "#     top_n = dist.argsort()\n",
    "#     # выбрасываем из топа person_id, которые были в x\n",
    "#     # после выбиараем top_n \n",
    "#     top_n = top_n[~np.isin(top_n, x)][:svd_np.num_top_elements]\n",
    "#     # привод к настоящим person_id \n",
    "#     top_n = svd_np.le_person.inverse_transform(top_n)\n",
    "#     break"
   ]
  },
  {
   "cell_type": "code",
   "execution_count": 61,
   "metadata": {},
   "outputs": [
    {
     "name": "stdout",
     "output_type": "stream",
     "text": [
      "41504 27783\n"
     ]
    }
   ],
   "source": [
    "# if user_id in svd_np.le_user.classes_:\n",
    "#     user_id_transformed = svd_np.le_user.transform([user_id])[0]\n",
    "#     print(user_id, user_id_transformed)\n",
    "#     user_raitings = np.dot(\n",
    "#         np.dot(\n",
    "#             svd_np.U[[user_id_transformed]],\n",
    "#             svd_np.sigma),\n",
    "#         svd_np.Vt\n",
    "#     ).flatten()\n",
    "#     top_n = user_raitings.argsort()\n",
    "#     top_n = top_n[~np.isin(top_n, x)][-svd_np.num_top_elements:]"
   ]
  }
 ],
 "metadata": {
  "kernelspec": {
   "display_name": "Python 3",
   "language": "python",
   "name": "python3"
  },
  "language_info": {
   "codemirror_mode": {
    "name": "ipython",
    "version": 3
   },
   "file_extension": ".py",
   "mimetype": "text/x-python",
   "name": "python",
   "nbconvert_exporter": "python",
   "pygments_lexer": "ipython3",
   "version": "3.8.5"
  }
 },
 "nbformat": 4,
 "nbformat_minor": 2
}
