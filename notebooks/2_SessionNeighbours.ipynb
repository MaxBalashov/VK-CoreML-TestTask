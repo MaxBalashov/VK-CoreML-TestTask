{
 "cells": [
  {
   "cell_type": "markdown",
   "metadata": {},
   "source": [
    "**Идея текущего подзода:** Если исполнители играют внутри одних и тех же сессий, значит такие исполнители похожи.\n",
    "\n",
    "1. Нужно для каждого исполнителя найти соседей по всем сессиям, в которых был данный исполнитель. Каждому исполнителю будет сопоставлена последовательность из его соседей за все сессии.\n",
    "\n",
    "2. Последовательность соседей может быть преобразована:\n",
    "    - в вектор, где каждый сосед по сессиям будет иметь единицу, а остальные исполнители будут иметь нули \\[бинарно\\];\n",
    "    - в вектор, где каждый сосед по сессиям будет значение равное кол-ву сессий, в которых данные исполнитель и сосед были в одной сессии, а остальные исполнители будут иметь нули;\n",
    "    - tf-idf;\n",
    "3. **Но** тк исполнителей очень большое количество, получается разреженная матрица размера $N_{persons} \\cdot N_{persons}$, это слишком большая размерность для того, чтобы работать с ней на прямую. Предлагается использовать подходы [снижения размерности](https://ru.wikipedia.org/wiki/Снижение_размерности), такие как SVD, PCA и тд.\n",
    "\n",
    "4. Теперь каждому исполнителю соответствует плотный (в смысле `dense`, а не `sparse`) вектор, содержащий информацию о соседстве с другими исполнителями внутри сессий. Этот вектор и является **векторным представлением (эмбеддингом)** для исполнителя.\n",
    "\n",
    "5. Похожесть исполнителей определяется как близость их эмбеддингов. Мера близости - косинусное расстояние.\n",
    "\n",
    "6. ??? Валидация поиска похожих на тестовых данных"
   ]
  },
  {
   "cell_type": "markdown",
   "metadata": {},
   "source": [
    "# Import"
   ]
  },
  {
   "cell_type": "code",
   "execution_count": 1,
   "metadata": {},
   "outputs": [],
   "source": [
    "import numpy as np\n",
    "import pandas as pd\n",
    "from tqdm import tqdm\n",
    "\n",
    "import sys\n",
    "sys.path.append('../')"
   ]
  },
  {
   "cell_type": "code",
   "execution_count": 2,
   "metadata": {},
   "outputs": [],
   "source": [
    "from src.config import (\n",
    "    path_users_temp,\n",
    "    path_persons_temp,\n",
    "    path_sessions_train,\n",
    "    path_sessions_test,\n",
    "    path_sessions_val\n",
    ")"
   ]
  },
  {
   "cell_type": "markdown",
   "metadata": {},
   "source": [
    "# Чтение файлов"
   ]
  },
  {
   "cell_type": "markdown",
   "metadata": {},
   "source": [
    "### Данные о пользователях"
   ]
  },
  {
   "cell_type": "code",
   "execution_count": 3,
   "metadata": {},
   "outputs": [
    {
     "name": "stdout",
     "output_type": "stream",
     "text": [
      "(45167, 9)\n"
     ]
    },
    {
     "data": {
      "text/html": [
       "<div>\n",
       "<style scoped>\n",
       "    .dataframe tbody tr th:only-of-type {\n",
       "        vertical-align: middle;\n",
       "    }\n",
       "\n",
       "    .dataframe tbody tr th {\n",
       "        vertical-align: top;\n",
       "    }\n",
       "\n",
       "    .dataframe thead th {\n",
       "        text-align: right;\n",
       "    }\n",
       "</style>\n",
       "<table border=\"1\" class=\"dataframe\">\n",
       "  <thead>\n",
       "    <tr style=\"text-align: right;\">\n",
       "      <th></th>\n",
       "      <th>user_id</th>\n",
       "      <th>timestamp</th>\n",
       "      <th>age</th>\n",
       "      <th>gender</th>\n",
       "      <th>country</th>\n",
       "      <th>playcount</th>\n",
       "      <th>playlists</th>\n",
       "      <th>user_name</th>\n",
       "      <th>subscribertype</th>\n",
       "    </tr>\n",
       "  </thead>\n",
       "  <tbody>\n",
       "    <tr>\n",
       "      <th>0</th>\n",
       "      <td>1</td>\n",
       "      <td>1116715959</td>\n",
       "      <td>24.0</td>\n",
       "      <td>f</td>\n",
       "      <td>US</td>\n",
       "      <td>221012.0</td>\n",
       "      <td>2.0</td>\n",
       "      <td>000123</td>\n",
       "      <td>base</td>\n",
       "    </tr>\n",
       "    <tr>\n",
       "      <th>1</th>\n",
       "      <td>2</td>\n",
       "      <td>1163123792</td>\n",
       "      <td>39.0</td>\n",
       "      <td>m</td>\n",
       "      <td>CZ</td>\n",
       "      <td>217535.0</td>\n",
       "      <td>9.0</td>\n",
       "      <td>000333</td>\n",
       "      <td>base</td>\n",
       "    </tr>\n",
       "    <tr>\n",
       "      <th>2</th>\n",
       "      <td>3</td>\n",
       "      <td>1184426573</td>\n",
       "      <td>NaN</td>\n",
       "      <td>f</td>\n",
       "      <td>NaN</td>\n",
       "      <td>49733.0</td>\n",
       "      <td>2.0</td>\n",
       "      <td>00elen</td>\n",
       "      <td>base</td>\n",
       "    </tr>\n",
       "    <tr>\n",
       "      <th>3</th>\n",
       "      <td>4</td>\n",
       "      <td>1123157597</td>\n",
       "      <td>32.0</td>\n",
       "      <td>m</td>\n",
       "      <td>DE</td>\n",
       "      <td>168054.0</td>\n",
       "      <td>2.0</td>\n",
       "      <td>00Eraser00</td>\n",
       "      <td>base</td>\n",
       "    </tr>\n",
       "    <tr>\n",
       "      <th>4</th>\n",
       "      <td>5</td>\n",
       "      <td>1171302116</td>\n",
       "      <td>23.0</td>\n",
       "      <td>m</td>\n",
       "      <td>UK</td>\n",
       "      <td>45700.0</td>\n",
       "      <td>2.0</td>\n",
       "      <td>00fieldsy</td>\n",
       "      <td>base</td>\n",
       "    </tr>\n",
       "  </tbody>\n",
       "</table>\n",
       "</div>"
      ],
      "text/plain": [
       "   user_id   timestamp   age gender country  playcount  playlists   user_name  \\\n",
       "0        1  1116715959  24.0      f      US   221012.0        2.0      000123   \n",
       "1        2  1163123792  39.0      m      CZ   217535.0        9.0      000333   \n",
       "2        3  1184426573   NaN      f     NaN    49733.0        2.0      00elen   \n",
       "3        4  1123157597  32.0      m      DE   168054.0        2.0  00Eraser00   \n",
       "4        5  1171302116  23.0      m      UK    45700.0        2.0   00fieldsy   \n",
       "\n",
       "  subscribertype  \n",
       "0           base  \n",
       "1           base  \n",
       "2           base  \n",
       "3           base  \n",
       "4           base  "
      ]
     },
     "execution_count": 3,
     "metadata": {},
     "output_type": "execute_result"
    }
   ],
   "source": [
    "users = pd.read_csv(path_users_temp)\n",
    "print(users.shape)\n",
    "users.head()"
   ]
  },
  {
   "cell_type": "markdown",
   "metadata": {},
   "source": [
    "### Данные об исполнителях"
   ]
  },
  {
   "cell_type": "code",
   "execution_count": 4,
   "metadata": {
    "scrolled": true
   },
   "outputs": [
    {
     "name": "stdout",
     "output_type": "stream",
     "text": [
      "(595049, 3)\n"
     ]
    },
    {
     "data": {
      "text/html": [
       "<div>\n",
       "<style scoped>\n",
       "    .dataframe tbody tr th:only-of-type {\n",
       "        vertical-align: middle;\n",
       "    }\n",
       "\n",
       "    .dataframe tbody tr th {\n",
       "        vertical-align: top;\n",
       "    }\n",
       "\n",
       "    .dataframe thead th {\n",
       "        text-align: right;\n",
       "    }\n",
       "</style>\n",
       "<table border=\"1\" class=\"dataframe\">\n",
       "  <thead>\n",
       "    <tr style=\"text-align: right;\">\n",
       "      <th></th>\n",
       "      <th>person_id</th>\n",
       "      <th>person_name</th>\n",
       "      <th>person_MBID</th>\n",
       "    </tr>\n",
       "  </thead>\n",
       "  <tbody>\n",
       "    <tr>\n",
       "      <th>4673</th>\n",
       "      <td>227</td>\n",
       "      <td>David+Guetta+&amp;+Nicky+Romero</td>\n",
       "      <td>NaN</td>\n",
       "    </tr>\n",
       "    <tr>\n",
       "      <th>12079</th>\n",
       "      <td>227</td>\n",
       "      <td>David+Guetta,+Sam+Martin</td>\n",
       "      <td>1bb1eec6-88c3-4028-8920-a985c4b9081a</td>\n",
       "    </tr>\n",
       "    <tr>\n",
       "      <th>17306</th>\n",
       "      <td>227</td>\n",
       "      <td>David+Guetta+ft.+Chris+Willis</td>\n",
       "      <td>1bb1eec6-88c3-4028-8920-a985c4b9081a</td>\n",
       "    </tr>\n",
       "    <tr>\n",
       "      <th>31403</th>\n",
       "      <td>227</td>\n",
       "      <td>David+Guetta+-+Ne-Yo+-+Kelly+Rowland</td>\n",
       "      <td>1bb1eec6-88c3-4028-8920-a985c4b9081a</td>\n",
       "    </tr>\n",
       "    <tr>\n",
       "      <th>38019</th>\n",
       "      <td>227</td>\n",
       "      <td>David+Guetta+&amp;+Chris+Willis+Feat.+Fergie+&amp;+LMFAO</td>\n",
       "      <td>1bb1eec6-88c3-4028-8920-a985c4b9081a</td>\n",
       "    </tr>\n",
       "    <tr>\n",
       "      <th>...</th>\n",
       "      <td>...</td>\n",
       "      <td>...</td>\n",
       "      <td>...</td>\n",
       "    </tr>\n",
       "    <tr>\n",
       "      <th>570347</th>\n",
       "      <td>227</td>\n",
       "      <td>David+Guetta+&amp;+Alesso+feat.+Tegan+&amp;+Sara</td>\n",
       "      <td>NaN</td>\n",
       "    </tr>\n",
       "    <tr>\n",
       "      <th>572905</th>\n",
       "      <td>227</td>\n",
       "      <td>David+Guetta+ft.+Kelly+Rowland</td>\n",
       "      <td>1bb1eec6-88c3-4028-8920-a985c4b9081a</td>\n",
       "    </tr>\n",
       "    <tr>\n",
       "      <th>578055</th>\n",
       "      <td>227</td>\n",
       "      <td>David+Guetta+Feat+Lil+Wayne+&amp;+Chris+Brown</td>\n",
       "      <td>1bb1eec6-88c3-4028-8920-a985c4b9081a</td>\n",
       "    </tr>\n",
       "    <tr>\n",
       "      <th>588531</th>\n",
       "      <td>227</td>\n",
       "      <td>David+Guetta+&amp;+Glowinthedark+feat.+Harrison+Shaw</td>\n",
       "      <td>NaN</td>\n",
       "    </tr>\n",
       "    <tr>\n",
       "      <th>590460</th>\n",
       "      <td>227</td>\n",
       "      <td>David+Guetta+&amp;+Avicii+vs.+Laidback+Luke</td>\n",
       "      <td>NaN</td>\n",
       "    </tr>\n",
       "  </tbody>\n",
       "</table>\n",
       "<p>69 rows × 3 columns</p>\n",
       "</div>"
      ],
      "text/plain": [
       "        person_id                                       person_name  \\\n",
       "4673          227                       David+Guetta+&+Nicky+Romero   \n",
       "12079         227                          David+Guetta,+Sam+Martin   \n",
       "17306         227                     David+Guetta+ft.+Chris+Willis   \n",
       "31403         227              David+Guetta+-+Ne-Yo+-+Kelly+Rowland   \n",
       "38019         227  David+Guetta+&+Chris+Willis+Feat.+Fergie+&+LMFAO   \n",
       "...           ...                                               ...   \n",
       "570347        227          David+Guetta+&+Alesso+feat.+Tegan+&+Sara   \n",
       "572905        227                    David+Guetta+ft.+Kelly+Rowland   \n",
       "578055        227         David+Guetta+Feat+Lil+Wayne+&+Chris+Brown   \n",
       "588531        227  David+Guetta+&+Glowinthedark+feat.+Harrison+Shaw   \n",
       "590460        227           David+Guetta+&+Avicii+vs.+Laidback+Luke   \n",
       "\n",
       "                                 person_MBID  \n",
       "4673                                     NaN  \n",
       "12079   1bb1eec6-88c3-4028-8920-a985c4b9081a  \n",
       "17306   1bb1eec6-88c3-4028-8920-a985c4b9081a  \n",
       "31403   1bb1eec6-88c3-4028-8920-a985c4b9081a  \n",
       "38019   1bb1eec6-88c3-4028-8920-a985c4b9081a  \n",
       "...                                      ...  \n",
       "570347                                   NaN  \n",
       "572905  1bb1eec6-88c3-4028-8920-a985c4b9081a  \n",
       "578055  1bb1eec6-88c3-4028-8920-a985c4b9081a  \n",
       "588531                                   NaN  \n",
       "590460                                   NaN  \n",
       "\n",
       "[69 rows x 3 columns]"
      ]
     },
     "execution_count": 4,
     "metadata": {},
     "output_type": "execute_result"
    }
   ],
   "source": [
    "# исполнители\n",
    "persons = pd.read_csv(path_persons_temp)\n",
    "print(persons.shape)\n",
    "persons.head()\n",
    "\n",
    "# поле \"person_name\" по фиксированному \"person_id\" может иметь несколько вариаций\n",
    "# пример с \"David Guetta\"\n",
    "# будем использовать для декодинга person_id\n",
    "persons[persons['person_id'].isin([227])]"
   ]
  },
  {
   "cell_type": "markdown",
   "metadata": {},
   "source": [
    "### Данные о сессиях пользователей"
   ]
  },
  {
   "cell_type": "code",
   "execution_count": 5,
   "metadata": {},
   "outputs": [
    {
     "name": "stdout",
     "output_type": "stream",
     "text": [
      "CPU times: user 4.08 s, sys: 959 ms, total: 5.04 s\n",
      "Wall time: 10.2 s\n"
     ]
    }
   ],
   "source": [
    "%%time\n",
    "sessions_train = pd.read_csv(path_sessions_train)\n",
    "sessions_test = pd.read_csv(path_sessions_test)\n",
    "# sessions_val = pd.read_csv(path_sessions_val)"
   ]
  },
  {
   "cell_type": "code",
   "execution_count": 6,
   "metadata": {},
   "outputs": [
    {
     "name": "stdout",
     "output_type": "stream",
     "text": [
      "(6549461, 10)\n"
     ]
    },
    {
     "data": {
      "text/html": [
       "<div>\n",
       "<style scoped>\n",
       "    .dataframe tbody tr th:only-of-type {\n",
       "        vertical-align: middle;\n",
       "    }\n",
       "\n",
       "    .dataframe tbody tr th {\n",
       "        vertical-align: top;\n",
       "    }\n",
       "\n",
       "    .dataframe thead th {\n",
       "        text-align: right;\n",
       "    }\n",
       "</style>\n",
       "<table border=\"1\" class=\"dataframe\">\n",
       "  <thead>\n",
       "    <tr style=\"text-align: right;\">\n",
       "      <th></th>\n",
       "      <th>session_id</th>\n",
       "      <th>timestamp</th>\n",
       "      <th>playtime</th>\n",
       "      <th>numtracks</th>\n",
       "      <th>user_id</th>\n",
       "      <th>track_id</th>\n",
       "      <th>track_playratio</th>\n",
       "      <th>playcount</th>\n",
       "      <th>person_id</th>\n",
       "      <th>numpersons</th>\n",
       "    </tr>\n",
       "  </thead>\n",
       "  <tbody>\n",
       "    <tr>\n",
       "      <th>0</th>\n",
       "      <td>12</td>\n",
       "      <td>1405519516</td>\n",
       "      <td>5202</td>\n",
       "      <td>25</td>\n",
       "      <td>41504</td>\n",
       "      <td>1210840</td>\n",
       "      <td>1.0</td>\n",
       "      <td>353.0</td>\n",
       "      <td>154295</td>\n",
       "      <td>4</td>\n",
       "    </tr>\n",
       "    <tr>\n",
       "      <th>1</th>\n",
       "      <td>12</td>\n",
       "      <td>1405519516</td>\n",
       "      <td>5202</td>\n",
       "      <td>25</td>\n",
       "      <td>41504</td>\n",
       "      <td>1210840</td>\n",
       "      <td>1.0</td>\n",
       "      <td>94.0</td>\n",
       "      <td>154295</td>\n",
       "      <td>4</td>\n",
       "    </tr>\n",
       "    <tr>\n",
       "      <th>2</th>\n",
       "      <td>12</td>\n",
       "      <td>1405519516</td>\n",
       "      <td>5202</td>\n",
       "      <td>25</td>\n",
       "      <td>41504</td>\n",
       "      <td>1210766</td>\n",
       "      <td>1.0</td>\n",
       "      <td>1093.0</td>\n",
       "      <td>154295</td>\n",
       "      <td>4</td>\n",
       "    </tr>\n",
       "    <tr>\n",
       "      <th>3</th>\n",
       "      <td>12</td>\n",
       "      <td>1405519516</td>\n",
       "      <td>5202</td>\n",
       "      <td>25</td>\n",
       "      <td>41504</td>\n",
       "      <td>1210626</td>\n",
       "      <td>1.0</td>\n",
       "      <td>328.0</td>\n",
       "      <td>154295</td>\n",
       "      <td>4</td>\n",
       "    </tr>\n",
       "    <tr>\n",
       "      <th>4</th>\n",
       "      <td>12</td>\n",
       "      <td>1405519516</td>\n",
       "      <td>5202</td>\n",
       "      <td>25</td>\n",
       "      <td>41504</td>\n",
       "      <td>1210759</td>\n",
       "      <td>1.0</td>\n",
       "      <td>4.0</td>\n",
       "      <td>154295</td>\n",
       "      <td>4</td>\n",
       "    </tr>\n",
       "  </tbody>\n",
       "</table>\n",
       "</div>"
      ],
      "text/plain": [
       "   session_id   timestamp  playtime  numtracks  user_id  track_id  \\\n",
       "0          12  1405519516      5202         25    41504   1210840   \n",
       "1          12  1405519516      5202         25    41504   1210840   \n",
       "2          12  1405519516      5202         25    41504   1210766   \n",
       "3          12  1405519516      5202         25    41504   1210626   \n",
       "4          12  1405519516      5202         25    41504   1210759   \n",
       "\n",
       "   track_playratio  playcount  person_id  numpersons  \n",
       "0              1.0      353.0     154295           4  \n",
       "1              1.0       94.0     154295           4  \n",
       "2              1.0     1093.0     154295           4  \n",
       "3              1.0      328.0     154295           4  \n",
       "4              1.0        4.0     154295           4  "
      ]
     },
     "execution_count": 6,
     "metadata": {},
     "output_type": "execute_result"
    }
   ],
   "source": [
    "print(sessions_train.shape)\n",
    "sessions_train.head()"
   ]
  },
  {
   "cell_type": "code",
   "execution_count": 7,
   "metadata": {
    "scrolled": true
   },
   "outputs": [
    {
     "name": "stdout",
     "output_type": "stream",
     "text": [
      "(1403506, 10)\n"
     ]
    },
    {
     "data": {
      "text/html": [
       "<div>\n",
       "<style scoped>\n",
       "    .dataframe tbody tr th:only-of-type {\n",
       "        vertical-align: middle;\n",
       "    }\n",
       "\n",
       "    .dataframe tbody tr th {\n",
       "        vertical-align: top;\n",
       "    }\n",
       "\n",
       "    .dataframe thead th {\n",
       "        text-align: right;\n",
       "    }\n",
       "</style>\n",
       "<table border=\"1\" class=\"dataframe\">\n",
       "  <thead>\n",
       "    <tr style=\"text-align: right;\">\n",
       "      <th></th>\n",
       "      <th>session_id</th>\n",
       "      <th>timestamp</th>\n",
       "      <th>playtime</th>\n",
       "      <th>numtracks</th>\n",
       "      <th>user_id</th>\n",
       "      <th>track_id</th>\n",
       "      <th>track_playratio</th>\n",
       "      <th>playcount</th>\n",
       "      <th>person_id</th>\n",
       "      <th>numpersons</th>\n",
       "    </tr>\n",
       "  </thead>\n",
       "  <tbody>\n",
       "    <tr>\n",
       "      <th>0</th>\n",
       "      <td>20</td>\n",
       "      <td>1418303964</td>\n",
       "      <td>7654</td>\n",
       "      <td>31</td>\n",
       "      <td>41504</td>\n",
       "      <td>3488336</td>\n",
       "      <td>1.00</td>\n",
       "      <td>415.0</td>\n",
       "      <td>435780</td>\n",
       "      <td>4</td>\n",
       "    </tr>\n",
       "    <tr>\n",
       "      <th>1</th>\n",
       "      <td>20</td>\n",
       "      <td>1418303964</td>\n",
       "      <td>7654</td>\n",
       "      <td>31</td>\n",
       "      <td>41504</td>\n",
       "      <td>3488271</td>\n",
       "      <td>1.00</td>\n",
       "      <td>2395.0</td>\n",
       "      <td>435780</td>\n",
       "      <td>4</td>\n",
       "    </tr>\n",
       "    <tr>\n",
       "      <th>2</th>\n",
       "      <td>20</td>\n",
       "      <td>1418303964</td>\n",
       "      <td>7654</td>\n",
       "      <td>31</td>\n",
       "      <td>41504</td>\n",
       "      <td>3488314</td>\n",
       "      <td>1.00</td>\n",
       "      <td>1448.0</td>\n",
       "      <td>435780</td>\n",
       "      <td>4</td>\n",
       "    </tr>\n",
       "    <tr>\n",
       "      <th>3</th>\n",
       "      <td>20</td>\n",
       "      <td>1418303964</td>\n",
       "      <td>7654</td>\n",
       "      <td>31</td>\n",
       "      <td>41504</td>\n",
       "      <td>3488330</td>\n",
       "      <td>0.81</td>\n",
       "      <td>1806.0</td>\n",
       "      <td>435780</td>\n",
       "      <td>4</td>\n",
       "    </tr>\n",
       "    <tr>\n",
       "      <th>4</th>\n",
       "      <td>20</td>\n",
       "      <td>1418303964</td>\n",
       "      <td>7654</td>\n",
       "      <td>31</td>\n",
       "      <td>41504</td>\n",
       "      <td>1975962</td>\n",
       "      <td>1.46</td>\n",
       "      <td>76.0</td>\n",
       "      <td>247876</td>\n",
       "      <td>4</td>\n",
       "    </tr>\n",
       "  </tbody>\n",
       "</table>\n",
       "</div>"
      ],
      "text/plain": [
       "   session_id   timestamp  playtime  numtracks  user_id  track_id  \\\n",
       "0          20  1418303964      7654         31    41504   3488336   \n",
       "1          20  1418303964      7654         31    41504   3488271   \n",
       "2          20  1418303964      7654         31    41504   3488314   \n",
       "3          20  1418303964      7654         31    41504   3488330   \n",
       "4          20  1418303964      7654         31    41504   1975962   \n",
       "\n",
       "   track_playratio  playcount  person_id  numpersons  \n",
       "0             1.00      415.0     435780           4  \n",
       "1             1.00     2395.0     435780           4  \n",
       "2             1.00     1448.0     435780           4  \n",
       "3             0.81     1806.0     435780           4  \n",
       "4             1.46       76.0     247876           4  "
      ]
     },
     "execution_count": 7,
     "metadata": {},
     "output_type": "execute_result"
    }
   ],
   "source": [
    "print(sessions_test.shape)\n",
    "sessions_test.head()"
   ]
  },
  {
   "cell_type": "markdown",
   "metadata": {},
   "source": [
    "# Эмбеддинги"
   ]
  },
  {
   "cell_type": "markdown",
   "metadata": {},
   "source": [
    "## Подготовка данных"
   ]
  },
  {
   "cell_type": "code",
   "execution_count": 8,
   "metadata": {},
   "outputs": [],
   "source": [
    "def get_person_session_neighbours(sessions_df):\n",
    "    # gather_session_persons\n",
    "    session_neighbours = sessions_df.groupby(['session_id'])['person_id'].unique()\n",
    "    # separate_person\n",
    "    session_neighbours = [\n",
    "        (person, session[session != person])\n",
    "        for session in session_neighbours\n",
    "        for person in session\n",
    "    ]\n",
    "    session_neighbours = pd.DataFrame(\n",
    "        session_neighbours,\n",
    "        columns=['person_id', 'session_neighbours']\n",
    "    )\n",
    "    # выбрасываем сессии, где соседей не оказалось\n",
    "    session_neighbours = session_neighbours[\n",
    "        session_neighbours['session_neighbours'].apply(len) != 0\n",
    "    ]\n",
    "    \n",
    "    return session_neighbours\n",
    "\n",
    "\n",
    "def join_person_neighbours(session_neighbours):\n",
    "    df_lst = []\n",
    "    for i, person in enumerate(tqdm(session_neighbours['person_id'].unique())):\n",
    "        mask_person = session_neighbours['person_id'].isin([person])\n",
    "        neighbours = np.concatenate(\n",
    "            session_neighbours.loc[mask_person, 'session_neighbours'].values\n",
    "        )\n",
    "        df_lst.append((person, neighbours))\n",
    "    session_neighbours = pd.DataFrame(\n",
    "        df_lst,\n",
    "        columns=['person_id', 'session_neighbours']\n",
    "    )\n",
    "    \n",
    "    return session_neighbours"
   ]
  },
  {
   "cell_type": "code",
   "execution_count": 9,
   "metadata": {
    "scrolled": true
   },
   "outputs": [
    {
     "name": "stdout",
     "output_type": "stream",
     "text": [
      "CPU times: user 29.3 s, sys: 774 ms, total: 30.1 s\n",
      "Wall time: 29.9 s\n"
     ]
    }
   ],
   "source": [
    "%%time\n",
    "session_neighbours = get_person_session_neighbours(sessions_train)"
   ]
  },
  {
   "cell_type": "code",
   "execution_count": 10,
   "metadata": {},
   "outputs": [
    {
     "data": {
      "text/html": [
       "<div>\n",
       "<style scoped>\n",
       "    .dataframe tbody tr th:only-of-type {\n",
       "        vertical-align: middle;\n",
       "    }\n",
       "\n",
       "    .dataframe tbody tr th {\n",
       "        vertical-align: top;\n",
       "    }\n",
       "\n",
       "    .dataframe thead th {\n",
       "        text-align: right;\n",
       "    }\n",
       "</style>\n",
       "<table border=\"1\" class=\"dataframe\">\n",
       "  <thead>\n",
       "    <tr style=\"text-align: right;\">\n",
       "      <th></th>\n",
       "      <th>person_id</th>\n",
       "      <th>session_neighbours</th>\n",
       "    </tr>\n",
       "  </thead>\n",
       "  <tbody>\n",
       "    <tr>\n",
       "      <th>0</th>\n",
       "      <td>154295</td>\n",
       "      <td>[288626, 341684, 325050]</td>\n",
       "    </tr>\n",
       "    <tr>\n",
       "      <th>1</th>\n",
       "      <td>288626</td>\n",
       "      <td>[154295, 341684, 325050]</td>\n",
       "    </tr>\n",
       "    <tr>\n",
       "      <th>2</th>\n",
       "      <td>341684</td>\n",
       "      <td>[154295, 288626, 325050]</td>\n",
       "    </tr>\n",
       "    <tr>\n",
       "      <th>3</th>\n",
       "      <td>325050</td>\n",
       "      <td>[154295, 288626, 341684]</td>\n",
       "    </tr>\n",
       "    <tr>\n",
       "      <th>4</th>\n",
       "      <td>134615</td>\n",
       "      <td>[28445, 377440, 303680]</td>\n",
       "    </tr>\n",
       "  </tbody>\n",
       "</table>\n",
       "</div>"
      ],
      "text/plain": [
       "   person_id        session_neighbours\n",
       "0     154295  [288626, 341684, 325050]\n",
       "1     288626  [154295, 341684, 325050]\n",
       "2     341684  [154295, 288626, 325050]\n",
       "3     325050  [154295, 288626, 341684]\n",
       "4     134615   [28445, 377440, 303680]"
      ]
     },
     "execution_count": 10,
     "metadata": {},
     "output_type": "execute_result"
    }
   ],
   "source": [
    "session_neighbours.head()"
   ]
  },
  {
   "cell_type": "code",
   "execution_count": 11,
   "metadata": {},
   "outputs": [
    {
     "name": "stderr",
     "output_type": "stream",
     "text": [
      "100%|██████████| 5911/5911 [00:25<00:00, 230.54it/s]\n"
     ]
    }
   ],
   "source": [
    "session_neighbours = join_person_neighbours(session_neighbours)"
   ]
  },
  {
   "cell_type": "code",
   "execution_count": 12,
   "metadata": {},
   "outputs": [
    {
     "data": {
      "text/html": [
       "<div>\n",
       "<style scoped>\n",
       "    .dataframe tbody tr th:only-of-type {\n",
       "        vertical-align: middle;\n",
       "    }\n",
       "\n",
       "    .dataframe tbody tr th {\n",
       "        vertical-align: top;\n",
       "    }\n",
       "\n",
       "    .dataframe thead th {\n",
       "        text-align: right;\n",
       "    }\n",
       "</style>\n",
       "<table border=\"1\" class=\"dataframe\">\n",
       "  <thead>\n",
       "    <tr style=\"text-align: right;\">\n",
       "      <th></th>\n",
       "      <th>person_id</th>\n",
       "      <th>session_neighbours</th>\n",
       "    </tr>\n",
       "  </thead>\n",
       "  <tbody>\n",
       "    <tr>\n",
       "      <th>0</th>\n",
       "      <td>154295</td>\n",
       "      <td>[288626, 341684, 325050, 46425, 390636, 360406...</td>\n",
       "    </tr>\n",
       "    <tr>\n",
       "      <th>1</th>\n",
       "      <td>288626</td>\n",
       "      <td>[154295, 341684, 325050, 17514, 203180, 291223...</td>\n",
       "    </tr>\n",
       "    <tr>\n",
       "      <th>2</th>\n",
       "      <td>341684</td>\n",
       "      <td>[154295, 288626, 325050, 318259, 383294, 11601...</td>\n",
       "    </tr>\n",
       "    <tr>\n",
       "      <th>3</th>\n",
       "      <td>325050</td>\n",
       "      <td>[154295, 288626, 341684, 296457, 33937, 264248...</td>\n",
       "    </tr>\n",
       "    <tr>\n",
       "      <th>4</th>\n",
       "      <td>134615</td>\n",
       "      <td>[28445, 377440, 303680, 232667, 145566, 458471...</td>\n",
       "    </tr>\n",
       "  </tbody>\n",
       "</table>\n",
       "</div>"
      ],
      "text/plain": [
       "   person_id                                 session_neighbours\n",
       "0     154295  [288626, 341684, 325050, 46425, 390636, 360406...\n",
       "1     288626  [154295, 341684, 325050, 17514, 203180, 291223...\n",
       "2     341684  [154295, 288626, 325050, 318259, 383294, 11601...\n",
       "3     325050  [154295, 288626, 341684, 296457, 33937, 264248...\n",
       "4     134615  [28445, 377440, 303680, 232667, 145566, 458471..."
      ]
     },
     "execution_count": 12,
     "metadata": {},
     "output_type": "execute_result"
    }
   ],
   "source": [
    "session_neighbours.head()"
   ]
  },
  {
   "cell_type": "markdown",
   "metadata": {},
   "source": [
    "## Вычисление эмбеддингов"
   ]
  },
  {
   "cell_type": "code",
   "execution_count": 13,
   "metadata": {
    "scrolled": true
   },
   "outputs": [
    {
     "name": "stdout",
     "output_type": "stream",
     "text": [
      "CPU times: user 21.5 s, sys: 1.62 s, total: 23.1 s\n",
      "Wall time: 16.1 s\n"
     ]
    }
   ],
   "source": [
    "%%time\n",
    "\n",
    "from sklearn.pipeline import Pipeline\n",
    "\n",
    "from sklearn.feature_extraction import DictVectorizer\n",
    "from sklearn.feature_extraction.text import CountVectorizer, TfidfVectorizer\n",
    "\n",
    "from sklearn.decomposition import TruncatedSVD\n",
    "\n",
    "from sklearn.preprocessing import MinMaxScaler\n",
    "\n",
    "from scipy.spatial.distance import cdist, cosine\n",
    "\n",
    "def dict_unique_counter(arr):\n",
    "    return dict(zip(*np.unique(arr, return_counts=True)))\n",
    "\n",
    "\n",
    "def get_features_unique(input_series):\n",
    "    return input_series.apply(np.unique)\n",
    "\n",
    "\n",
    "def get_features_dict_counter(input_series):\n",
    "    return input_series.apply(dict_unique_counter)\n",
    "\n",
    "\n",
    "class DataframeFunctionTransformer():\n",
    "    def __init__(self, func):\n",
    "        self.func = func\n",
    "\n",
    "    def transform(self, input_series, **transform_params):\n",
    "        return self.func(input_series)\n",
    "\n",
    "    def fit(self, X, y=None, **fit_params):\n",
    "        return self\n",
    "\n",
    "# pipe_embedding\n",
    "pipeline_embedding = Pipeline([\n",
    "    ('get_features_dict_counter', DataframeFunctionTransformer(get_features_dict_counter)),\n",
    "    ('vectorizer', DictVectorizer()),\n",
    "#     ('min_max_scaler', MinMaxScaler()),\n",
    "    ('tsvd', TruncatedSVD(n_components=100))\n",
    "])\n",
    "\n",
    "# apply the pipeline to the input dataframe\n",
    "X_tsvd = pipeline_embedding.fit_transform(session_neighbours['session_neighbours'])\n",
    "\n",
    "embeddings = pd.concat([\n",
    "    session_neighbours['person_id'],\n",
    "    pd.DataFrame(X_tsvd)\n",
    "], axis=1).set_index('person_id')"
   ]
  },
  {
   "cell_type": "code",
   "execution_count": 14,
   "metadata": {},
   "outputs": [
    {
     "data": {
      "text/html": [
       "<div>\n",
       "<style scoped>\n",
       "    .dataframe tbody tr th:only-of-type {\n",
       "        vertical-align: middle;\n",
       "    }\n",
       "\n",
       "    .dataframe tbody tr th {\n",
       "        vertical-align: top;\n",
       "    }\n",
       "\n",
       "    .dataframe thead th {\n",
       "        text-align: right;\n",
       "    }\n",
       "</style>\n",
       "<table border=\"1\" class=\"dataframe\">\n",
       "  <thead>\n",
       "    <tr style=\"text-align: right;\">\n",
       "      <th></th>\n",
       "      <th>0</th>\n",
       "      <th>1</th>\n",
       "      <th>2</th>\n",
       "      <th>3</th>\n",
       "      <th>4</th>\n",
       "      <th>5</th>\n",
       "      <th>6</th>\n",
       "      <th>7</th>\n",
       "      <th>8</th>\n",
       "      <th>9</th>\n",
       "      <th>...</th>\n",
       "      <th>90</th>\n",
       "      <th>91</th>\n",
       "      <th>92</th>\n",
       "      <th>93</th>\n",
       "      <th>94</th>\n",
       "      <th>95</th>\n",
       "      <th>96</th>\n",
       "      <th>97</th>\n",
       "      <th>98</th>\n",
       "      <th>99</th>\n",
       "    </tr>\n",
       "    <tr>\n",
       "      <th>person_id</th>\n",
       "      <th></th>\n",
       "      <th></th>\n",
       "      <th></th>\n",
       "      <th></th>\n",
       "      <th></th>\n",
       "      <th></th>\n",
       "      <th></th>\n",
       "      <th></th>\n",
       "      <th></th>\n",
       "      <th></th>\n",
       "      <th></th>\n",
       "      <th></th>\n",
       "      <th></th>\n",
       "      <th></th>\n",
       "      <th></th>\n",
       "      <th></th>\n",
       "      <th></th>\n",
       "      <th></th>\n",
       "      <th></th>\n",
       "      <th></th>\n",
       "      <th></th>\n",
       "    </tr>\n",
       "  </thead>\n",
       "  <tbody>\n",
       "    <tr>\n",
       "      <th>154295</th>\n",
       "      <td>4949.699412</td>\n",
       "      <td>-1750.532505</td>\n",
       "      <td>-648.187752</td>\n",
       "      <td>1474.375876</td>\n",
       "      <td>-209.351247</td>\n",
       "      <td>-761.835271</td>\n",
       "      <td>179.374223</td>\n",
       "      <td>363.606450</td>\n",
       "      <td>-98.846365</td>\n",
       "      <td>308.307826</td>\n",
       "      <td>...</td>\n",
       "      <td>84.659970</td>\n",
       "      <td>-56.467144</td>\n",
       "      <td>72.311967</td>\n",
       "      <td>62.248709</td>\n",
       "      <td>-76.785834</td>\n",
       "      <td>110.294039</td>\n",
       "      <td>13.962591</td>\n",
       "      <td>49.809247</td>\n",
       "      <td>-47.053867</td>\n",
       "      <td>-80.457004</td>\n",
       "    </tr>\n",
       "    <tr>\n",
       "      <th>288626</th>\n",
       "      <td>82.715366</td>\n",
       "      <td>-41.403656</td>\n",
       "      <td>53.267186</td>\n",
       "      <td>8.886980</td>\n",
       "      <td>26.156459</td>\n",
       "      <td>-14.720249</td>\n",
       "      <td>-22.338997</td>\n",
       "      <td>57.682953</td>\n",
       "      <td>54.214461</td>\n",
       "      <td>3.254449</td>\n",
       "      <td>...</td>\n",
       "      <td>1.583574</td>\n",
       "      <td>-5.004229</td>\n",
       "      <td>0.275224</td>\n",
       "      <td>-6.197493</td>\n",
       "      <td>-6.912434</td>\n",
       "      <td>-1.120440</td>\n",
       "      <td>-15.705086</td>\n",
       "      <td>-2.099138</td>\n",
       "      <td>-6.503233</td>\n",
       "      <td>-2.414661</td>\n",
       "    </tr>\n",
       "    <tr>\n",
       "      <th>341684</th>\n",
       "      <td>41.936810</td>\n",
       "      <td>-13.121896</td>\n",
       "      <td>-6.118134</td>\n",
       "      <td>1.901221</td>\n",
       "      <td>26.894174</td>\n",
       "      <td>-6.804689</td>\n",
       "      <td>-1.830265</td>\n",
       "      <td>23.198585</td>\n",
       "      <td>21.147444</td>\n",
       "      <td>27.898749</td>\n",
       "      <td>...</td>\n",
       "      <td>-1.446743</td>\n",
       "      <td>7.218844</td>\n",
       "      <td>-4.208715</td>\n",
       "      <td>2.295132</td>\n",
       "      <td>-1.366418</td>\n",
       "      <td>-3.180567</td>\n",
       "      <td>1.572718</td>\n",
       "      <td>0.324567</td>\n",
       "      <td>3.806947</td>\n",
       "      <td>2.674281</td>\n",
       "    </tr>\n",
       "    <tr>\n",
       "      <th>325050</th>\n",
       "      <td>13.821278</td>\n",
       "      <td>-0.392727</td>\n",
       "      <td>-6.010899</td>\n",
       "      <td>4.230200</td>\n",
       "      <td>13.715804</td>\n",
       "      <td>-1.689387</td>\n",
       "      <td>-3.955677</td>\n",
       "      <td>11.847167</td>\n",
       "      <td>11.034525</td>\n",
       "      <td>17.633932</td>\n",
       "      <td>...</td>\n",
       "      <td>-0.077522</td>\n",
       "      <td>3.947172</td>\n",
       "      <td>-1.575253</td>\n",
       "      <td>0.882770</td>\n",
       "      <td>0.105471</td>\n",
       "      <td>-3.285719</td>\n",
       "      <td>0.183403</td>\n",
       "      <td>0.156371</td>\n",
       "      <td>2.490852</td>\n",
       "      <td>1.872360</td>\n",
       "    </tr>\n",
       "    <tr>\n",
       "      <th>134615</th>\n",
       "      <td>1457.369544</td>\n",
       "      <td>-508.200270</td>\n",
       "      <td>395.422965</td>\n",
       "      <td>-156.180770</td>\n",
       "      <td>-37.106836</td>\n",
       "      <td>-238.249289</td>\n",
       "      <td>221.957981</td>\n",
       "      <td>-17.815713</td>\n",
       "      <td>193.668008</td>\n",
       "      <td>-115.163174</td>\n",
       "      <td>...</td>\n",
       "      <td>-7.733434</td>\n",
       "      <td>12.043724</td>\n",
       "      <td>-4.158532</td>\n",
       "      <td>8.704332</td>\n",
       "      <td>-0.693570</td>\n",
       "      <td>7.239538</td>\n",
       "      <td>18.978024</td>\n",
       "      <td>-20.526985</td>\n",
       "      <td>28.181960</td>\n",
       "      <td>-10.012177</td>\n",
       "    </tr>\n",
       "    <tr>\n",
       "      <th>...</th>\n",
       "      <td>...</td>\n",
       "      <td>...</td>\n",
       "      <td>...</td>\n",
       "      <td>...</td>\n",
       "      <td>...</td>\n",
       "      <td>...</td>\n",
       "      <td>...</td>\n",
       "      <td>...</td>\n",
       "      <td>...</td>\n",
       "      <td>...</td>\n",
       "      <td>...</td>\n",
       "      <td>...</td>\n",
       "      <td>...</td>\n",
       "      <td>...</td>\n",
       "      <td>...</td>\n",
       "      <td>...</td>\n",
       "      <td>...</td>\n",
       "      <td>...</td>\n",
       "      <td>...</td>\n",
       "      <td>...</td>\n",
       "      <td>...</td>\n",
       "    </tr>\n",
       "    <tr>\n",
       "      <th>248012</th>\n",
       "      <td>2.603932</td>\n",
       "      <td>-3.303726</td>\n",
       "      <td>-0.945596</td>\n",
       "      <td>-3.403730</td>\n",
       "      <td>-0.733316</td>\n",
       "      <td>0.245777</td>\n",
       "      <td>0.393385</td>\n",
       "      <td>1.353973</td>\n",
       "      <td>0.585685</td>\n",
       "      <td>-0.163009</td>\n",
       "      <td>...</td>\n",
       "      <td>-0.315491</td>\n",
       "      <td>-1.080292</td>\n",
       "      <td>-0.203545</td>\n",
       "      <td>0.180935</td>\n",
       "      <td>0.644033</td>\n",
       "      <td>0.206312</td>\n",
       "      <td>0.512110</td>\n",
       "      <td>-0.287391</td>\n",
       "      <td>-0.155678</td>\n",
       "      <td>-0.608592</td>\n",
       "    </tr>\n",
       "    <tr>\n",
       "      <th>94389</th>\n",
       "      <td>0.608153</td>\n",
       "      <td>-0.579995</td>\n",
       "      <td>-0.351880</td>\n",
       "      <td>-0.287543</td>\n",
       "      <td>-0.115787</td>\n",
       "      <td>-0.064446</td>\n",
       "      <td>-0.023173</td>\n",
       "      <td>-0.039208</td>\n",
       "      <td>-0.089390</td>\n",
       "      <td>0.190402</td>\n",
       "      <td>...</td>\n",
       "      <td>-0.404703</td>\n",
       "      <td>0.118287</td>\n",
       "      <td>-0.185010</td>\n",
       "      <td>0.166124</td>\n",
       "      <td>0.117075</td>\n",
       "      <td>0.151217</td>\n",
       "      <td>0.412748</td>\n",
       "      <td>-0.021199</td>\n",
       "      <td>0.040858</td>\n",
       "      <td>0.164222</td>\n",
       "    </tr>\n",
       "    <tr>\n",
       "      <th>182689</th>\n",
       "      <td>0.462265</td>\n",
       "      <td>-0.300386</td>\n",
       "      <td>0.440709</td>\n",
       "      <td>-0.466143</td>\n",
       "      <td>0.229269</td>\n",
       "      <td>0.149709</td>\n",
       "      <td>0.193954</td>\n",
       "      <td>-0.155520</td>\n",
       "      <td>0.505380</td>\n",
       "      <td>-0.083902</td>\n",
       "      <td>...</td>\n",
       "      <td>0.041338</td>\n",
       "      <td>-0.110944</td>\n",
       "      <td>-0.127918</td>\n",
       "      <td>-0.164194</td>\n",
       "      <td>0.063292</td>\n",
       "      <td>-0.101036</td>\n",
       "      <td>-0.096908</td>\n",
       "      <td>-0.254984</td>\n",
       "      <td>-0.161704</td>\n",
       "      <td>-0.146145</td>\n",
       "    </tr>\n",
       "    <tr>\n",
       "      <th>143872</th>\n",
       "      <td>2.580737</td>\n",
       "      <td>-1.653577</td>\n",
       "      <td>-0.465707</td>\n",
       "      <td>0.978933</td>\n",
       "      <td>0.453157</td>\n",
       "      <td>0.399190</td>\n",
       "      <td>0.984348</td>\n",
       "      <td>-0.293290</td>\n",
       "      <td>0.913649</td>\n",
       "      <td>-0.058016</td>\n",
       "      <td>...</td>\n",
       "      <td>-0.336281</td>\n",
       "      <td>-0.188981</td>\n",
       "      <td>-0.438109</td>\n",
       "      <td>-0.379037</td>\n",
       "      <td>-0.219974</td>\n",
       "      <td>-0.164749</td>\n",
       "      <td>0.003626</td>\n",
       "      <td>-0.650930</td>\n",
       "      <td>-0.077056</td>\n",
       "      <td>-0.009417</td>\n",
       "    </tr>\n",
       "    <tr>\n",
       "      <th>466962</th>\n",
       "      <td>0.146646</td>\n",
       "      <td>-0.027984</td>\n",
       "      <td>-0.071397</td>\n",
       "      <td>-0.047818</td>\n",
       "      <td>-0.037521</td>\n",
       "      <td>-0.095965</td>\n",
       "      <td>0.060894</td>\n",
       "      <td>-0.147878</td>\n",
       "      <td>-0.055532</td>\n",
       "      <td>0.014021</td>\n",
       "      <td>...</td>\n",
       "      <td>0.034257</td>\n",
       "      <td>-0.018341</td>\n",
       "      <td>0.028985</td>\n",
       "      <td>0.001814</td>\n",
       "      <td>-0.175591</td>\n",
       "      <td>0.136010</td>\n",
       "      <td>0.064570</td>\n",
       "      <td>0.057388</td>\n",
       "      <td>0.032388</td>\n",
       "      <td>0.110688</td>\n",
       "    </tr>\n",
       "  </tbody>\n",
       "</table>\n",
       "<p>5911 rows × 100 columns</p>\n",
       "</div>"
      ],
      "text/plain": [
       "                    0            1           2            3           4   \\\n",
       "person_id                                                                  \n",
       "154295     4949.699412 -1750.532505 -648.187752  1474.375876 -209.351247   \n",
       "288626       82.715366   -41.403656   53.267186     8.886980   26.156459   \n",
       "341684       41.936810   -13.121896   -6.118134     1.901221   26.894174   \n",
       "325050       13.821278    -0.392727   -6.010899     4.230200   13.715804   \n",
       "134615     1457.369544  -508.200270  395.422965  -156.180770  -37.106836   \n",
       "...                ...          ...         ...          ...         ...   \n",
       "248012        2.603932    -3.303726   -0.945596    -3.403730   -0.733316   \n",
       "94389         0.608153    -0.579995   -0.351880    -0.287543   -0.115787   \n",
       "182689        0.462265    -0.300386    0.440709    -0.466143    0.229269   \n",
       "143872        2.580737    -1.653577   -0.465707     0.978933    0.453157   \n",
       "466962        0.146646    -0.027984   -0.071397    -0.047818   -0.037521   \n",
       "\n",
       "                   5           6           7           8           9   ...  \\\n",
       "person_id                                                              ...   \n",
       "154295    -761.835271  179.374223  363.606450  -98.846365  308.307826  ...   \n",
       "288626     -14.720249  -22.338997   57.682953   54.214461    3.254449  ...   \n",
       "341684      -6.804689   -1.830265   23.198585   21.147444   27.898749  ...   \n",
       "325050      -1.689387   -3.955677   11.847167   11.034525   17.633932  ...   \n",
       "134615    -238.249289  221.957981  -17.815713  193.668008 -115.163174  ...   \n",
       "...               ...         ...         ...         ...         ...  ...   \n",
       "248012       0.245777    0.393385    1.353973    0.585685   -0.163009  ...   \n",
       "94389       -0.064446   -0.023173   -0.039208   -0.089390    0.190402  ...   \n",
       "182689       0.149709    0.193954   -0.155520    0.505380   -0.083902  ...   \n",
       "143872       0.399190    0.984348   -0.293290    0.913649   -0.058016  ...   \n",
       "466962      -0.095965    0.060894   -0.147878   -0.055532    0.014021  ...   \n",
       "\n",
       "                  90         91         92         93         94          95  \\\n",
       "person_id                                                                      \n",
       "154295     84.659970 -56.467144  72.311967  62.248709 -76.785834  110.294039   \n",
       "288626      1.583574  -5.004229   0.275224  -6.197493  -6.912434   -1.120440   \n",
       "341684     -1.446743   7.218844  -4.208715   2.295132  -1.366418   -3.180567   \n",
       "325050     -0.077522   3.947172  -1.575253   0.882770   0.105471   -3.285719   \n",
       "134615     -7.733434  12.043724  -4.158532   8.704332  -0.693570    7.239538   \n",
       "...              ...        ...        ...        ...        ...         ...   \n",
       "248012     -0.315491  -1.080292  -0.203545   0.180935   0.644033    0.206312   \n",
       "94389      -0.404703   0.118287  -0.185010   0.166124   0.117075    0.151217   \n",
       "182689      0.041338  -0.110944  -0.127918  -0.164194   0.063292   -0.101036   \n",
       "143872     -0.336281  -0.188981  -0.438109  -0.379037  -0.219974   -0.164749   \n",
       "466962      0.034257  -0.018341   0.028985   0.001814  -0.175591    0.136010   \n",
       "\n",
       "                  96         97         98         99  \n",
       "person_id                                              \n",
       "154295     13.962591  49.809247 -47.053867 -80.457004  \n",
       "288626    -15.705086  -2.099138  -6.503233  -2.414661  \n",
       "341684      1.572718   0.324567   3.806947   2.674281  \n",
       "325050      0.183403   0.156371   2.490852   1.872360  \n",
       "134615     18.978024 -20.526985  28.181960 -10.012177  \n",
       "...              ...        ...        ...        ...  \n",
       "248012      0.512110  -0.287391  -0.155678  -0.608592  \n",
       "94389       0.412748  -0.021199   0.040858   0.164222  \n",
       "182689     -0.096908  -0.254984  -0.161704  -0.146145  \n",
       "143872      0.003626  -0.650930  -0.077056  -0.009417  \n",
       "466962      0.064570   0.057388   0.032388   0.110688  \n",
       "\n",
       "[5911 rows x 100 columns]"
      ]
     },
     "execution_count": 14,
     "metadata": {},
     "output_type": "execute_result"
    }
   ],
   "source": [
    "embeddings"
   ]
  },
  {
   "cell_type": "markdown",
   "metadata": {},
   "source": [
    "## Формирование датасета для Artist Recommendation\n",
    "- `y` - исполнитель, которого пытаемся предсказать, \n",
    "- `X` - исполнители, по которым пытаемся предсказать `y`.\n",
    "\n",
    "Т.к. сессия имеет `n` элементов, то есть `n` способов деления на `X` и `y`. В датасет попадают все способы. "
   ]
  },
  {
   "cell_type": "code",
   "execution_count": 24,
   "metadata": {},
   "outputs": [],
   "source": [
    "def split_session_one(session):\n",
    "    return [(session[session != person], person) for person in session]\n",
    "\n",
    "\n",
    "def prepare_X_y(sessions_df): # le_user\n",
    "    sessions_splited = sessions_df.copy()\n",
    "    sessions_splited = sessions_splited.groupby(['session_id'])['person_id'].unique()\n",
    "    sessions_splited = sessions_splited.apply(split_session_one)\n",
    "    sessions_splited = sessions_splited.explode()\n",
    "    sessions_splited = pd.DataFrame(\n",
    "        sessions_splited.tolist(),\n",
    "        columns=['X', 'y'],\n",
    "        index=sessions_splited.index\n",
    "    )\n",
    "    return sessions_splited['X'], sessions_splited['y']"
   ]
  },
  {
   "cell_type": "code",
   "execution_count": 25,
   "metadata": {},
   "outputs": [],
   "source": [
    "X_test, y_test = prepare_X_y(sessions_test)"
   ]
  },
  {
   "cell_type": "markdown",
   "metadata": {},
   "source": [
    "## Модели для Artist Recommendation\n",
    "- `TopNSearch` - базовая модель, для единого описания методов `.__init__()`, `.score()`, которые будут наследоваться остальными моделями;\n",
    "- `TopNRandom` - модель для случайного выбора топа (с возможностью использовать веса);\n",
    "- `NearestNeighboursSearch` - модель для поиска ближайших исполнителей:\n",
    "    - получает на вход массив исполнителей;\n",
    "    - ищет похожих исполнителей среди эмбеддингов исполнителей;\n",
    "- `UserPersonFreqSearch` - модель рекомендации по истории пользователя:\n",
    "    - получает на вход массив исполнителей (+ информацию о том, какой это пользователь);\n",
    "    - расчитывает частоты прослушанных исполнителей для данного пользователя и делает подвыборку из его истории с весами равными частотам треков.\n",
    "    - если данных о истории прослушиваний по пользователю нет, то берется случайный топ.\n",
    "- `UserPersonFreqSearchPlus` - модель рекомендации по истории пользователя + поиск ближайших исполнителей:\n",
    "    - получает на вход массив исполнителей (+ информацию о том, какой это пользователь);\n",
    "    - расчитывает частоты прослушанных исполнителей для данного пользователя и делает подвыборку из его истории с весами равными частотам треков.\n",
    "    - если данных о истории прослушиваний по пользователю нет, то ищутся похожие исполнители, как в `NearestNeighboursSearch`.\n",
    "    \n",
    "_`NearestNeighboursSearch` в решении задачи Artist Recommendation опирается только на эмбеддинги исполнителей, в то время как `UserPersonFreqSearch` еще опирается и на историю исполнителей по конкретному пользователю. По этой причине результаты лучше у `UserPersonFreqSearch` и `UserPersonFreqSearchPlus`._"
   ]
  },
  {
   "cell_type": "code",
   "execution_count": 26,
   "metadata": {},
   "outputs": [],
   "source": [
    "from sklearn.base import BaseEstimator, ClassifierMixin\n",
    "\n",
    "\n",
    "def hit_rate(y, y_pred):\n",
    "    hits = [\n",
    "        int(y_el in y_pred_el)\n",
    "        for y_el, y_pred_el in zip(y, y_pred)\n",
    "    ]\n",
    "    return sum(hits) / len(hits)\n",
    "\n",
    "\n",
    "def search_nn(embeddings, base_nearest_search, num_top_elements=10):\n",
    "    dist = cdist(embeddings, base_nearest_search, metric='cosine')\n",
    "    dist = dist.mean(axis=1)\n",
    "    dist = pd.Series(\n",
    "        dist,\n",
    "        index=embeddings.index\n",
    "    )\n",
    "    dist = dist.drop(index=base_nearest_search.index).sort_values()\n",
    "    top_n = dist.index.values[:num_top_elements]\n",
    "    return top_n\n",
    "\n",
    "\n",
    "class TopNSearch(BaseEstimator, ClassifierMixin):\n",
    "    def __init__(self, embeddings, num_top_elements):\n",
    "        self.embeddings = embeddings\n",
    "        self.num_top_elements = num_top_elements\n",
    "    def fit(self, X, y):\n",
    "        pass\n",
    "    def predict(self, X):\n",
    "        pass\n",
    "    def score(self, X, y):\n",
    "        y_pred = self.predict(X)\n",
    "        return hit_rate(y, y_pred)\n",
    "\n",
    "\n",
    "class TopNRandom(TopNSearch):\n",
    "    def __init__(self, embeddings, num_top_elements, weights=None, random_seed=None):\n",
    "            super().__init__(embeddings, num_top_elements)\n",
    "            self.weights = weights\n",
    "            self.random_seed = random_seed\n",
    "    def predict(self, X):\n",
    "        np.random.seed(self.random_seed)\n",
    "        top_n = np.array([\n",
    "            self.embeddings.sample(self.num_top_elements, weights=self.weights).index.values\n",
    "            for _ in tqdm(X)\n",
    "        ])\n",
    "        return top_n\n",
    "\n",
    "    \n",
    "class NearestNeighboursSearch(TopNSearch):\n",
    "    def __init__(self, embeddings, num_top_elements):\n",
    "        super().__init__(embeddings, num_top_elements)\n",
    "    def predict(self, X):\n",
    "        y_pred = []\n",
    "        for x in tqdm(X):\n",
    "            base_nearest_search = embeddings.loc[x]\n",
    "            top_n = search_nn(\n",
    "                self.embeddings,\n",
    "                base_nearest_search,\n",
    "                self.num_top_elements\n",
    "            )\n",
    "            y_pred.append(top_n)\n",
    "        return np.array(y_pred)\n",
    "    \n",
    "    \n",
    "######################################################################################\n",
    "\n",
    "def add_user_column(X, session_user_mapping):\n",
    "    X_ext = pd.merge(\n",
    "        X.reset_index(),\n",
    "        session_user_mapping,\n",
    "        how='left',\n",
    "        on=['session_id']\n",
    "    )\n",
    "    return X_ext\n",
    "\n",
    "\n",
    "def search_history_freq(x, user, user_person):\n",
    "    mask = (\n",
    "        user_person['user_id'].isin([user])\n",
    "        & (~user_person['person_id'].isin(x))\n",
    "    )\n",
    "    historical_person_freq = (user_person\n",
    "        .loc[mask, 'person_id']\n",
    "        .value_counts(normalize=True)\n",
    "        .reset_index()\n",
    "        .rename(columns={'person_id':'freq', 'index':'person_id'})\n",
    "    )\n",
    "    return historical_person_freq\n",
    "    \n",
    "\n",
    "class UserPersonFreqSearch(TopNSearch):\n",
    "    def __init__(self, embeddings, sessions_train, sessions_test, num_top_elements):\n",
    "        self.embeddings = embeddings\n",
    "        self.user_person = sessions_train[['user_id', 'person_id']]\n",
    "        self.session_user_mapping = sessions_test[['session_id', 'user_id']].drop_duplicates()\n",
    "        self.num_top_elements = num_top_elements\n",
    "    def fit(self, X, y):\n",
    "        pass  \n",
    "    def predict(self, X):\n",
    "        random_case_cnt = 0\n",
    "        X_ext = add_user_column(X, self.session_user_mapping)\n",
    "        y_pred = []\n",
    "        for _, (session_id, x, user) in tqdm(X_ext.iterrows()):\n",
    "            historical_person_freq = search_history_freq(x, user, self.user_person)\n",
    "            if len(historical_person_freq) == 0:\n",
    "                top_n = self.embeddings.sample(self.num_top_elements).index.values\n",
    "                random_case_cnt += 1\n",
    "            else:\n",
    "                n = self.num_top_elements\n",
    "                if self.num_top_elements > len(historical_person_freq):\n",
    "                    n = len(historical_person_freq)\n",
    "                top_n = historical_person_freq['person_id'].sample(\n",
    "                    n=n,\n",
    "                    weights=historical_person_freq['freq']\n",
    "                ).values\n",
    "            y_pred.append(top_n)\n",
    "        print(f'num of random generated top_n: {random_case_cnt}')\n",
    "        return np.array(y_pred)\n",
    "    \n",
    "    \n",
    "class UserPersonFreqSearchPlus(TopNSearch):\n",
    "    def __init__(self, embeddings, sessions_train, sessions_test, num_top_elements):\n",
    "        self.embeddings = embeddings\n",
    "        self.user_person = sessions_train[['user_id', 'person_id']]\n",
    "        self.session_user_mapping = sessions_test[['session_id', 'user_id']].drop_duplicates()\n",
    "        self.num_top_elements = num_top_elements\n",
    "    def fit(self, X, y):\n",
    "        pass  \n",
    "    def predict(self, X):\n",
    "        random_case_cnt = 0\n",
    "        X_ext = add_user_column(X, self.session_user_mapping)\n",
    "        y_pred = []\n",
    "        for _, (session_id, x, user) in tqdm(X_ext.iterrows()):\n",
    "            historical_person_freq = search_history_freq(x, user, self.user_person)\n",
    "            if len(historical_person_freq) == 0:\n",
    "                base_nearest_search = embeddings.loc[x]\n",
    "                top_n = search_nn(\n",
    "                    self.embeddings,\n",
    "                    base_nearest_search,\n",
    "                    self.num_top_elements\n",
    "                )\n",
    "                random_case_cnt += 1\n",
    "            else:\n",
    "                n = self.num_top_elements\n",
    "                if self.num_top_elements > len(historical_person_freq):\n",
    "                    n = len(historical_person_freq)\n",
    "                top_n = historical_person_freq['person_id'].sample(\n",
    "                    n=n,\n",
    "                    weights=historical_person_freq['freq']\n",
    "                ).values\n",
    "            y_pred.append(top_n)\n",
    "        print(f'num of random generated top_n: {random_case_cnt}')\n",
    "        return np.array(y_pred)"
   ]
  },
  {
   "cell_type": "code",
   "execution_count": 37,
   "metadata": {},
   "outputs": [],
   "source": [
    "num_top_elements = 20\n",
    "weights = sessions_train.groupby(['person_id'])['playcount'].sum()\n",
    "weights = weights.loc[embeddings.index]\n",
    "\n",
    "\n",
    "random_search = TopNRandom(\n",
    "    embeddings,\n",
    "    num_top_elements,\n",
    "    random_seed=42\n",
    ")\n",
    "\n",
    "weighted_random_search = TopNRandom(\n",
    "    embeddings,\n",
    "    num_top_elements,\n",
    "    weights,\n",
    "    random_seed=42\n",
    ")\n",
    "\n",
    "nn_search = NearestNeighboursSearch(\n",
    "    embeddings,\n",
    "    num_top_elements\n",
    ")\n",
    "\n",
    "upf = UserPersonFreqSearch(\n",
    "    embeddings,\n",
    "    sessions_train,\n",
    "    sessions_test,\n",
    "    num_top_elements\n",
    ")\n",
    "\n",
    "upf_plus_search = UserPersonFreqSearchPlus(\n",
    "    embeddings,\n",
    "    sessions_train,\n",
    "    sessions_test,\n",
    "    num_top_elements\n",
    ")"
   ]
  },
  {
   "cell_type": "markdown",
   "metadata": {},
   "source": [
    "### Оценка качества на первой тысяче строк из тестовых данных"
   ]
  },
  {
   "cell_type": "code",
   "execution_count": null,
   "metadata": {},
   "outputs": [],
   "source": [
    "X, y = X_test.head(1000), y_test.head(1000)"
   ]
  },
  {
   "cell_type": "code",
   "execution_count": 38,
   "metadata": {
    "scrolled": true
   },
   "outputs": [
    {
     "name": "stderr",
     "output_type": "stream",
     "text": [
      "100%|██████████| 1000/1000 [00:00<00:00, 3178.55it/s]\n"
     ]
    },
    {
     "data": {
      "text/plain": [
       "0.003"
      ]
     },
     "execution_count": 38,
     "metadata": {},
     "output_type": "execute_result"
    }
   ],
   "source": [
    "random_search.score(X, y)"
   ]
  },
  {
   "cell_type": "code",
   "execution_count": 39,
   "metadata": {
    "scrolled": true
   },
   "outputs": [
    {
     "name": "stderr",
     "output_type": "stream",
     "text": [
      "100%|██████████| 1000/1000 [00:01<00:00, 756.62it/s]\n"
     ]
    },
    {
     "data": {
      "text/plain": [
       "0.014"
      ]
     },
     "execution_count": 39,
     "metadata": {},
     "output_type": "execute_result"
    }
   ],
   "source": [
    "weighted_random_search.score(X, y)"
   ]
  },
  {
   "cell_type": "code",
   "execution_count": 40,
   "metadata": {
    "scrolled": true
   },
   "outputs": [
    {
     "name": "stderr",
     "output_type": "stream",
     "text": [
      "100%|██████████| 1000/1000 [00:05<00:00, 172.76it/s]\n"
     ]
    },
    {
     "data": {
      "text/plain": [
       "0.165"
      ]
     },
     "execution_count": 40,
     "metadata": {},
     "output_type": "execute_result"
    }
   ],
   "source": [
    "nn_search.score(X, y)"
   ]
  },
  {
   "cell_type": "code",
   "execution_count": 62,
   "metadata": {},
   "outputs": [
    {
     "name": "stderr",
     "output_type": "stream",
     "text": [
      "1000it [01:19, 12.52it/s]"
     ]
    },
    {
     "name": "stdout",
     "output_type": "stream",
     "text": [
      "num of random generated top_n: 94\n"
     ]
    },
    {
     "name": "stderr",
     "output_type": "stream",
     "text": [
      "\n",
      "<ipython-input-26-c89cfbf78479>:120: VisibleDeprecationWarning: Creating an ndarray from ragged nested sequences (which is a list-or-tuple of lists-or-tuples-or ndarrays with different lengths or shapes) is deprecated. If you meant to do this, you must specify 'dtype=object' when creating the ndarray\n",
      "  return np.array(y_pred)\n"
     ]
    },
    {
     "data": {
      "text/plain": [
       "0.324"
      ]
     },
     "execution_count": 62,
     "metadata": {},
     "output_type": "execute_result"
    }
   ],
   "source": [
    "upf.score(X, y)"
   ]
  },
  {
   "cell_type": "code",
   "execution_count": 63,
   "metadata": {
    "scrolled": true
   },
   "outputs": [
    {
     "name": "stderr",
     "output_type": "stream",
     "text": [
      "1000it [01:20, 12.49it/s]"
     ]
    },
    {
     "name": "stdout",
     "output_type": "stream",
     "text": [
      "num of random generated top_n: 94\n"
     ]
    },
    {
     "name": "stderr",
     "output_type": "stream",
     "text": [
      "\n",
      "<ipython-input-26-c89cfbf78479>:155: VisibleDeprecationWarning: Creating an ndarray from ragged nested sequences (which is a list-or-tuple of lists-or-tuples-or ndarrays with different lengths or shapes) is deprecated. If you meant to do this, you must specify 'dtype=object' when creating the ndarray\n",
      "  return np.array(y_pred)\n"
     ]
    },
    {
     "data": {
      "text/plain": [
       "0.338"
      ]
     },
     "execution_count": 63,
     "metadata": {},
     "output_type": "execute_result"
    }
   ],
   "source": [
    "upf_plus_search.score(X, y)"
   ]
  },
  {
   "cell_type": "markdown",
   "metadata": {},
   "source": [
    "### Оценка качества на множестве подвыборок из тестовых данных"
   ]
  },
  {
   "cell_type": "code",
   "execution_count": 64,
   "metadata": {},
   "outputs": [
    {
     "data": {
      "text/plain": [
       "array([[441018, 641794, 114362, ..., 122807, 486036,  77339],\n",
       "       [536733, 590173, 128065, ..., 620637, 412967, 675518],\n",
       "       [269151, 557625, 373890, ..., 448700,  83159, 591480],\n",
       "       ...,\n",
       "       [397088, 172342, 212303, ..., 508341, 510772, 408924],\n",
       "       [733822, 363969, 669691, ..., 636931, 152393, 471168],\n",
       "       [558185, 526927, 188581, ..., 527678,  94261,  74606]])"
      ]
     },
     "execution_count": 64,
     "metadata": {},
     "output_type": "execute_result"
    }
   ],
   "source": [
    "# Возьмем 100 выборок по 1000 наблюдений из тестовых данных\n",
    "n_samples = 100\n",
    "sample_size = 1000\n",
    "np.random.seed(42)\n",
    "samples = np.array([\n",
    "    np.random.choice(len(X_test), sample_size, replace=False)\n",
    "    for _ in range(n_samples)\n",
    "])\n",
    "\n",
    "samples"
   ]
  },
  {
   "cell_type": "code",
   "execution_count": 65,
   "metadata": {},
   "outputs": [],
   "source": [
    "def sampled_score(model, X, y, samples):\n",
    "    '''\n",
    "    Расчет качества работы модели по наборам индексов\n",
    "    '''\n",
    "    score_lst = []\n",
    "    for i, sample in enumerate(samples):\n",
    "        print(i)\n",
    "        sample_score = model.score(\n",
    "            X.iloc[sample],\n",
    "            y.iloc[sample]\n",
    "        )\n",
    "        score_lst.append(sample_score)\n",
    "    return np.array(score_lst)"
   ]
  },
  {
   "cell_type": "code",
   "execution_count": 73,
   "metadata": {
    "scrolled": true
   },
   "outputs": [
    {
     "name": "stderr",
     "output_type": "stream",
     "text": [
      " 27%|██▋       | 272/1000 [00:00<00:00, 2711.61it/s]"
     ]
    },
    {
     "name": "stdout",
     "output_type": "stream",
     "text": [
      "0\n"
     ]
    },
    {
     "name": "stderr",
     "output_type": "stream",
     "text": [
      "100%|██████████| 1000/1000 [00:00<00:00, 2731.16it/s]\n",
      " 34%|███▎      | 335/1000 [00:00<00:00, 3347.40it/s]"
     ]
    },
    {
     "name": "stdout",
     "output_type": "stream",
     "text": [
      "1\n"
     ]
    },
    {
     "name": "stderr",
     "output_type": "stream",
     "text": [
      "100%|██████████| 1000/1000 [00:00<00:00, 3388.44it/s]\n",
      " 33%|███▎      | 327/1000 [00:00<00:00, 3268.87it/s]"
     ]
    },
    {
     "name": "stdout",
     "output_type": "stream",
     "text": [
      "2\n"
     ]
    },
    {
     "name": "stderr",
     "output_type": "stream",
     "text": [
      "100%|██████████| 1000/1000 [00:00<00:00, 3049.09it/s]\n",
      " 31%|███       | 311/1000 [00:00<00:00, 3103.37it/s]"
     ]
    },
    {
     "name": "stdout",
     "output_type": "stream",
     "text": [
      "3\n"
     ]
    },
    {
     "name": "stderr",
     "output_type": "stream",
     "text": [
      "100%|██████████| 1000/1000 [00:00<00:00, 2997.57it/s]\n",
      " 28%|██▊       | 275/1000 [00:00<00:00, 2741.11it/s]"
     ]
    },
    {
     "name": "stdout",
     "output_type": "stream",
     "text": [
      "4\n"
     ]
    },
    {
     "name": "stderr",
     "output_type": "stream",
     "text": [
      "100%|██████████| 1000/1000 [00:00<00:00, 2988.53it/s]\n",
      " 31%|███       | 307/1000 [00:00<00:00, 3063.84it/s]"
     ]
    },
    {
     "name": "stdout",
     "output_type": "stream",
     "text": [
      "5\n"
     ]
    },
    {
     "name": "stderr",
     "output_type": "stream",
     "text": [
      "100%|██████████| 1000/1000 [00:00<00:00, 2773.99it/s]\n",
      " 27%|██▋       | 272/1000 [00:00<00:00, 2716.91it/s]"
     ]
    },
    {
     "name": "stdout",
     "output_type": "stream",
     "text": [
      "6\n"
     ]
    },
    {
     "name": "stderr",
     "output_type": "stream",
     "text": [
      "100%|██████████| 1000/1000 [00:00<00:00, 2801.83it/s]\n",
      " 27%|██▋       | 273/1000 [00:00<00:00, 2727.32it/s]"
     ]
    },
    {
     "name": "stdout",
     "output_type": "stream",
     "text": [
      "7\n"
     ]
    },
    {
     "name": "stderr",
     "output_type": "stream",
     "text": [
      "100%|██████████| 1000/1000 [00:00<00:00, 2630.19it/s]\n",
      " 33%|███▎      | 327/1000 [00:00<00:00, 3268.21it/s]"
     ]
    },
    {
     "name": "stdout",
     "output_type": "stream",
     "text": [
      "8\n"
     ]
    },
    {
     "name": "stderr",
     "output_type": "stream",
     "text": [
      "100%|██████████| 1000/1000 [00:00<00:00, 2994.14it/s]\n",
      " 28%|██▊       | 283/1000 [00:00<00:00, 2828.09it/s]"
     ]
    },
    {
     "name": "stdout",
     "output_type": "stream",
     "text": [
      "9\n"
     ]
    },
    {
     "name": "stderr",
     "output_type": "stream",
     "text": [
      "100%|██████████| 1000/1000 [00:00<00:00, 2830.42it/s]\n",
      " 28%|██▊       | 285/1000 [00:00<00:00, 2843.71it/s]"
     ]
    },
    {
     "name": "stdout",
     "output_type": "stream",
     "text": [
      "10\n"
     ]
    },
    {
     "name": "stderr",
     "output_type": "stream",
     "text": [
      "100%|██████████| 1000/1000 [00:00<00:00, 2849.61it/s]\n",
      " 30%|██▉       | 296/1000 [00:00<00:00, 2956.50it/s]"
     ]
    },
    {
     "name": "stdout",
     "output_type": "stream",
     "text": [
      "11\n"
     ]
    },
    {
     "name": "stderr",
     "output_type": "stream",
     "text": [
      "100%|██████████| 1000/1000 [00:00<00:00, 2789.56it/s]\n",
      " 31%|███       | 307/1000 [00:00<00:00, 3068.35it/s]"
     ]
    },
    {
     "name": "stdout",
     "output_type": "stream",
     "text": [
      "12\n"
     ]
    },
    {
     "name": "stderr",
     "output_type": "stream",
     "text": [
      "100%|██████████| 1000/1000 [00:00<00:00, 3094.55it/s]\n",
      " 33%|███▎      | 333/1000 [00:00<00:00, 3325.64it/s]"
     ]
    },
    {
     "name": "stdout",
     "output_type": "stream",
     "text": [
      "13\n"
     ]
    },
    {
     "name": "stderr",
     "output_type": "stream",
     "text": [
      "100%|██████████| 1000/1000 [00:00<00:00, 3203.72it/s]\n",
      " 30%|██▉       | 296/1000 [00:00<00:00, 2958.41it/s]"
     ]
    },
    {
     "name": "stdout",
     "output_type": "stream",
     "text": [
      "14\n"
     ]
    },
    {
     "name": "stderr",
     "output_type": "stream",
     "text": [
      "100%|██████████| 1000/1000 [00:00<00:00, 2968.87it/s]\n",
      " 27%|██▋       | 274/1000 [00:00<00:00, 2738.38it/s]"
     ]
    },
    {
     "name": "stdout",
     "output_type": "stream",
     "text": [
      "15\n"
     ]
    },
    {
     "name": "stderr",
     "output_type": "stream",
     "text": [
      "100%|██████████| 1000/1000 [00:00<00:00, 2830.66it/s]\n",
      " 33%|███▎      | 332/1000 [00:00<00:00, 3310.67it/s]"
     ]
    },
    {
     "name": "stdout",
     "output_type": "stream",
     "text": [
      "16\n"
     ]
    },
    {
     "name": "stderr",
     "output_type": "stream",
     "text": [
      "100%|██████████| 1000/1000 [00:00<00:00, 3018.84it/s]\n",
      " 30%|███       | 305/1000 [00:00<00:00, 3045.52it/s]"
     ]
    },
    {
     "name": "stdout",
     "output_type": "stream",
     "text": [
      "17\n"
     ]
    },
    {
     "name": "stderr",
     "output_type": "stream",
     "text": [
      "100%|██████████| 1000/1000 [00:00<00:00, 3032.99it/s]\n",
      " 30%|██▉       | 298/1000 [00:00<00:00, 2978.48it/s]"
     ]
    },
    {
     "name": "stdout",
     "output_type": "stream",
     "text": [
      "18\n"
     ]
    },
    {
     "name": "stderr",
     "output_type": "stream",
     "text": [
      "100%|██████████| 1000/1000 [00:00<00:00, 2990.85it/s]\n",
      " 56%|█████▌    | 559/1000 [00:00<00:00, 2888.03it/s]"
     ]
    },
    {
     "name": "stdout",
     "output_type": "stream",
     "text": [
      "19\n"
     ]
    },
    {
     "name": "stderr",
     "output_type": "stream",
     "text": [
      "100%|██████████| 1000/1000 [00:00<00:00, 2858.65it/s]\n",
      " 32%|███▏      | 319/1000 [00:00<00:00, 3187.69it/s]"
     ]
    },
    {
     "name": "stdout",
     "output_type": "stream",
     "text": [
      "20\n"
     ]
    },
    {
     "name": "stderr",
     "output_type": "stream",
     "text": [
      "100%|██████████| 1000/1000 [00:00<00:00, 3211.55it/s]\n",
      " 27%|██▋       | 270/1000 [00:00<00:00, 2693.40it/s]"
     ]
    },
    {
     "name": "stdout",
     "output_type": "stream",
     "text": [
      "21\n"
     ]
    },
    {
     "name": "stderr",
     "output_type": "stream",
     "text": [
      "100%|██████████| 1000/1000 [00:00<00:00, 2985.85it/s]\n",
      " 34%|███▍      | 338/1000 [00:00<00:00, 3375.95it/s]"
     ]
    },
    {
     "name": "stdout",
     "output_type": "stream",
     "text": [
      "22\n"
     ]
    },
    {
     "name": "stderr",
     "output_type": "stream",
     "text": [
      "100%|██████████| 1000/1000 [00:00<00:00, 3111.60it/s]\n",
      " 31%|███▏      | 314/1000 [00:00<00:00, 3135.71it/s]"
     ]
    },
    {
     "name": "stdout",
     "output_type": "stream",
     "text": [
      "23\n"
     ]
    },
    {
     "name": "stderr",
     "output_type": "stream",
     "text": [
      "100%|██████████| 1000/1000 [00:00<00:00, 2947.64it/s]\n",
      " 31%|███       | 311/1000 [00:00<00:00, 3106.27it/s]"
     ]
    },
    {
     "name": "stdout",
     "output_type": "stream",
     "text": [
      "24\n"
     ]
    },
    {
     "name": "stderr",
     "output_type": "stream",
     "text": [
      "100%|██████████| 1000/1000 [00:00<00:00, 3002.26it/s]\n",
      " 30%|██▉       | 295/1000 [00:00<00:00, 2936.42it/s]"
     ]
    },
    {
     "name": "stdout",
     "output_type": "stream",
     "text": [
      "25\n"
     ]
    },
    {
     "name": "stderr",
     "output_type": "stream",
     "text": [
      "100%|██████████| 1000/1000 [00:00<00:00, 2968.98it/s]\n",
      " 60%|█████▉    | 598/1000 [00:00<00:00, 2966.31it/s]"
     ]
    },
    {
     "name": "stdout",
     "output_type": "stream",
     "text": [
      "26\n"
     ]
    },
    {
     "name": "stderr",
     "output_type": "stream",
     "text": [
      "100%|██████████| 1000/1000 [00:00<00:00, 3027.12it/s]\n",
      " 30%|███       | 300/1000 [00:00<00:00, 2992.85it/s]"
     ]
    },
    {
     "name": "stdout",
     "output_type": "stream",
     "text": [
      "27\n"
     ]
    },
    {
     "name": "stderr",
     "output_type": "stream",
     "text": [
      "100%|██████████| 1000/1000 [00:00<00:00, 2754.62it/s]\n",
      " 26%|██▌       | 261/1000 [00:00<00:00, 2609.49it/s]"
     ]
    },
    {
     "name": "stdout",
     "output_type": "stream",
     "text": [
      "28\n"
     ]
    },
    {
     "name": "stderr",
     "output_type": "stream",
     "text": [
      "100%|██████████| 1000/1000 [00:00<00:00, 3040.38it/s]\n",
      " 26%|██▌       | 259/1000 [00:00<00:00, 2583.98it/s]"
     ]
    },
    {
     "name": "stdout",
     "output_type": "stream",
     "text": [
      "29\n"
     ]
    },
    {
     "name": "stderr",
     "output_type": "stream",
     "text": [
      "100%|██████████| 1000/1000 [00:00<00:00, 2929.54it/s]\n",
      " 32%|███▏      | 315/1000 [00:00<00:00, 3144.42it/s]"
     ]
    },
    {
     "name": "stdout",
     "output_type": "stream",
     "text": [
      "30\n"
     ]
    },
    {
     "name": "stderr",
     "output_type": "stream",
     "text": [
      "100%|██████████| 1000/1000 [00:00<00:00, 3076.87it/s]\n",
      " 30%|██▉       | 298/1000 [00:00<00:00, 2974.71it/s]"
     ]
    },
    {
     "name": "stdout",
     "output_type": "stream",
     "text": [
      "31\n"
     ]
    },
    {
     "name": "stderr",
     "output_type": "stream",
     "text": [
      "100%|██████████| 1000/1000 [00:00<00:00, 2850.68it/s]\n",
      " 30%|██▉       | 297/1000 [00:00<00:00, 2969.42it/s]"
     ]
    },
    {
     "name": "stdout",
     "output_type": "stream",
     "text": [
      "32\n"
     ]
    },
    {
     "name": "stderr",
     "output_type": "stream",
     "text": [
      "100%|██████████| 1000/1000 [00:00<00:00, 2870.08it/s]\n",
      " 62%|██████▏   | 623/1000 [00:00<00:00, 3118.56it/s]"
     ]
    },
    {
     "name": "stdout",
     "output_type": "stream",
     "text": [
      "33\n"
     ]
    },
    {
     "name": "stderr",
     "output_type": "stream",
     "text": [
      "100%|██████████| 1000/1000 [00:00<00:00, 3145.72it/s]\n",
      " 59%|█████▉    | 591/1000 [00:00<00:00, 2916.37it/s]"
     ]
    },
    {
     "name": "stdout",
     "output_type": "stream",
     "text": [
      "34\n"
     ]
    },
    {
     "name": "stderr",
     "output_type": "stream",
     "text": [
      "100%|██████████| 1000/1000 [00:00<00:00, 2992.74it/s]\n",
      " 29%|██▉       | 293/1000 [00:00<00:00, 2929.81it/s]"
     ]
    },
    {
     "name": "stdout",
     "output_type": "stream",
     "text": [
      "35\n"
     ]
    },
    {
     "name": "stderr",
     "output_type": "stream",
     "text": [
      "100%|██████████| 1000/1000 [00:00<00:00, 2948.57it/s]\n",
      " 31%|███       | 308/1000 [00:00<00:00, 3077.14it/s]"
     ]
    },
    {
     "name": "stdout",
     "output_type": "stream",
     "text": [
      "36\n"
     ]
    },
    {
     "name": "stderr",
     "output_type": "stream",
     "text": [
      "100%|██████████| 1000/1000 [00:00<00:00, 2994.90it/s]\n",
      " 32%|███▏      | 320/1000 [00:00<00:00, 3193.41it/s]"
     ]
    },
    {
     "name": "stdout",
     "output_type": "stream",
     "text": [
      "37\n"
     ]
    },
    {
     "name": "stderr",
     "output_type": "stream",
     "text": [
      "100%|██████████| 1000/1000 [00:00<00:00, 2947.23it/s]\n",
      " 29%|██▉       | 291/1000 [00:00<00:00, 2904.84it/s]"
     ]
    },
    {
     "name": "stdout",
     "output_type": "stream",
     "text": [
      "38\n"
     ]
    },
    {
     "name": "stderr",
     "output_type": "stream",
     "text": [
      "100%|██████████| 1000/1000 [00:00<00:00, 2915.54it/s]\n",
      " 24%|██▍       | 240/1000 [00:00<00:00, 2395.77it/s]"
     ]
    },
    {
     "name": "stdout",
     "output_type": "stream",
     "text": [
      "39\n"
     ]
    },
    {
     "name": "stderr",
     "output_type": "stream",
     "text": [
      "100%|██████████| 1000/1000 [00:00<00:00, 2319.27it/s]\n",
      " 25%|██▌       | 251/1000 [00:00<00:00, 2502.60it/s]"
     ]
    },
    {
     "name": "stdout",
     "output_type": "stream",
     "text": [
      "40\n"
     ]
    },
    {
     "name": "stderr",
     "output_type": "stream",
     "text": [
      "100%|██████████| 1000/1000 [00:00<00:00, 2244.81it/s]\n",
      " 29%|██▉       | 291/1000 [00:00<00:00, 2904.32it/s]"
     ]
    },
    {
     "name": "stdout",
     "output_type": "stream",
     "text": [
      "41\n"
     ]
    },
    {
     "name": "stderr",
     "output_type": "stream",
     "text": [
      "100%|██████████| 1000/1000 [00:00<00:00, 2876.12it/s]\n",
      " 30%|██▉       | 298/1000 [00:00<00:00, 2978.65it/s]"
     ]
    },
    {
     "name": "stdout",
     "output_type": "stream",
     "text": [
      "42\n"
     ]
    },
    {
     "name": "stderr",
     "output_type": "stream",
     "text": [
      "100%|██████████| 1000/1000 [00:00<00:00, 2907.04it/s]\n",
      " 28%|██▊       | 281/1000 [00:00<00:00, 2809.29it/s]"
     ]
    },
    {
     "name": "stdout",
     "output_type": "stream",
     "text": [
      "43\n"
     ]
    },
    {
     "name": "stderr",
     "output_type": "stream",
     "text": [
      "100%|██████████| 1000/1000 [00:00<00:00, 2831.04it/s]\n",
      " 30%|██▉       | 295/1000 [00:00<00:00, 2942.39it/s]"
     ]
    },
    {
     "name": "stdout",
     "output_type": "stream",
     "text": [
      "44\n"
     ]
    },
    {
     "name": "stderr",
     "output_type": "stream",
     "text": [
      "100%|██████████| 1000/1000 [00:00<00:00, 3049.62it/s]\n",
      " 28%|██▊       | 279/1000 [00:00<00:00, 2786.69it/s]"
     ]
    },
    {
     "name": "stdout",
     "output_type": "stream",
     "text": [
      "45\n"
     ]
    },
    {
     "name": "stderr",
     "output_type": "stream",
     "text": [
      "100%|██████████| 1000/1000 [00:00<00:00, 2754.88it/s]\n",
      " 27%|██▋       | 271/1000 [00:00<00:00, 2709.15it/s]"
     ]
    },
    {
     "name": "stdout",
     "output_type": "stream",
     "text": [
      "46\n"
     ]
    },
    {
     "name": "stderr",
     "output_type": "stream",
     "text": [
      "100%|██████████| 1000/1000 [00:00<00:00, 2968.40it/s]\n",
      " 29%|██▉       | 293/1000 [00:00<00:00, 2929.74it/s]"
     ]
    },
    {
     "name": "stdout",
     "output_type": "stream",
     "text": [
      "47\n"
     ]
    },
    {
     "name": "stderr",
     "output_type": "stream",
     "text": [
      "100%|██████████| 1000/1000 [00:00<00:00, 2850.80it/s]\n",
      " 26%|██▌       | 259/1000 [00:00<00:00, 2578.42it/s]"
     ]
    },
    {
     "name": "stdout",
     "output_type": "stream",
     "text": [
      "48\n"
     ]
    },
    {
     "name": "stderr",
     "output_type": "stream",
     "text": [
      "100%|██████████| 1000/1000 [00:00<00:00, 2215.92it/s]\n",
      " 29%|██▉       | 292/1000 [00:00<00:00, 2913.18it/s]"
     ]
    },
    {
     "name": "stdout",
     "output_type": "stream",
     "text": [
      "49\n"
     ]
    },
    {
     "name": "stderr",
     "output_type": "stream",
     "text": [
      "100%|██████████| 1000/1000 [00:00<00:00, 3031.21it/s]\n",
      " 31%|███       | 310/1000 [00:00<00:00, 3092.89it/s]"
     ]
    },
    {
     "name": "stdout",
     "output_type": "stream",
     "text": [
      "50\n"
     ]
    },
    {
     "name": "stderr",
     "output_type": "stream",
     "text": [
      "100%|██████████| 1000/1000 [00:00<00:00, 2843.12it/s]\n",
      " 29%|██▉       | 290/1000 [00:00<00:00, 2896.11it/s]"
     ]
    },
    {
     "name": "stdout",
     "output_type": "stream",
     "text": [
      "51\n"
     ]
    },
    {
     "name": "stderr",
     "output_type": "stream",
     "text": [
      "100%|██████████| 1000/1000 [00:00<00:00, 2799.76it/s]\n",
      " 32%|███▏      | 319/1000 [00:00<00:00, 3181.73it/s]"
     ]
    },
    {
     "name": "stdout",
     "output_type": "stream",
     "text": [
      "52\n"
     ]
    },
    {
     "name": "stderr",
     "output_type": "stream",
     "text": [
      "100%|██████████| 1000/1000 [00:00<00:00, 2883.16it/s]\n",
      " 31%|███       | 307/1000 [00:00<00:00, 3061.66it/s]"
     ]
    },
    {
     "name": "stdout",
     "output_type": "stream",
     "text": [
      "53\n"
     ]
    },
    {
     "name": "stderr",
     "output_type": "stream",
     "text": [
      "100%|██████████| 1000/1000 [00:00<00:00, 2806.87it/s]\n",
      " 32%|███▏      | 316/1000 [00:00<00:00, 3155.25it/s]"
     ]
    },
    {
     "name": "stdout",
     "output_type": "stream",
     "text": [
      "54\n"
     ]
    },
    {
     "name": "stderr",
     "output_type": "stream",
     "text": [
      "100%|██████████| 1000/1000 [00:00<00:00, 2800.61it/s]\n",
      " 31%|███       | 308/1000 [00:00<00:00, 3077.76it/s]"
     ]
    },
    {
     "name": "stdout",
     "output_type": "stream",
     "text": [
      "55\n"
     ]
    },
    {
     "name": "stderr",
     "output_type": "stream",
     "text": [
      "100%|██████████| 1000/1000 [00:00<00:00, 2847.51it/s]\n",
      " 26%|██▌       | 257/1000 [00:00<00:00, 2565.12it/s]"
     ]
    },
    {
     "name": "stdout",
     "output_type": "stream",
     "text": [
      "56\n"
     ]
    },
    {
     "name": "stderr",
     "output_type": "stream",
     "text": [
      "100%|██████████| 1000/1000 [00:00<00:00, 2776.13it/s]\n",
      " 29%|██▉       | 288/1000 [00:00<00:00, 2875.12it/s]"
     ]
    },
    {
     "name": "stdout",
     "output_type": "stream",
     "text": [
      "57\n"
     ]
    },
    {
     "name": "stderr",
     "output_type": "stream",
     "text": [
      "100%|██████████| 1000/1000 [00:00<00:00, 2850.75it/s]\n",
      " 30%|███       | 303/1000 [00:00<00:00, 3024.49it/s]"
     ]
    },
    {
     "name": "stdout",
     "output_type": "stream",
     "text": [
      "58\n"
     ]
    },
    {
     "name": "stderr",
     "output_type": "stream",
     "text": [
      "100%|██████████| 1000/1000 [00:00<00:00, 2996.42it/s]\n",
      " 32%|███▏      | 319/1000 [00:00<00:00, 3184.83it/s]"
     ]
    },
    {
     "name": "stdout",
     "output_type": "stream",
     "text": [
      "59\n"
     ]
    },
    {
     "name": "stderr",
     "output_type": "stream",
     "text": [
      "100%|██████████| 1000/1000 [00:00<00:00, 3005.67it/s]\n",
      " 32%|███▏      | 317/1000 [00:00<00:00, 3162.04it/s]"
     ]
    },
    {
     "name": "stdout",
     "output_type": "stream",
     "text": [
      "60\n"
     ]
    },
    {
     "name": "stderr",
     "output_type": "stream",
     "text": [
      "100%|██████████| 1000/1000 [00:00<00:00, 3006.89it/s]\n",
      " 30%|███       | 305/1000 [00:00<00:00, 3044.20it/s]"
     ]
    },
    {
     "name": "stdout",
     "output_type": "stream",
     "text": [
      "61\n"
     ]
    },
    {
     "name": "stderr",
     "output_type": "stream",
     "text": [
      "100%|██████████| 1000/1000 [00:00<00:00, 3135.87it/s]\n",
      " 29%|██▉       | 293/1000 [00:00<00:00, 2922.26it/s]"
     ]
    },
    {
     "name": "stdout",
     "output_type": "stream",
     "text": [
      "62\n"
     ]
    },
    {
     "name": "stderr",
     "output_type": "stream",
     "text": [
      "100%|██████████| 1000/1000 [00:00<00:00, 2906.26it/s]\n",
      " 28%|██▊       | 279/1000 [00:00<00:00, 2786.94it/s]"
     ]
    },
    {
     "name": "stdout",
     "output_type": "stream",
     "text": [
      "63\n"
     ]
    },
    {
     "name": "stderr",
     "output_type": "stream",
     "text": [
      "100%|██████████| 1000/1000 [00:00<00:00, 2949.44it/s]\n",
      " 26%|██▋       | 264/1000 [00:00<00:00, 2634.41it/s]"
     ]
    },
    {
     "name": "stdout",
     "output_type": "stream",
     "text": [
      "64\n"
     ]
    },
    {
     "name": "stderr",
     "output_type": "stream",
     "text": [
      "100%|██████████| 1000/1000 [00:00<00:00, 2724.50it/s]\n",
      " 27%|██▋       | 269/1000 [00:00<00:00, 2689.41it/s]"
     ]
    },
    {
     "name": "stdout",
     "output_type": "stream",
     "text": [
      "65\n"
     ]
    },
    {
     "name": "stderr",
     "output_type": "stream",
     "text": [
      "100%|██████████| 1000/1000 [00:00<00:00, 2755.07it/s]\n",
      " 34%|███▎      | 337/1000 [00:00<00:00, 3367.19it/s]"
     ]
    },
    {
     "name": "stdout",
     "output_type": "stream",
     "text": [
      "66\n"
     ]
    },
    {
     "name": "stderr",
     "output_type": "stream",
     "text": [
      "100%|██████████| 1000/1000 [00:00<00:00, 3215.55it/s]\n",
      " 31%|███       | 312/1000 [00:00<00:00, 3113.14it/s]"
     ]
    },
    {
     "name": "stdout",
     "output_type": "stream",
     "text": [
      "67\n"
     ]
    },
    {
     "name": "stderr",
     "output_type": "stream",
     "text": [
      "100%|██████████| 1000/1000 [00:00<00:00, 3123.54it/s]\n",
      " 32%|███▏      | 319/1000 [00:00<00:00, 3185.90it/s]"
     ]
    },
    {
     "name": "stdout",
     "output_type": "stream",
     "text": [
      "68\n"
     ]
    },
    {
     "name": "stderr",
     "output_type": "stream",
     "text": [
      "100%|██████████| 1000/1000 [00:00<00:00, 2664.26it/s]\n",
      " 24%|██▎       | 237/1000 [00:00<00:00, 2360.22it/s]"
     ]
    },
    {
     "name": "stdout",
     "output_type": "stream",
     "text": [
      "69\n"
     ]
    },
    {
     "name": "stderr",
     "output_type": "stream",
     "text": [
      "100%|██████████| 1000/1000 [00:00<00:00, 2557.86it/s]\n",
      " 32%|███▏      | 324/1000 [00:00<00:00, 3235.26it/s]"
     ]
    },
    {
     "name": "stdout",
     "output_type": "stream",
     "text": [
      "70\n"
     ]
    },
    {
     "name": "stderr",
     "output_type": "stream",
     "text": [
      "100%|██████████| 1000/1000 [00:00<00:00, 2933.71it/s]\n",
      " 31%|███       | 311/1000 [00:00<00:00, 3107.85it/s]"
     ]
    },
    {
     "name": "stdout",
     "output_type": "stream",
     "text": [
      "71\n"
     ]
    },
    {
     "name": "stderr",
     "output_type": "stream",
     "text": [
      "100%|██████████| 1000/1000 [00:00<00:00, 3003.82it/s]\n",
      " 28%|██▊       | 281/1000 [00:00<00:00, 2806.58it/s]"
     ]
    },
    {
     "name": "stdout",
     "output_type": "stream",
     "text": [
      "72\n"
     ]
    },
    {
     "name": "stderr",
     "output_type": "stream",
     "text": [
      "100%|██████████| 1000/1000 [00:00<00:00, 2856.93it/s]\n",
      " 31%|███       | 309/1000 [00:00<00:00, 3086.76it/s]"
     ]
    },
    {
     "name": "stdout",
     "output_type": "stream",
     "text": [
      "73\n"
     ]
    },
    {
     "name": "stderr",
     "output_type": "stream",
     "text": [
      "100%|██████████| 1000/1000 [00:00<00:00, 3138.57it/s]\n",
      " 31%|███       | 307/1000 [00:00<00:00, 3062.87it/s]"
     ]
    },
    {
     "name": "stdout",
     "output_type": "stream",
     "text": [
      "74\n"
     ]
    },
    {
     "name": "stderr",
     "output_type": "stream",
     "text": [
      "100%|██████████| 1000/1000 [00:00<00:00, 2931.51it/s]\n",
      " 30%|██▉       | 296/1000 [00:00<00:00, 2956.20it/s]"
     ]
    },
    {
     "name": "stdout",
     "output_type": "stream",
     "text": [
      "75\n"
     ]
    },
    {
     "name": "stderr",
     "output_type": "stream",
     "text": [
      "100%|██████████| 1000/1000 [00:00<00:00, 3087.39it/s]\n",
      " 29%|██▉       | 291/1000 [00:00<00:00, 2905.87it/s]"
     ]
    },
    {
     "name": "stdout",
     "output_type": "stream",
     "text": [
      "76\n"
     ]
    },
    {
     "name": "stderr",
     "output_type": "stream",
     "text": [
      "100%|██████████| 1000/1000 [00:00<00:00, 2988.16it/s]\n",
      " 26%|██▌       | 258/1000 [00:00<00:00, 2578.07it/s]"
     ]
    },
    {
     "name": "stdout",
     "output_type": "stream",
     "text": [
      "77\n"
     ]
    },
    {
     "name": "stderr",
     "output_type": "stream",
     "text": [
      "100%|██████████| 1000/1000 [00:00<00:00, 2861.18it/s]\n",
      " 30%|███       | 300/1000 [00:00<00:00, 2998.86it/s]"
     ]
    },
    {
     "name": "stdout",
     "output_type": "stream",
     "text": [
      "78\n"
     ]
    },
    {
     "name": "stderr",
     "output_type": "stream",
     "text": [
      "100%|██████████| 1000/1000 [00:00<00:00, 3146.81it/s]\n",
      " 30%|███       | 303/1000 [00:00<00:00, 3029.32it/s]"
     ]
    },
    {
     "name": "stdout",
     "output_type": "stream",
     "text": [
      "79\n"
     ]
    },
    {
     "name": "stderr",
     "output_type": "stream",
     "text": [
      "100%|██████████| 1000/1000 [00:00<00:00, 2928.16it/s]\n",
      " 33%|███▎      | 327/1000 [00:00<00:00, 3265.50it/s]"
     ]
    },
    {
     "name": "stdout",
     "output_type": "stream",
     "text": [
      "80\n"
     ]
    },
    {
     "name": "stderr",
     "output_type": "stream",
     "text": [
      "100%|██████████| 1000/1000 [00:00<00:00, 3216.03it/s]\n",
      " 27%|██▋       | 272/1000 [00:00<00:00, 2710.43it/s]"
     ]
    },
    {
     "name": "stdout",
     "output_type": "stream",
     "text": [
      "81\n"
     ]
    },
    {
     "name": "stderr",
     "output_type": "stream",
     "text": [
      "100%|██████████| 1000/1000 [00:00<00:00, 2817.30it/s]\n",
      " 27%|██▋       | 274/1000 [00:00<00:00, 2735.35it/s]"
     ]
    },
    {
     "name": "stdout",
     "output_type": "stream",
     "text": [
      "82\n"
     ]
    },
    {
     "name": "stderr",
     "output_type": "stream",
     "text": [
      "100%|██████████| 1000/1000 [00:00<00:00, 2695.81it/s]\n",
      " 29%|██▉       | 294/1000 [00:00<00:00, 2937.68it/s]"
     ]
    },
    {
     "name": "stdout",
     "output_type": "stream",
     "text": [
      "83\n"
     ]
    },
    {
     "name": "stderr",
     "output_type": "stream",
     "text": [
      "100%|██████████| 1000/1000 [00:00<00:00, 2657.97it/s]\n",
      " 31%|███       | 308/1000 [00:00<00:00, 3071.27it/s]"
     ]
    },
    {
     "name": "stdout",
     "output_type": "stream",
     "text": [
      "84\n"
     ]
    },
    {
     "name": "stderr",
     "output_type": "stream",
     "text": [
      "100%|██████████| 1000/1000 [00:00<00:00, 2914.55it/s]\n",
      " 30%|███       | 302/1000 [00:00<00:00, 3013.94it/s]"
     ]
    },
    {
     "name": "stdout",
     "output_type": "stream",
     "text": [
      "85\n"
     ]
    },
    {
     "name": "stderr",
     "output_type": "stream",
     "text": [
      "100%|██████████| 1000/1000 [00:00<00:00, 2877.13it/s]\n",
      " 30%|██▉       | 298/1000 [00:00<00:00, 2978.02it/s]"
     ]
    },
    {
     "name": "stdout",
     "output_type": "stream",
     "text": [
      "86\n"
     ]
    },
    {
     "name": "stderr",
     "output_type": "stream",
     "text": [
      "100%|██████████| 1000/1000 [00:00<00:00, 3050.64it/s]\n",
      " 59%|█████▉    | 593/1000 [00:00<00:00, 3066.12it/s]"
     ]
    },
    {
     "name": "stdout",
     "output_type": "stream",
     "text": [
      "87\n"
     ]
    },
    {
     "name": "stderr",
     "output_type": "stream",
     "text": [
      "100%|██████████| 1000/1000 [00:00<00:00, 2993.36it/s]\n",
      " 31%|███       | 308/1000 [00:00<00:00, 3079.83it/s]"
     ]
    },
    {
     "name": "stdout",
     "output_type": "stream",
     "text": [
      "88\n"
     ]
    },
    {
     "name": "stderr",
     "output_type": "stream",
     "text": [
      "100%|██████████| 1000/1000 [00:00<00:00, 3033.08it/s]\n",
      " 30%|███       | 303/1000 [00:00<00:00, 3024.18it/s]"
     ]
    },
    {
     "name": "stdout",
     "output_type": "stream",
     "text": [
      "89\n"
     ]
    },
    {
     "name": "stderr",
     "output_type": "stream",
     "text": [
      "100%|██████████| 1000/1000 [00:00<00:00, 2924.63it/s]\n",
      " 27%|██▋       | 271/1000 [00:00<00:00, 2707.81it/s]"
     ]
    },
    {
     "name": "stdout",
     "output_type": "stream",
     "text": [
      "90\n"
     ]
    },
    {
     "name": "stderr",
     "output_type": "stream",
     "text": [
      "100%|██████████| 1000/1000 [00:00<00:00, 2922.55it/s]\n",
      " 29%|██▉       | 289/1000 [00:00<00:00, 2881.83it/s]"
     ]
    },
    {
     "name": "stdout",
     "output_type": "stream",
     "text": [
      "91\n"
     ]
    },
    {
     "name": "stderr",
     "output_type": "stream",
     "text": [
      "100%|██████████| 1000/1000 [00:00<00:00, 2798.47it/s]\n",
      " 29%|██▊       | 286/1000 [00:00<00:00, 2857.54it/s]"
     ]
    },
    {
     "name": "stdout",
     "output_type": "stream",
     "text": [
      "92\n"
     ]
    },
    {
     "name": "stderr",
     "output_type": "stream",
     "text": [
      "100%|██████████| 1000/1000 [00:00<00:00, 2697.12it/s]\n",
      " 24%|██▍       | 243/1000 [00:00<00:00, 2421.67it/s]"
     ]
    },
    {
     "name": "stdout",
     "output_type": "stream",
     "text": [
      "93\n"
     ]
    },
    {
     "name": "stderr",
     "output_type": "stream",
     "text": [
      "100%|██████████| 1000/1000 [00:00<00:00, 2395.57it/s]\n",
      " 28%|██▊       | 277/1000 [00:00<00:00, 2768.79it/s]"
     ]
    },
    {
     "name": "stdout",
     "output_type": "stream",
     "text": [
      "94\n"
     ]
    },
    {
     "name": "stderr",
     "output_type": "stream",
     "text": [
      "100%|██████████| 1000/1000 [00:00<00:00, 2766.53it/s]\n",
      " 31%|███       | 309/1000 [00:00<00:00, 3085.57it/s]"
     ]
    },
    {
     "name": "stdout",
     "output_type": "stream",
     "text": [
      "95\n"
     ]
    },
    {
     "name": "stderr",
     "output_type": "stream",
     "text": [
      "100%|██████████| 1000/1000 [00:00<00:00, 2906.27it/s]\n",
      " 30%|███       | 300/1000 [00:00<00:00, 2998.78it/s]"
     ]
    },
    {
     "name": "stdout",
     "output_type": "stream",
     "text": [
      "96\n"
     ]
    },
    {
     "name": "stderr",
     "output_type": "stream",
     "text": [
      "100%|██████████| 1000/1000 [00:00<00:00, 3029.30it/s]\n",
      " 31%|███       | 311/1000 [00:00<00:00, 3108.91it/s]"
     ]
    },
    {
     "name": "stdout",
     "output_type": "stream",
     "text": [
      "97\n"
     ]
    },
    {
     "name": "stderr",
     "output_type": "stream",
     "text": [
      "100%|██████████| 1000/1000 [00:00<00:00, 2914.06it/s]\n",
      " 31%|███▏      | 313/1000 [00:00<00:00, 3125.22it/s]"
     ]
    },
    {
     "name": "stdout",
     "output_type": "stream",
     "text": [
      "98\n"
     ]
    },
    {
     "name": "stderr",
     "output_type": "stream",
     "text": [
      "100%|██████████| 1000/1000 [00:00<00:00, 2975.95it/s]\n",
      " 31%|███▏      | 313/1000 [00:00<00:00, 3121.99it/s]"
     ]
    },
    {
     "name": "stdout",
     "output_type": "stream",
     "text": [
      "99\n"
     ]
    },
    {
     "name": "stderr",
     "output_type": "stream",
     "text": [
      "100%|██████████| 1000/1000 [00:00<00:00, 3056.06it/s]"
     ]
    },
    {
     "name": "stdout",
     "output_type": "stream",
     "text": [
      "CPU times: user 37.1 s, sys: 1.56 s, total: 38.6 s\n",
      "Wall time: 35.4 s\n"
     ]
    },
    {
     "name": "stderr",
     "output_type": "stream",
     "text": [
      "\n"
     ]
    }
   ],
   "source": [
    "%%time\n",
    "scores_random_search = sampled_score(random_search, X_test, y_test, samples)"
   ]
  },
  {
   "cell_type": "code",
   "execution_count": 74,
   "metadata": {
    "scrolled": true
   },
   "outputs": [
    {
     "name": "stderr",
     "output_type": "stream",
     "text": [
      "  6%|▋         | 65/1000 [00:00<00:01, 641.31it/s]"
     ]
    },
    {
     "name": "stdout",
     "output_type": "stream",
     "text": [
      "0\n"
     ]
    },
    {
     "name": "stderr",
     "output_type": "stream",
     "text": [
      "100%|██████████| 1000/1000 [00:01<00:00, 541.03it/s]\n",
      "  6%|▋         | 63/1000 [00:00<00:01, 623.61it/s]"
     ]
    },
    {
     "name": "stdout",
     "output_type": "stream",
     "text": [
      "1\n"
     ]
    },
    {
     "name": "stderr",
     "output_type": "stream",
     "text": [
      "100%|██████████| 1000/1000 [00:01<00:00, 534.44it/s]\n",
      "  5%|▍         | 48/1000 [00:00<00:02, 474.92it/s]"
     ]
    },
    {
     "name": "stdout",
     "output_type": "stream",
     "text": [
      "2\n"
     ]
    },
    {
     "name": "stderr",
     "output_type": "stream",
     "text": [
      "100%|██████████| 1000/1000 [00:01<00:00, 538.37it/s]\n",
      "  6%|▌         | 61/1000 [00:00<00:01, 606.73it/s]"
     ]
    },
    {
     "name": "stdout",
     "output_type": "stream",
     "text": [
      "3\n"
     ]
    },
    {
     "name": "stderr",
     "output_type": "stream",
     "text": [
      "100%|██████████| 1000/1000 [00:02<00:00, 447.02it/s]\n",
      "  3%|▎         | 32/1000 [00:00<00:03, 309.97it/s]"
     ]
    },
    {
     "name": "stdout",
     "output_type": "stream",
     "text": [
      "4\n"
     ]
    },
    {
     "name": "stderr",
     "output_type": "stream",
     "text": [
      "100%|██████████| 1000/1000 [00:01<00:00, 527.83it/s]\n",
      "  6%|▌         | 61/1000 [00:00<00:01, 603.01it/s]"
     ]
    },
    {
     "name": "stdout",
     "output_type": "stream",
     "text": [
      "5\n"
     ]
    },
    {
     "name": "stderr",
     "output_type": "stream",
     "text": [
      "100%|██████████| 1000/1000 [00:01<00:00, 534.97it/s]\n",
      "  6%|▌         | 57/1000 [00:00<00:01, 567.69it/s]"
     ]
    },
    {
     "name": "stdout",
     "output_type": "stream",
     "text": [
      "6\n"
     ]
    },
    {
     "name": "stderr",
     "output_type": "stream",
     "text": [
      "100%|██████████| 1000/1000 [00:01<00:00, 599.86it/s]\n",
      "  6%|▋         | 64/1000 [00:00<00:01, 634.98it/s]"
     ]
    },
    {
     "name": "stdout",
     "output_type": "stream",
     "text": [
      "7\n"
     ]
    },
    {
     "name": "stderr",
     "output_type": "stream",
     "text": [
      "100%|██████████| 1000/1000 [00:01<00:00, 622.45it/s]\n",
      "  6%|▋         | 63/1000 [00:00<00:01, 623.56it/s]"
     ]
    },
    {
     "name": "stdout",
     "output_type": "stream",
     "text": [
      "8\n"
     ]
    },
    {
     "name": "stderr",
     "output_type": "stream",
     "text": [
      "100%|██████████| 1000/1000 [00:01<00:00, 618.99it/s]\n",
      "  6%|▌         | 58/1000 [00:00<00:01, 570.83it/s]"
     ]
    },
    {
     "name": "stdout",
     "output_type": "stream",
     "text": [
      "9\n"
     ]
    },
    {
     "name": "stderr",
     "output_type": "stream",
     "text": [
      "100%|██████████| 1000/1000 [00:01<00:00, 604.47it/s]\n",
      "  6%|▌         | 61/1000 [00:00<00:01, 601.49it/s]"
     ]
    },
    {
     "name": "stdout",
     "output_type": "stream",
     "text": [
      "10\n"
     ]
    },
    {
     "name": "stderr",
     "output_type": "stream",
     "text": [
      "100%|██████████| 1000/1000 [00:01<00:00, 582.04it/s]\n",
      "  6%|▋         | 64/1000 [00:00<00:01, 634.72it/s]"
     ]
    },
    {
     "name": "stdout",
     "output_type": "stream",
     "text": [
      "11\n"
     ]
    },
    {
     "name": "stderr",
     "output_type": "stream",
     "text": [
      "100%|██████████| 1000/1000 [00:01<00:00, 614.73it/s]\n",
      "  6%|▌         | 57/1000 [00:00<00:01, 565.33it/s]"
     ]
    },
    {
     "name": "stdout",
     "output_type": "stream",
     "text": [
      "12\n"
     ]
    },
    {
     "name": "stderr",
     "output_type": "stream",
     "text": [
      "100%|██████████| 1000/1000 [00:01<00:00, 538.00it/s]\n",
      "  6%|▌         | 58/1000 [00:00<00:01, 573.74it/s]"
     ]
    },
    {
     "name": "stdout",
     "output_type": "stream",
     "text": [
      "13\n"
     ]
    },
    {
     "name": "stderr",
     "output_type": "stream",
     "text": [
      "100%|██████████| 1000/1000 [00:01<00:00, 592.76it/s]\n",
      "  6%|▌         | 60/1000 [00:00<00:01, 594.73it/s]"
     ]
    },
    {
     "name": "stdout",
     "output_type": "stream",
     "text": [
      "14\n"
     ]
    },
    {
     "name": "stderr",
     "output_type": "stream",
     "text": [
      "100%|██████████| 1000/1000 [00:01<00:00, 655.24it/s]\n",
      "  6%|▌         | 58/1000 [00:00<00:01, 577.46it/s]"
     ]
    },
    {
     "name": "stdout",
     "output_type": "stream",
     "text": [
      "15\n"
     ]
    },
    {
     "name": "stderr",
     "output_type": "stream",
     "text": [
      "100%|██████████| 1000/1000 [00:01<00:00, 649.54it/s]\n",
      "  7%|▋         | 66/1000 [00:00<00:01, 652.12it/s]"
     ]
    },
    {
     "name": "stdout",
     "output_type": "stream",
     "text": [
      "16\n"
     ]
    },
    {
     "name": "stderr",
     "output_type": "stream",
     "text": [
      "100%|██████████| 1000/1000 [00:01<00:00, 658.87it/s]\n",
      "  7%|▋         | 69/1000 [00:00<00:01, 680.31it/s]"
     ]
    },
    {
     "name": "stdout",
     "output_type": "stream",
     "text": [
      "17\n"
     ]
    },
    {
     "name": "stderr",
     "output_type": "stream",
     "text": [
      "100%|██████████| 1000/1000 [00:01<00:00, 658.53it/s]\n",
      "  7%|▋         | 74/1000 [00:00<00:01, 733.51it/s]"
     ]
    },
    {
     "name": "stdout",
     "output_type": "stream",
     "text": [
      "18\n"
     ]
    },
    {
     "name": "stderr",
     "output_type": "stream",
     "text": [
      "100%|██████████| 1000/1000 [00:01<00:00, 659.21it/s]\n",
      "  7%|▋         | 70/1000 [00:00<00:01, 688.57it/s]"
     ]
    },
    {
     "name": "stdout",
     "output_type": "stream",
     "text": [
      "19\n"
     ]
    },
    {
     "name": "stderr",
     "output_type": "stream",
     "text": [
      "100%|██████████| 1000/1000 [00:01<00:00, 662.80it/s]\n",
      "  7%|▋         | 71/1000 [00:00<00:01, 700.70it/s]"
     ]
    },
    {
     "name": "stdout",
     "output_type": "stream",
     "text": [
      "20\n"
     ]
    },
    {
     "name": "stderr",
     "output_type": "stream",
     "text": [
      "100%|██████████| 1000/1000 [00:01<00:00, 658.76it/s]\n",
      "  7%|▋         | 68/1000 [00:00<00:01, 676.93it/s]"
     ]
    },
    {
     "name": "stdout",
     "output_type": "stream",
     "text": [
      "21\n"
     ]
    },
    {
     "name": "stderr",
     "output_type": "stream",
     "text": [
      "100%|██████████| 1000/1000 [00:01<00:00, 665.38it/s]\n",
      "  7%|▋         | 71/1000 [00:00<00:01, 704.23it/s]"
     ]
    },
    {
     "name": "stdout",
     "output_type": "stream",
     "text": [
      "22\n"
     ]
    },
    {
     "name": "stderr",
     "output_type": "stream",
     "text": [
      "100%|██████████| 1000/1000 [00:01<00:00, 657.86it/s]\n",
      "  6%|▌         | 61/1000 [00:00<00:01, 604.39it/s]"
     ]
    },
    {
     "name": "stdout",
     "output_type": "stream",
     "text": [
      "23\n"
     ]
    },
    {
     "name": "stderr",
     "output_type": "stream",
     "text": [
      "100%|██████████| 1000/1000 [00:01<00:00, 642.56it/s]\n",
      "  7%|▋         | 70/1000 [00:00<00:01, 690.69it/s]"
     ]
    },
    {
     "name": "stdout",
     "output_type": "stream",
     "text": [
      "24\n"
     ]
    },
    {
     "name": "stderr",
     "output_type": "stream",
     "text": [
      "100%|██████████| 1000/1000 [00:01<00:00, 648.88it/s]\n",
      "  7%|▋         | 67/1000 [00:00<00:01, 664.24it/s]"
     ]
    },
    {
     "name": "stdout",
     "output_type": "stream",
     "text": [
      "25\n"
     ]
    },
    {
     "name": "stderr",
     "output_type": "stream",
     "text": [
      "100%|██████████| 1000/1000 [00:01<00:00, 648.09it/s]\n",
      "  7%|▋         | 69/1000 [00:00<00:01, 682.23it/s]"
     ]
    },
    {
     "name": "stdout",
     "output_type": "stream",
     "text": [
      "26\n"
     ]
    },
    {
     "name": "stderr",
     "output_type": "stream",
     "text": [
      "100%|██████████| 1000/1000 [00:01<00:00, 651.25it/s]\n",
      "  7%|▋         | 69/1000 [00:00<00:01, 681.41it/s]"
     ]
    },
    {
     "name": "stdout",
     "output_type": "stream",
     "text": [
      "27\n"
     ]
    },
    {
     "name": "stderr",
     "output_type": "stream",
     "text": [
      "100%|██████████| 1000/1000 [00:01<00:00, 640.46it/s]\n",
      "  7%|▋         | 69/1000 [00:00<00:01, 682.42it/s]"
     ]
    },
    {
     "name": "stdout",
     "output_type": "stream",
     "text": [
      "28\n"
     ]
    },
    {
     "name": "stderr",
     "output_type": "stream",
     "text": [
      "100%|██████████| 1000/1000 [00:01<00:00, 658.99it/s]\n",
      "  6%|▌         | 55/1000 [00:00<00:01, 540.59it/s]"
     ]
    },
    {
     "name": "stdout",
     "output_type": "stream",
     "text": [
      "29\n"
     ]
    },
    {
     "name": "stderr",
     "output_type": "stream",
     "text": [
      "100%|██████████| 1000/1000 [00:01<00:00, 653.51it/s]\n",
      "  6%|▋         | 65/1000 [00:00<00:01, 641.92it/s]"
     ]
    },
    {
     "name": "stdout",
     "output_type": "stream",
     "text": [
      "30\n"
     ]
    },
    {
     "name": "stderr",
     "output_type": "stream",
     "text": [
      "100%|██████████| 1000/1000 [00:01<00:00, 650.81it/s]\n",
      "  7%|▋         | 69/1000 [00:00<00:01, 689.23it/s]"
     ]
    },
    {
     "name": "stdout",
     "output_type": "stream",
     "text": [
      "31\n"
     ]
    },
    {
     "name": "stderr",
     "output_type": "stream",
     "text": [
      "100%|██████████| 1000/1000 [00:01<00:00, 655.40it/s]\n",
      "  7%|▋         | 67/1000 [00:00<00:01, 661.86it/s]"
     ]
    },
    {
     "name": "stdout",
     "output_type": "stream",
     "text": [
      "32\n"
     ]
    },
    {
     "name": "stderr",
     "output_type": "stream",
     "text": [
      "100%|██████████| 1000/1000 [00:01<00:00, 607.61it/s]\n",
      "  7%|▋         | 70/1000 [00:00<00:01, 696.90it/s]"
     ]
    },
    {
     "name": "stdout",
     "output_type": "stream",
     "text": [
      "33\n"
     ]
    },
    {
     "name": "stderr",
     "output_type": "stream",
     "text": [
      "100%|██████████| 1000/1000 [00:01<00:00, 651.01it/s]\n",
      "  6%|▌         | 62/1000 [00:00<00:01, 617.50it/s]"
     ]
    },
    {
     "name": "stdout",
     "output_type": "stream",
     "text": [
      "34\n"
     ]
    },
    {
     "name": "stderr",
     "output_type": "stream",
     "text": [
      "100%|██████████| 1000/1000 [00:01<00:00, 637.97it/s]\n",
      "  7%|▋         | 67/1000 [00:00<00:01, 664.64it/s]"
     ]
    },
    {
     "name": "stdout",
     "output_type": "stream",
     "text": [
      "35\n"
     ]
    },
    {
     "name": "stderr",
     "output_type": "stream",
     "text": [
      "100%|██████████| 1000/1000 [00:01<00:00, 642.18it/s]\n",
      "  6%|▋         | 64/1000 [00:00<00:01, 639.52it/s]"
     ]
    },
    {
     "name": "stdout",
     "output_type": "stream",
     "text": [
      "36\n"
     ]
    },
    {
     "name": "stderr",
     "output_type": "stream",
     "text": [
      "100%|██████████| 1000/1000 [00:01<00:00, 643.57it/s]\n",
      "  6%|▌         | 62/1000 [00:00<00:01, 614.27it/s]"
     ]
    },
    {
     "name": "stdout",
     "output_type": "stream",
     "text": [
      "37\n"
     ]
    },
    {
     "name": "stderr",
     "output_type": "stream",
     "text": [
      "100%|██████████| 1000/1000 [00:01<00:00, 652.04it/s]\n",
      "  7%|▋         | 68/1000 [00:00<00:01, 676.68it/s]"
     ]
    },
    {
     "name": "stdout",
     "output_type": "stream",
     "text": [
      "38\n"
     ]
    },
    {
     "name": "stderr",
     "output_type": "stream",
     "text": [
      "100%|██████████| 1000/1000 [00:01<00:00, 654.65it/s]\n",
      "  7%|▋         | 67/1000 [00:00<00:01, 665.17it/s]"
     ]
    },
    {
     "name": "stdout",
     "output_type": "stream",
     "text": [
      "39\n"
     ]
    },
    {
     "name": "stderr",
     "output_type": "stream",
     "text": [
      "100%|██████████| 1000/1000 [00:01<00:00, 670.90it/s]\n",
      "  7%|▋         | 66/1000 [00:00<00:01, 655.68it/s]"
     ]
    },
    {
     "name": "stdout",
     "output_type": "stream",
     "text": [
      "40\n"
     ]
    },
    {
     "name": "stderr",
     "output_type": "stream",
     "text": [
      "100%|██████████| 1000/1000 [00:01<00:00, 642.25it/s]\n",
      "  7%|▋         | 67/1000 [00:00<00:01, 664.93it/s]"
     ]
    },
    {
     "name": "stdout",
     "output_type": "stream",
     "text": [
      "41\n"
     ]
    },
    {
     "name": "stderr",
     "output_type": "stream",
     "text": [
      "100%|██████████| 1000/1000 [00:01<00:00, 659.79it/s]\n",
      "  7%|▋         | 67/1000 [00:00<00:01, 668.83it/s]"
     ]
    },
    {
     "name": "stdout",
     "output_type": "stream",
     "text": [
      "42\n"
     ]
    },
    {
     "name": "stderr",
     "output_type": "stream",
     "text": [
      "100%|██████████| 1000/1000 [00:01<00:00, 665.78it/s]\n",
      "  7%|▋         | 67/1000 [00:00<00:01, 662.99it/s]"
     ]
    },
    {
     "name": "stdout",
     "output_type": "stream",
     "text": [
      "43\n"
     ]
    },
    {
     "name": "stderr",
     "output_type": "stream",
     "text": [
      "100%|██████████| 1000/1000 [00:01<00:00, 599.19it/s]\n",
      "  7%|▋         | 66/1000 [00:00<00:01, 656.10it/s]"
     ]
    },
    {
     "name": "stdout",
     "output_type": "stream",
     "text": [
      "44\n"
     ]
    },
    {
     "name": "stderr",
     "output_type": "stream",
     "text": [
      "100%|██████████| 1000/1000 [00:01<00:00, 621.12it/s]\n",
      "  7%|▋         | 71/1000 [00:00<00:01, 705.39it/s]"
     ]
    },
    {
     "name": "stdout",
     "output_type": "stream",
     "text": [
      "45\n"
     ]
    },
    {
     "name": "stderr",
     "output_type": "stream",
     "text": [
      "100%|██████████| 1000/1000 [00:01<00:00, 653.01it/s]\n",
      "  7%|▋         | 66/1000 [00:00<00:01, 657.21it/s]"
     ]
    },
    {
     "name": "stdout",
     "output_type": "stream",
     "text": [
      "46\n"
     ]
    },
    {
     "name": "stderr",
     "output_type": "stream",
     "text": [
      "100%|██████████| 1000/1000 [00:01<00:00, 653.67it/s]\n",
      "  7%|▋         | 71/1000 [00:00<00:01, 706.16it/s]"
     ]
    },
    {
     "name": "stdout",
     "output_type": "stream",
     "text": [
      "47\n"
     ]
    },
    {
     "name": "stderr",
     "output_type": "stream",
     "text": [
      "100%|██████████| 1000/1000 [00:01<00:00, 653.00it/s]\n",
      "  7%|▋         | 70/1000 [00:00<00:01, 698.95it/s]"
     ]
    },
    {
     "name": "stdout",
     "output_type": "stream",
     "text": [
      "48\n"
     ]
    },
    {
     "name": "stderr",
     "output_type": "stream",
     "text": [
      "100%|██████████| 1000/1000 [00:01<00:00, 663.46it/s]\n",
      "  6%|▌         | 61/1000 [00:00<00:01, 606.33it/s]"
     ]
    },
    {
     "name": "stdout",
     "output_type": "stream",
     "text": [
      "49\n"
     ]
    },
    {
     "name": "stderr",
     "output_type": "stream",
     "text": [
      "100%|██████████| 1000/1000 [00:01<00:00, 648.95it/s]\n",
      "  7%|▋         | 69/1000 [00:00<00:01, 680.92it/s]"
     ]
    },
    {
     "name": "stdout",
     "output_type": "stream",
     "text": [
      "50\n"
     ]
    },
    {
     "name": "stderr",
     "output_type": "stream",
     "text": [
      "100%|██████████| 1000/1000 [00:01<00:00, 667.17it/s]\n",
      "  6%|▋         | 63/1000 [00:00<00:01, 624.67it/s]"
     ]
    },
    {
     "name": "stdout",
     "output_type": "stream",
     "text": [
      "51\n"
     ]
    },
    {
     "name": "stderr",
     "output_type": "stream",
     "text": [
      "100%|██████████| 1000/1000 [00:01<00:00, 641.65it/s]\n",
      "  6%|▋         | 65/1000 [00:00<00:01, 648.83it/s]"
     ]
    },
    {
     "name": "stdout",
     "output_type": "stream",
     "text": [
      "52\n"
     ]
    },
    {
     "name": "stderr",
     "output_type": "stream",
     "text": [
      "100%|██████████| 1000/1000 [00:01<00:00, 628.49it/s]\n",
      "  6%|▋         | 63/1000 [00:00<00:01, 623.55it/s]"
     ]
    },
    {
     "name": "stdout",
     "output_type": "stream",
     "text": [
      "53\n"
     ]
    },
    {
     "name": "stderr",
     "output_type": "stream",
     "text": [
      "100%|██████████| 1000/1000 [00:01<00:00, 642.89it/s]\n",
      "  7%|▋         | 67/1000 [00:00<00:01, 662.95it/s]"
     ]
    },
    {
     "name": "stdout",
     "output_type": "stream",
     "text": [
      "54\n"
     ]
    },
    {
     "name": "stderr",
     "output_type": "stream",
     "text": [
      "100%|██████████| 1000/1000 [00:01<00:00, 667.44it/s]\n",
      "  7%|▋         | 68/1000 [00:00<00:01, 679.13it/s]"
     ]
    },
    {
     "name": "stdout",
     "output_type": "stream",
     "text": [
      "55\n"
     ]
    },
    {
     "name": "stderr",
     "output_type": "stream",
     "text": [
      "100%|██████████| 1000/1000 [00:01<00:00, 644.91it/s]\n",
      "  6%|▌         | 57/1000 [00:00<00:01, 562.64it/s]"
     ]
    },
    {
     "name": "stdout",
     "output_type": "stream",
     "text": [
      "56\n"
     ]
    },
    {
     "name": "stderr",
     "output_type": "stream",
     "text": [
      "100%|██████████| 1000/1000 [00:01<00:00, 608.34it/s]\n",
      "  6%|▋         | 64/1000 [00:00<00:01, 633.03it/s]"
     ]
    },
    {
     "name": "stdout",
     "output_type": "stream",
     "text": [
      "57\n"
     ]
    },
    {
     "name": "stderr",
     "output_type": "stream",
     "text": [
      "100%|██████████| 1000/1000 [00:01<00:00, 636.58it/s]\n",
      "  6%|▋         | 63/1000 [00:00<00:01, 627.43it/s]"
     ]
    },
    {
     "name": "stdout",
     "output_type": "stream",
     "text": [
      "58\n"
     ]
    },
    {
     "name": "stderr",
     "output_type": "stream",
     "text": [
      "100%|██████████| 1000/1000 [00:01<00:00, 659.06it/s]\n",
      "  7%|▋         | 67/1000 [00:00<00:01, 661.72it/s]"
     ]
    },
    {
     "name": "stdout",
     "output_type": "stream",
     "text": [
      "59\n"
     ]
    },
    {
     "name": "stderr",
     "output_type": "stream",
     "text": [
      "100%|██████████| 1000/1000 [00:01<00:00, 677.25it/s]\n",
      "  7%|▋         | 70/1000 [00:00<00:01, 691.81it/s]"
     ]
    },
    {
     "name": "stdout",
     "output_type": "stream",
     "text": [
      "60\n"
     ]
    },
    {
     "name": "stderr",
     "output_type": "stream",
     "text": [
      "100%|██████████| 1000/1000 [00:01<00:00, 672.50it/s]\n",
      "  6%|▋         | 65/1000 [00:00<00:01, 644.73it/s]"
     ]
    },
    {
     "name": "stdout",
     "output_type": "stream",
     "text": [
      "61\n"
     ]
    },
    {
     "name": "stderr",
     "output_type": "stream",
     "text": [
      "100%|██████████| 1000/1000 [00:01<00:00, 653.38it/s]\n",
      "  7%|▋         | 70/1000 [00:00<00:01, 690.52it/s]"
     ]
    },
    {
     "name": "stdout",
     "output_type": "stream",
     "text": [
      "62\n"
     ]
    },
    {
     "name": "stderr",
     "output_type": "stream",
     "text": [
      "100%|██████████| 1000/1000 [00:01<00:00, 653.60it/s]\n",
      "  6%|▌         | 59/1000 [00:00<00:01, 582.31it/s]"
     ]
    },
    {
     "name": "stdout",
     "output_type": "stream",
     "text": [
      "63\n"
     ]
    },
    {
     "name": "stderr",
     "output_type": "stream",
     "text": [
      "100%|██████████| 1000/1000 [00:01<00:00, 634.74it/s]\n",
      "  6%|▋         | 65/1000 [00:00<00:01, 648.97it/s]"
     ]
    },
    {
     "name": "stdout",
     "output_type": "stream",
     "text": [
      "64\n"
     ]
    },
    {
     "name": "stderr",
     "output_type": "stream",
     "text": [
      "100%|██████████| 1000/1000 [00:01<00:00, 640.53it/s]\n",
      "  6%|▋         | 63/1000 [00:00<00:01, 629.02it/s]"
     ]
    },
    {
     "name": "stdout",
     "output_type": "stream",
     "text": [
      "65\n"
     ]
    },
    {
     "name": "stderr",
     "output_type": "stream",
     "text": [
      "100%|██████████| 1000/1000 [00:01<00:00, 660.37it/s]\n",
      "  7%|▋         | 67/1000 [00:00<00:01, 663.80it/s]"
     ]
    },
    {
     "name": "stdout",
     "output_type": "stream",
     "text": [
      "66\n"
     ]
    },
    {
     "name": "stderr",
     "output_type": "stream",
     "text": [
      "100%|██████████| 1000/1000 [00:01<00:00, 643.56it/s]\n",
      "  6%|▋         | 65/1000 [00:00<00:01, 640.23it/s]"
     ]
    },
    {
     "name": "stdout",
     "output_type": "stream",
     "text": [
      "67\n"
     ]
    },
    {
     "name": "stderr",
     "output_type": "stream",
     "text": [
      "100%|██████████| 1000/1000 [00:01<00:00, 664.79it/s]\n",
      "  6%|▌         | 61/1000 [00:00<00:01, 606.91it/s]"
     ]
    },
    {
     "name": "stdout",
     "output_type": "stream",
     "text": [
      "68\n"
     ]
    },
    {
     "name": "stderr",
     "output_type": "stream",
     "text": [
      "100%|██████████| 1000/1000 [00:01<00:00, 647.54it/s]\n",
      "  7%|▋         | 67/1000 [00:00<00:01, 660.20it/s]"
     ]
    },
    {
     "name": "stdout",
     "output_type": "stream",
     "text": [
      "69\n"
     ]
    },
    {
     "name": "stderr",
     "output_type": "stream",
     "text": [
      "100%|██████████| 1000/1000 [00:01<00:00, 640.34it/s]\n",
      "  7%|▋         | 70/1000 [00:00<00:01, 691.43it/s]"
     ]
    },
    {
     "name": "stdout",
     "output_type": "stream",
     "text": [
      "70\n"
     ]
    },
    {
     "name": "stderr",
     "output_type": "stream",
     "text": [
      "100%|██████████| 1000/1000 [00:01<00:00, 666.04it/s]\n",
      "  6%|▌         | 57/1000 [00:00<00:01, 565.03it/s]"
     ]
    },
    {
     "name": "stdout",
     "output_type": "stream",
     "text": [
      "71\n"
     ]
    },
    {
     "name": "stderr",
     "output_type": "stream",
     "text": [
      "100%|██████████| 1000/1000 [00:01<00:00, 648.76it/s]\n",
      "  7%|▋         | 66/1000 [00:00<00:01, 659.01it/s]"
     ]
    },
    {
     "name": "stdout",
     "output_type": "stream",
     "text": [
      "72\n"
     ]
    },
    {
     "name": "stderr",
     "output_type": "stream",
     "text": [
      "100%|██████████| 1000/1000 [00:01<00:00, 667.49it/s]\n",
      "  6%|▌         | 59/1000 [00:00<00:01, 589.26it/s]"
     ]
    },
    {
     "name": "stdout",
     "output_type": "stream",
     "text": [
      "73\n"
     ]
    },
    {
     "name": "stderr",
     "output_type": "stream",
     "text": [
      "100%|██████████| 1000/1000 [00:01<00:00, 648.99it/s]\n",
      "  7%|▋         | 68/1000 [00:00<00:01, 668.77it/s]"
     ]
    },
    {
     "name": "stdout",
     "output_type": "stream",
     "text": [
      "74\n"
     ]
    },
    {
     "name": "stderr",
     "output_type": "stream",
     "text": [
      "100%|██████████| 1000/1000 [00:01<00:00, 643.78it/s]\n",
      "  7%|▋         | 69/1000 [00:00<00:01, 686.37it/s]"
     ]
    },
    {
     "name": "stdout",
     "output_type": "stream",
     "text": [
      "75\n"
     ]
    },
    {
     "name": "stderr",
     "output_type": "stream",
     "text": [
      "100%|██████████| 1000/1000 [00:01<00:00, 658.58it/s]\n",
      "  6%|▋         | 64/1000 [00:00<00:01, 634.53it/s]"
     ]
    },
    {
     "name": "stdout",
     "output_type": "stream",
     "text": [
      "76\n"
     ]
    },
    {
     "name": "stderr",
     "output_type": "stream",
     "text": [
      "100%|██████████| 1000/1000 [00:01<00:00, 652.69it/s]\n",
      "  7%|▋         | 72/1000 [00:00<00:01, 714.58it/s]"
     ]
    },
    {
     "name": "stdout",
     "output_type": "stream",
     "text": [
      "77\n"
     ]
    },
    {
     "name": "stderr",
     "output_type": "stream",
     "text": [
      "100%|██████████| 1000/1000 [00:01<00:00, 649.00it/s]\n",
      "  7%|▋         | 66/1000 [00:00<00:01, 654.43it/s]"
     ]
    },
    {
     "name": "stdout",
     "output_type": "stream",
     "text": [
      "78\n"
     ]
    },
    {
     "name": "stderr",
     "output_type": "stream",
     "text": [
      "100%|██████████| 1000/1000 [00:01<00:00, 652.78it/s]\n",
      "  6%|▌         | 59/1000 [00:00<00:01, 589.94it/s]"
     ]
    },
    {
     "name": "stdout",
     "output_type": "stream",
     "text": [
      "79\n"
     ]
    },
    {
     "name": "stderr",
     "output_type": "stream",
     "text": [
      "100%|██████████| 1000/1000 [00:01<00:00, 638.58it/s]\n",
      "  6%|▌         | 61/1000 [00:00<00:01, 609.14it/s]"
     ]
    },
    {
     "name": "stdout",
     "output_type": "stream",
     "text": [
      "80\n"
     ]
    },
    {
     "name": "stderr",
     "output_type": "stream",
     "text": [
      "100%|██████████| 1000/1000 [00:01<00:00, 661.28it/s]\n",
      "  6%|▌         | 62/1000 [00:00<00:01, 614.50it/s]"
     ]
    },
    {
     "name": "stdout",
     "output_type": "stream",
     "text": [
      "81\n"
     ]
    },
    {
     "name": "stderr",
     "output_type": "stream",
     "text": [
      "100%|██████████| 1000/1000 [00:01<00:00, 664.68it/s]\n",
      "  7%|▋         | 71/1000 [00:00<00:01, 705.60it/s]"
     ]
    },
    {
     "name": "stdout",
     "output_type": "stream",
     "text": [
      "82\n"
     ]
    },
    {
     "name": "stderr",
     "output_type": "stream",
     "text": [
      "100%|██████████| 1000/1000 [00:01<00:00, 595.78it/s]\n",
      "  6%|▌         | 61/1000 [00:00<00:01, 602.89it/s]"
     ]
    },
    {
     "name": "stdout",
     "output_type": "stream",
     "text": [
      "83\n"
     ]
    },
    {
     "name": "stderr",
     "output_type": "stream",
     "text": [
      "100%|██████████| 1000/1000 [00:01<00:00, 656.52it/s]\n",
      "  6%|▋         | 63/1000 [00:00<00:01, 621.70it/s]"
     ]
    },
    {
     "name": "stdout",
     "output_type": "stream",
     "text": [
      "84\n"
     ]
    },
    {
     "name": "stderr",
     "output_type": "stream",
     "text": [
      "100%|██████████| 1000/1000 [00:01<00:00, 574.13it/s]\n",
      "  5%|▍         | 46/1000 [00:00<00:02, 459.72it/s]"
     ]
    },
    {
     "name": "stdout",
     "output_type": "stream",
     "text": [
      "85\n"
     ]
    },
    {
     "name": "stderr",
     "output_type": "stream",
     "text": [
      "100%|██████████| 1000/1000 [00:01<00:00, 519.88it/s]\n",
      "  6%|▋         | 63/1000 [00:00<00:01, 625.58it/s]"
     ]
    },
    {
     "name": "stdout",
     "output_type": "stream",
     "text": [
      "86\n"
     ]
    },
    {
     "name": "stderr",
     "output_type": "stream",
     "text": [
      "100%|██████████| 1000/1000 [00:01<00:00, 641.90it/s]\n",
      "  6%|▋         | 63/1000 [00:00<00:01, 621.85it/s]"
     ]
    },
    {
     "name": "stdout",
     "output_type": "stream",
     "text": [
      "87\n"
     ]
    },
    {
     "name": "stderr",
     "output_type": "stream",
     "text": [
      "100%|██████████| 1000/1000 [00:01<00:00, 669.46it/s]\n",
      "  6%|▋         | 63/1000 [00:00<00:01, 625.47it/s]"
     ]
    },
    {
     "name": "stdout",
     "output_type": "stream",
     "text": [
      "88\n"
     ]
    },
    {
     "name": "stderr",
     "output_type": "stream",
     "text": [
      "100%|██████████| 1000/1000 [00:01<00:00, 654.00it/s]\n",
      "  7%|▋         | 67/1000 [00:00<00:01, 661.27it/s]"
     ]
    },
    {
     "name": "stdout",
     "output_type": "stream",
     "text": [
      "89\n"
     ]
    },
    {
     "name": "stderr",
     "output_type": "stream",
     "text": [
      "100%|██████████| 1000/1000 [00:01<00:00, 644.08it/s]\n",
      "  7%|▋         | 67/1000 [00:00<00:01, 668.88it/s]"
     ]
    },
    {
     "name": "stdout",
     "output_type": "stream",
     "text": [
      "90\n"
     ]
    },
    {
     "name": "stderr",
     "output_type": "stream",
     "text": [
      "100%|██████████| 1000/1000 [00:01<00:00, 656.63it/s]\n",
      "  7%|▋         | 69/1000 [00:00<00:01, 683.43it/s]"
     ]
    },
    {
     "name": "stdout",
     "output_type": "stream",
     "text": [
      "91\n"
     ]
    },
    {
     "name": "stderr",
     "output_type": "stream",
     "text": [
      "100%|██████████| 1000/1000 [00:01<00:00, 670.11it/s]\n",
      "  6%|▋         | 63/1000 [00:00<00:01, 619.87it/s]"
     ]
    },
    {
     "name": "stdout",
     "output_type": "stream",
     "text": [
      "92\n"
     ]
    },
    {
     "name": "stderr",
     "output_type": "stream",
     "text": [
      "100%|██████████| 1000/1000 [00:01<00:00, 667.71it/s]\n",
      "  6%|▌         | 62/1000 [00:00<00:01, 616.68it/s]"
     ]
    },
    {
     "name": "stdout",
     "output_type": "stream",
     "text": [
      "93\n"
     ]
    },
    {
     "name": "stderr",
     "output_type": "stream",
     "text": [
      "100%|██████████| 1000/1000 [00:01<00:00, 661.36it/s]\n",
      "  6%|▋         | 65/1000 [00:00<00:01, 641.41it/s]"
     ]
    },
    {
     "name": "stdout",
     "output_type": "stream",
     "text": [
      "94\n"
     ]
    },
    {
     "name": "stderr",
     "output_type": "stream",
     "text": [
      "100%|██████████| 1000/1000 [00:01<00:00, 645.08it/s]\n",
      "  5%|▌         | 52/1000 [00:00<00:01, 513.03it/s]"
     ]
    },
    {
     "name": "stdout",
     "output_type": "stream",
     "text": [
      "95\n"
     ]
    },
    {
     "name": "stderr",
     "output_type": "stream",
     "text": [
      "100%|██████████| 1000/1000 [00:01<00:00, 604.94it/s]\n",
      "  7%|▋         | 71/1000 [00:00<00:01, 707.00it/s]"
     ]
    },
    {
     "name": "stdout",
     "output_type": "stream",
     "text": [
      "96\n"
     ]
    },
    {
     "name": "stderr",
     "output_type": "stream",
     "text": [
      "100%|██████████| 1000/1000 [00:01<00:00, 639.78it/s]\n",
      "  6%|▌         | 59/1000 [00:00<00:01, 589.31it/s]"
     ]
    },
    {
     "name": "stdout",
     "output_type": "stream",
     "text": [
      "97\n"
     ]
    },
    {
     "name": "stderr",
     "output_type": "stream",
     "text": [
      "100%|██████████| 1000/1000 [00:01<00:00, 669.31it/s]\n",
      "  7%|▋         | 70/1000 [00:00<00:01, 694.82it/s]"
     ]
    },
    {
     "name": "stdout",
     "output_type": "stream",
     "text": [
      "98\n"
     ]
    },
    {
     "name": "stderr",
     "output_type": "stream",
     "text": [
      "100%|██████████| 1000/1000 [00:01<00:00, 622.19it/s]\n",
      "  7%|▋         | 66/1000 [00:00<00:01, 656.83it/s]"
     ]
    },
    {
     "name": "stdout",
     "output_type": "stream",
     "text": [
      "99\n"
     ]
    },
    {
     "name": "stderr",
     "output_type": "stream",
     "text": [
      "100%|██████████| 1000/1000 [00:01<00:00, 638.77it/s]"
     ]
    },
    {
     "name": "stdout",
     "output_type": "stream",
     "text": [
      "CPU times: user 2min 40s, sys: 1.65 s, total: 2min 41s\n",
      "Wall time: 2min 38s\n"
     ]
    },
    {
     "name": "stderr",
     "output_type": "stream",
     "text": [
      "\n"
     ]
    }
   ],
   "source": [
    "%%time\n",
    "scores_weighted_random_search = sampled_score(weighted_random_search, X_test, y_test, samples)"
   ]
  },
  {
   "cell_type": "code",
   "execution_count": 75,
   "metadata": {
    "scrolled": true
   },
   "outputs": [
    {
     "name": "stderr",
     "output_type": "stream",
     "text": [
      "  1%|          | 12/1000 [00:00<00:08, 111.55it/s]"
     ]
    },
    {
     "name": "stdout",
     "output_type": "stream",
     "text": [
      "0\n"
     ]
    },
    {
     "name": "stderr",
     "output_type": "stream",
     "text": [
      "100%|██████████| 1000/1000 [00:08<00:00, 120.43it/s]\n",
      "  1%|▏         | 13/1000 [00:00<00:07, 126.51it/s]"
     ]
    },
    {
     "name": "stdout",
     "output_type": "stream",
     "text": [
      "1\n"
     ]
    },
    {
     "name": "stderr",
     "output_type": "stream",
     "text": [
      "100%|██████████| 1000/1000 [00:08<00:00, 122.78it/s]\n",
      "  2%|▏         | 16/1000 [00:00<00:06, 147.77it/s]"
     ]
    },
    {
     "name": "stdout",
     "output_type": "stream",
     "text": [
      "2\n"
     ]
    },
    {
     "name": "stderr",
     "output_type": "stream",
     "text": [
      "100%|██████████| 1000/1000 [00:08<00:00, 121.77it/s]\n",
      "  1%|▏         | 13/1000 [00:00<00:07, 127.33it/s]"
     ]
    },
    {
     "name": "stdout",
     "output_type": "stream",
     "text": [
      "3\n"
     ]
    },
    {
     "name": "stderr",
     "output_type": "stream",
     "text": [
      "100%|██████████| 1000/1000 [00:07<00:00, 125.77it/s]\n",
      "  2%|▏         | 15/1000 [00:00<00:07, 138.06it/s]"
     ]
    },
    {
     "name": "stdout",
     "output_type": "stream",
     "text": [
      "4\n"
     ]
    },
    {
     "name": "stderr",
     "output_type": "stream",
     "text": [
      "100%|██████████| 1000/1000 [00:07<00:00, 126.70it/s]\n",
      "  1%|▏         | 13/1000 [00:00<00:08, 122.03it/s]"
     ]
    },
    {
     "name": "stdout",
     "output_type": "stream",
     "text": [
      "5\n"
     ]
    },
    {
     "name": "stderr",
     "output_type": "stream",
     "text": [
      "100%|██████████| 1000/1000 [00:08<00:00, 120.05it/s]\n",
      "  1%|▏         | 13/1000 [00:00<00:07, 124.32it/s]"
     ]
    },
    {
     "name": "stdout",
     "output_type": "stream",
     "text": [
      "6\n"
     ]
    },
    {
     "name": "stderr",
     "output_type": "stream",
     "text": [
      "100%|██████████| 1000/1000 [00:08<00:00, 118.49it/s]\n",
      "  1%|          | 11/1000 [00:00<00:09, 105.43it/s]"
     ]
    },
    {
     "name": "stdout",
     "output_type": "stream",
     "text": [
      "7\n"
     ]
    },
    {
     "name": "stderr",
     "output_type": "stream",
     "text": [
      "100%|██████████| 1000/1000 [00:08<00:00, 116.73it/s]\n",
      "  1%|          | 11/1000 [00:00<00:09, 108.28it/s]"
     ]
    },
    {
     "name": "stdout",
     "output_type": "stream",
     "text": [
      "8\n"
     ]
    },
    {
     "name": "stderr",
     "output_type": "stream",
     "text": [
      "100%|██████████| 1000/1000 [00:07<00:00, 125.60it/s]\n",
      "  1%|▏         | 13/1000 [00:00<00:07, 124.95it/s]"
     ]
    },
    {
     "name": "stdout",
     "output_type": "stream",
     "text": [
      "9\n"
     ]
    },
    {
     "name": "stderr",
     "output_type": "stream",
     "text": [
      "100%|██████████| 1000/1000 [00:08<00:00, 111.40it/s]\n",
      "  1%|▏         | 13/1000 [00:00<00:08, 120.74it/s]"
     ]
    },
    {
     "name": "stdout",
     "output_type": "stream",
     "text": [
      "10\n"
     ]
    },
    {
     "name": "stderr",
     "output_type": "stream",
     "text": [
      "100%|██████████| 1000/1000 [00:08<00:00, 124.64it/s]\n",
      "  1%|          | 12/1000 [00:00<00:09, 108.96it/s]"
     ]
    },
    {
     "name": "stdout",
     "output_type": "stream",
     "text": [
      "11\n"
     ]
    },
    {
     "name": "stderr",
     "output_type": "stream",
     "text": [
      "100%|██████████| 1000/1000 [00:08<00:00, 120.87it/s]\n",
      "  1%|▏         | 13/1000 [00:00<00:07, 123.98it/s]"
     ]
    },
    {
     "name": "stdout",
     "output_type": "stream",
     "text": [
      "12\n"
     ]
    },
    {
     "name": "stderr",
     "output_type": "stream",
     "text": [
      "100%|██████████| 1000/1000 [00:08<00:00, 120.25it/s]\n",
      "  1%|▏         | 14/1000 [00:00<00:07, 131.21it/s]"
     ]
    },
    {
     "name": "stdout",
     "output_type": "stream",
     "text": [
      "13\n"
     ]
    },
    {
     "name": "stderr",
     "output_type": "stream",
     "text": [
      "100%|██████████| 1000/1000 [00:08<00:00, 124.74it/s]\n",
      "  1%|          | 11/1000 [00:00<00:09, 109.16it/s]"
     ]
    },
    {
     "name": "stdout",
     "output_type": "stream",
     "text": [
      "14\n"
     ]
    },
    {
     "name": "stderr",
     "output_type": "stream",
     "text": [
      "100%|██████████| 1000/1000 [00:08<00:00, 117.81it/s]\n",
      "  1%|▏         | 13/1000 [00:00<00:08, 115.65it/s]"
     ]
    },
    {
     "name": "stdout",
     "output_type": "stream",
     "text": [
      "15\n"
     ]
    },
    {
     "name": "stderr",
     "output_type": "stream",
     "text": [
      "100%|██████████| 1000/1000 [00:08<00:00, 118.47it/s]\n",
      "  1%|          | 8/1000 [00:00<00:12, 77.31it/s]"
     ]
    },
    {
     "name": "stdout",
     "output_type": "stream",
     "text": [
      "16\n"
     ]
    },
    {
     "name": "stderr",
     "output_type": "stream",
     "text": [
      "100%|██████████| 1000/1000 [00:11<00:00, 85.34it/s]\n",
      "  1%|          | 12/1000 [00:00<00:08, 113.62it/s]"
     ]
    },
    {
     "name": "stdout",
     "output_type": "stream",
     "text": [
      "17\n"
     ]
    },
    {
     "name": "stderr",
     "output_type": "stream",
     "text": [
      "100%|██████████| 1000/1000 [00:11<00:00, 83.43it/s]\n",
      "  1%|          | 10/1000 [00:00<00:09, 99.90it/s]"
     ]
    },
    {
     "name": "stdout",
     "output_type": "stream",
     "text": [
      "18\n"
     ]
    },
    {
     "name": "stderr",
     "output_type": "stream",
     "text": [
      "100%|██████████| 1000/1000 [00:11<00:00, 88.19it/s]\n",
      "  1%|          | 10/1000 [00:00<00:11, 86.03it/s]"
     ]
    },
    {
     "name": "stdout",
     "output_type": "stream",
     "text": [
      "19\n"
     ]
    },
    {
     "name": "stderr",
     "output_type": "stream",
     "text": [
      "100%|██████████| 1000/1000 [00:11<00:00, 85.79it/s]\n",
      "  1%|          | 8/1000 [00:00<00:12, 76.60it/s]"
     ]
    },
    {
     "name": "stdout",
     "output_type": "stream",
     "text": [
      "20\n"
     ]
    },
    {
     "name": "stderr",
     "output_type": "stream",
     "text": [
      "100%|██████████| 1000/1000 [00:12<00:00, 79.21it/s]\n",
      "  1%|          | 10/1000 [00:00<00:10, 91.06it/s]"
     ]
    },
    {
     "name": "stdout",
     "output_type": "stream",
     "text": [
      "21\n"
     ]
    },
    {
     "name": "stderr",
     "output_type": "stream",
     "text": [
      "100%|██████████| 1000/1000 [00:12<00:00, 80.94it/s]\n",
      "  1%|          | 8/1000 [00:00<00:13, 71.15it/s]"
     ]
    },
    {
     "name": "stdout",
     "output_type": "stream",
     "text": [
      "22\n"
     ]
    },
    {
     "name": "stderr",
     "output_type": "stream",
     "text": [
      "100%|██████████| 1000/1000 [00:12<00:00, 79.29it/s]\n",
      "  1%|          | 8/1000 [00:00<00:13, 73.92it/s]"
     ]
    },
    {
     "name": "stdout",
     "output_type": "stream",
     "text": [
      "23\n"
     ]
    },
    {
     "name": "stderr",
     "output_type": "stream",
     "text": [
      "100%|██████████| 1000/1000 [00:12<00:00, 82.60it/s]\n",
      "  1%|          | 8/1000 [00:00<00:13, 71.47it/s]"
     ]
    },
    {
     "name": "stdout",
     "output_type": "stream",
     "text": [
      "24\n"
     ]
    },
    {
     "name": "stderr",
     "output_type": "stream",
     "text": [
      "100%|██████████| 1000/1000 [00:12<00:00, 83.25it/s]\n",
      "  1%|          | 8/1000 [00:00<00:13, 74.83it/s]"
     ]
    },
    {
     "name": "stdout",
     "output_type": "stream",
     "text": [
      "25\n"
     ]
    },
    {
     "name": "stderr",
     "output_type": "stream",
     "text": [
      "100%|██████████| 1000/1000 [00:11<00:00, 90.57it/s]\n",
      "  1%|          | 10/1000 [00:00<00:11, 85.15it/s]"
     ]
    },
    {
     "name": "stdout",
     "output_type": "stream",
     "text": [
      "26\n"
     ]
    },
    {
     "name": "stderr",
     "output_type": "stream",
     "text": [
      "100%|██████████| 1000/1000 [00:11<00:00, 88.91it/s]\n",
      "  1%|          | 9/1000 [00:00<00:11, 89.34it/s]"
     ]
    },
    {
     "name": "stdout",
     "output_type": "stream",
     "text": [
      "27\n"
     ]
    },
    {
     "name": "stderr",
     "output_type": "stream",
     "text": [
      "100%|██████████| 1000/1000 [00:11<00:00, 87.68it/s]\n",
      "  1%|          | 11/1000 [00:00<00:09, 106.54it/s]"
     ]
    },
    {
     "name": "stdout",
     "output_type": "stream",
     "text": [
      "28\n"
     ]
    },
    {
     "name": "stderr",
     "output_type": "stream",
     "text": [
      "100%|██████████| 1000/1000 [00:11<00:00, 86.40it/s]\n",
      "  1%|          | 8/1000 [00:00<00:13, 73.20it/s]"
     ]
    },
    {
     "name": "stdout",
     "output_type": "stream",
     "text": [
      "29\n"
     ]
    },
    {
     "name": "stderr",
     "output_type": "stream",
     "text": [
      "100%|██████████| 1000/1000 [00:11<00:00, 86.62it/s]\n",
      "  1%|          | 10/1000 [00:00<00:10, 91.77it/s]"
     ]
    },
    {
     "name": "stdout",
     "output_type": "stream",
     "text": [
      "30\n"
     ]
    },
    {
     "name": "stderr",
     "output_type": "stream",
     "text": [
      "100%|██████████| 1000/1000 [00:11<00:00, 87.35it/s]\n",
      "  1%|          | 11/1000 [00:00<00:09, 102.45it/s]"
     ]
    },
    {
     "name": "stdout",
     "output_type": "stream",
     "text": [
      "31\n"
     ]
    },
    {
     "name": "stderr",
     "output_type": "stream",
     "text": [
      "100%|██████████| 1000/1000 [00:11<00:00, 87.77it/s]\n",
      "  1%|          | 9/1000 [00:00<00:12, 81.54it/s]"
     ]
    },
    {
     "name": "stdout",
     "output_type": "stream",
     "text": [
      "32\n"
     ]
    },
    {
     "name": "stderr",
     "output_type": "stream",
     "text": [
      "100%|██████████| 1000/1000 [00:11<00:00, 85.97it/s]\n",
      "  1%|          | 9/1000 [00:00<00:11, 86.08it/s]"
     ]
    },
    {
     "name": "stdout",
     "output_type": "stream",
     "text": [
      "33\n"
     ]
    },
    {
     "name": "stderr",
     "output_type": "stream",
     "text": [
      "100%|██████████| 1000/1000 [00:11<00:00, 87.87it/s]\n",
      "  1%|          | 7/1000 [00:00<00:14, 66.54it/s]"
     ]
    },
    {
     "name": "stdout",
     "output_type": "stream",
     "text": [
      "34\n"
     ]
    },
    {
     "name": "stderr",
     "output_type": "stream",
     "text": [
      "100%|██████████| 1000/1000 [00:11<00:00, 86.21it/s]\n",
      "  1%|          | 10/1000 [00:00<00:10, 98.45it/s]"
     ]
    },
    {
     "name": "stdout",
     "output_type": "stream",
     "text": [
      "35\n"
     ]
    },
    {
     "name": "stderr",
     "output_type": "stream",
     "text": [
      "100%|██████████| 1000/1000 [00:11<00:00, 86.29it/s]\n",
      "  1%|          | 9/1000 [00:00<00:12, 80.37it/s]"
     ]
    },
    {
     "name": "stdout",
     "output_type": "stream",
     "text": [
      "36\n"
     ]
    },
    {
     "name": "stderr",
     "output_type": "stream",
     "text": [
      "100%|██████████| 1000/1000 [00:11<00:00, 87.34it/s]\n",
      "  1%|          | 12/1000 [00:00<00:08, 115.41it/s]"
     ]
    },
    {
     "name": "stdout",
     "output_type": "stream",
     "text": [
      "37\n"
     ]
    },
    {
     "name": "stderr",
     "output_type": "stream",
     "text": [
      "100%|██████████| 1000/1000 [00:12<00:00, 81.64it/s]\n",
      "  1%|          | 10/1000 [00:00<00:10, 97.67it/s]"
     ]
    },
    {
     "name": "stdout",
     "output_type": "stream",
     "text": [
      "38\n"
     ]
    },
    {
     "name": "stderr",
     "output_type": "stream",
     "text": [
      "100%|██████████| 1000/1000 [00:12<00:00, 77.19it/s]\n",
      "  1%|          | 7/1000 [00:00<00:19, 49.74it/s]"
     ]
    },
    {
     "name": "stdout",
     "output_type": "stream",
     "text": [
      "39\n"
     ]
    },
    {
     "name": "stderr",
     "output_type": "stream",
     "text": [
      "100%|██████████| 1000/1000 [00:13<00:00, 73.34it/s]\n",
      "  1%|          | 8/1000 [00:00<00:12, 78.02it/s]"
     ]
    },
    {
     "name": "stdout",
     "output_type": "stream",
     "text": [
      "40\n"
     ]
    },
    {
     "name": "stderr",
     "output_type": "stream",
     "text": [
      "100%|██████████| 1000/1000 [00:12<00:00, 78.32it/s]\n",
      "  1%|          | 8/1000 [00:00<00:12, 78.73it/s]"
     ]
    },
    {
     "name": "stdout",
     "output_type": "stream",
     "text": [
      "41\n"
     ]
    },
    {
     "name": "stderr",
     "output_type": "stream",
     "text": [
      "100%|██████████| 1000/1000 [00:13<00:00, 75.92it/s]\n",
      "  1%|          | 10/1000 [00:00<00:09, 99.04it/s]"
     ]
    },
    {
     "name": "stdout",
     "output_type": "stream",
     "text": [
      "42\n"
     ]
    },
    {
     "name": "stderr",
     "output_type": "stream",
     "text": [
      "100%|██████████| 1000/1000 [00:13<00:00, 74.28it/s]\n",
      "  1%|          | 8/1000 [00:00<00:17, 57.93it/s]"
     ]
    },
    {
     "name": "stdout",
     "output_type": "stream",
     "text": [
      "43\n"
     ]
    },
    {
     "name": "stderr",
     "output_type": "stream",
     "text": [
      "100%|██████████| 1000/1000 [00:12<00:00, 80.02it/s]\n",
      "  1%|          | 9/1000 [00:00<00:11, 86.54it/s]"
     ]
    },
    {
     "name": "stdout",
     "output_type": "stream",
     "text": [
      "44\n"
     ]
    },
    {
     "name": "stderr",
     "output_type": "stream",
     "text": [
      "100%|██████████| 1000/1000 [00:13<00:00, 76.08it/s]\n",
      "  1%|          | 10/1000 [00:00<00:10, 92.06it/s]"
     ]
    },
    {
     "name": "stdout",
     "output_type": "stream",
     "text": [
      "45\n"
     ]
    },
    {
     "name": "stderr",
     "output_type": "stream",
     "text": [
      "100%|██████████| 1000/1000 [00:11<00:00, 84.91it/s]\n",
      "  1%|          | 8/1000 [00:00<00:13, 75.86it/s]"
     ]
    },
    {
     "name": "stdout",
     "output_type": "stream",
     "text": [
      "46\n"
     ]
    },
    {
     "name": "stderr",
     "output_type": "stream",
     "text": [
      "100%|██████████| 1000/1000 [00:12<00:00, 83.10it/s]\n",
      "  1%|          | 10/1000 [00:00<00:09, 99.79it/s]"
     ]
    },
    {
     "name": "stdout",
     "output_type": "stream",
     "text": [
      "47\n"
     ]
    },
    {
     "name": "stderr",
     "output_type": "stream",
     "text": [
      "100%|██████████| 1000/1000 [00:12<00:00, 78.19it/s]\n",
      "  0%|          | 5/1000 [00:00<00:20, 48.08it/s]"
     ]
    },
    {
     "name": "stdout",
     "output_type": "stream",
     "text": [
      "48\n"
     ]
    },
    {
     "name": "stderr",
     "output_type": "stream",
     "text": [
      "100%|██████████| 1000/1000 [00:12<00:00, 79.43it/s]\n",
      "  1%|          | 10/1000 [00:00<00:10, 96.97it/s]"
     ]
    },
    {
     "name": "stdout",
     "output_type": "stream",
     "text": [
      "49\n"
     ]
    },
    {
     "name": "stderr",
     "output_type": "stream",
     "text": [
      "100%|██████████| 1000/1000 [00:11<00:00, 89.04it/s]\n",
      "  1%|          | 10/1000 [00:00<00:10, 96.83it/s]"
     ]
    },
    {
     "name": "stdout",
     "output_type": "stream",
     "text": [
      "50\n"
     ]
    },
    {
     "name": "stderr",
     "output_type": "stream",
     "text": [
      "100%|██████████| 1000/1000 [00:11<00:00, 84.41it/s]\n",
      "  1%|          | 7/1000 [00:00<00:14, 68.45it/s]"
     ]
    },
    {
     "name": "stdout",
     "output_type": "stream",
     "text": [
      "51\n"
     ]
    },
    {
     "name": "stderr",
     "output_type": "stream",
     "text": [
      "100%|██████████| 1000/1000 [00:11<00:00, 84.77it/s]\n",
      "  1%|          | 8/1000 [00:00<00:12, 79.76it/s]"
     ]
    },
    {
     "name": "stdout",
     "output_type": "stream",
     "text": [
      "52\n"
     ]
    },
    {
     "name": "stderr",
     "output_type": "stream",
     "text": [
      "100%|██████████| 1000/1000 [00:11<00:00, 84.03it/s]\n",
      "  1%|          | 10/1000 [00:00<00:10, 92.45it/s]"
     ]
    },
    {
     "name": "stdout",
     "output_type": "stream",
     "text": [
      "53\n"
     ]
    },
    {
     "name": "stderr",
     "output_type": "stream",
     "text": [
      "100%|██████████| 1000/1000 [00:11<00:00, 85.41it/s]\n",
      "  1%|          | 9/1000 [00:00<00:12, 82.58it/s]"
     ]
    },
    {
     "name": "stdout",
     "output_type": "stream",
     "text": [
      "54\n"
     ]
    },
    {
     "name": "stderr",
     "output_type": "stream",
     "text": [
      "100%|██████████| 1000/1000 [00:11<00:00, 84.75it/s]\n",
      "  1%|          | 8/1000 [00:00<00:13, 75.21it/s]"
     ]
    },
    {
     "name": "stdout",
     "output_type": "stream",
     "text": [
      "55\n"
     ]
    },
    {
     "name": "stderr",
     "output_type": "stream",
     "text": [
      "100%|██████████| 1000/1000 [00:12<00:00, 80.34it/s]\n",
      "  1%|          | 8/1000 [00:00<00:13, 74.92it/s]"
     ]
    },
    {
     "name": "stdout",
     "output_type": "stream",
     "text": [
      "56\n"
     ]
    },
    {
     "name": "stderr",
     "output_type": "stream",
     "text": [
      "100%|██████████| 1000/1000 [00:12<00:00, 79.43it/s]\n",
      "  1%|          | 8/1000 [00:00<00:13, 75.36it/s]"
     ]
    },
    {
     "name": "stdout",
     "output_type": "stream",
     "text": [
      "57\n"
     ]
    },
    {
     "name": "stderr",
     "output_type": "stream",
     "text": [
      "100%|██████████| 1000/1000 [00:12<00:00, 82.04it/s]\n",
      "  1%|          | 9/1000 [00:00<00:11, 86.00it/s]"
     ]
    },
    {
     "name": "stdout",
     "output_type": "stream",
     "text": [
      "58\n"
     ]
    },
    {
     "name": "stderr",
     "output_type": "stream",
     "text": [
      "100%|██████████| 1000/1000 [00:12<00:00, 78.52it/s]\n",
      "  1%|          | 8/1000 [00:00<00:12, 78.64it/s]"
     ]
    },
    {
     "name": "stdout",
     "output_type": "stream",
     "text": [
      "59\n"
     ]
    },
    {
     "name": "stderr",
     "output_type": "stream",
     "text": [
      "100%|██████████| 1000/1000 [00:12<00:00, 82.59it/s]\n",
      "  1%|          | 11/1000 [00:00<00:10, 90.62it/s]"
     ]
    },
    {
     "name": "stdout",
     "output_type": "stream",
     "text": [
      "60\n"
     ]
    },
    {
     "name": "stderr",
     "output_type": "stream",
     "text": [
      "100%|██████████| 1000/1000 [00:12<00:00, 78.18it/s]\n",
      "  1%|          | 11/1000 [00:00<00:09, 106.13it/s]"
     ]
    },
    {
     "name": "stdout",
     "output_type": "stream",
     "text": [
      "61\n"
     ]
    },
    {
     "name": "stderr",
     "output_type": "stream",
     "text": [
      "100%|██████████| 1000/1000 [00:11<00:00, 84.50it/s]\n",
      "  1%|          | 11/1000 [00:00<00:09, 99.39it/s]"
     ]
    },
    {
     "name": "stdout",
     "output_type": "stream",
     "text": [
      "62\n"
     ]
    },
    {
     "name": "stderr",
     "output_type": "stream",
     "text": [
      "100%|██████████| 1000/1000 [00:11<00:00, 84.86it/s]\n",
      "  1%|          | 8/1000 [00:00<00:12, 79.74it/s]"
     ]
    },
    {
     "name": "stdout",
     "output_type": "stream",
     "text": [
      "63\n"
     ]
    },
    {
     "name": "stderr",
     "output_type": "stream",
     "text": [
      "100%|██████████| 1000/1000 [00:12<00:00, 82.56it/s]\n",
      "  1%|          | 6/1000 [00:00<00:20, 47.53it/s]"
     ]
    },
    {
     "name": "stdout",
     "output_type": "stream",
     "text": [
      "64\n"
     ]
    },
    {
     "name": "stderr",
     "output_type": "stream",
     "text": [
      "100%|██████████| 1000/1000 [00:11<00:00, 86.47it/s]\n",
      "  1%|▏         | 13/1000 [00:00<00:07, 127.09it/s]"
     ]
    },
    {
     "name": "stdout",
     "output_type": "stream",
     "text": [
      "65\n"
     ]
    },
    {
     "name": "stderr",
     "output_type": "stream",
     "text": [
      "100%|██████████| 1000/1000 [00:11<00:00, 84.41it/s]\n",
      "  1%|          | 10/1000 [00:00<00:11, 89.37it/s]"
     ]
    },
    {
     "name": "stdout",
     "output_type": "stream",
     "text": [
      "66\n"
     ]
    },
    {
     "name": "stderr",
     "output_type": "stream",
     "text": [
      "100%|██████████| 1000/1000 [00:12<00:00, 79.54it/s]\n",
      "  1%|          | 11/1000 [00:00<00:09, 106.20it/s]"
     ]
    },
    {
     "name": "stdout",
     "output_type": "stream",
     "text": [
      "67\n"
     ]
    },
    {
     "name": "stderr",
     "output_type": "stream",
     "text": [
      "100%|██████████| 1000/1000 [00:11<00:00, 87.66it/s]\n",
      "  1%|          | 9/1000 [00:00<00:11, 87.67it/s]"
     ]
    },
    {
     "name": "stdout",
     "output_type": "stream",
     "text": [
      "68\n"
     ]
    },
    {
     "name": "stderr",
     "output_type": "stream",
     "text": [
      "100%|██████████| 1000/1000 [00:12<00:00, 82.33it/s]\n",
      "  1%|          | 10/1000 [00:00<00:10, 94.39it/s]"
     ]
    },
    {
     "name": "stdout",
     "output_type": "stream",
     "text": [
      "69\n"
     ]
    },
    {
     "name": "stderr",
     "output_type": "stream",
     "text": [
      "100%|██████████| 1000/1000 [00:13<00:00, 75.33it/s]\n",
      "  1%|          | 8/1000 [00:00<00:13, 75.61it/s]"
     ]
    },
    {
     "name": "stdout",
     "output_type": "stream",
     "text": [
      "70\n"
     ]
    },
    {
     "name": "stderr",
     "output_type": "stream",
     "text": [
      "100%|██████████| 1000/1000 [00:11<00:00, 86.40it/s]\n",
      "  1%|          | 9/1000 [00:00<00:12, 79.03it/s]"
     ]
    },
    {
     "name": "stdout",
     "output_type": "stream",
     "text": [
      "71\n"
     ]
    },
    {
     "name": "stderr",
     "output_type": "stream",
     "text": [
      "100%|██████████| 1000/1000 [00:14<00:00, 68.14it/s]\n",
      "  1%|          | 7/1000 [00:00<00:17, 56.29it/s]"
     ]
    },
    {
     "name": "stdout",
     "output_type": "stream",
     "text": [
      "72\n"
     ]
    },
    {
     "name": "stderr",
     "output_type": "stream",
     "text": [
      "100%|██████████| 1000/1000 [00:14<00:00, 71.36it/s]\n",
      "  1%|          | 8/1000 [00:00<00:12, 76.99it/s]"
     ]
    },
    {
     "name": "stdout",
     "output_type": "stream",
     "text": [
      "73\n"
     ]
    },
    {
     "name": "stderr",
     "output_type": "stream",
     "text": [
      "100%|██████████| 1000/1000 [00:12<00:00, 81.85it/s]\n",
      "  1%|          | 7/1000 [00:00<00:14, 69.12it/s]"
     ]
    },
    {
     "name": "stdout",
     "output_type": "stream",
     "text": [
      "74\n"
     ]
    },
    {
     "name": "stderr",
     "output_type": "stream",
     "text": [
      "100%|██████████| 1000/1000 [00:12<00:00, 79.47it/s]\n",
      "  1%|          | 10/1000 [00:00<00:10, 97.57it/s]"
     ]
    },
    {
     "name": "stdout",
     "output_type": "stream",
     "text": [
      "75\n"
     ]
    },
    {
     "name": "stderr",
     "output_type": "stream",
     "text": [
      "100%|██████████| 1000/1000 [00:12<00:00, 81.55it/s]\n",
      "  1%|          | 9/1000 [00:00<00:11, 88.76it/s]"
     ]
    },
    {
     "name": "stdout",
     "output_type": "stream",
     "text": [
      "76\n"
     ]
    },
    {
     "name": "stderr",
     "output_type": "stream",
     "text": [
      "100%|██████████| 1000/1000 [00:12<00:00, 82.71it/s]\n",
      "  1%|          | 6/1000 [00:00<00:17, 57.82it/s]"
     ]
    },
    {
     "name": "stdout",
     "output_type": "stream",
     "text": [
      "77\n"
     ]
    },
    {
     "name": "stderr",
     "output_type": "stream",
     "text": [
      "100%|██████████| 1000/1000 [00:12<00:00, 82.22it/s]\n",
      "  1%|          | 8/1000 [00:00<00:12, 77.53it/s]"
     ]
    },
    {
     "name": "stdout",
     "output_type": "stream",
     "text": [
      "78\n"
     ]
    },
    {
     "name": "stderr",
     "output_type": "stream",
     "text": [
      "100%|██████████| 1000/1000 [00:11<00:00, 85.20it/s]\n",
      "  1%|          | 11/1000 [00:00<00:09, 105.30it/s]"
     ]
    },
    {
     "name": "stdout",
     "output_type": "stream",
     "text": [
      "79\n"
     ]
    },
    {
     "name": "stderr",
     "output_type": "stream",
     "text": [
      "100%|██████████| 1000/1000 [00:12<00:00, 82.72it/s]\n",
      "  1%|          | 9/1000 [00:00<00:11, 88.82it/s]"
     ]
    },
    {
     "name": "stdout",
     "output_type": "stream",
     "text": [
      "80\n"
     ]
    },
    {
     "name": "stderr",
     "output_type": "stream",
     "text": [
      "100%|██████████| 1000/1000 [00:12<00:00, 78.80it/s]\n",
      "  1%|          | 7/1000 [00:00<00:14, 68.06it/s]"
     ]
    },
    {
     "name": "stdout",
     "output_type": "stream",
     "text": [
      "81\n"
     ]
    },
    {
     "name": "stderr",
     "output_type": "stream",
     "text": [
      "100%|██████████| 1000/1000 [00:11<00:00, 84.36it/s]\n",
      "  1%|          | 6/1000 [00:00<00:17, 57.32it/s]"
     ]
    },
    {
     "name": "stdout",
     "output_type": "stream",
     "text": [
      "82\n"
     ]
    },
    {
     "name": "stderr",
     "output_type": "stream",
     "text": [
      "100%|██████████| 1000/1000 [00:12<00:00, 80.76it/s]\n",
      "  1%|          | 9/1000 [00:00<00:11, 86.41it/s]"
     ]
    },
    {
     "name": "stdout",
     "output_type": "stream",
     "text": [
      "83\n"
     ]
    },
    {
     "name": "stderr",
     "output_type": "stream",
     "text": [
      "100%|██████████| 1000/1000 [00:12<00:00, 78.04it/s]\n",
      "  1%|          | 10/1000 [00:00<00:10, 90.57it/s]"
     ]
    },
    {
     "name": "stdout",
     "output_type": "stream",
     "text": [
      "84\n"
     ]
    },
    {
     "name": "stderr",
     "output_type": "stream",
     "text": [
      "100%|██████████| 1000/1000 [00:11<00:00, 83.81it/s]\n",
      "  1%|          | 9/1000 [00:00<00:11, 85.11it/s]"
     ]
    },
    {
     "name": "stdout",
     "output_type": "stream",
     "text": [
      "85\n"
     ]
    },
    {
     "name": "stderr",
     "output_type": "stream",
     "text": [
      "100%|██████████| 1000/1000 [00:13<00:00, 74.71it/s]\n",
      "  1%|          | 8/1000 [00:00<00:13, 73.22it/s]"
     ]
    },
    {
     "name": "stdout",
     "output_type": "stream",
     "text": [
      "86\n"
     ]
    },
    {
     "name": "stderr",
     "output_type": "stream",
     "text": [
      "100%|██████████| 1000/1000 [00:12<00:00, 81.88it/s]\n",
      "  0%|          | 5/1000 [00:00<00:20, 49.67it/s]"
     ]
    },
    {
     "name": "stdout",
     "output_type": "stream",
     "text": [
      "87\n"
     ]
    },
    {
     "name": "stderr",
     "output_type": "stream",
     "text": [
      "100%|██████████| 1000/1000 [00:12<00:00, 78.22it/s]\n",
      "  1%|          | 10/1000 [00:00<00:11, 85.29it/s]"
     ]
    },
    {
     "name": "stdout",
     "output_type": "stream",
     "text": [
      "88\n"
     ]
    },
    {
     "name": "stderr",
     "output_type": "stream",
     "text": [
      "100%|██████████| 1000/1000 [00:12<00:00, 83.04it/s]\n",
      "  1%|          | 9/1000 [00:00<00:11, 87.65it/s]"
     ]
    },
    {
     "name": "stdout",
     "output_type": "stream",
     "text": [
      "89\n"
     ]
    },
    {
     "name": "stderr",
     "output_type": "stream",
     "text": [
      "100%|██████████| 1000/1000 [00:12<00:00, 82.17it/s]\n",
      "  1%|          | 8/1000 [00:00<00:13, 75.05it/s]"
     ]
    },
    {
     "name": "stdout",
     "output_type": "stream",
     "text": [
      "90\n"
     ]
    },
    {
     "name": "stderr",
     "output_type": "stream",
     "text": [
      "100%|██████████| 1000/1000 [00:12<00:00, 80.25it/s]\n",
      "  1%|          | 7/1000 [00:00<00:14, 66.50it/s]"
     ]
    },
    {
     "name": "stdout",
     "output_type": "stream",
     "text": [
      "91\n"
     ]
    },
    {
     "name": "stderr",
     "output_type": "stream",
     "text": [
      "100%|██████████| 1000/1000 [00:12<00:00, 82.73it/s]\n",
      "  1%|          | 10/1000 [00:00<00:10, 95.16it/s]"
     ]
    },
    {
     "name": "stdout",
     "output_type": "stream",
     "text": [
      "92\n"
     ]
    },
    {
     "name": "stderr",
     "output_type": "stream",
     "text": [
      "100%|██████████| 1000/1000 [00:12<00:00, 82.59it/s]\n",
      "  1%|          | 11/1000 [00:00<00:09, 103.43it/s]"
     ]
    },
    {
     "name": "stdout",
     "output_type": "stream",
     "text": [
      "93\n"
     ]
    },
    {
     "name": "stderr",
     "output_type": "stream",
     "text": [
      "100%|██████████| 1000/1000 [00:11<00:00, 83.45it/s]\n",
      "  1%|          | 8/1000 [00:00<00:13, 74.21it/s]"
     ]
    },
    {
     "name": "stdout",
     "output_type": "stream",
     "text": [
      "94\n"
     ]
    },
    {
     "name": "stderr",
     "output_type": "stream",
     "text": [
      "100%|██████████| 1000/1000 [00:12<00:00, 82.36it/s]\n",
      "  1%|          | 6/1000 [00:00<00:18, 54.47it/s]"
     ]
    },
    {
     "name": "stdout",
     "output_type": "stream",
     "text": [
      "95\n"
     ]
    },
    {
     "name": "stderr",
     "output_type": "stream",
     "text": [
      "100%|██████████| 1000/1000 [00:11<00:00, 83.59it/s]\n",
      "  1%|          | 8/1000 [00:00<00:14, 70.82it/s]"
     ]
    },
    {
     "name": "stdout",
     "output_type": "stream",
     "text": [
      "96\n"
     ]
    },
    {
     "name": "stderr",
     "output_type": "stream",
     "text": [
      "100%|██████████| 1000/1000 [00:08<00:00, 115.34it/s]\n",
      "  1%|          | 11/1000 [00:00<00:09, 107.38it/s]"
     ]
    },
    {
     "name": "stdout",
     "output_type": "stream",
     "text": [
      "97\n"
     ]
    },
    {
     "name": "stderr",
     "output_type": "stream",
     "text": [
      "100%|██████████| 1000/1000 [00:07<00:00, 141.09it/s]\n",
      "  1%|▏         | 14/1000 [00:00<00:07, 136.55it/s]"
     ]
    },
    {
     "name": "stdout",
     "output_type": "stream",
     "text": [
      "98\n"
     ]
    },
    {
     "name": "stderr",
     "output_type": "stream",
     "text": [
      "100%|██████████| 1000/1000 [00:07<00:00, 135.31it/s]\n",
      "  2%|▏         | 15/1000 [00:00<00:06, 142.63it/s]"
     ]
    },
    {
     "name": "stdout",
     "output_type": "stream",
     "text": [
      "99\n"
     ]
    },
    {
     "name": "stderr",
     "output_type": "stream",
     "text": [
      "100%|██████████| 1000/1000 [00:06<00:00, 144.23it/s]"
     ]
    },
    {
     "name": "stdout",
     "output_type": "stream",
     "text": [
      "CPU times: user 19min 3s, sys: 5.9 s, total: 19min 9s\n",
      "Wall time: 18min 58s\n"
     ]
    },
    {
     "name": "stderr",
     "output_type": "stream",
     "text": [
      "\n"
     ]
    }
   ],
   "source": [
    "%%time\n",
    "scores_nn_search = sampled_score(nn_search, X_test, y_test, samples)"
   ]
  },
  {
   "cell_type": "code",
   "execution_count": 76,
   "metadata": {
    "scrolled": true
   },
   "outputs": [
    {
     "name": "stdout",
     "output_type": "stream",
     "text": [
      "0.0035900000000000003 0.0017498285630312474\n",
      "0.01234 0.003870968870967578\n",
      "0.16184 0.011774311020182879\n"
     ]
    }
   ],
   "source": [
    "# среднее и среднеквадратичное отклонение по моделям\n",
    "print(scores_random_search.mean(), scores_random_search.std())\n",
    "print(scores_weighted_random_search.mean(), scores_weighted_random_search.std())\n",
    "print(scores_nn_search.mean(), scores_nn_search.std())"
   ]
  },
  {
   "cell_type": "code",
   "execution_count": 78,
   "metadata": {},
   "outputs": [
    {
     "data": {
      "text/plain": [
       "<AxesSubplot:>"
      ]
     },
     "execution_count": 78,
     "metadata": {},
     "output_type": "execute_result"
    },
    {
     "data": {
      "image/png": "[encoded data removed]",
      "text/plain": [
       "<Figure size 432x288 with 1 Axes>"
      ]
     },
     "metadata": {
      "needs_background": "light"
     },
     "output_type": "display_data"
    }
   ],
   "source": [
    "pd.Series(scores_random_search).hist()\n",
    "pd.Series(scores_weighted_random_search).hist()\n",
    "pd.Series(scores_nn_search).hist()"
   ]
  },
  {
   "cell_type": "markdown",
   "metadata": {},
   "source": [
    "# Топ 20 для ряда исполнителей"
   ]
  },
  {
   "cell_type": "code",
   "execution_count": 33,
   "metadata": {
    "scrolled": true
   },
   "outputs": [
    {
     "data": {
      "text/html": [
       "<div>\n",
       "<style scoped>\n",
       "    .dataframe tbody tr th:only-of-type {\n",
       "        vertical-align: middle;\n",
       "    }\n",
       "\n",
       "    .dataframe tbody tr th {\n",
       "        vertical-align: top;\n",
       "    }\n",
       "\n",
       "    .dataframe thead th {\n",
       "        text-align: right;\n",
       "    }\n",
       "</style>\n",
       "<table border=\"1\" class=\"dataframe\">\n",
       "  <thead>\n",
       "    <tr style=\"text-align: right;\">\n",
       "      <th></th>\n",
       "      <th>person_id</th>\n",
       "      <th>person_name</th>\n",
       "      <th>person_MBID</th>\n",
       "    </tr>\n",
       "  </thead>\n",
       "  <tbody>\n",
       "    <tr>\n",
       "      <th>1373</th>\n",
       "      <td>56683</td>\n",
       "      <td>Bowie</td>\n",
       "      <td>5441c29d-3602-4898-b1a1-b77fa23b8e50</td>\n",
       "    </tr>\n",
       "    <tr>\n",
       "      <th>21043</th>\n",
       "      <td>276125</td>\n",
       "      <td>Pink+Floyd+&amp;+Floyd</td>\n",
       "      <td>83d91898-7763-47d7-b03b-b92132375c47</td>\n",
       "    </tr>\n",
       "    <tr>\n",
       "      <th>25139</th>\n",
       "      <td>56683</td>\n",
       "      <td>David+Bowie+&amp;+Bing+Crosby</td>\n",
       "      <td>5441c29d-3602-4898-b1a1-b77fa23b8e50</td>\n",
       "    </tr>\n",
       "    <tr>\n",
       "      <th>27674</th>\n",
       "      <td>56683</td>\n",
       "      <td>David+Bowie+&amp;+Pet+Shop+Boys</td>\n",
       "      <td>5441c29d-3602-4898-b1a1-b77fa23b8e50</td>\n",
       "    </tr>\n",
       "    <tr>\n",
       "      <th>32700</th>\n",
       "      <td>56683</td>\n",
       "      <td>David+Bowie+&amp;+Phillip+Glass</td>\n",
       "      <td>NaN</td>\n",
       "    </tr>\n",
       "    <tr>\n",
       "      <th>40008</th>\n",
       "      <td>56683</td>\n",
       "      <td>David+Bowie+&amp;+Trent+Reznor</td>\n",
       "      <td>5441c29d-3602-4898-b1a1-b77fa23b8e50</td>\n",
       "    </tr>\n",
       "    <tr>\n",
       "      <th>40030</th>\n",
       "      <td>200082</td>\n",
       "      <td>Lil+Wayne+Feat.+Drake+&amp;+Rick+Ross</td>\n",
       "      <td>NaN</td>\n",
       "    </tr>\n",
       "    <tr>\n",
       "      <th>44602</th>\n",
       "      <td>276125</td>\n",
       "      <td>Pink+Floyd+&amp;+The+Orb</td>\n",
       "      <td>83d91898-7763-47d7-b03b-b92132375c47</td>\n",
       "    </tr>\n",
       "    <tr>\n",
       "      <th>44799</th>\n",
       "      <td>56683</td>\n",
       "      <td>David+Bowie+&amp;+Pat+Metheny</td>\n",
       "      <td>5441c29d-3602-4898-b1a1-b77fa23b8e50</td>\n",
       "    </tr>\n",
       "    <tr>\n",
       "      <th>49995</th>\n",
       "      <td>56683</td>\n",
       "      <td>David+Bowie+&amp;+Freddie+Mercury</td>\n",
       "      <td>5441c29d-3602-4898-b1a1-b77fa23b8e50</td>\n",
       "    </tr>\n",
       "    <tr>\n",
       "      <th>79045</th>\n",
       "      <td>276125</td>\n",
       "      <td>The+Pink+Floyd</td>\n",
       "      <td>83d91898-7763-47d7-b03b-b92132375c47</td>\n",
       "    </tr>\n",
       "    <tr>\n",
       "      <th>90193</th>\n",
       "      <td>200082</td>\n",
       "      <td>Lil+Wayne</td>\n",
       "      <td>NaN</td>\n",
       "    </tr>\n",
       "    <tr>\n",
       "      <th>129430</th>\n",
       "      <td>56683</td>\n",
       "      <td>Dawid+Bowie</td>\n",
       "      <td>5441c29d-3602-4898-b1a1-b77fa23b8e50</td>\n",
       "    </tr>\n",
       "    <tr>\n",
       "      <th>134688</th>\n",
       "      <td>200082</td>\n",
       "      <td>Lil+Wayne+Ft.+Birdman+&amp;+Euro</td>\n",
       "      <td>NaN</td>\n",
       "    </tr>\n",
       "    <tr>\n",
       "      <th>144998</th>\n",
       "      <td>200082</td>\n",
       "      <td>Lil%27+Wayne+ft.+Nicki+Minaj</td>\n",
       "      <td>NaN</td>\n",
       "    </tr>\n",
       "    <tr>\n",
       "      <th>151438</th>\n",
       "      <td>200082</td>\n",
       "      <td>Lil%27+Wayne+&amp;+Juelz+Santana</td>\n",
       "      <td>NaN</td>\n",
       "    </tr>\n",
       "    <tr>\n",
       "      <th>153740</th>\n",
       "      <td>56683</td>\n",
       "      <td>David+Bowie+&amp;+Annie+Lennox</td>\n",
       "      <td>5441c29d-3602-4898-b1a1-b77fa23b8e50</td>\n",
       "    </tr>\n",
       "    <tr>\n",
       "      <th>156888</th>\n",
       "      <td>200082</td>\n",
       "      <td>Lil%27+Wayne</td>\n",
       "      <td>NaN</td>\n",
       "    </tr>\n",
       "    <tr>\n",
       "      <th>207420</th>\n",
       "      <td>281542</td>\n",
       "      <td>The+Prodigy+&amp;+Tom+Morello</td>\n",
       "      <td>4a4ee089-93b1-4470-af9a-6ff575d32704</td>\n",
       "    </tr>\n",
       "    <tr>\n",
       "      <th>211327</th>\n",
       "      <td>276125</td>\n",
       "      <td>Pink+Floyd+&amp;+Candy+Dulfer</td>\n",
       "      <td>83d91898-7763-47d7-b03b-b92132375c47</td>\n",
       "    </tr>\n",
       "    <tr>\n",
       "      <th>220195</th>\n",
       "      <td>56683</td>\n",
       "      <td>David+Bowie+&amp;+Mick+Jagger</td>\n",
       "      <td>5441c29d-3602-4898-b1a1-b77fa23b8e50</td>\n",
       "    </tr>\n",
       "    <tr>\n",
       "      <th>222435</th>\n",
       "      <td>200082</td>\n",
       "      <td>Lil+Wayne+&amp;+T-Pain</td>\n",
       "      <td>NaN</td>\n",
       "    </tr>\n",
       "    <tr>\n",
       "      <th>234814</th>\n",
       "      <td>200082</td>\n",
       "      <td>Lil+Wayne,+Static+Major+&amp;+Kanye+West</td>\n",
       "      <td>NaN</td>\n",
       "    </tr>\n",
       "    <tr>\n",
       "      <th>236780</th>\n",
       "      <td>56683</td>\n",
       "      <td>DAVID+BOWIE+&amp;++FOO+FIGHTERS</td>\n",
       "      <td>5441c29d-3602-4898-b1a1-b77fa23b8e50</td>\n",
       "    </tr>\n",
       "    <tr>\n",
       "      <th>237956</th>\n",
       "      <td>56683</td>\n",
       "      <td>David+Bowie+&amp;+Lou+Reed</td>\n",
       "      <td>5441c29d-3602-4898-b1a1-b77fa23b8e50</td>\n",
       "    </tr>\n",
       "    <tr>\n",
       "      <th>256571</th>\n",
       "      <td>56683</td>\n",
       "      <td>Bowie+&amp;+Eno+meet+Glass</td>\n",
       "      <td>5441c29d-3602-4898-b1a1-b77fa23b8e50</td>\n",
       "    </tr>\n",
       "    <tr>\n",
       "      <th>257937</th>\n",
       "      <td>200082</td>\n",
       "      <td>Lil+Wayne+&amp;+Drake</td>\n",
       "      <td>NaN</td>\n",
       "    </tr>\n",
       "    <tr>\n",
       "      <th>263415</th>\n",
       "      <td>276125</td>\n",
       "      <td>Pink+Floyd+&amp;+D.J.+Fish</td>\n",
       "      <td>NaN</td>\n",
       "    </tr>\n",
       "    <tr>\n",
       "      <th>285598</th>\n",
       "      <td>281542</td>\n",
       "      <td>Prodigy,+The</td>\n",
       "      <td>4a4ee089-93b1-4470-af9a-6ff575d32704</td>\n",
       "    </tr>\n",
       "    <tr>\n",
       "      <th>287448</th>\n",
       "      <td>56683</td>\n",
       "      <td>David+Bowie+&amp;+The+Tony+Visconti+Orchestra</td>\n",
       "      <td>NaN</td>\n",
       "    </tr>\n",
       "    <tr>\n",
       "      <th>300264</th>\n",
       "      <td>281542</td>\n",
       "      <td>The+Prodigy+&amp;+Pain</td>\n",
       "      <td>NaN</td>\n",
       "    </tr>\n",
       "    <tr>\n",
       "      <th>305503</th>\n",
       "      <td>56683</td>\n",
       "      <td>David+Bowie+&amp;+Stevie+Ray+Vaughan</td>\n",
       "      <td>5441c29d-3602-4898-b1a1-b77fa23b8e50</td>\n",
       "    </tr>\n",
       "    <tr>\n",
       "      <th>308147</th>\n",
       "      <td>56683</td>\n",
       "      <td>David+Bowie+&amp;+Nine+Inch+Nails</td>\n",
       "      <td>5441c29d-3602-4898-b1a1-b77fa23b8e50</td>\n",
       "    </tr>\n",
       "    <tr>\n",
       "      <th>312095</th>\n",
       "      <td>200082</td>\n",
       "      <td>LIL+WAYNE+&amp;+NICKI+MINAJ</td>\n",
       "      <td>NaN</td>\n",
       "    </tr>\n",
       "    <tr>\n",
       "      <th>340746</th>\n",
       "      <td>56683</td>\n",
       "      <td>David+Bowie+&amp;+Philadelphia+Orchestra</td>\n",
       "      <td>NaN</td>\n",
       "    </tr>\n",
       "    <tr>\n",
       "      <th>342357</th>\n",
       "      <td>276125</td>\n",
       "      <td>Pink+Floyd</td>\n",
       "      <td>83d91898-7763-47d7-b03b-b92132375c47</td>\n",
       "    </tr>\n",
       "    <tr>\n",
       "      <th>361017</th>\n",
       "      <td>200082</td>\n",
       "      <td>Lil+Wayne+&amp;+Nicki+Minaj+&amp;+Rick+Ross+&amp;+The+Game</td>\n",
       "      <td>NaN</td>\n",
       "    </tr>\n",
       "    <tr>\n",
       "      <th>370474</th>\n",
       "      <td>281542</td>\n",
       "      <td>Prod%C4%B1gy</td>\n",
       "      <td>2996c6a2-215d-4f78-aed6-81a130b04816</td>\n",
       "    </tr>\n",
       "    <tr>\n",
       "      <th>391292</th>\n",
       "      <td>56683</td>\n",
       "      <td>David+Bowie%2Fpat+Metheny</td>\n",
       "      <td>NaN</td>\n",
       "    </tr>\n",
       "    <tr>\n",
       "      <th>419678</th>\n",
       "      <td>281542</td>\n",
       "      <td>Prodigyremixed.com</td>\n",
       "      <td>4a4ee089-93b1-4470-af9a-6ff575d32704</td>\n",
       "    </tr>\n",
       "    <tr>\n",
       "      <th>420948</th>\n",
       "      <td>56683</td>\n",
       "      <td>David+Bowie+&amp;+Marianne+Faithfull</td>\n",
       "      <td>5441c29d-3602-4898-b1a1-b77fa23b8e50</td>\n",
       "    </tr>\n",
       "    <tr>\n",
       "      <th>425170</th>\n",
       "      <td>200082</td>\n",
       "      <td>Lil+Wayne+&amp;+Phoenix</td>\n",
       "      <td>NaN</td>\n",
       "    </tr>\n",
       "    <tr>\n",
       "      <th>425545</th>\n",
       "      <td>281542</td>\n",
       "      <td>Prodigy</td>\n",
       "      <td>2996c6a2-215d-4f78-aed6-81a130b04816</td>\n",
       "    </tr>\n",
       "    <tr>\n",
       "      <th>427620</th>\n",
       "      <td>56683</td>\n",
       "      <td>David+Bowie+&amp;+Queen</td>\n",
       "      <td>5441c29d-3602-4898-b1a1-b77fa23b8e50</td>\n",
       "    </tr>\n",
       "    <tr>\n",
       "      <th>450252</th>\n",
       "      <td>56683</td>\n",
       "      <td>David+Bowie+&amp;+Massive+Attack</td>\n",
       "      <td>5441c29d-3602-4898-b1a1-b77fa23b8e50</td>\n",
       "    </tr>\n",
       "    <tr>\n",
       "      <th>452189</th>\n",
       "      <td>56683</td>\n",
       "      <td>David+Bowie+&amp;+The+Tony+Visconti+Trio</td>\n",
       "      <td>NaN</td>\n",
       "    </tr>\n",
       "    <tr>\n",
       "      <th>453800</th>\n",
       "      <td>276125</td>\n",
       "      <td>Pink+Floud</td>\n",
       "      <td>NaN</td>\n",
       "    </tr>\n",
       "    <tr>\n",
       "      <th>467016</th>\n",
       "      <td>281542</td>\n",
       "      <td>The+Prodigy+&amp;+Pendulum+Vs+Limp+Bizkit+%5BRemix%5D</td>\n",
       "      <td>NaN</td>\n",
       "    </tr>\n",
       "    <tr>\n",
       "      <th>481543</th>\n",
       "      <td>56683</td>\n",
       "      <td>Scumfrog+vs+David+Bowie</td>\n",
       "      <td>5441c29d-3602-4898-b1a1-b77fa23b8e50</td>\n",
       "    </tr>\n",
       "    <tr>\n",
       "      <th>487168</th>\n",
       "      <td>281542</td>\n",
       "      <td>The+Prodigy</td>\n",
       "      <td>4a4ee089-93b1-4470-af9a-6ff575d32704</td>\n",
       "    </tr>\n",
       "    <tr>\n",
       "      <th>510180</th>\n",
       "      <td>56683</td>\n",
       "      <td>Bowie,+David</td>\n",
       "      <td>5441c29d-3602-4898-b1a1-b77fa23b8e50</td>\n",
       "    </tr>\n",
       "    <tr>\n",
       "      <th>529402</th>\n",
       "      <td>200082</td>\n",
       "      <td>Lil+Wayne+&amp;+The+Sqad</td>\n",
       "      <td>NaN</td>\n",
       "    </tr>\n",
       "    <tr>\n",
       "      <th>535081</th>\n",
       "      <td>56683</td>\n",
       "      <td>David+Bowie</td>\n",
       "      <td>5441c29d-3602-4898-b1a1-b77fa23b8e50</td>\n",
       "    </tr>\n",
       "  </tbody>\n",
       "</table>\n",
       "</div>"
      ],
      "text/plain": [
       "        person_id                                        person_name  \\\n",
       "1373        56683                                              Bowie   \n",
       "21043      276125                                 Pink+Floyd+&+Floyd   \n",
       "25139       56683                          David+Bowie+&+Bing+Crosby   \n",
       "27674       56683                        David+Bowie+&+Pet+Shop+Boys   \n",
       "32700       56683                        David+Bowie+&+Phillip+Glass   \n",
       "40008       56683                         David+Bowie+&+Trent+Reznor   \n",
       "40030      200082                  Lil+Wayne+Feat.+Drake+&+Rick+Ross   \n",
       "44602      276125                               Pink+Floyd+&+The+Orb   \n",
       "44799       56683                          David+Bowie+&+Pat+Metheny   \n",
       "49995       56683                      David+Bowie+&+Freddie+Mercury   \n",
       "79045      276125                                     The+Pink+Floyd   \n",
       "90193      200082                                          Lil+Wayne   \n",
       "129430      56683                                        Dawid+Bowie   \n",
       "134688     200082                       Lil+Wayne+Ft.+Birdman+&+Euro   \n",
       "144998     200082                       Lil%27+Wayne+ft.+Nicki+Minaj   \n",
       "151438     200082                       Lil%27+Wayne+&+Juelz+Santana   \n",
       "153740      56683                         David+Bowie+&+Annie+Lennox   \n",
       "156888     200082                                       Lil%27+Wayne   \n",
       "207420     281542                          The+Prodigy+&+Tom+Morello   \n",
       "211327     276125                          Pink+Floyd+&+Candy+Dulfer   \n",
       "220195      56683                          David+Bowie+&+Mick+Jagger   \n",
       "222435     200082                                 Lil+Wayne+&+T-Pain   \n",
       "234814     200082               Lil+Wayne,+Static+Major+&+Kanye+West   \n",
       "236780      56683                        DAVID+BOWIE+&++FOO+FIGHTERS   \n",
       "237956      56683                             David+Bowie+&+Lou+Reed   \n",
       "256571      56683                             Bowie+&+Eno+meet+Glass   \n",
       "257937     200082                                  Lil+Wayne+&+Drake   \n",
       "263415     276125                             Pink+Floyd+&+D.J.+Fish   \n",
       "285598     281542                                       Prodigy,+The   \n",
       "287448      56683          David+Bowie+&+The+Tony+Visconti+Orchestra   \n",
       "300264     281542                                 The+Prodigy+&+Pain   \n",
       "305503      56683                   David+Bowie+&+Stevie+Ray+Vaughan   \n",
       "308147      56683                      David+Bowie+&+Nine+Inch+Nails   \n",
       "312095     200082                            LIL+WAYNE+&+NICKI+MINAJ   \n",
       "340746      56683               David+Bowie+&+Philadelphia+Orchestra   \n",
       "342357     276125                                         Pink+Floyd   \n",
       "361017     200082     Lil+Wayne+&+Nicki+Minaj+&+Rick+Ross+&+The+Game   \n",
       "370474     281542                                       Prod%C4%B1gy   \n",
       "391292      56683                          David+Bowie%2Fpat+Metheny   \n",
       "419678     281542                                 Prodigyremixed.com   \n",
       "420948      56683                   David+Bowie+&+Marianne+Faithfull   \n",
       "425170     200082                                Lil+Wayne+&+Phoenix   \n",
       "425545     281542                                            Prodigy   \n",
       "427620      56683                                David+Bowie+&+Queen   \n",
       "450252      56683                       David+Bowie+&+Massive+Attack   \n",
       "452189      56683               David+Bowie+&+The+Tony+Visconti+Trio   \n",
       "453800     276125                                         Pink+Floud   \n",
       "467016     281542  The+Prodigy+&+Pendulum+Vs+Limp+Bizkit+%5BRemix%5D   \n",
       "481543      56683                            Scumfrog+vs+David+Bowie   \n",
       "487168     281542                                        The+Prodigy   \n",
       "510180      56683                                       Bowie,+David   \n",
       "529402     200082                               Lil+Wayne+&+The+Sqad   \n",
       "535081      56683                                        David+Bowie   \n",
       "\n",
       "                                 person_MBID  \n",
       "1373    5441c29d-3602-4898-b1a1-b77fa23b8e50  \n",
       "21043   83d91898-7763-47d7-b03b-b92132375c47  \n",
       "25139   5441c29d-3602-4898-b1a1-b77fa23b8e50  \n",
       "27674   5441c29d-3602-4898-b1a1-b77fa23b8e50  \n",
       "32700                                    NaN  \n",
       "40008   5441c29d-3602-4898-b1a1-b77fa23b8e50  \n",
       "40030                                    NaN  \n",
       "44602   83d91898-7763-47d7-b03b-b92132375c47  \n",
       "44799   5441c29d-3602-4898-b1a1-b77fa23b8e50  \n",
       "49995   5441c29d-3602-4898-b1a1-b77fa23b8e50  \n",
       "79045   83d91898-7763-47d7-b03b-b92132375c47  \n",
       "90193                                    NaN  \n",
       "129430  5441c29d-3602-4898-b1a1-b77fa23b8e50  \n",
       "134688                                   NaN  \n",
       "144998                                   NaN  \n",
       "151438                                   NaN  \n",
       "153740  5441c29d-3602-4898-b1a1-b77fa23b8e50  \n",
       "156888                                   NaN  \n",
       "207420  4a4ee089-93b1-4470-af9a-6ff575d32704  \n",
       "211327  83d91898-7763-47d7-b03b-b92132375c47  \n",
       "220195  5441c29d-3602-4898-b1a1-b77fa23b8e50  \n",
       "222435                                   NaN  \n",
       "234814                                   NaN  \n",
       "236780  5441c29d-3602-4898-b1a1-b77fa23b8e50  \n",
       "237956  5441c29d-3602-4898-b1a1-b77fa23b8e50  \n",
       "256571  5441c29d-3602-4898-b1a1-b77fa23b8e50  \n",
       "257937                                   NaN  \n",
       "263415                                   NaN  \n",
       "285598  4a4ee089-93b1-4470-af9a-6ff575d32704  \n",
       "287448                                   NaN  \n",
       "300264                                   NaN  \n",
       "305503  5441c29d-3602-4898-b1a1-b77fa23b8e50  \n",
       "308147  5441c29d-3602-4898-b1a1-b77fa23b8e50  \n",
       "312095                                   NaN  \n",
       "340746                                   NaN  \n",
       "342357  83d91898-7763-47d7-b03b-b92132375c47  \n",
       "361017                                   NaN  \n",
       "370474  2996c6a2-215d-4f78-aed6-81a130b04816  \n",
       "391292                                   NaN  \n",
       "419678  4a4ee089-93b1-4470-af9a-6ff575d32704  \n",
       "420948  5441c29d-3602-4898-b1a1-b77fa23b8e50  \n",
       "425170                                   NaN  \n",
       "425545  2996c6a2-215d-4f78-aed6-81a130b04816  \n",
       "427620  5441c29d-3602-4898-b1a1-b77fa23b8e50  \n",
       "450252  5441c29d-3602-4898-b1a1-b77fa23b8e50  \n",
       "452189                                   NaN  \n",
       "453800                                   NaN  \n",
       "467016                                   NaN  \n",
       "481543  5441c29d-3602-4898-b1a1-b77fa23b8e50  \n",
       "487168  4a4ee089-93b1-4470-af9a-6ff575d32704  \n",
       "510180  5441c29d-3602-4898-b1a1-b77fa23b8e50  \n",
       "529402                                   NaN  \n",
       "535081  5441c29d-3602-4898-b1a1-b77fa23b8e50  "
      ]
     },
     "execution_count": 33,
     "metadata": {},
     "output_type": "execute_result"
    }
   ],
   "source": [
    "persons_lst = [\n",
    "    281542, # The Prodigy\n",
    "    56683,  # Bowie\n",
    "    276125, # Pink Floyd\n",
    "    200082  # Lil Wayne\n",
    "]\n",
    "persons[persons['person_id'].isin(persons_lst)]"
   ]
  },
  {
   "cell_type": "code",
   "execution_count": 55,
   "metadata": {},
   "outputs": [
    {
     "data": {
      "text/html": [
       "<div>\n",
       "<style scoped>\n",
       "    .dataframe tbody tr th:only-of-type {\n",
       "        vertical-align: middle;\n",
       "    }\n",
       "\n",
       "    .dataframe tbody tr th {\n",
       "        vertical-align: top;\n",
       "    }\n",
       "\n",
       "    .dataframe thead th {\n",
       "        text-align: right;\n",
       "    }\n",
       "</style>\n",
       "<table border=\"1\" class=\"dataframe\">\n",
       "  <thead>\n",
       "    <tr style=\"text-align: right;\">\n",
       "      <th></th>\n",
       "      <th>person_id</th>\n",
       "      <th>top</th>\n",
       "    </tr>\n",
       "  </thead>\n",
       "  <tbody>\n",
       "    <tr>\n",
       "      <th>0</th>\n",
       "      <td>281542</td>\n",
       "      <td>148559</td>\n",
       "    </tr>\n",
       "    <tr>\n",
       "      <th>0</th>\n",
       "      <td>281542</td>\n",
       "      <td>74637</td>\n",
       "    </tr>\n",
       "    <tr>\n",
       "      <th>0</th>\n",
       "      <td>281542</td>\n",
       "      <td>87347</td>\n",
       "    </tr>\n",
       "    <tr>\n",
       "      <th>0</th>\n",
       "      <td>281542</td>\n",
       "      <td>463333</td>\n",
       "    </tr>\n",
       "    <tr>\n",
       "      <th>0</th>\n",
       "      <td>281542</td>\n",
       "      <td>294342</td>\n",
       "    </tr>\n",
       "    <tr>\n",
       "      <th>...</th>\n",
       "      <td>...</td>\n",
       "      <td>...</td>\n",
       "    </tr>\n",
       "    <tr>\n",
       "      <th>3</th>\n",
       "      <td>200082</td>\n",
       "      <td>8846</td>\n",
       "    </tr>\n",
       "    <tr>\n",
       "      <th>3</th>\n",
       "      <td>200082</td>\n",
       "      <td>49227</td>\n",
       "    </tr>\n",
       "    <tr>\n",
       "      <th>3</th>\n",
       "      <td>200082</td>\n",
       "      <td>208682</td>\n",
       "    </tr>\n",
       "    <tr>\n",
       "      <th>3</th>\n",
       "      <td>200082</td>\n",
       "      <td>173505</td>\n",
       "    </tr>\n",
       "    <tr>\n",
       "      <th>3</th>\n",
       "      <td>200082</td>\n",
       "      <td>200037</td>\n",
       "    </tr>\n",
       "  </tbody>\n",
       "</table>\n",
       "<p>80 rows × 2 columns</p>\n",
       "</div>"
      ],
      "text/plain": [
       "    person_id     top\n",
       "0      281542  148559\n",
       "0      281542   74637\n",
       "0      281542   87347\n",
       "0      281542  463333\n",
       "0      281542  294342\n",
       "..        ...     ...\n",
       "3      200082    8846\n",
       "3      200082   49227\n",
       "3      200082  208682\n",
       "3      200082  173505\n",
       "3      200082  200037\n",
       "\n",
       "[80 rows x 2 columns]"
      ]
     },
     "execution_count": 55,
     "metadata": {},
     "output_type": "execute_result"
    }
   ],
   "source": [
    "top_20 = [(p_id, search_nn(embeddings, embeddings.loc[[p_id]], num_top_elements=20)) for p_id in persons_lst]\n",
    "top_20 = pd.DataFrame(top_20, columns=['person_id', 'top']).explode('top')\n",
    "top_20['top'] = top_20['top'].astype(int)\n",
    "top_20"
   ]
  },
  {
   "cell_type": "code",
   "execution_count": 56,
   "metadata": {},
   "outputs": [
    {
     "data": {
      "text/html": [
       "<div>\n",
       "<style scoped>\n",
       "    .dataframe tbody tr th:only-of-type {\n",
       "        vertical-align: middle;\n",
       "    }\n",
       "\n",
       "    .dataframe tbody tr th {\n",
       "        vertical-align: top;\n",
       "    }\n",
       "\n",
       "    .dataframe thead th {\n",
       "        text-align: right;\n",
       "    }\n",
       "</style>\n",
       "<table border=\"1\" class=\"dataframe\">\n",
       "  <thead>\n",
       "    <tr style=\"text-align: right;\">\n",
       "      <th></th>\n",
       "      <th>person_id</th>\n",
       "      <th>person_name</th>\n",
       "    </tr>\n",
       "  </thead>\n",
       "  <tbody>\n",
       "    <tr>\n",
       "      <th>0</th>\n",
       "      <td>0</td>\n",
       "      <td>000003+Music+Instructor</td>\n",
       "    </tr>\n",
       "    <tr>\n",
       "      <th>1</th>\n",
       "      <td>1</td>\n",
       "      <td>00-01</td>\n",
       "    </tr>\n",
       "    <tr>\n",
       "      <th>2</th>\n",
       "      <td>2</td>\n",
       "      <td>0005.+Overkill</td>\n",
       "    </tr>\n",
       "    <tr>\n",
       "      <th>3</th>\n",
       "      <td>3</td>\n",
       "      <td>000C+Tony+Dize</td>\n",
       "    </tr>\n",
       "    <tr>\n",
       "      <th>4</th>\n",
       "      <td>4</td>\n",
       "      <td>000+Oscarcito</td>\n",
       "    </tr>\n",
       "    <tr>\n",
       "      <th>...</th>\n",
       "      <td>...</td>\n",
       "      <td>...</td>\n",
       "    </tr>\n",
       "    <tr>\n",
       "      <th>560922</th>\n",
       "      <td>595136</td>\n",
       "      <td>Kwajbasket+&amp;+Gimu</td>\n",
       "    </tr>\n",
       "    <tr>\n",
       "      <th>560923</th>\n",
       "      <td>595137</td>\n",
       "      <td>David+Granha+&amp;+John+Axion</td>\n",
       "    </tr>\n",
       "    <tr>\n",
       "      <th>560924</th>\n",
       "      <td>595138</td>\n",
       "      <td>Tam+Cooper,+Will+Saul</td>\n",
       "    </tr>\n",
       "    <tr>\n",
       "      <th>560925</th>\n",
       "      <td>595139</td>\n",
       "      <td>Cousin+Silas+&amp;+LPF12</td>\n",
       "    </tr>\n",
       "    <tr>\n",
       "      <th>560926</th>\n",
       "      <td>595140</td>\n",
       "      <td>The+Dwindlers</td>\n",
       "    </tr>\n",
       "  </tbody>\n",
       "</table>\n",
       "<p>560927 rows × 2 columns</p>\n",
       "</div>"
      ],
      "text/plain": [
       "        person_id                person_name\n",
       "0               0    000003+Music+Instructor\n",
       "1               1                      00-01\n",
       "2               2             0005.+Overkill\n",
       "3               3             000C+Tony+Dize\n",
       "4               4              000+Oscarcito\n",
       "...           ...                        ...\n",
       "560922     595136          Kwajbasket+&+Gimu\n",
       "560923     595137  David+Granha+&+John+Axion\n",
       "560924     595138      Tam+Cooper,+Will+Saul\n",
       "560925     595139       Cousin+Silas+&+LPF12\n",
       "560926     595140              The+Dwindlers\n",
       "\n",
       "[560927 rows x 2 columns]"
      ]
     },
     "execution_count": 56,
     "metadata": {},
     "output_type": "execute_result"
    }
   ],
   "source": [
    "persons_uniq = persons.copy()\n",
    "persons_uniq['person_lenght'] = persons_uniq['person_name'].str.len()\n",
    "persons_uniq = persons_uniq.sort_values('person_lenght')\n",
    "persons_uniq = persons_uniq.groupby(['person_id'], as_index=False)['person_name'].first()\n",
    "persons_uniq"
   ]
  },
  {
   "cell_type": "code",
   "execution_count": 57,
   "metadata": {},
   "outputs": [
    {
     "data": {
      "text/html": [
       "<div>\n",
       "<style scoped>\n",
       "    .dataframe tbody tr th:only-of-type {\n",
       "        vertical-align: middle;\n",
       "    }\n",
       "\n",
       "    .dataframe tbody tr th {\n",
       "        vertical-align: top;\n",
       "    }\n",
       "\n",
       "    .dataframe thead th {\n",
       "        text-align: right;\n",
       "    }\n",
       "</style>\n",
       "<table border=\"1\" class=\"dataframe\">\n",
       "  <thead>\n",
       "    <tr style=\"text-align: right;\">\n",
       "      <th></th>\n",
       "      <th>person_id</th>\n",
       "      <th>top</th>\n",
       "      <th>person_name</th>\n",
       "      <th>person_name_neighbour</th>\n",
       "    </tr>\n",
       "  </thead>\n",
       "  <tbody>\n",
       "    <tr>\n",
       "      <th>0</th>\n",
       "      <td>281542</td>\n",
       "      <td>148559</td>\n",
       "      <td>Prodigy</td>\n",
       "      <td>Fatboy+Slim</td>\n",
       "    </tr>\n",
       "    <tr>\n",
       "      <th>1</th>\n",
       "      <td>281542</td>\n",
       "      <td>74637</td>\n",
       "      <td>Prodigy</td>\n",
       "      <td>Chemical+Brothers</td>\n",
       "    </tr>\n",
       "    <tr>\n",
       "      <th>2</th>\n",
       "      <td>281542</td>\n",
       "      <td>87347</td>\n",
       "      <td>Prodigy</td>\n",
       "      <td>TCM</td>\n",
       "    </tr>\n",
       "    <tr>\n",
       "      <th>3</th>\n",
       "      <td>281542</td>\n",
       "      <td>463333</td>\n",
       "      <td>Prodigy</td>\n",
       "      <td>JXL</td>\n",
       "    </tr>\n",
       "    <tr>\n",
       "      <th>4</th>\n",
       "      <td>281542</td>\n",
       "      <td>294342</td>\n",
       "      <td>Prodigy</td>\n",
       "      <td>Richard+Cheese</td>\n",
       "    </tr>\n",
       "    <tr>\n",
       "      <th>...</th>\n",
       "      <td>...</td>\n",
       "      <td>...</td>\n",
       "      <td>...</td>\n",
       "      <td>...</td>\n",
       "    </tr>\n",
       "    <tr>\n",
       "      <th>75</th>\n",
       "      <td>200082</td>\n",
       "      <td>8846</td>\n",
       "      <td>Lil+Wayne</td>\n",
       "      <td>Ace+Hood</td>\n",
       "    </tr>\n",
       "    <tr>\n",
       "      <th>76</th>\n",
       "      <td>200082</td>\n",
       "      <td>49227</td>\n",
       "      <td>Lil+Wayne</td>\n",
       "      <td>Birdman</td>\n",
       "    </tr>\n",
       "    <tr>\n",
       "      <th>77</th>\n",
       "      <td>200082</td>\n",
       "      <td>208682</td>\n",
       "      <td>Lil+Wayne</td>\n",
       "      <td>Ludacris</td>\n",
       "    </tr>\n",
       "    <tr>\n",
       "      <th>78</th>\n",
       "      <td>200082</td>\n",
       "      <td>173505</td>\n",
       "      <td>Lil+Wayne</td>\n",
       "      <td>Gucci+Mane</td>\n",
       "    </tr>\n",
       "    <tr>\n",
       "      <th>79</th>\n",
       "      <td>200082</td>\n",
       "      <td>200037</td>\n",
       "      <td>Lil+Wayne</td>\n",
       "      <td>Lil+Jon</td>\n",
       "    </tr>\n",
       "  </tbody>\n",
       "</table>\n",
       "<p>80 rows × 4 columns</p>\n",
       "</div>"
      ],
      "text/plain": [
       "    person_id     top person_name person_name_neighbour\n",
       "0      281542  148559     Prodigy           Fatboy+Slim\n",
       "1      281542   74637     Prodigy     Chemical+Brothers\n",
       "2      281542   87347     Prodigy                   TCM\n",
       "3      281542  463333     Prodigy                   JXL\n",
       "4      281542  294342     Prodigy        Richard+Cheese\n",
       "..        ...     ...         ...                   ...\n",
       "75     200082    8846   Lil+Wayne              Ace+Hood\n",
       "76     200082   49227   Lil+Wayne               Birdman\n",
       "77     200082  208682   Lil+Wayne              Ludacris\n",
       "78     200082  173505   Lil+Wayne            Gucci+Mane\n",
       "79     200082  200037   Lil+Wayne               Lil+Jon\n",
       "\n",
       "[80 rows x 4 columns]"
      ]
     },
     "execution_count": 57,
     "metadata": {},
     "output_type": "execute_result"
    }
   ],
   "source": [
    "top_20_with_names = (top_20\n",
    "    .merge(persons_uniq, how=\"left\", on=['person_id'])\n",
    "    .merge(persons_uniq, how=\"left\", left_on=['top'], right_on=['person_id'], suffixes=('', '_neighbour'))\n",
    "    .drop(columns=['person_id_neighbour'])\n",
    ")\n",
    "\n",
    "top_20_with_names"
   ]
  },
  {
   "cell_type": "markdown",
   "metadata": {},
   "source": [
    "### Посмотрим поближе на топ 20 по ряду исполнителей"
   ]
  },
  {
   "cell_type": "code",
   "execution_count": 58,
   "metadata": {
    "scrolled": false
   },
   "outputs": [
    {
     "data": {
      "text/html": [
       "<div>\n",
       "<style scoped>\n",
       "    .dataframe tbody tr th:only-of-type {\n",
       "        vertical-align: middle;\n",
       "    }\n",
       "\n",
       "    .dataframe tbody tr th {\n",
       "        vertical-align: top;\n",
       "    }\n",
       "\n",
       "    .dataframe thead th {\n",
       "        text-align: right;\n",
       "    }\n",
       "</style>\n",
       "<table border=\"1\" class=\"dataframe\">\n",
       "  <thead>\n",
       "    <tr style=\"text-align: right;\">\n",
       "      <th></th>\n",
       "      <th>person_id</th>\n",
       "      <th>top</th>\n",
       "      <th>person_name</th>\n",
       "      <th>person_name_neighbour</th>\n",
       "    </tr>\n",
       "  </thead>\n",
       "  <tbody>\n",
       "    <tr>\n",
       "      <th>0</th>\n",
       "      <td>281542</td>\n",
       "      <td>148559</td>\n",
       "      <td>Prodigy</td>\n",
       "      <td>Fatboy+Slim</td>\n",
       "    </tr>\n",
       "    <tr>\n",
       "      <th>1</th>\n",
       "      <td>281542</td>\n",
       "      <td>74637</td>\n",
       "      <td>Prodigy</td>\n",
       "      <td>Chemical+Brothers</td>\n",
       "    </tr>\n",
       "    <tr>\n",
       "      <th>2</th>\n",
       "      <td>281542</td>\n",
       "      <td>87347</td>\n",
       "      <td>Prodigy</td>\n",
       "      <td>TCM</td>\n",
       "    </tr>\n",
       "    <tr>\n",
       "      <th>3</th>\n",
       "      <td>281542</td>\n",
       "      <td>463333</td>\n",
       "      <td>Prodigy</td>\n",
       "      <td>JXL</td>\n",
       "    </tr>\n",
       "    <tr>\n",
       "      <th>4</th>\n",
       "      <td>281542</td>\n",
       "      <td>294342</td>\n",
       "      <td>Prodigy</td>\n",
       "      <td>Richard+Cheese</td>\n",
       "    </tr>\n",
       "    <tr>\n",
       "      <th>5</th>\n",
       "      <td>281542</td>\n",
       "      <td>252583</td>\n",
       "      <td>Prodigy</td>\n",
       "      <td>NIN</td>\n",
       "    </tr>\n",
       "    <tr>\n",
       "      <th>6</th>\n",
       "      <td>281542</td>\n",
       "      <td>147287</td>\n",
       "      <td>Prodigy</td>\n",
       "      <td>Faithless</td>\n",
       "    </tr>\n",
       "    <tr>\n",
       "      <th>7</th>\n",
       "      <td>281542</td>\n",
       "      <td>322429</td>\n",
       "      <td>Prodigy</td>\n",
       "      <td>Skunk+Anansie</td>\n",
       "    </tr>\n",
       "    <tr>\n",
       "      <th>8</th>\n",
       "      <td>281542</td>\n",
       "      <td>55071</td>\n",
       "      <td>Prodigy</td>\n",
       "      <td>Bomfunk+MCs</td>\n",
       "    </tr>\n",
       "    <tr>\n",
       "      <th>9</th>\n",
       "      <td>281542</td>\n",
       "      <td>122833</td>\n",
       "      <td>Prodigy</td>\n",
       "      <td>Dub+Fx</td>\n",
       "    </tr>\n",
       "    <tr>\n",
       "      <th>10</th>\n",
       "      <td>281542</td>\n",
       "      <td>169922</td>\n",
       "      <td>Prodigy</td>\n",
       "      <td>Gorilaz</td>\n",
       "    </tr>\n",
       "    <tr>\n",
       "      <th>11</th>\n",
       "      <td>281542</td>\n",
       "      <td>161929</td>\n",
       "      <td>Prodigy</td>\n",
       "      <td>Garbage</td>\n",
       "    </tr>\n",
       "    <tr>\n",
       "      <th>12</th>\n",
       "      <td>281542</td>\n",
       "      <td>52299</td>\n",
       "      <td>Prodigy</td>\n",
       "      <td>Bloodhoundgang</td>\n",
       "    </tr>\n",
       "    <tr>\n",
       "      <th>13</th>\n",
       "      <td>281542</td>\n",
       "      <td>233344</td>\n",
       "      <td>Prodigy</td>\n",
       "      <td>Mindless+Self+Indulgence</td>\n",
       "    </tr>\n",
       "    <tr>\n",
       "      <th>14</th>\n",
       "      <td>281542</td>\n",
       "      <td>447240</td>\n",
       "      <td>Prodigy</td>\n",
       "      <td>Jamiroqua</td>\n",
       "    </tr>\n",
       "    <tr>\n",
       "      <th>15</th>\n",
       "      <td>281542</td>\n",
       "      <td>271162</td>\n",
       "      <td>Prodigy</td>\n",
       "      <td>Pendulum</td>\n",
       "    </tr>\n",
       "    <tr>\n",
       "      <th>16</th>\n",
       "      <td>281542</td>\n",
       "      <td>136354</td>\n",
       "      <td>Prodigy</td>\n",
       "      <td>Electric+Six</td>\n",
       "    </tr>\n",
       "    <tr>\n",
       "      <th>17</th>\n",
       "      <td>281542</td>\n",
       "      <td>330277</td>\n",
       "      <td>Prodigy</td>\n",
       "      <td>Spiderbait</td>\n",
       "    </tr>\n",
       "    <tr>\n",
       "      <th>18</th>\n",
       "      <td>281542</td>\n",
       "      <td>217607</td>\n",
       "      <td>Prodigy</td>\n",
       "      <td>Marilyn+Manson</td>\n",
       "    </tr>\n",
       "    <tr>\n",
       "      <th>19</th>\n",
       "      <td>281542</td>\n",
       "      <td>463404</td>\n",
       "      <td>Prodigy</td>\n",
       "      <td>Juno+Reactor</td>\n",
       "    </tr>\n",
       "  </tbody>\n",
       "</table>\n",
       "</div>"
      ],
      "text/plain": [
       "    person_id     top person_name     person_name_neighbour\n",
       "0      281542  148559     Prodigy               Fatboy+Slim\n",
       "1      281542   74637     Prodigy         Chemical+Brothers\n",
       "2      281542   87347     Prodigy                       TCM\n",
       "3      281542  463333     Prodigy                       JXL\n",
       "4      281542  294342     Prodigy            Richard+Cheese\n",
       "5      281542  252583     Prodigy                       NIN\n",
       "6      281542  147287     Prodigy                 Faithless\n",
       "7      281542  322429     Prodigy             Skunk+Anansie\n",
       "8      281542   55071     Prodigy               Bomfunk+MCs\n",
       "9      281542  122833     Prodigy                    Dub+Fx\n",
       "10     281542  169922     Prodigy                   Gorilaz\n",
       "11     281542  161929     Prodigy                   Garbage\n",
       "12     281542   52299     Prodigy            Bloodhoundgang\n",
       "13     281542  233344     Prodigy  Mindless+Self+Indulgence\n",
       "14     281542  447240     Prodigy                 Jamiroqua\n",
       "15     281542  271162     Prodigy                  Pendulum\n",
       "16     281542  136354     Prodigy              Electric+Six\n",
       "17     281542  330277     Prodigy                Spiderbait\n",
       "18     281542  217607     Prodigy            Marilyn+Manson\n",
       "19     281542  463404     Prodigy              Juno+Reactor"
      ]
     },
     "execution_count": 58,
     "metadata": {},
     "output_type": "execute_result"
    }
   ],
   "source": [
    "# Prodigy\n",
    "top_20_with_names[\n",
    "    top_20_with_names['person_id'].isin([281542])\n",
    "]\n",
    "\n",
    "# Посмотрел похожие на сайте самого last.fm\n",
    "# https://www.last.fm/ru/music/The+Prodigy/+similar\n",
    "# 1 страница: TCM, Chemical+Brothers, Fatboy+Slim, JXL, Pendulum\n",
    "# 2 страница: Moby, Faithless\n",
    "# 3 страница: Bomfunk+MCs"
   ]
  },
  {
   "cell_type": "code",
   "execution_count": 59,
   "metadata": {},
   "outputs": [
    {
     "data": {
      "text/html": [
       "<div>\n",
       "<style scoped>\n",
       "    .dataframe tbody tr th:only-of-type {\n",
       "        vertical-align: middle;\n",
       "    }\n",
       "\n",
       "    .dataframe tbody tr th {\n",
       "        vertical-align: top;\n",
       "    }\n",
       "\n",
       "    .dataframe thead th {\n",
       "        text-align: right;\n",
       "    }\n",
       "</style>\n",
       "<table border=\"1\" class=\"dataframe\">\n",
       "  <thead>\n",
       "    <tr style=\"text-align: right;\">\n",
       "      <th></th>\n",
       "      <th>person_id</th>\n",
       "      <th>top</th>\n",
       "      <th>person_name</th>\n",
       "      <th>person_name_neighbour</th>\n",
       "    </tr>\n",
       "  </thead>\n",
       "  <tbody>\n",
       "    <tr>\n",
       "      <th>20</th>\n",
       "      <td>56683</td>\n",
       "      <td>455930</td>\n",
       "      <td>Bowie</td>\n",
       "      <td>Johhny+Cash</td>\n",
       "    </tr>\n",
       "    <tr>\n",
       "      <th>21</th>\n",
       "      <td>56683</td>\n",
       "      <td>80485</td>\n",
       "      <td>Bowie</td>\n",
       "      <td>Clash</td>\n",
       "    </tr>\n",
       "    <tr>\n",
       "      <th>22</th>\n",
       "      <td>56683</td>\n",
       "      <td>246</td>\n",
       "      <td>Bowie</td>\n",
       "      <td>Beach+Boys</td>\n",
       "    </tr>\n",
       "    <tr>\n",
       "      <th>23</th>\n",
       "      <td>56683</td>\n",
       "      <td>438990</td>\n",
       "      <td>Bowie</td>\n",
       "      <td>Iggy</td>\n",
       "    </tr>\n",
       "    <tr>\n",
       "      <th>24</th>\n",
       "      <td>56683</td>\n",
       "      <td>272592</td>\n",
       "      <td>Bowie</td>\n",
       "      <td>Peter+Gabriel</td>\n",
       "    </tr>\n",
       "    <tr>\n",
       "      <th>25</th>\n",
       "      <td>56683</td>\n",
       "      <td>278529</td>\n",
       "      <td>Bowie</td>\n",
       "      <td>Police</td>\n",
       "    </tr>\n",
       "    <tr>\n",
       "      <th>26</th>\n",
       "      <td>56683</td>\n",
       "      <td>53987</td>\n",
       "      <td>Bowie</td>\n",
       "      <td>Bob+Dylan</td>\n",
       "    </tr>\n",
       "    <tr>\n",
       "      <th>27</th>\n",
       "      <td>56683</td>\n",
       "      <td>343695</td>\n",
       "      <td>Bowie</td>\n",
       "      <td>Talking+Heads</td>\n",
       "    </tr>\n",
       "    <tr>\n",
       "      <th>28</th>\n",
       "      <td>56683</td>\n",
       "      <td>206918</td>\n",
       "      <td>Bowie</td>\n",
       "      <td>Lou+Reed</td>\n",
       "    </tr>\n",
       "    <tr>\n",
       "      <th>29</th>\n",
       "      <td>56683</td>\n",
       "      <td>184674</td>\n",
       "      <td>Bowie</td>\n",
       "      <td>Kinks</td>\n",
       "    </tr>\n",
       "    <tr>\n",
       "      <th>30</th>\n",
       "      <td>56683</td>\n",
       "      <td>336350</td>\n",
       "      <td>Bowie</td>\n",
       "      <td>Stranglers</td>\n",
       "    </tr>\n",
       "    <tr>\n",
       "      <th>31</th>\n",
       "      <td>56683</td>\n",
       "      <td>31356</td>\n",
       "      <td>Bowie</td>\n",
       "      <td>Elvis</td>\n",
       "    </tr>\n",
       "    <tr>\n",
       "      <th>32</th>\n",
       "      <td>56683</td>\n",
       "      <td>52191</td>\n",
       "      <td>Bowie</td>\n",
       "      <td>Blondie</td>\n",
       "    </tr>\n",
       "    <tr>\n",
       "      <th>33</th>\n",
       "      <td>56683</td>\n",
       "      <td>152731</td>\n",
       "      <td>Bowie</td>\n",
       "      <td>fleetwod+mac</td>\n",
       "    </tr>\n",
       "    <tr>\n",
       "      <th>34</th>\n",
       "      <td>56683</td>\n",
       "      <td>134539</td>\n",
       "      <td>Bowie</td>\n",
       "      <td>Edwyn+Collins</td>\n",
       "    </tr>\n",
       "    <tr>\n",
       "      <th>35</th>\n",
       "      <td>56683</td>\n",
       "      <td>54198</td>\n",
       "      <td>Bowie</td>\n",
       "      <td>Bob+Marley</td>\n",
       "    </tr>\n",
       "    <tr>\n",
       "      <th>36</th>\n",
       "      <td>56683</td>\n",
       "      <td>292035</td>\n",
       "      <td>Bowie</td>\n",
       "      <td>Rem</td>\n",
       "    </tr>\n",
       "    <tr>\n",
       "      <th>37</th>\n",
       "      <td>56683</td>\n",
       "      <td>196973</td>\n",
       "      <td>Bowie</td>\n",
       "      <td>John+Lenon</td>\n",
       "    </tr>\n",
       "    <tr>\n",
       "      <th>38</th>\n",
       "      <td>56683</td>\n",
       "      <td>124041</td>\n",
       "      <td>Bowie</td>\n",
       "      <td>Elvis+Costello</td>\n",
       "    </tr>\n",
       "    <tr>\n",
       "      <th>39</th>\n",
       "      <td>56683</td>\n",
       "      <td>60190</td>\n",
       "      <td>Bowie</td>\n",
       "      <td>Bruce+Springsteen</td>\n",
       "    </tr>\n",
       "  </tbody>\n",
       "</table>\n",
       "</div>"
      ],
      "text/plain": [
       "    person_id     top person_name person_name_neighbour\n",
       "20      56683  455930       Bowie           Johhny+Cash\n",
       "21      56683   80485       Bowie                 Clash\n",
       "22      56683     246       Bowie            Beach+Boys\n",
       "23      56683  438990       Bowie                  Iggy\n",
       "24      56683  272592       Bowie         Peter+Gabriel\n",
       "25      56683  278529       Bowie                Police\n",
       "26      56683   53987       Bowie             Bob+Dylan\n",
       "27      56683  343695       Bowie         Talking+Heads\n",
       "28      56683  206918       Bowie              Lou+Reed\n",
       "29      56683  184674       Bowie                 Kinks\n",
       "30      56683  336350       Bowie            Stranglers\n",
       "31      56683   31356       Bowie                 Elvis\n",
       "32      56683   52191       Bowie               Blondie\n",
       "33      56683  152731       Bowie          fleetwod+mac\n",
       "34      56683  134539       Bowie         Edwyn+Collins\n",
       "35      56683   54198       Bowie            Bob+Marley\n",
       "36      56683  292035       Bowie                   Rem\n",
       "37      56683  196973       Bowie            John+Lenon\n",
       "38      56683  124041       Bowie        Elvis+Costello\n",
       "39      56683   60190       Bowie     Bruce+Springsteen"
      ]
     },
     "execution_count": 59,
     "metadata": {},
     "output_type": "execute_result"
    }
   ],
   "source": [
    "# Bowie\n",
    "top_20_with_names[\n",
    "    top_20_with_names['person_id'].isin([56683])\n",
    "]\n",
    "\n",
    "# Посмотрел похожие на сайте самого last.fm\n",
    "# https://www.last.fm/ru/music/David+Bowie/+similar\n",
    "# 1 страница: Iggy, Lou+Reed, Talking+Heads\n",
    "# 2 страница: John+Lenon, Bob+Dylan\n",
    "# 3 страница: Kinks, Blondie, Clash, fleetwod+mac\n",
    "# 4 страница: Peter+Gabriel"
   ]
  },
  {
   "cell_type": "code",
   "execution_count": 60,
   "metadata": {},
   "outputs": [
    {
     "data": {
      "text/html": [
       "<div>\n",
       "<style scoped>\n",
       "    .dataframe tbody tr th:only-of-type {\n",
       "        vertical-align: middle;\n",
       "    }\n",
       "\n",
       "    .dataframe tbody tr th {\n",
       "        vertical-align: top;\n",
       "    }\n",
       "\n",
       "    .dataframe thead th {\n",
       "        text-align: right;\n",
       "    }\n",
       "</style>\n",
       "<table border=\"1\" class=\"dataframe\">\n",
       "  <thead>\n",
       "    <tr style=\"text-align: right;\">\n",
       "      <th></th>\n",
       "      <th>person_id</th>\n",
       "      <th>top</th>\n",
       "      <th>person_name</th>\n",
       "      <th>person_name_neighbour</th>\n",
       "    </tr>\n",
       "  </thead>\n",
       "  <tbody>\n",
       "    <tr>\n",
       "      <th>40</th>\n",
       "      <td>276125</td>\n",
       "      <td>359758</td>\n",
       "      <td>Pink+Floud</td>\n",
       "      <td>Jimi+Hendrix</td>\n",
       "    </tr>\n",
       "    <tr>\n",
       "      <th>41</th>\n",
       "      <td>276125</td>\n",
       "      <td>371939</td>\n",
       "      <td>Pink+Floud</td>\n",
       "      <td>The+Who</td>\n",
       "    </tr>\n",
       "    <tr>\n",
       "      <th>42</th>\n",
       "      <td>276125</td>\n",
       "      <td>68459</td>\n",
       "      <td>Pink+Floud</td>\n",
       "      <td>Carlos+Santana</td>\n",
       "    </tr>\n",
       "    <tr>\n",
       "      <th>43</th>\n",
       "      <td>276125</td>\n",
       "      <td>196973</td>\n",
       "      <td>Pink+Floud</td>\n",
       "      <td>John+Lenon</td>\n",
       "    </tr>\n",
       "    <tr>\n",
       "      <th>44</th>\n",
       "      <td>276125</td>\n",
       "      <td>70915</td>\n",
       "      <td>Pink+Floud</td>\n",
       "      <td>CCR</td>\n",
       "    </tr>\n",
       "    <tr>\n",
       "      <th>45</th>\n",
       "      <td>276125</td>\n",
       "      <td>195697</td>\n",
       "      <td>Pink+Floud</td>\n",
       "      <td>Led+Zepplin</td>\n",
       "    </tr>\n",
       "    <tr>\n",
       "      <th>46</th>\n",
       "      <td>276125</td>\n",
       "      <td>156875</td>\n",
       "      <td>Pink+Floud</td>\n",
       "      <td>Frank+Zappa</td>\n",
       "    </tr>\n",
       "    <tr>\n",
       "      <th>47</th>\n",
       "      <td>276125</td>\n",
       "      <td>114685</td>\n",
       "      <td>Pink+Floud</td>\n",
       "      <td>Dire+Straits</td>\n",
       "    </tr>\n",
       "    <tr>\n",
       "      <th>48</th>\n",
       "      <td>276125</td>\n",
       "      <td>354785</td>\n",
       "      <td>Pink+Floud</td>\n",
       "      <td>Doors</td>\n",
       "    </tr>\n",
       "    <tr>\n",
       "      <th>49</th>\n",
       "      <td>276125</td>\n",
       "      <td>299571</td>\n",
       "      <td>Pink+Floud</td>\n",
       "      <td>Rolling+Stones</td>\n",
       "    </tr>\n",
       "    <tr>\n",
       "      <th>50</th>\n",
       "      <td>276125</td>\n",
       "      <td>163720</td>\n",
       "      <td>Pink+Floud</td>\n",
       "      <td>Genesis</td>\n",
       "    </tr>\n",
       "    <tr>\n",
       "      <th>51</th>\n",
       "      <td>276125</td>\n",
       "      <td>124222</td>\n",
       "      <td>Pink+Floud</td>\n",
       "      <td>Queen</td>\n",
       "    </tr>\n",
       "    <tr>\n",
       "      <th>52</th>\n",
       "      <td>276125</td>\n",
       "      <td>184172</td>\n",
       "      <td>Pink+Floud</td>\n",
       "      <td>King+Crimson</td>\n",
       "    </tr>\n",
       "    <tr>\n",
       "      <th>53</th>\n",
       "      <td>276125</td>\n",
       "      <td>372848</td>\n",
       "      <td>Pink+Floud</td>\n",
       "      <td>Thin+Lizzy</td>\n",
       "    </tr>\n",
       "    <tr>\n",
       "      <th>54</th>\n",
       "      <td>276125</td>\n",
       "      <td>42398</td>\n",
       "      <td>Pink+Floud</td>\n",
       "      <td>Beatles</td>\n",
       "    </tr>\n",
       "    <tr>\n",
       "      <th>55</th>\n",
       "      <td>276125</td>\n",
       "      <td>72509</td>\n",
       "      <td>Pink+Floud</td>\n",
       "      <td>Santana</td>\n",
       "    </tr>\n",
       "    <tr>\n",
       "      <th>56</th>\n",
       "      <td>276125</td>\n",
       "      <td>210376</td>\n",
       "      <td>Pink+Floud</td>\n",
       "      <td>Lynyrd+Skynyrd</td>\n",
       "    </tr>\n",
       "    <tr>\n",
       "      <th>57</th>\n",
       "      <td>276125</td>\n",
       "      <td>389113</td>\n",
       "      <td>Pink+Floud</td>\n",
       "      <td>Uriah+Heep</td>\n",
       "    </tr>\n",
       "    <tr>\n",
       "      <th>58</th>\n",
       "      <td>276125</td>\n",
       "      <td>174126</td>\n",
       "      <td>Pink+Floud</td>\n",
       "      <td>Guns+Nroses</td>\n",
       "    </tr>\n",
       "    <tr>\n",
       "      <th>59</th>\n",
       "      <td>276125</td>\n",
       "      <td>454224</td>\n",
       "      <td>Pink+Floud</td>\n",
       "      <td>Joan+Jett+and+the+Blackhearts</td>\n",
       "    </tr>\n",
       "  </tbody>\n",
       "</table>\n",
       "</div>"
      ],
      "text/plain": [
       "    person_id     top person_name          person_name_neighbour\n",
       "40     276125  359758  Pink+Floud                   Jimi+Hendrix\n",
       "41     276125  371939  Pink+Floud                        The+Who\n",
       "42     276125   68459  Pink+Floud                 Carlos+Santana\n",
       "43     276125  196973  Pink+Floud                     John+Lenon\n",
       "44     276125   70915  Pink+Floud                            CCR\n",
       "45     276125  195697  Pink+Floud                    Led+Zepplin\n",
       "46     276125  156875  Pink+Floud                    Frank+Zappa\n",
       "47     276125  114685  Pink+Floud                   Dire+Straits\n",
       "48     276125  354785  Pink+Floud                          Doors\n",
       "49     276125  299571  Pink+Floud                 Rolling+Stones\n",
       "50     276125  163720  Pink+Floud                        Genesis\n",
       "51     276125  124222  Pink+Floud                          Queen\n",
       "52     276125  184172  Pink+Floud                   King+Crimson\n",
       "53     276125  372848  Pink+Floud                     Thin+Lizzy\n",
       "54     276125   42398  Pink+Floud                        Beatles\n",
       "55     276125   72509  Pink+Floud                        Santana\n",
       "56     276125  210376  Pink+Floud                 Lynyrd+Skynyrd\n",
       "57     276125  389113  Pink+Floud                     Uriah+Heep\n",
       "58     276125  174126  Pink+Floud                    Guns+Nroses\n",
       "59     276125  454224  Pink+Floud  Joan+Jett+and+the+Blackhearts"
      ]
     },
     "execution_count": 60,
     "metadata": {},
     "output_type": "execute_result"
    }
   ],
   "source": [
    "# Pink Floyd\n",
    "top_20_with_names[\n",
    "    top_20_with_names['person_id'].isin([276125])\n",
    "]\n",
    "\n",
    "# Посмотрел похожие на сайте самого last.fm\n",
    "# https://www.last.fm/ru/music/Pink+Floyd/+similar\n",
    "# 1 страница: Led+Zepplin, King+Crimson, Doors, Jimi+Hendrix, Beatles\n",
    "# 2 страница: The+Who, Dire+Straits, Genesis\n",
    "# 3 страница: John+Lenon, Queen, Rolling+Stones"
   ]
  },
  {
   "cell_type": "code",
   "execution_count": 61,
   "metadata": {},
   "outputs": [
    {
     "data": {
      "text/html": [
       "<div>\n",
       "<style scoped>\n",
       "    .dataframe tbody tr th:only-of-type {\n",
       "        vertical-align: middle;\n",
       "    }\n",
       "\n",
       "    .dataframe tbody tr th {\n",
       "        vertical-align: top;\n",
       "    }\n",
       "\n",
       "    .dataframe thead th {\n",
       "        text-align: right;\n",
       "    }\n",
       "</style>\n",
       "<table border=\"1\" class=\"dataframe\">\n",
       "  <thead>\n",
       "    <tr style=\"text-align: right;\">\n",
       "      <th></th>\n",
       "      <th>person_id</th>\n",
       "      <th>top</th>\n",
       "      <th>person_name</th>\n",
       "      <th>person_name_neighbour</th>\n",
       "    </tr>\n",
       "  </thead>\n",
       "  <tbody>\n",
       "    <tr>\n",
       "      <th>60</th>\n",
       "      <td>200082</td>\n",
       "      <td>161570</td>\n",
       "      <td>Lil+Wayne</td>\n",
       "      <td>Tyga</td>\n",
       "    </tr>\n",
       "    <tr>\n",
       "      <th>61</th>\n",
       "      <td>200082</td>\n",
       "      <td>374349</td>\n",
       "      <td>Lil+Wayne</td>\n",
       "      <td>T.I.</td>\n",
       "    </tr>\n",
       "    <tr>\n",
       "      <th>62</th>\n",
       "      <td>200082</td>\n",
       "      <td>47600</td>\n",
       "      <td>Lil+Wayne</td>\n",
       "      <td>Big+Sean</td>\n",
       "    </tr>\n",
       "    <tr>\n",
       "      <th>63</th>\n",
       "      <td>200082</td>\n",
       "      <td>3165</td>\n",
       "      <td>Lil+Wayne</td>\n",
       "      <td>2+Chainz</td>\n",
       "    </tr>\n",
       "    <tr>\n",
       "      <th>64</th>\n",
       "      <td>200082</td>\n",
       "      <td>449356</td>\n",
       "      <td>Lil+Wayne</td>\n",
       "      <td>j.cole</td>\n",
       "    </tr>\n",
       "    <tr>\n",
       "      <th>65</th>\n",
       "      <td>200082</td>\n",
       "      <td>420178</td>\n",
       "      <td>Lil+Wayne</td>\n",
       "      <td>DJ+Khaled</td>\n",
       "    </tr>\n",
       "    <tr>\n",
       "      <th>66</th>\n",
       "      <td>200082</td>\n",
       "      <td>462060</td>\n",
       "      <td>Lil+Wayne</td>\n",
       "      <td>Juicy+J</td>\n",
       "    </tr>\n",
       "    <tr>\n",
       "      <th>67</th>\n",
       "      <td>200082</td>\n",
       "      <td>160331</td>\n",
       "      <td>Lil+Wayne</td>\n",
       "      <td>Future</td>\n",
       "    </tr>\n",
       "    <tr>\n",
       "      <th>68</th>\n",
       "      <td>200082</td>\n",
       "      <td>397111</td>\n",
       "      <td>Lil+Wayne</td>\n",
       "      <td>Wale</td>\n",
       "    </tr>\n",
       "    <tr>\n",
       "      <th>69</th>\n",
       "      <td>200082</td>\n",
       "      <td>295069</td>\n",
       "      <td>Lil+Wayne</td>\n",
       "      <td>Rick+Ross</td>\n",
       "    </tr>\n",
       "    <tr>\n",
       "      <th>70</th>\n",
       "      <td>200082</td>\n",
       "      <td>409181</td>\n",
       "      <td>Lil+Wayne</td>\n",
       "      <td>Young+Money</td>\n",
       "    </tr>\n",
       "    <tr>\n",
       "      <th>71</th>\n",
       "      <td>200082</td>\n",
       "      <td>408323</td>\n",
       "      <td>Lil+Wayne</td>\n",
       "      <td>Jeezy</td>\n",
       "    </tr>\n",
       "    <tr>\n",
       "      <th>72</th>\n",
       "      <td>200082</td>\n",
       "      <td>231164</td>\n",
       "      <td>Lil+Wayne</td>\n",
       "      <td>Migos</td>\n",
       "    </tr>\n",
       "    <tr>\n",
       "      <th>73</th>\n",
       "      <td>200082</td>\n",
       "      <td>408017</td>\n",
       "      <td>Lil+Wayne</td>\n",
       "      <td>YG</td>\n",
       "    </tr>\n",
       "    <tr>\n",
       "      <th>74</th>\n",
       "      <td>200082</td>\n",
       "      <td>158190</td>\n",
       "      <td>Lil+Wayne</td>\n",
       "      <td>French+Montana</td>\n",
       "    </tr>\n",
       "    <tr>\n",
       "      <th>75</th>\n",
       "      <td>200082</td>\n",
       "      <td>8846</td>\n",
       "      <td>Lil+Wayne</td>\n",
       "      <td>Ace+Hood</td>\n",
       "    </tr>\n",
       "    <tr>\n",
       "      <th>76</th>\n",
       "      <td>200082</td>\n",
       "      <td>49227</td>\n",
       "      <td>Lil+Wayne</td>\n",
       "      <td>Birdman</td>\n",
       "    </tr>\n",
       "    <tr>\n",
       "      <th>77</th>\n",
       "      <td>200082</td>\n",
       "      <td>208682</td>\n",
       "      <td>Lil+Wayne</td>\n",
       "      <td>Ludacris</td>\n",
       "    </tr>\n",
       "    <tr>\n",
       "      <th>78</th>\n",
       "      <td>200082</td>\n",
       "      <td>173505</td>\n",
       "      <td>Lil+Wayne</td>\n",
       "      <td>Gucci+Mane</td>\n",
       "    </tr>\n",
       "    <tr>\n",
       "      <th>79</th>\n",
       "      <td>200082</td>\n",
       "      <td>200037</td>\n",
       "      <td>Lil+Wayne</td>\n",
       "      <td>Lil+Jon</td>\n",
       "    </tr>\n",
       "  </tbody>\n",
       "</table>\n",
       "</div>"
      ],
      "text/plain": [
       "    person_id     top person_name person_name_neighbour\n",
       "60     200082  161570   Lil+Wayne                  Tyga\n",
       "61     200082  374349   Lil+Wayne                  T.I.\n",
       "62     200082   47600   Lil+Wayne              Big+Sean\n",
       "63     200082    3165   Lil+Wayne              2+Chainz\n",
       "64     200082  449356   Lil+Wayne                j.cole\n",
       "65     200082  420178   Lil+Wayne             DJ+Khaled\n",
       "66     200082  462060   Lil+Wayne               Juicy+J\n",
       "67     200082  160331   Lil+Wayne                Future\n",
       "68     200082  397111   Lil+Wayne                  Wale\n",
       "69     200082  295069   Lil+Wayne             Rick+Ross\n",
       "70     200082  409181   Lil+Wayne           Young+Money\n",
       "71     200082  408323   Lil+Wayne                 Jeezy\n",
       "72     200082  231164   Lil+Wayne                 Migos\n",
       "73     200082  408017   Lil+Wayne                    YG\n",
       "74     200082  158190   Lil+Wayne        French+Montana\n",
       "75     200082    8846   Lil+Wayne              Ace+Hood\n",
       "76     200082   49227   Lil+Wayne               Birdman\n",
       "77     200082  208682   Lil+Wayne              Ludacris\n",
       "78     200082  173505   Lil+Wayne            Gucci+Mane\n",
       "79     200082  200037   Lil+Wayne               Lil+Jon"
      ]
     },
     "execution_count": 61,
     "metadata": {},
     "output_type": "execute_result"
    }
   ],
   "source": [
    "# Lil Wayne\n",
    "top_20_with_names[\n",
    "    top_20_with_names['person_id'].isin([200082])\n",
    "]\n",
    "\n",
    "# Посмотрел похожие на сайте самого last.fm\n",
    "# https://www.last.fm/ru/music/Lil%27+Wayne/+similar\n",
    "# 1 страница: 2+Chainz, T.I., Jeezy, Birdman, Young+Money, Rick+Ross, YG\n",
    "# 2 страница: Future, DJ+Khaled, Gucci+Mane, Big+Sean\n",
    "# 3 страница: j.cole, Ace+Hood\n",
    "# 4 страница: Ludacris, Wale"
   ]
  },
  {
   "cell_type": "code",
   "execution_count": null,
   "metadata": {},
   "outputs": [],
   "source": []
  }
 ],
 "metadata": {
  "kernelspec": {
   "display_name": "Python 3",
   "language": "python",
   "name": "python3"
  },
  "language_info": {
   "codemirror_mode": {
    "name": "ipython",
    "version": 3
   },
   "file_extension": ".py",
   "mimetype": "text/x-python",
   "name": "python",
   "nbconvert_exporter": "python",
   "pygments_lexer": "ipython3",
   "version": "3.8.5"
  }
 },
 "nbformat": 4,
 "nbformat_minor": 2
}
