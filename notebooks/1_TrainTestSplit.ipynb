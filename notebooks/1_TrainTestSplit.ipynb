{
 "cells": [
  {
   "cell_type": "code",
   "execution_count": 1,
   "metadata": {},
   "outputs": [],
   "source": [
    "# # Выполним препроцессинг сырых данных\n",
    "# !python ../src/make_dataset.py"
   ]
  },
  {
   "cell_type": "markdown",
   "metadata": {},
   "source": [
    "# Import"
   ]
  },
  {
   "cell_type": "code",
   "execution_count": 2,
   "metadata": {},
   "outputs": [],
   "source": [
    "import numpy as np\n",
    "import pandas as pd\n",
    "from tqdm import tqdm\n",
    "\n",
    "import sys\n",
    "sys.path.append('../')"
   ]
  },
  {
   "cell_type": "code",
   "execution_count": 3,
   "metadata": {},
   "outputs": [],
   "source": [
    "from src.config import (\n",
    "    path_tracks_temp,\n",
    "    path_persons_temp,\n",
    "    path_sessions_temp,\n",
    "    \n",
    "    path_sessions_train,\n",
    "    path_sessions_test,\n",
    "    path_sessions_val\n",
    ")"
   ]
  },
  {
   "cell_type": "markdown",
   "metadata": {},
   "source": [
    "# Чтение файлов"
   ]
  },
  {
   "cell_type": "markdown",
   "metadata": {},
   "source": [
    "### Данные о треках (справочник `треки`-`исполнитель`-`число_проигрываний`)\n",
    "Некоторые треки и исполнители имеют мало прослушиваний, но будем работать со всеми исполнителями."
   ]
  },
  {
   "cell_type": "code",
   "execution_count": 4,
   "metadata": {},
   "outputs": [
    {
     "name": "stdout",
     "output_type": "stream",
     "text": [
      "(4544643, 3)\n"
     ]
    },
    {
     "data": {
      "text/html": [
       "<div>\n",
       "<style scoped>\n",
       "    .dataframe tbody tr th:only-of-type {\n",
       "        vertical-align: middle;\n",
       "    }\n",
       "\n",
       "    .dataframe tbody tr th {\n",
       "        vertical-align: top;\n",
       "    }\n",
       "\n",
       "    .dataframe thead th {\n",
       "        text-align: right;\n",
       "    }\n",
       "</style>\n",
       "<table border=\"1\" class=\"dataframe\">\n",
       "  <thead>\n",
       "    <tr style=\"text-align: right;\">\n",
       "      <th></th>\n",
       "      <th>track_id</th>\n",
       "      <th>playcount</th>\n",
       "      <th>person_id</th>\n",
       "    </tr>\n",
       "  </thead>\n",
       "  <tbody>\n",
       "    <tr>\n",
       "      <th>0</th>\n",
       "      <td>0</td>\n",
       "      <td>4.0</td>\n",
       "      <td>0</td>\n",
       "    </tr>\n",
       "    <tr>\n",
       "      <th>1</th>\n",
       "      <td>1</td>\n",
       "      <td>495.0</td>\n",
       "      <td>1</td>\n",
       "    </tr>\n",
       "    <tr>\n",
       "      <th>2</th>\n",
       "      <td>2</td>\n",
       "      <td>2.0</td>\n",
       "      <td>2</td>\n",
       "    </tr>\n",
       "    <tr>\n",
       "      <th>3</th>\n",
       "      <td>3</td>\n",
       "      <td>2.0</td>\n",
       "      <td>3</td>\n",
       "    </tr>\n",
       "    <tr>\n",
       "      <th>4</th>\n",
       "      <td>4</td>\n",
       "      <td>1.0</td>\n",
       "      <td>4</td>\n",
       "    </tr>\n",
       "  </tbody>\n",
       "</table>\n",
       "</div>"
      ],
      "text/plain": [
       "   track_id  playcount  person_id\n",
       "0         0        4.0          0\n",
       "1         1      495.0          1\n",
       "2         2        2.0          2\n",
       "3         3        2.0          3\n",
       "4         4        1.0          4"
      ]
     },
     "execution_count": 4,
     "metadata": {},
     "output_type": "execute_result"
    }
   ],
   "source": [
    "# треки\n",
    "tracks = pd.read_csv(path_tracks_temp)\n",
    "print(tracks.shape)\n",
    "tracks.head()"
   ]
  },
  {
   "cell_type": "code",
   "execution_count": 5,
   "metadata": {
    "scrolled": true
   },
   "outputs": [
    {
     "data": {
      "text/html": [
       "<div>\n",
       "<style scoped>\n",
       "    .dataframe tbody tr th:only-of-type {\n",
       "        vertical-align: middle;\n",
       "    }\n",
       "\n",
       "    .dataframe tbody tr th {\n",
       "        vertical-align: top;\n",
       "    }\n",
       "\n",
       "    .dataframe thead th {\n",
       "        text-align: right;\n",
       "    }\n",
       "</style>\n",
       "<table border=\"1\" class=\"dataframe\">\n",
       "  <thead>\n",
       "    <tr style=\"text-align: right;\">\n",
       "      <th></th>\n",
       "      <th>person_id</th>\n",
       "      <th>playcount</th>\n",
       "    </tr>\n",
       "  </thead>\n",
       "  <tbody>\n",
       "    <tr>\n",
       "      <th>0</th>\n",
       "      <td>0</td>\n",
       "      <td>4.0</td>\n",
       "    </tr>\n",
       "    <tr>\n",
       "      <th>1</th>\n",
       "      <td>1</td>\n",
       "      <td>495.0</td>\n",
       "    </tr>\n",
       "    <tr>\n",
       "      <th>2</th>\n",
       "      <td>2</td>\n",
       "      <td>2.0</td>\n",
       "    </tr>\n",
       "    <tr>\n",
       "      <th>3</th>\n",
       "      <td>3</td>\n",
       "      <td>2.0</td>\n",
       "    </tr>\n",
       "    <tr>\n",
       "      <th>4</th>\n",
       "      <td>4</td>\n",
       "      <td>1.0</td>\n",
       "    </tr>\n",
       "    <tr>\n",
       "      <th>...</th>\n",
       "      <td>...</td>\n",
       "      <td>...</td>\n",
       "    </tr>\n",
       "    <tr>\n",
       "      <th>560922</th>\n",
       "      <td>595136</td>\n",
       "      <td>0.0</td>\n",
       "    </tr>\n",
       "    <tr>\n",
       "      <th>560923</th>\n",
       "      <td>595137</td>\n",
       "      <td>0.0</td>\n",
       "    </tr>\n",
       "    <tr>\n",
       "      <th>560924</th>\n",
       "      <td>595138</td>\n",
       "      <td>0.0</td>\n",
       "    </tr>\n",
       "    <tr>\n",
       "      <th>560925</th>\n",
       "      <td>595139</td>\n",
       "      <td>0.0</td>\n",
       "    </tr>\n",
       "    <tr>\n",
       "      <th>560926</th>\n",
       "      <td>595140</td>\n",
       "      <td>0.0</td>\n",
       "    </tr>\n",
       "  </tbody>\n",
       "</table>\n",
       "<p>560927 rows × 2 columns</p>\n",
       "</div>"
      ],
      "text/plain": [
       "        person_id  playcount\n",
       "0               0        4.0\n",
       "1               1      495.0\n",
       "2               2        2.0\n",
       "3               3        2.0\n",
       "4               4        1.0\n",
       "...           ...        ...\n",
       "560922     595136        0.0\n",
       "560923     595137        0.0\n",
       "560924     595138        0.0\n",
       "560925     595139        0.0\n",
       "560926     595140        0.0\n",
       "\n",
       "[560927 rows x 2 columns]"
      ]
     },
     "execution_count": 5,
     "metadata": {},
     "output_type": "execute_result"
    }
   ],
   "source": [
    "# расчет числа проигрываний каждого исполнителя.\n",
    "persons_playcount = tracks.groupby(['person_id'], as_index=False)['playcount'].sum()\n",
    "persons_playcount"
   ]
  },
  {
   "cell_type": "code",
   "execution_count": 6,
   "metadata": {},
   "outputs": [
    {
     "data": {
      "text/plain": [
       "count    5.609270e+05\n",
       "mean     1.219149e+04\n",
       "std      9.367164e+04\n",
       "min     -6.000000e+00\n",
       "2.5%     0.000000e+00\n",
       "5%       0.000000e+00\n",
       "25%      6.000000e+00\n",
       "50%      1.160000e+02\n",
       "75%      1.248000e+03\n",
       "95%      3.520810e+04\n",
       "97.2%    8.508707e+04\n",
       "max      9.400856e+06\n",
       "Name: playcount, dtype: float64"
      ]
     },
     "execution_count": 6,
     "metadata": {},
     "output_type": "execute_result"
    }
   ],
   "source": [
    "persons_playcount['playcount'].describe(percentiles=[\n",
    "    0.025, 0.05, 0.25, 0.5, 0.75, 0.95, 0.9725\n",
    "])"
   ]
  },
  {
   "cell_type": "markdown",
   "metadata": {},
   "source": [
    "### Данные о сессиях с прослушиванием треков"
   ]
  },
  {
   "cell_type": "code",
   "execution_count": 7,
   "metadata": {},
   "outputs": [
    {
     "name": "stdout",
     "output_type": "stream",
     "text": [
      "(28178697, 7)\n"
     ]
    },
    {
     "data": {
      "text/html": [
       "<div>\n",
       "<style scoped>\n",
       "    .dataframe tbody tr th:only-of-type {\n",
       "        vertical-align: middle;\n",
       "    }\n",
       "\n",
       "    .dataframe tbody tr th {\n",
       "        vertical-align: top;\n",
       "    }\n",
       "\n",
       "    .dataframe thead th {\n",
       "        text-align: right;\n",
       "    }\n",
       "</style>\n",
       "<table border=\"1\" class=\"dataframe\">\n",
       "  <thead>\n",
       "    <tr style=\"text-align: right;\">\n",
       "      <th></th>\n",
       "      <th>session_id</th>\n",
       "      <th>timestamp</th>\n",
       "      <th>playtime</th>\n",
       "      <th>numtracks</th>\n",
       "      <th>user_id</th>\n",
       "      <th>track_id</th>\n",
       "      <th>track_playratio</th>\n",
       "    </tr>\n",
       "  </thead>\n",
       "  <tbody>\n",
       "    <tr>\n",
       "      <th>0</th>\n",
       "      <td>287144</td>\n",
       "      <td>1390231051</td>\n",
       "      <td>4547</td>\n",
       "      <td>23</td>\n",
       "      <td>44361</td>\n",
       "      <td>4698874</td>\n",
       "      <td>NaN</td>\n",
       "    </tr>\n",
       "    <tr>\n",
       "      <th>1</th>\n",
       "      <td>287144</td>\n",
       "      <td>1390231051</td>\n",
       "      <td>4547</td>\n",
       "      <td>23</td>\n",
       "      <td>44361</td>\n",
       "      <td>838286</td>\n",
       "      <td>1.01</td>\n",
       "    </tr>\n",
       "    <tr>\n",
       "      <th>2</th>\n",
       "      <td>287144</td>\n",
       "      <td>1390231051</td>\n",
       "      <td>4547</td>\n",
       "      <td>23</td>\n",
       "      <td>44361</td>\n",
       "      <td>2588097</td>\n",
       "      <td>1.01</td>\n",
       "    </tr>\n",
       "    <tr>\n",
       "      <th>3</th>\n",
       "      <td>287144</td>\n",
       "      <td>1390231051</td>\n",
       "      <td>4547</td>\n",
       "      <td>23</td>\n",
       "      <td>44361</td>\n",
       "      <td>2746740</td>\n",
       "      <td>1.44</td>\n",
       "    </tr>\n",
       "    <tr>\n",
       "      <th>4</th>\n",
       "      <td>287144</td>\n",
       "      <td>1390231051</td>\n",
       "      <td>4547</td>\n",
       "      <td>23</td>\n",
       "      <td>44361</td>\n",
       "      <td>3873988</td>\n",
       "      <td>1.01</td>\n",
       "    </tr>\n",
       "  </tbody>\n",
       "</table>\n",
       "</div>"
      ],
      "text/plain": [
       "   session_id   timestamp  playtime  numtracks  user_id  track_id  \\\n",
       "0      287144  1390231051      4547         23    44361   4698874   \n",
       "1      287144  1390231051      4547         23    44361    838286   \n",
       "2      287144  1390231051      4547         23    44361   2588097   \n",
       "3      287144  1390231051      4547         23    44361   2746740   \n",
       "4      287144  1390231051      4547         23    44361   3873988   \n",
       "\n",
       "   track_playratio  \n",
       "0              NaN  \n",
       "1             1.01  \n",
       "2             1.01  \n",
       "3             1.44  \n",
       "4             1.01  "
      ]
     },
     "execution_count": 7,
     "metadata": {},
     "output_type": "execute_result"
    }
   ],
   "source": [
    "# сессии с прослушиванием\n",
    "sessions = pd.read_csv(path_sessions_temp)\n",
    "print(sessions.shape)\n",
    "sessions.head()"
   ]
  },
  {
   "cell_type": "markdown",
   "metadata": {},
   "source": [
    "# Переход к истории прослушивания исполнителей"
   ]
  },
  {
   "cell_type": "code",
   "execution_count": 8,
   "metadata": {},
   "outputs": [],
   "source": [
    "# переход от истории прослушиваний треков к истории прослушивания исполнителей\n",
    "sessions_extend = sessions.merge(\n",
    "    tracks,\n",
    "    how='inner',\n",
    "    on=['track_id']\n",
    ")"
   ]
  },
  {
   "cell_type": "code",
   "execution_count": 9,
   "metadata": {
    "scrolled": true
   },
   "outputs": [
    {
     "name": "stdout",
     "output_type": "stream",
     "text": [
      "(30732788, 9)\n"
     ]
    },
    {
     "data": {
      "text/html": [
       "<div>\n",
       "<style scoped>\n",
       "    .dataframe tbody tr th:only-of-type {\n",
       "        vertical-align: middle;\n",
       "    }\n",
       "\n",
       "    .dataframe tbody tr th {\n",
       "        vertical-align: top;\n",
       "    }\n",
       "\n",
       "    .dataframe thead th {\n",
       "        text-align: right;\n",
       "    }\n",
       "</style>\n",
       "<table border=\"1\" class=\"dataframe\">\n",
       "  <thead>\n",
       "    <tr style=\"text-align: right;\">\n",
       "      <th></th>\n",
       "      <th>session_id</th>\n",
       "      <th>timestamp</th>\n",
       "      <th>playtime</th>\n",
       "      <th>numtracks</th>\n",
       "      <th>user_id</th>\n",
       "      <th>track_id</th>\n",
       "      <th>track_playratio</th>\n",
       "      <th>playcount</th>\n",
       "      <th>person_id</th>\n",
       "    </tr>\n",
       "  </thead>\n",
       "  <tbody>\n",
       "    <tr>\n",
       "      <th>0</th>\n",
       "      <td>287144</td>\n",
       "      <td>1390231051</td>\n",
       "      <td>4547</td>\n",
       "      <td>23</td>\n",
       "      <td>44361</td>\n",
       "      <td>4698874</td>\n",
       "      <td>NaN</td>\n",
       "      <td>NaN</td>\n",
       "      <td>142266</td>\n",
       "    </tr>\n",
       "    <tr>\n",
       "      <th>1</th>\n",
       "      <td>287144</td>\n",
       "      <td>1390231051</td>\n",
       "      <td>4547</td>\n",
       "      <td>23</td>\n",
       "      <td>44361</td>\n",
       "      <td>838286</td>\n",
       "      <td>1.01</td>\n",
       "      <td>212.0</td>\n",
       "      <td>107103</td>\n",
       "    </tr>\n",
       "    <tr>\n",
       "      <th>2</th>\n",
       "      <td>982046</td>\n",
       "      <td>1405452797</td>\n",
       "      <td>6892</td>\n",
       "      <td>29</td>\n",
       "      <td>32894</td>\n",
       "      <td>838286</td>\n",
       "      <td>1.00</td>\n",
       "      <td>212.0</td>\n",
       "      <td>107103</td>\n",
       "    </tr>\n",
       "    <tr>\n",
       "      <th>3</th>\n",
       "      <td>982049</td>\n",
       "      <td>1405702985</td>\n",
       "      <td>15646</td>\n",
       "      <td>68</td>\n",
       "      <td>32894</td>\n",
       "      <td>838286</td>\n",
       "      <td>1.00</td>\n",
       "      <td>212.0</td>\n",
       "      <td>107103</td>\n",
       "    </tr>\n",
       "    <tr>\n",
       "      <th>4</th>\n",
       "      <td>1873088</td>\n",
       "      <td>1406217037</td>\n",
       "      <td>-1</td>\n",
       "      <td>1</td>\n",
       "      <td>23183</td>\n",
       "      <td>838286</td>\n",
       "      <td>NaN</td>\n",
       "      <td>212.0</td>\n",
       "      <td>107103</td>\n",
       "    </tr>\n",
       "  </tbody>\n",
       "</table>\n",
       "</div>"
      ],
      "text/plain": [
       "   session_id   timestamp  playtime  numtracks  user_id  track_id  \\\n",
       "0      287144  1390231051      4547         23    44361   4698874   \n",
       "1      287144  1390231051      4547         23    44361    838286   \n",
       "2      982046  1405452797      6892         29    32894    838286   \n",
       "3      982049  1405702985     15646         68    32894    838286   \n",
       "4     1873088  1406217037        -1          1    23183    838286   \n",
       "\n",
       "   track_playratio  playcount  person_id  \n",
       "0              NaN        NaN     142266  \n",
       "1             1.01      212.0     107103  \n",
       "2             1.00      212.0     107103  \n",
       "3             1.00      212.0     107103  \n",
       "4              NaN      212.0     107103  "
      ]
     },
     "execution_count": 9,
     "metadata": {},
     "output_type": "execute_result"
    }
   ],
   "source": [
    "print(sessions_extend.shape)\n",
    "sessions_extend.head()"
   ]
  },
  {
   "cell_type": "code",
   "execution_count": 10,
   "metadata": {},
   "outputs": [
    {
     "name": "stdout",
     "output_type": "stream",
     "text": [
      "0.01054860971213723\n",
      "(5917,)\n"
     ]
    },
    {
     "data": {
      "text/plain": [
       "array([   109,    129,    144, ..., 468053, 468284, 468998])"
      ]
     },
     "execution_count": 10,
     "metadata": {},
     "output_type": "execute_result"
    }
   ],
   "source": [
    "mask_popular_persons = (persons_playcount['playcount'] >= 250000)\n",
    "popular_persons = persons_playcount.loc[mask_popular_persons, 'person_id'].values\n",
    "\n",
    "print(mask_popular_persons.sum() / persons_playcount.shape[0])\n",
    "print(popular_persons.shape)\n",
    "popular_persons"
   ]
  },
  {
   "cell_type": "code",
   "execution_count": 11,
   "metadata": {},
   "outputs": [],
   "source": [
    "# возьмем сессии популярных исполнителей, отобранных выше\n",
    "sessions_extend = sessions_extend[\n",
    "    sessions_extend['person_id'].isin(popular_persons)\n",
    "]"
   ]
  },
  {
   "cell_type": "code",
   "execution_count": 15,
   "metadata": {},
   "outputs": [
    {
     "name": "stdout",
     "output_type": "stream",
     "text": [
      "CPU times: user 6.11 s, sys: 416 ms, total: 6.52 s\n",
      "Wall time: 6.53 s\n"
     ]
    },
    {
     "data": {
      "text/html": [
       "<div>\n",
       "<style scoped>\n",
       "    .dataframe tbody tr th:only-of-type {\n",
       "        vertical-align: middle;\n",
       "    }\n",
       "\n",
       "    .dataframe tbody tr th {\n",
       "        vertical-align: top;\n",
       "    }\n",
       "\n",
       "    .dataframe thead th {\n",
       "        text-align: right;\n",
       "    }\n",
       "</style>\n",
       "<table border=\"1\" class=\"dataframe\">\n",
       "  <thead>\n",
       "    <tr style=\"text-align: right;\">\n",
       "      <th></th>\n",
       "      <th>session_id</th>\n",
       "      <th>numpersons</th>\n",
       "    </tr>\n",
       "  </thead>\n",
       "  <tbody>\n",
       "    <tr>\n",
       "      <th>5</th>\n",
       "      <td>12</td>\n",
       "      <td>4</td>\n",
       "    </tr>\n",
       "    <tr>\n",
       "      <th>10</th>\n",
       "      <td>20</td>\n",
       "      <td>4</td>\n",
       "    </tr>\n",
       "    <tr>\n",
       "      <th>41</th>\n",
       "      <td>69</td>\n",
       "      <td>4</td>\n",
       "    </tr>\n",
       "    <tr>\n",
       "      <th>74</th>\n",
       "      <td>122</td>\n",
       "      <td>7</td>\n",
       "    </tr>\n",
       "    <tr>\n",
       "      <th>95</th>\n",
       "      <td>149</td>\n",
       "      <td>9</td>\n",
       "    </tr>\n",
       "    <tr>\n",
       "      <th>...</th>\n",
       "      <td>...</td>\n",
       "      <td>...</td>\n",
       "    </tr>\n",
       "    <tr>\n",
       "      <th>2031609</th>\n",
       "      <td>2764444</td>\n",
       "      <td>11</td>\n",
       "    </tr>\n",
       "    <tr>\n",
       "      <th>2031610</th>\n",
       "      <td>2764446</td>\n",
       "      <td>21</td>\n",
       "    </tr>\n",
       "    <tr>\n",
       "      <th>2031613</th>\n",
       "      <td>2764449</td>\n",
       "      <td>12</td>\n",
       "    </tr>\n",
       "    <tr>\n",
       "      <th>2031614</th>\n",
       "      <td>2764450</td>\n",
       "      <td>8</td>\n",
       "    </tr>\n",
       "    <tr>\n",
       "      <th>2031615</th>\n",
       "      <td>2764452</td>\n",
       "      <td>5</td>\n",
       "    </tr>\n",
       "  </tbody>\n",
       "</table>\n",
       "<p>525102 rows × 2 columns</p>\n",
       "</div>"
      ],
      "text/plain": [
       "         session_id  numpersons\n",
       "5                12           4\n",
       "10               20           4\n",
       "41               69           4\n",
       "74              122           7\n",
       "95              149           9\n",
       "...             ...         ...\n",
       "2031609     2764444          11\n",
       "2031610     2764446          21\n",
       "2031613     2764449          12\n",
       "2031614     2764450           8\n",
       "2031615     2764452           5\n",
       "\n",
       "[525102 rows x 2 columns]"
      ]
     },
     "execution_count": 15,
     "metadata": {},
     "output_type": "execute_result"
    }
   ],
   "source": [
    "%%time\n",
    "numpersons = (sessions_extend\n",
    "    .groupby(['session_id'], as_index=False)['person_id']\n",
    "    .nunique()\n",
    "    .rename(columns={'person_id':'numpersons'})\n",
    ")\n",
    "numpersons = numpersons[numpersons['numpersons'] >= 4]\n",
    "numpersons"
   ]
  },
  {
   "cell_type": "code",
   "execution_count": 17,
   "metadata": {},
   "outputs": [],
   "source": [
    "sessions_extend = pd.merge(\n",
    "    sessions_extend,\n",
    "    numpersons,\n",
    "    how='right',\n",
    "    on=['session_id']\n",
    ")"
   ]
  },
  {
   "cell_type": "code",
   "execution_count": 19,
   "metadata": {
    "scrolled": true
   },
   "outputs": [
    {
     "name": "stdout",
     "output_type": "stream",
     "text": [
      "(9356443, 10)\n"
     ]
    },
    {
     "data": {
      "text/html": [
       "<div>\n",
       "<style scoped>\n",
       "    .dataframe tbody tr th:only-of-type {\n",
       "        vertical-align: middle;\n",
       "    }\n",
       "\n",
       "    .dataframe tbody tr th {\n",
       "        vertical-align: top;\n",
       "    }\n",
       "\n",
       "    .dataframe thead th {\n",
       "        text-align: right;\n",
       "    }\n",
       "</style>\n",
       "<table border=\"1\" class=\"dataframe\">\n",
       "  <thead>\n",
       "    <tr style=\"text-align: right;\">\n",
       "      <th></th>\n",
       "      <th>session_id</th>\n",
       "      <th>timestamp</th>\n",
       "      <th>playtime</th>\n",
       "      <th>numtracks</th>\n",
       "      <th>user_id</th>\n",
       "      <th>track_id</th>\n",
       "      <th>track_playratio</th>\n",
       "      <th>playcount</th>\n",
       "      <th>person_id</th>\n",
       "      <th>numpersons</th>\n",
       "    </tr>\n",
       "  </thead>\n",
       "  <tbody>\n",
       "    <tr>\n",
       "      <th>0</th>\n",
       "      <td>12</td>\n",
       "      <td>1405519516</td>\n",
       "      <td>5202</td>\n",
       "      <td>25</td>\n",
       "      <td>41504</td>\n",
       "      <td>1210840</td>\n",
       "      <td>1.0</td>\n",
       "      <td>353.0</td>\n",
       "      <td>154295</td>\n",
       "      <td>4</td>\n",
       "    </tr>\n",
       "    <tr>\n",
       "      <th>1</th>\n",
       "      <td>12</td>\n",
       "      <td>1405519516</td>\n",
       "      <td>5202</td>\n",
       "      <td>25</td>\n",
       "      <td>41504</td>\n",
       "      <td>1210840</td>\n",
       "      <td>1.0</td>\n",
       "      <td>94.0</td>\n",
       "      <td>154295</td>\n",
       "      <td>4</td>\n",
       "    </tr>\n",
       "    <tr>\n",
       "      <th>2</th>\n",
       "      <td>12</td>\n",
       "      <td>1405519516</td>\n",
       "      <td>5202</td>\n",
       "      <td>25</td>\n",
       "      <td>41504</td>\n",
       "      <td>1210766</td>\n",
       "      <td>1.0</td>\n",
       "      <td>1093.0</td>\n",
       "      <td>154295</td>\n",
       "      <td>4</td>\n",
       "    </tr>\n",
       "    <tr>\n",
       "      <th>3</th>\n",
       "      <td>12</td>\n",
       "      <td>1405519516</td>\n",
       "      <td>5202</td>\n",
       "      <td>25</td>\n",
       "      <td>41504</td>\n",
       "      <td>1210626</td>\n",
       "      <td>1.0</td>\n",
       "      <td>328.0</td>\n",
       "      <td>154295</td>\n",
       "      <td>4</td>\n",
       "    </tr>\n",
       "    <tr>\n",
       "      <th>4</th>\n",
       "      <td>12</td>\n",
       "      <td>1405519516</td>\n",
       "      <td>5202</td>\n",
       "      <td>25</td>\n",
       "      <td>41504</td>\n",
       "      <td>1210759</td>\n",
       "      <td>1.0</td>\n",
       "      <td>4.0</td>\n",
       "      <td>154295</td>\n",
       "      <td>4</td>\n",
       "    </tr>\n",
       "  </tbody>\n",
       "</table>\n",
       "</div>"
      ],
      "text/plain": [
       "   session_id   timestamp  playtime  numtracks  user_id  track_id  \\\n",
       "0          12  1405519516      5202         25    41504   1210840   \n",
       "1          12  1405519516      5202         25    41504   1210840   \n",
       "2          12  1405519516      5202         25    41504   1210766   \n",
       "3          12  1405519516      5202         25    41504   1210626   \n",
       "4          12  1405519516      5202         25    41504   1210759   \n",
       "\n",
       "   track_playratio  playcount  person_id  numpersons  \n",
       "0              1.0      353.0     154295           4  \n",
       "1              1.0       94.0     154295           4  \n",
       "2              1.0     1093.0     154295           4  \n",
       "3              1.0      328.0     154295           4  \n",
       "4              1.0        4.0     154295           4  "
      ]
     },
     "execution_count": 19,
     "metadata": {},
     "output_type": "execute_result"
    }
   ],
   "source": [
    "print(sessions_extend.shape)\n",
    "sessions_extend.head()"
   ]
  },
  {
   "cell_type": "code",
   "execution_count": 20,
   "metadata": {},
   "outputs": [],
   "source": [
    "percentile_70, percentile_85 = np.percentile(sessions_extend['timestamp'], [70, 85])"
   ]
  },
  {
   "cell_type": "markdown",
   "metadata": {},
   "source": []
  },
  {
   "cell_type": "code",
   "execution_count": 21,
   "metadata": {
    "scrolled": true
   },
   "outputs": [],
   "source": [
    "# разбиение данные на Train/Validation/Test\n",
    "sessions_train = sessions_extend[\n",
    "    sessions_extend['timestamp'] < percentile_70\n",
    "]\n",
    "\n",
    "sessions_test = sessions_extend[\n",
    "    (sessions_extend['timestamp'] >= percentile_70)\n",
    "    & (sessions_extend['timestamp'] < percentile_85)\n",
    "]\n",
    "\n",
    "sessions_val = sessions_extend[\n",
    "    sessions_extend['timestamp'] >= percentile_85\n",
    "]"
   ]
  },
  {
   "cell_type": "code",
   "execution_count": 22,
   "metadata": {
    "scrolled": true
   },
   "outputs": [
    {
     "name": "stdout",
     "output_type": "stream",
     "text": [
      "(6549461, 10)\n",
      "(1403506, 10)\n",
      "(1403476, 10)\n"
     ]
    }
   ],
   "source": [
    "print(sessions_train.shape)\n",
    "print(sessions_test.shape)\n",
    "print(sessions_val.shape)"
   ]
  },
  {
   "cell_type": "code",
   "execution_count": 23,
   "metadata": {},
   "outputs": [
    {
     "name": "stdout",
     "output_type": "stream",
     "text": [
      "CPU times: user 44.2 s, sys: 1.17 s, total: 45.3 s\n",
      "Wall time: 1min 3s\n"
     ]
    }
   ],
   "source": [
    "%%time\n",
    "sessions_train.to_csv(\n",
    "    path_sessions_train,\n",
    "    encoding='utf-8-sig',\n",
    "    index=False\n",
    ")\n",
    "sessions_test.to_csv(\n",
    "    path_sessions_test,\n",
    "    encoding='utf-8-sig',\n",
    "    index=False\n",
    ")\n",
    "sessions_val.to_csv(\n",
    "    path_sessions_val,\n",
    "    encoding='utf-8-sig',\n",
    "    index=False\n",
    ")"
   ]
  }
 ],
 "metadata": {
  "kernelspec": {
   "display_name": "Python 3",
   "language": "python",
   "name": "python3"
  },
  "language_info": {
   "codemirror_mode": {
    "name": "ipython",
    "version": 3
   },
   "file_extension": ".py",
   "mimetype": "text/x-python",
   "name": "python",
   "nbconvert_exporter": "python",
   "pygments_lexer": "ipython3",
   "version": "3.8.5"
  }
 },
 "nbformat": 4,
 "nbformat_minor": 2
}
