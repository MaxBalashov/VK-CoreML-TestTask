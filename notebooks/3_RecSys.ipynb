{
 "cells": [
  {
   "cell_type": "markdown",
   "metadata": {},
   "source": [
    "**Идея текущего подхода:** \n",
    "- **Эмбеддинги:** использовать SVD разложение для матрицы пользователи-исполнители, как это применяется в рекомендательных системах. Выходом SVD разложения являются три матрицы `U`, `sigma`, `Vt`. Матрицы `U`, `Vt` описывают **пользователей** и **исполнителей соответственно**, поэтому могут использоваться в качестве **эмбеддингов*.\n",
    "- **Artist Recommendation (т.е. рекомендация исполнителя для пользователя):** берем уникальных исполнителей внутри сессии, предсказываем одного исполнителя из сессии по остальным."
   ]
  },
  {
   "cell_type": "markdown",
   "metadata": {},
   "source": [
    "# Import"
   ]
  },
  {
   "cell_type": "code",
   "execution_count": 1,
   "metadata": {},
   "outputs": [],
   "source": [
    "import numpy as np\n",
    "import pandas as pd\n",
    "from tqdm import tqdm\n",
    "\n",
    "import sys\n",
    "sys.path.append('../')"
   ]
  },
  {
   "cell_type": "code",
   "execution_count": 2,
   "metadata": {},
   "outputs": [],
   "source": [
    "from src.config import (\n",
    "    path_users_temp,\n",
    "    path_persons_temp,\n",
    "    path_sessions_train,\n",
    "    path_sessions_test,\n",
    "    path_sessions_val\n",
    ")"
   ]
  },
  {
   "cell_type": "markdown",
   "metadata": {},
   "source": [
    "# Чтение файлов"
   ]
  },
  {
   "cell_type": "markdown",
   "metadata": {},
   "source": [
    "### Данные о пользователях"
   ]
  },
  {
   "cell_type": "code",
   "execution_count": 3,
   "metadata": {},
   "outputs": [
    {
     "name": "stdout",
     "output_type": "stream",
     "text": [
      "(45167, 9)\n"
     ]
    },
    {
     "data": {
      "text/html": [
       "<div>\n",
       "<style scoped>\n",
       "    .dataframe tbody tr th:only-of-type {\n",
       "        vertical-align: middle;\n",
       "    }\n",
       "\n",
       "    .dataframe tbody tr th {\n",
       "        vertical-align: top;\n",
       "    }\n",
       "\n",
       "    .dataframe thead th {\n",
       "        text-align: right;\n",
       "    }\n",
       "</style>\n",
       "<table border=\"1\" class=\"dataframe\">\n",
       "  <thead>\n",
       "    <tr style=\"text-align: right;\">\n",
       "      <th></th>\n",
       "      <th>user_id</th>\n",
       "      <th>timestamp</th>\n",
       "      <th>age</th>\n",
       "      <th>gender</th>\n",
       "      <th>country</th>\n",
       "      <th>playcount</th>\n",
       "      <th>playlists</th>\n",
       "      <th>user_name</th>\n",
       "      <th>subscribertype</th>\n",
       "    </tr>\n",
       "  </thead>\n",
       "  <tbody>\n",
       "    <tr>\n",
       "      <th>0</th>\n",
       "      <td>1</td>\n",
       "      <td>1116715959</td>\n",
       "      <td>24.0</td>\n",
       "      <td>f</td>\n",
       "      <td>US</td>\n",
       "      <td>221012.0</td>\n",
       "      <td>2.0</td>\n",
       "      <td>000123</td>\n",
       "      <td>base</td>\n",
       "    </tr>\n",
       "    <tr>\n",
       "      <th>1</th>\n",
       "      <td>2</td>\n",
       "      <td>1163123792</td>\n",
       "      <td>39.0</td>\n",
       "      <td>m</td>\n",
       "      <td>CZ</td>\n",
       "      <td>217535.0</td>\n",
       "      <td>9.0</td>\n",
       "      <td>000333</td>\n",
       "      <td>base</td>\n",
       "    </tr>\n",
       "    <tr>\n",
       "      <th>2</th>\n",
       "      <td>3</td>\n",
       "      <td>1184426573</td>\n",
       "      <td>NaN</td>\n",
       "      <td>f</td>\n",
       "      <td>NaN</td>\n",
       "      <td>49733.0</td>\n",
       "      <td>2.0</td>\n",
       "      <td>00elen</td>\n",
       "      <td>base</td>\n",
       "    </tr>\n",
       "    <tr>\n",
       "      <th>3</th>\n",
       "      <td>4</td>\n",
       "      <td>1123157597</td>\n",
       "      <td>32.0</td>\n",
       "      <td>m</td>\n",
       "      <td>DE</td>\n",
       "      <td>168054.0</td>\n",
       "      <td>2.0</td>\n",
       "      <td>00Eraser00</td>\n",
       "      <td>base</td>\n",
       "    </tr>\n",
       "    <tr>\n",
       "      <th>4</th>\n",
       "      <td>5</td>\n",
       "      <td>1171302116</td>\n",
       "      <td>23.0</td>\n",
       "      <td>m</td>\n",
       "      <td>UK</td>\n",
       "      <td>45700.0</td>\n",
       "      <td>2.0</td>\n",
       "      <td>00fieldsy</td>\n",
       "      <td>base</td>\n",
       "    </tr>\n",
       "  </tbody>\n",
       "</table>\n",
       "</div>"
      ],
      "text/plain": [
       "   user_id   timestamp   age gender country  playcount  playlists   user_name  \\\n",
       "0        1  1116715959  24.0      f      US   221012.0        2.0      000123   \n",
       "1        2  1163123792  39.0      m      CZ   217535.0        9.0      000333   \n",
       "2        3  1184426573   NaN      f     NaN    49733.0        2.0      00elen   \n",
       "3        4  1123157597  32.0      m      DE   168054.0        2.0  00Eraser00   \n",
       "4        5  1171302116  23.0      m      UK    45700.0        2.0   00fieldsy   \n",
       "\n",
       "  subscribertype  \n",
       "0           base  \n",
       "1           base  \n",
       "2           base  \n",
       "3           base  \n",
       "4           base  "
      ]
     },
     "execution_count": 3,
     "metadata": {},
     "output_type": "execute_result"
    }
   ],
   "source": [
    "users = pd.read_csv(path_users_temp)\n",
    "print(users.shape)\n",
    "users.head()"
   ]
  },
  {
   "cell_type": "markdown",
   "metadata": {},
   "source": [
    "### Данные об исполнителях"
   ]
  },
  {
   "cell_type": "code",
   "execution_count": 4,
   "metadata": {
    "scrolled": true
   },
   "outputs": [
    {
     "name": "stdout",
     "output_type": "stream",
     "text": [
      "(595049, 3)\n"
     ]
    },
    {
     "data": {
      "text/html": [
       "<div>\n",
       "<style scoped>\n",
       "    .dataframe tbody tr th:only-of-type {\n",
       "        vertical-align: middle;\n",
       "    }\n",
       "\n",
       "    .dataframe tbody tr th {\n",
       "        vertical-align: top;\n",
       "    }\n",
       "\n",
       "    .dataframe thead th {\n",
       "        text-align: right;\n",
       "    }\n",
       "</style>\n",
       "<table border=\"1\" class=\"dataframe\">\n",
       "  <thead>\n",
       "    <tr style=\"text-align: right;\">\n",
       "      <th></th>\n",
       "      <th>person_id</th>\n",
       "      <th>person_name</th>\n",
       "      <th>person_MBID</th>\n",
       "    </tr>\n",
       "  </thead>\n",
       "  <tbody>\n",
       "    <tr>\n",
       "      <th>4673</th>\n",
       "      <td>227</td>\n",
       "      <td>David+Guetta+&amp;+Nicky+Romero</td>\n",
       "      <td>NaN</td>\n",
       "    </tr>\n",
       "    <tr>\n",
       "      <th>12079</th>\n",
       "      <td>227</td>\n",
       "      <td>David+Guetta,+Sam+Martin</td>\n",
       "      <td>1bb1eec6-88c3-4028-8920-a985c4b9081a</td>\n",
       "    </tr>\n",
       "    <tr>\n",
       "      <th>17306</th>\n",
       "      <td>227</td>\n",
       "      <td>David+Guetta+ft.+Chris+Willis</td>\n",
       "      <td>1bb1eec6-88c3-4028-8920-a985c4b9081a</td>\n",
       "    </tr>\n",
       "    <tr>\n",
       "      <th>31403</th>\n",
       "      <td>227</td>\n",
       "      <td>David+Guetta+-+Ne-Yo+-+Kelly+Rowland</td>\n",
       "      <td>1bb1eec6-88c3-4028-8920-a985c4b9081a</td>\n",
       "    </tr>\n",
       "    <tr>\n",
       "      <th>38019</th>\n",
       "      <td>227</td>\n",
       "      <td>David+Guetta+&amp;+Chris+Willis+Feat.+Fergie+&amp;+LMFAO</td>\n",
       "      <td>1bb1eec6-88c3-4028-8920-a985c4b9081a</td>\n",
       "    </tr>\n",
       "    <tr>\n",
       "      <th>...</th>\n",
       "      <td>...</td>\n",
       "      <td>...</td>\n",
       "      <td>...</td>\n",
       "    </tr>\n",
       "    <tr>\n",
       "      <th>570347</th>\n",
       "      <td>227</td>\n",
       "      <td>David+Guetta+&amp;+Alesso+feat.+Tegan+&amp;+Sara</td>\n",
       "      <td>NaN</td>\n",
       "    </tr>\n",
       "    <tr>\n",
       "      <th>572905</th>\n",
       "      <td>227</td>\n",
       "      <td>David+Guetta+ft.+Kelly+Rowland</td>\n",
       "      <td>1bb1eec6-88c3-4028-8920-a985c4b9081a</td>\n",
       "    </tr>\n",
       "    <tr>\n",
       "      <th>578055</th>\n",
       "      <td>227</td>\n",
       "      <td>David+Guetta+Feat+Lil+Wayne+&amp;+Chris+Brown</td>\n",
       "      <td>1bb1eec6-88c3-4028-8920-a985c4b9081a</td>\n",
       "    </tr>\n",
       "    <tr>\n",
       "      <th>588531</th>\n",
       "      <td>227</td>\n",
       "      <td>David+Guetta+&amp;+Glowinthedark+feat.+Harrison+Shaw</td>\n",
       "      <td>NaN</td>\n",
       "    </tr>\n",
       "    <tr>\n",
       "      <th>590460</th>\n",
       "      <td>227</td>\n",
       "      <td>David+Guetta+&amp;+Avicii+vs.+Laidback+Luke</td>\n",
       "      <td>NaN</td>\n",
       "    </tr>\n",
       "  </tbody>\n",
       "</table>\n",
       "<p>69 rows × 3 columns</p>\n",
       "</div>"
      ],
      "text/plain": [
       "        person_id                                       person_name  \\\n",
       "4673          227                       David+Guetta+&+Nicky+Romero   \n",
       "12079         227                          David+Guetta,+Sam+Martin   \n",
       "17306         227                     David+Guetta+ft.+Chris+Willis   \n",
       "31403         227              David+Guetta+-+Ne-Yo+-+Kelly+Rowland   \n",
       "38019         227  David+Guetta+&+Chris+Willis+Feat.+Fergie+&+LMFAO   \n",
       "...           ...                                               ...   \n",
       "570347        227          David+Guetta+&+Alesso+feat.+Tegan+&+Sara   \n",
       "572905        227                    David+Guetta+ft.+Kelly+Rowland   \n",
       "578055        227         David+Guetta+Feat+Lil+Wayne+&+Chris+Brown   \n",
       "588531        227  David+Guetta+&+Glowinthedark+feat.+Harrison+Shaw   \n",
       "590460        227           David+Guetta+&+Avicii+vs.+Laidback+Luke   \n",
       "\n",
       "                                 person_MBID  \n",
       "4673                                     NaN  \n",
       "12079   1bb1eec6-88c3-4028-8920-a985c4b9081a  \n",
       "17306   1bb1eec6-88c3-4028-8920-a985c4b9081a  \n",
       "31403   1bb1eec6-88c3-4028-8920-a985c4b9081a  \n",
       "38019   1bb1eec6-88c3-4028-8920-a985c4b9081a  \n",
       "...                                      ...  \n",
       "570347                                   NaN  \n",
       "572905  1bb1eec6-88c3-4028-8920-a985c4b9081a  \n",
       "578055  1bb1eec6-88c3-4028-8920-a985c4b9081a  \n",
       "588531                                   NaN  \n",
       "590460                                   NaN  \n",
       "\n",
       "[69 rows x 3 columns]"
      ]
     },
     "execution_count": 4,
     "metadata": {},
     "output_type": "execute_result"
    }
   ],
   "source": [
    "# исполнители\n",
    "persons = pd.read_csv(path_persons_temp)\n",
    "print(persons.shape)\n",
    "persons.head()\n",
    "\n",
    "# поле \"person_name\" по фиксированному \"person_id\" может иметь несколько вариаций\n",
    "# пример с \"David Guetta\"\n",
    "# будем использовать для декодинга person_id\n",
    "persons[persons['person_id'].isin([227])]"
   ]
  },
  {
   "cell_type": "markdown",
   "metadata": {},
   "source": [
    "### Данные о сессиях пользователей"
   ]
  },
  {
   "cell_type": "code",
   "execution_count": 5,
   "metadata": {},
   "outputs": [
    {
     "name": "stdout",
     "output_type": "stream",
     "text": [
      "CPU times: user 5.62 s, sys: 864 ms, total: 6.48 s\n",
      "Wall time: 8.7 s\n"
     ]
    }
   ],
   "source": [
    "%%time\n",
    "sessions_train = pd.read_csv(path_sessions_train)\n",
    "sessions_test = pd.read_csv(path_sessions_test)\n",
    "# sessions_val = pd.read_csv(path_sessions_val)"
   ]
  },
  {
   "cell_type": "code",
   "execution_count": 6,
   "metadata": {},
   "outputs": [
    {
     "name": "stdout",
     "output_type": "stream",
     "text": [
      "(6549461, 10)\n"
     ]
    },
    {
     "data": {
      "text/html": [
       "<div>\n",
       "<style scoped>\n",
       "    .dataframe tbody tr th:only-of-type {\n",
       "        vertical-align: middle;\n",
       "    }\n",
       "\n",
       "    .dataframe tbody tr th {\n",
       "        vertical-align: top;\n",
       "    }\n",
       "\n",
       "    .dataframe thead th {\n",
       "        text-align: right;\n",
       "    }\n",
       "</style>\n",
       "<table border=\"1\" class=\"dataframe\">\n",
       "  <thead>\n",
       "    <tr style=\"text-align: right;\">\n",
       "      <th></th>\n",
       "      <th>session_id</th>\n",
       "      <th>timestamp</th>\n",
       "      <th>playtime</th>\n",
       "      <th>numtracks</th>\n",
       "      <th>user_id</th>\n",
       "      <th>track_id</th>\n",
       "      <th>track_playratio</th>\n",
       "      <th>playcount</th>\n",
       "      <th>person_id</th>\n",
       "      <th>numpersons</th>\n",
       "    </tr>\n",
       "  </thead>\n",
       "  <tbody>\n",
       "    <tr>\n",
       "      <th>0</th>\n",
       "      <td>12</td>\n",
       "      <td>1405519516</td>\n",
       "      <td>5202</td>\n",
       "      <td>25</td>\n",
       "      <td>41504</td>\n",
       "      <td>1210840</td>\n",
       "      <td>1.0</td>\n",
       "      <td>353.0</td>\n",
       "      <td>154295</td>\n",
       "      <td>4</td>\n",
       "    </tr>\n",
       "    <tr>\n",
       "      <th>1</th>\n",
       "      <td>12</td>\n",
       "      <td>1405519516</td>\n",
       "      <td>5202</td>\n",
       "      <td>25</td>\n",
       "      <td>41504</td>\n",
       "      <td>1210840</td>\n",
       "      <td>1.0</td>\n",
       "      <td>94.0</td>\n",
       "      <td>154295</td>\n",
       "      <td>4</td>\n",
       "    </tr>\n",
       "    <tr>\n",
       "      <th>2</th>\n",
       "      <td>12</td>\n",
       "      <td>1405519516</td>\n",
       "      <td>5202</td>\n",
       "      <td>25</td>\n",
       "      <td>41504</td>\n",
       "      <td>1210766</td>\n",
       "      <td>1.0</td>\n",
       "      <td>1093.0</td>\n",
       "      <td>154295</td>\n",
       "      <td>4</td>\n",
       "    </tr>\n",
       "    <tr>\n",
       "      <th>3</th>\n",
       "      <td>12</td>\n",
       "      <td>1405519516</td>\n",
       "      <td>5202</td>\n",
       "      <td>25</td>\n",
       "      <td>41504</td>\n",
       "      <td>1210626</td>\n",
       "      <td>1.0</td>\n",
       "      <td>328.0</td>\n",
       "      <td>154295</td>\n",
       "      <td>4</td>\n",
       "    </tr>\n",
       "    <tr>\n",
       "      <th>4</th>\n",
       "      <td>12</td>\n",
       "      <td>1405519516</td>\n",
       "      <td>5202</td>\n",
       "      <td>25</td>\n",
       "      <td>41504</td>\n",
       "      <td>1210759</td>\n",
       "      <td>1.0</td>\n",
       "      <td>4.0</td>\n",
       "      <td>154295</td>\n",
       "      <td>4</td>\n",
       "    </tr>\n",
       "  </tbody>\n",
       "</table>\n",
       "</div>"
      ],
      "text/plain": [
       "   session_id   timestamp  playtime  numtracks  user_id  track_id  \\\n",
       "0          12  1405519516      5202         25    41504   1210840   \n",
       "1          12  1405519516      5202         25    41504   1210840   \n",
       "2          12  1405519516      5202         25    41504   1210766   \n",
       "3          12  1405519516      5202         25    41504   1210626   \n",
       "4          12  1405519516      5202         25    41504   1210759   \n",
       "\n",
       "   track_playratio  playcount  person_id  numpersons  \n",
       "0              1.0      353.0     154295           4  \n",
       "1              1.0       94.0     154295           4  \n",
       "2              1.0     1093.0     154295           4  \n",
       "3              1.0      328.0     154295           4  \n",
       "4              1.0        4.0     154295           4  "
      ]
     },
     "execution_count": 6,
     "metadata": {},
     "output_type": "execute_result"
    }
   ],
   "source": [
    "print(sessions_train.shape)\n",
    "sessions_train.head()"
   ]
  },
  {
   "cell_type": "code",
   "execution_count": 7,
   "metadata": {
    "scrolled": true
   },
   "outputs": [
    {
     "name": "stdout",
     "output_type": "stream",
     "text": [
      "(1403506, 10)\n"
     ]
    },
    {
     "data": {
      "text/html": [
       "<div>\n",
       "<style scoped>\n",
       "    .dataframe tbody tr th:only-of-type {\n",
       "        vertical-align: middle;\n",
       "    }\n",
       "\n",
       "    .dataframe tbody tr th {\n",
       "        vertical-align: top;\n",
       "    }\n",
       "\n",
       "    .dataframe thead th {\n",
       "        text-align: right;\n",
       "    }\n",
       "</style>\n",
       "<table border=\"1\" class=\"dataframe\">\n",
       "  <thead>\n",
       "    <tr style=\"text-align: right;\">\n",
       "      <th></th>\n",
       "      <th>session_id</th>\n",
       "      <th>timestamp</th>\n",
       "      <th>playtime</th>\n",
       "      <th>numtracks</th>\n",
       "      <th>user_id</th>\n",
       "      <th>track_id</th>\n",
       "      <th>track_playratio</th>\n",
       "      <th>playcount</th>\n",
       "      <th>person_id</th>\n",
       "      <th>numpersons</th>\n",
       "    </tr>\n",
       "  </thead>\n",
       "  <tbody>\n",
       "    <tr>\n",
       "      <th>0</th>\n",
       "      <td>20</td>\n",
       "      <td>1418303964</td>\n",
       "      <td>7654</td>\n",
       "      <td>31</td>\n",
       "      <td>41504</td>\n",
       "      <td>3488336</td>\n",
       "      <td>1.00</td>\n",
       "      <td>415.0</td>\n",
       "      <td>435780</td>\n",
       "      <td>4</td>\n",
       "    </tr>\n",
       "    <tr>\n",
       "      <th>1</th>\n",
       "      <td>20</td>\n",
       "      <td>1418303964</td>\n",
       "      <td>7654</td>\n",
       "      <td>31</td>\n",
       "      <td>41504</td>\n",
       "      <td>3488271</td>\n",
       "      <td>1.00</td>\n",
       "      <td>2395.0</td>\n",
       "      <td>435780</td>\n",
       "      <td>4</td>\n",
       "    </tr>\n",
       "    <tr>\n",
       "      <th>2</th>\n",
       "      <td>20</td>\n",
       "      <td>1418303964</td>\n",
       "      <td>7654</td>\n",
       "      <td>31</td>\n",
       "      <td>41504</td>\n",
       "      <td>3488314</td>\n",
       "      <td>1.00</td>\n",
       "      <td>1448.0</td>\n",
       "      <td>435780</td>\n",
       "      <td>4</td>\n",
       "    </tr>\n",
       "    <tr>\n",
       "      <th>3</th>\n",
       "      <td>20</td>\n",
       "      <td>1418303964</td>\n",
       "      <td>7654</td>\n",
       "      <td>31</td>\n",
       "      <td>41504</td>\n",
       "      <td>3488330</td>\n",
       "      <td>0.81</td>\n",
       "      <td>1806.0</td>\n",
       "      <td>435780</td>\n",
       "      <td>4</td>\n",
       "    </tr>\n",
       "    <tr>\n",
       "      <th>4</th>\n",
       "      <td>20</td>\n",
       "      <td>1418303964</td>\n",
       "      <td>7654</td>\n",
       "      <td>31</td>\n",
       "      <td>41504</td>\n",
       "      <td>1975962</td>\n",
       "      <td>1.46</td>\n",
       "      <td>76.0</td>\n",
       "      <td>247876</td>\n",
       "      <td>4</td>\n",
       "    </tr>\n",
       "  </tbody>\n",
       "</table>\n",
       "</div>"
      ],
      "text/plain": [
       "   session_id   timestamp  playtime  numtracks  user_id  track_id  \\\n",
       "0          20  1418303964      7654         31    41504   3488336   \n",
       "1          20  1418303964      7654         31    41504   3488271   \n",
       "2          20  1418303964      7654         31    41504   3488314   \n",
       "3          20  1418303964      7654         31    41504   3488330   \n",
       "4          20  1418303964      7654         31    41504   1975962   \n",
       "\n",
       "   track_playratio  playcount  person_id  numpersons  \n",
       "0             1.00      415.0     435780           4  \n",
       "1             1.00     2395.0     435780           4  \n",
       "2             1.00     1448.0     435780           4  \n",
       "3             0.81     1806.0     435780           4  \n",
       "4             1.46       76.0     247876           4  "
      ]
     },
     "execution_count": 7,
     "metadata": {},
     "output_type": "execute_result"
    }
   ],
   "source": [
    "print(sessions_test.shape)\n",
    "sessions_test.head()"
   ]
  },
  {
   "cell_type": "markdown",
   "metadata": {},
   "source": [
    "## Подготовка данных для модели\n",
    "Берем из данных столбцы составляющие матрицу пользователь-исполнитель:\n",
    "- `user_id` - id пользователя (строки в матрице пользователь-исполнитель),\n",
    "- `person_id` - id исполнителя (столбцы в матрице пользователь-исполнитель),\n",
    "- `track_playratio` - доля проигранного трека в сессии (сумма всех `track_playratio` по конкретному пользователю и исполнителю и есть значение в матрице пользователь-исполнитель),\n",
    "- `session_id` - номер сессии."
   ]
  },
  {
   "cell_type": "code",
   "execution_count": 8,
   "metadata": {},
   "outputs": [],
   "source": [
    "def partial_col_encoding(user_person, col, le):\n",
    "    '''\n",
    "    Частичная кодировка столбца\n",
    "    '''\n",
    "    mask_user_in_train = user_person[col].isin(le.classes_)\n",
    "    user_from_train = user_person[mask_user_in_train]\n",
    "    user_from_train[col] = le.transform(user_from_train[col])\n",
    "    user_unseen = user_person[~mask_user_in_train]\n",
    "    \n",
    "    return pd.concat([user_from_train, user_unseen])"
   ]
  },
  {
   "cell_type": "code",
   "execution_count": 9,
   "metadata": {},
   "outputs": [
    {
     "name": "stderr",
     "output_type": "stream",
     "text": [
      "/home/user/miniconda3/envs/ds/lib/python3.8/site-packages/pandas/core/indexing.py:1763: SettingWithCopyWarning: \n",
      "A value is trying to be set on a copy of a slice from a DataFrame.\n",
      "Try using .loc[row_indexer,col_indexer] = value instead\n",
      "\n",
      "See the caveats in the documentation: https://pandas.pydata.org/pandas-docs/stable/user_guide/indexing.html#returning-a-view-versus-a-copy\n",
      "  isetter(loc, value)\n",
      "<ipython-input-9-7cf593f5c0a5>:14: SettingWithCopyWarning: \n",
      "A value is trying to be set on a copy of a slice from a DataFrame.\n",
      "Try using .loc[row_indexer,col_indexer] = value instead\n",
      "\n",
      "See the caveats in the documentation: https://pandas.pydata.org/pandas-docs/stable/user_guide/indexing.html#returning-a-view-versus-a-copy\n",
      "  user_person_train['track_playratio'] = user_person_train['track_playratio'].round()\n",
      "<ipython-input-9-7cf593f5c0a5>:16: SettingWithCopyWarning: \n",
      "A value is trying to be set on a copy of a slice from a DataFrame.\n",
      "Try using .loc[row_indexer,col_indexer] = value instead\n",
      "\n",
      "See the caveats in the documentation: https://pandas.pydata.org/pandas-docs/stable/user_guide/indexing.html#returning-a-view-versus-a-copy\n",
      "  user_person_train['user_id'] = le_user.fit_transform(user_person_train['user_id'])\n",
      "<ipython-input-9-7cf593f5c0a5>:17: SettingWithCopyWarning: \n",
      "A value is trying to be set on a copy of a slice from a DataFrame.\n",
      "Try using .loc[row_indexer,col_indexer] = value instead\n",
      "\n",
      "See the caveats in the documentation: https://pandas.pydata.org/pandas-docs/stable/user_guide/indexing.html#returning-a-view-versus-a-copy\n",
      "  user_person_train['person_id'] = le_person.fit_transform(user_person_train['person_id'])\n",
      "/home/user/miniconda3/envs/ds/lib/python3.8/site-packages/pandas/core/indexing.py:1763: SettingWithCopyWarning: \n",
      "A value is trying to be set on a copy of a slice from a DataFrame.\n",
      "Try using .loc[row_indexer,col_indexer] = value instead\n",
      "\n",
      "See the caveats in the documentation: https://pandas.pydata.org/pandas-docs/stable/user_guide/indexing.html#returning-a-view-versus-a-copy\n",
      "  isetter(loc, value)\n",
      "<ipython-input-9-7cf593f5c0a5>:21: SettingWithCopyWarning: \n",
      "A value is trying to be set on a copy of a slice from a DataFrame.\n",
      "Try using .loc[row_indexer,col_indexer] = value instead\n",
      "\n",
      "See the caveats in the documentation: https://pandas.pydata.org/pandas-docs/stable/user_guide/indexing.html#returning-a-view-versus-a-copy\n",
      "  user_person_test['track_playratio'] = user_person_test['track_playratio'].round()\n",
      "<ipython-input-8-95b6d66d95dc>:7: SettingWithCopyWarning: \n",
      "A value is trying to be set on a copy of a slice from a DataFrame.\n",
      "Try using .loc[row_indexer,col_indexer] = value instead\n",
      "\n",
      "See the caveats in the documentation: https://pandas.pydata.org/pandas-docs/stable/user_guide/indexing.html#returning-a-view-versus-a-copy\n",
      "  user_from_train[col] = le.transform(user_from_train[col])\n"
     ]
    }
   ],
   "source": [
    "from sklearn.preprocessing import LabelEncoder\n",
    "\n",
    "# 'user_id', 'person_id' требуют приведения к id={0, len(unique_id)}\n",
    "# тк это координаты в матрице пользователь-исполнитель\n",
    "le_user = LabelEncoder()\n",
    "le_person = LabelEncoder()\n",
    "\n",
    "# берем нужные нам колонки\n",
    "user_person_train = sessions_train[['session_id', 'user_id', 'person_id', 'track_playratio']]\n",
    "user_person_test = sessions_test[['session_id', 'user_id', 'person_id', 'track_playratio']]\n",
    "\n",
    "# приводим 'track_playratio' к бинарным значениям\n",
    "user_person_train.loc[user_person_train['track_playratio'] > 1, 'track_playratio'] = 1\n",
    "user_person_train['track_playratio'] = user_person_train['track_playratio'].round()\n",
    "# кодируем 'user_id', 'person_id' в координаты матрицы пользователь-исполнитель\n",
    "user_person_train['user_id'] = le_user.fit_transform(user_person_train['user_id'])\n",
    "user_person_train['person_id'] = le_person.fit_transform(user_person_train['person_id'])\n",
    "\n",
    "# приводим 'track_playratio' к бинарным значениям\n",
    "user_person_test.loc[user_person_test['track_playratio'] > 1, 'track_playratio'] = 1\n",
    "user_person_test['track_playratio'] = user_person_test['track_playratio'].round()\n",
    "# кодируем 'user_id', 'person_id' в координаты матрицы пользователь-исполнитель\n",
    "# но в тестовых данных может оказаться пользователь (как и исполнитель), который не попал в обучающую выборку\n",
    "# по такому пользователю мы не можем получить его эмбеддинг и восстановленные с помощью SVD рейтинги\n",
    "# для текущей задачи это не критично\n",
    "user_person_test = partial_col_encoding(user_person_test, 'user_id', le_user).sort_index()\n",
    "# все исполнители в тестовых данных кодируются без ошибок\n",
    "# эмбеддинги по всем исполнителям можно получить с помощью SVD\n",
    "user_person_test['person_id'] = le_person.transform(user_person_test['person_id'])"
   ]
  },
  {
   "cell_type": "code",
   "execution_count": 10,
   "metadata": {
    "scrolled": true
   },
   "outputs": [
    {
     "name": "stdout",
     "output_type": "stream",
     "text": [
      "(6549461, 4)\n"
     ]
    },
    {
     "data": {
      "text/html": [
       "<div>\n",
       "<style scoped>\n",
       "    .dataframe tbody tr th:only-of-type {\n",
       "        vertical-align: middle;\n",
       "    }\n",
       "\n",
       "    .dataframe tbody tr th {\n",
       "        vertical-align: top;\n",
       "    }\n",
       "\n",
       "    .dataframe thead th {\n",
       "        text-align: right;\n",
       "    }\n",
       "</style>\n",
       "<table border=\"1\" class=\"dataframe\">\n",
       "  <thead>\n",
       "    <tr style=\"text-align: right;\">\n",
       "      <th></th>\n",
       "      <th>session_id</th>\n",
       "      <th>user_id</th>\n",
       "      <th>person_id</th>\n",
       "      <th>track_playratio</th>\n",
       "    </tr>\n",
       "  </thead>\n",
       "  <tbody>\n",
       "    <tr>\n",
       "      <th>0</th>\n",
       "      <td>12</td>\n",
       "      <td>27783</td>\n",
       "      <td>2020</td>\n",
       "      <td>1.0</td>\n",
       "    </tr>\n",
       "    <tr>\n",
       "      <th>1</th>\n",
       "      <td>12</td>\n",
       "      <td>27783</td>\n",
       "      <td>2020</td>\n",
       "      <td>1.0</td>\n",
       "    </tr>\n",
       "    <tr>\n",
       "      <th>2</th>\n",
       "      <td>12</td>\n",
       "      <td>27783</td>\n",
       "      <td>2020</td>\n",
       "      <td>1.0</td>\n",
       "    </tr>\n",
       "    <tr>\n",
       "      <th>3</th>\n",
       "      <td>12</td>\n",
       "      <td>27783</td>\n",
       "      <td>2020</td>\n",
       "      <td>1.0</td>\n",
       "    </tr>\n",
       "    <tr>\n",
       "      <th>4</th>\n",
       "      <td>12</td>\n",
       "      <td>27783</td>\n",
       "      <td>2020</td>\n",
       "      <td>1.0</td>\n",
       "    </tr>\n",
       "  </tbody>\n",
       "</table>\n",
       "</div>"
      ],
      "text/plain": [
       "   session_id  user_id  person_id  track_playratio\n",
       "0          12    27783       2020              1.0\n",
       "1          12    27783       2020              1.0\n",
       "2          12    27783       2020              1.0\n",
       "3          12    27783       2020              1.0\n",
       "4          12    27783       2020              1.0"
      ]
     },
     "execution_count": 10,
     "metadata": {},
     "output_type": "execute_result"
    }
   ],
   "source": [
    "print(user_person_train.shape)\n",
    "user_person_train.head()"
   ]
  },
  {
   "cell_type": "code",
   "execution_count": 11,
   "metadata": {
    "scrolled": true
   },
   "outputs": [
    {
     "name": "stdout",
     "output_type": "stream",
     "text": [
      "(1403506, 4)\n"
     ]
    },
    {
     "data": {
      "text/html": [
       "<div>\n",
       "<style scoped>\n",
       "    .dataframe tbody tr th:only-of-type {\n",
       "        vertical-align: middle;\n",
       "    }\n",
       "\n",
       "    .dataframe tbody tr th {\n",
       "        vertical-align: top;\n",
       "    }\n",
       "\n",
       "    .dataframe thead th {\n",
       "        text-align: right;\n",
       "    }\n",
       "</style>\n",
       "<table border=\"1\" class=\"dataframe\">\n",
       "  <thead>\n",
       "    <tr style=\"text-align: right;\">\n",
       "      <th></th>\n",
       "      <th>session_id</th>\n",
       "      <th>user_id</th>\n",
       "      <th>person_id</th>\n",
       "      <th>track_playratio</th>\n",
       "    </tr>\n",
       "  </thead>\n",
       "  <tbody>\n",
       "    <tr>\n",
       "      <th>0</th>\n",
       "      <td>20</td>\n",
       "      <td>27783</td>\n",
       "      <td>5546</td>\n",
       "      <td>1.0</td>\n",
       "    </tr>\n",
       "    <tr>\n",
       "      <th>1</th>\n",
       "      <td>20</td>\n",
       "      <td>27783</td>\n",
       "      <td>5546</td>\n",
       "      <td>1.0</td>\n",
       "    </tr>\n",
       "    <tr>\n",
       "      <th>2</th>\n",
       "      <td>20</td>\n",
       "      <td>27783</td>\n",
       "      <td>5546</td>\n",
       "      <td>1.0</td>\n",
       "    </tr>\n",
       "    <tr>\n",
       "      <th>3</th>\n",
       "      <td>20</td>\n",
       "      <td>27783</td>\n",
       "      <td>5546</td>\n",
       "      <td>1.0</td>\n",
       "    </tr>\n",
       "    <tr>\n",
       "      <th>4</th>\n",
       "      <td>20</td>\n",
       "      <td>27783</td>\n",
       "      <td>3193</td>\n",
       "      <td>1.0</td>\n",
       "    </tr>\n",
       "  </tbody>\n",
       "</table>\n",
       "</div>"
      ],
      "text/plain": [
       "   session_id  user_id  person_id  track_playratio\n",
       "0          20    27783       5546              1.0\n",
       "1          20    27783       5546              1.0\n",
       "2          20    27783       5546              1.0\n",
       "3          20    27783       5546              1.0\n",
       "4          20    27783       3193              1.0"
      ]
     },
     "execution_count": 11,
     "metadata": {},
     "output_type": "execute_result"
    }
   ],
   "source": [
    "print(user_person_test.shape)\n",
    "user_person_test.head()"
   ]
  },
  {
   "cell_type": "markdown",
   "metadata": {},
   "source": [
    "## Формирование датасета для Artist Recommendation\n",
    "- `y` - исполнитель, которого пытаемся предсказать, \n",
    "- `X` - исполнители, по которым пытаемся предсказать `y`.\n",
    "\n",
    "Т.к. сессия имеет `n` элементов, то есть `n` способов деления на `X` и `y`. В датасет попадают все способы. "
   ]
  },
  {
   "cell_type": "code",
   "execution_count": 12,
   "metadata": {},
   "outputs": [],
   "source": [
    "def split_session_one(session):\n",
    "    return [(session[session != person], person) for person in session]\n",
    "\n",
    "\n",
    "def prepare_X_y(sessions_df): # le_user\n",
    "    sessions_splited = sessions_df.copy()\n",
    "    sessions_splited = sessions_splited.groupby(['session_id', 'user_id'])['person_id'].unique()\n",
    "    sessions_splited = sessions_splited.apply(split_session_one)\n",
    "    sessions_splited = sessions_splited.explode()\n",
    "    sessions_splited = pd.DataFrame(\n",
    "        sessions_splited.tolist(),\n",
    "        columns=['X', 'y'],\n",
    "        index=sessions_splited.index\n",
    "    )\n",
    "    return sessions_splited['X'], sessions_splited['y']"
   ]
  },
  {
   "cell_type": "code",
   "execution_count": 13,
   "metadata": {},
   "outputs": [
    {
     "name": "stdout",
     "output_type": "stream",
     "text": [
      "CPU times: user 47.6 s, sys: 1.72 s, total: 49.3 s\n",
      "Wall time: 48.8 s\n"
     ]
    }
   ],
   "source": [
    "%%time\n",
    "X_train, y_train = prepare_X_y(user_person_train)\n",
    "X_test, y_test = prepare_X_y(user_person_test)"
   ]
  },
  {
   "cell_type": "code",
   "execution_count": 14,
   "metadata": {
    "scrolled": true
   },
   "outputs": [
    {
     "data": {
      "text/plain": [
       "session_id  user_id\n",
       "12          27783                                     [3711, 4351, 4124]\n",
       "            27783                                     [2020, 4351, 4124]\n",
       "            27783                                     [2020, 3711, 4124]\n",
       "            27783                                     [2020, 3711, 4351]\n",
       "69          27303                                      [299, 4867, 3859]\n",
       "                                             ...                        \n",
       "2764449     26634      [602, 2534, 3542, 3073, 2173, 2523, 1572, 5767...\n",
       "            26634      [602, 2534, 3542, 3073, 2173, 2523, 1572, 5126...\n",
       "            26634      [602, 2534, 3542, 3073, 2173, 2523, 1572, 5126...\n",
       "            26634      [602, 2534, 3542, 3073, 2173, 2523, 1572, 5126...\n",
       "            26634      [602, 2534, 3542, 3073, 2173, 2523, 1572, 5126...\n",
       "Name: X, Length: 3398732, dtype: object"
      ]
     },
     "execution_count": 14,
     "metadata": {},
     "output_type": "execute_result"
    }
   ],
   "source": [
    "X_train"
   ]
  },
  {
   "cell_type": "markdown",
   "metadata": {},
   "source": [
    "## Модели для Artist Recommendation\n",
    "Присутствует определенная монструозность, которая обусловлена тем, что данные модели писались с расчетом на кросс-валидированный подбор параметров. Но кросс-валидация не была проведена, тк потребуется огромное кол-во времени на вычисления.\n",
    "\n",
    "Модели:\n",
    "- `BaseSVD` - базовая модель, для единого описания методов `.__init__()`, `.fit()`, `.score()`, которые будут наследоваться остальными моделями;\n",
    "- `NearestPersonsSVD`:\n",
    "    - получает на вход массив исполнителей;\n",
    "    - ищет похожих исполнителей среди эмбеддингов исполнителей;\n",
    "- `UserRaitingsSVD`:\n",
    "    - получает на вход массив исполнителей (+id пользователя);\n",
    "    - если известен пользователь, то берет исполнителей, у которых наибольшие оценки у этого пользователя (кроме тех, что были получены на входе);\n",
    "    - если пользователь неизвестен, то ищет похожих исполнителей среди эмбеддингов исполнителей (аналогично `NearestPersonsSVD`);\n",
    "    \n",
    "_`NearestPersonsSVD` в решении задачи Artist Recommendation опирается только на эмбеддинги исполнителей, в то время как `UserRaitingsSVD` еще опирается и на восстановленные рейтинги конкретного пользователя. По этой причине результаты лучше у `UserRaitingsSVD`, но при этом эмбеддинги исполнителей точно такие же._"
   ]
  },
  {
   "cell_type": "code",
   "execution_count": 15,
   "metadata": {},
   "outputs": [],
   "source": [
    "from sklearn.preprocessing import LabelEncoder\n",
    "from sklearn.base import BaseEstimator, ClassifierMixin\n",
    "from scipy.sparse import csc_matrix, csr_matrix\n",
    "from scipy.sparse.linalg import svds\n",
    "from scipy.spatial.distance import cdist\n",
    "\n",
    "# метрика, по которой оцениваем качество в решении задачи Artist Recommendation\n",
    "def hit_rate(y, y_pred):\n",
    "    hits = [\n",
    "        int(y_el in y_pred_el)\n",
    "        for y_el, y_pred_el in zip(y, y_pred)\n",
    "    ]\n",
    "    return sum(hits) / len(hits)\n",
    "\n",
    "\n",
    "def unique_concat(x):\n",
    "    return np.unique(np.concatenate(x.values))\n",
    "\n",
    "\n",
    "class BaseSVD(BaseEstimator, ClassifierMixin):\n",
    "    '''\n",
    "    Базовая модель, которая производит SVD-разложение и сохраняет результаты в атрибуты.\n",
    "    \n",
    "    Параметры\n",
    "    ----------\n",
    "    num_top_elements : int\n",
    "        Число исполнителей прогнозируемых методом `.predict()` в классах наследниках\n",
    "    metric : str\n",
    "        Расстояние, которое используется для поиска ближайших\n",
    "    demeaned : bool\n",
    "        Делать ли вычитаение средних значений по пользователю\n",
    "    '''\n",
    "    def __init__(self, num_top_elements, metric, demeaned=False):\n",
    "        self.metric = metric\n",
    "        self.demeaned = demeaned\n",
    "        self.num_top_elements = num_top_elements\n",
    "        self.X_csc = None\n",
    "        if self.demeaned:\n",
    "            self.X_csc_mean = None\n",
    "        self.U = None\n",
    "        self.sigma = None\n",
    "        self.Vt = None\n",
    "        self.V = None\n",
    "        \n",
    "    def fit(self, X):\n",
    "        # преобразовываем входные данные (для задачи Artist Recommendation) \n",
    "        # ...\n",
    "        X_cp = (X\n",
    "            .reset_index()\n",
    "            .groupby(['session_id', 'user_id'])['X']\n",
    "            .apply(unique_concat)\n",
    "            .explode()\n",
    "            .reset_index()\n",
    "            .rename(columns={'X':'person_id'})\n",
    "            .assign(track_playratio=1.0) # svds не работает с int\n",
    "        )\n",
    "        # переход к матрице пользователь-исполнитель, значением в \n",
    "        # считаем сколько раз каждый пользователь послушал конкретного исполнителя\n",
    "        X_cp = X_cp.groupby(['user_id', 'person_id'], as_index=False)['track_playratio'].sum()\n",
    "        # конвертация в sparce matrix (для оптимизации расчетов) \n",
    "        self.X_csc = csc_matrix((X_cp['track_playratio'], (X_cp['user_id'], X_cp['person_id'])))\n",
    "        # вычитаение средних значений по пользователю (популярный трюк в RecSys)\n",
    "        if self.demeaned:\n",
    "            # сохраним пользовательские средние значения,\n",
    "            # полезно, если нужно восстанавливать (прогнозировать) рейтинги польхзователя\n",
    "            # по объектам, которые пользователь не оценивал\n",
    "            self.X_csc_mean = self.X_csc.mean(axis=1)\n",
    "            self.X_csc -= self.X_csc_mean\n",
    "        # SVD разложение (для разреженных матриц)\n",
    "        self.U, self.sigma, self.Vt = svds(\n",
    "            self.X_csc,\n",
    "            k = 100\n",
    "        )\n",
    "        self.sigma = np.diag(self.sigma)\n",
    "        self.V = self.Vt.T\n",
    "    def predict(self, X):\n",
    "        # пустой метод, который будет написан в каждой следующей реализации\n",
    "        pass\n",
    "    def score(self, X, y):\n",
    "        y_pred = self.predict(X)\n",
    "        return hit_rate(y, y_pred)\n",
    "\n",
    "\n",
    "class NearestPersonsSVD(BaseSVD):\n",
    "    def __init__(self, num_top_elements=10, metric='cosine', demeaned=False):\n",
    "        super().__init__(num_top_elements, metric, demeaned)\n",
    "    def get_embedding(self, x):\n",
    "        x_embedding = self.V[x]\n",
    "        return x_embedding\n",
    "    def search_person_nn(self, x, num_top_elements):\n",
    "        x_embedding = self.get_embedding(x)\n",
    "        dist = cdist(self.V, x_embedding, metric=self.metric)\n",
    "        dist = dist.mean(axis=1)\n",
    "        #\n",
    "        top_n = dist.argsort()\n",
    "        # выбрасываем из топа person_id, которые были в x\n",
    "        # после выбиараем top_n \n",
    "        top_n = top_n[~np.isin(top_n, x)][:num_top_elements]\n",
    "        return top_n\n",
    "    def predict(self, X):\n",
    "        y_pred = []\n",
    "        for (_, _), x in tqdm(X.iteritems(), total=len(X)):\n",
    "            # x = x[:min(len(x), self.num_top_elements)]\n",
    "            # ищем ближайших исполнителей для x\n",
    "            top_n = self.search_person_nn(x, self.num_top_elements)\n",
    "            y_pred.append(top_n)\n",
    "        return np.array(y_pred)\n",
    "\n",
    "\n",
    "class UserRaitingsSVD(NearestPersonsSVD):\n",
    "    def __init__(self, le_user, le_person, num_top_elements=10, metric='cosine', demeaned=False):\n",
    "        super().__init__(num_top_elements, metric, demeaned)\n",
    "        # сохраняем лэйбл энкодеры, которые еодировали сами данные,\n",
    "        # тк они нужны в методе `.fit()`, чтобы понять, известен ли для модели конкретный пользователь\n",
    "        self.le_user = le_user\n",
    "        self.le_person = le_person\n",
    "    def get_user_raitings(self, user_id):\n",
    "        # расчет рейтингов пользователя с помощью SVD разложения\n",
    "        user_raitings = np.dot(\n",
    "            np.dot(\n",
    "                self.U[[user_id]],\n",
    "                self.sigma),\n",
    "            self.Vt\n",
    "        )\n",
    "        # восстановление истинных рейтингов пользователя\n",
    "        if self.demeaned:\n",
    "            user_raitings += self.X_csc_mean[user_id]\n",
    "        return user_raitings.flatten()\n",
    "    def predict(self, X):\n",
    "        y_pred = []\n",
    "        for (_, user_id), x in tqdm(X.iteritems(), total=len(X)):\n",
    "            # если этот пользователь был среди тех, на которых обучалась модель\n",
    "            if user_id in self.le_user.classes_:\n",
    "                # то берем его рейтинги\n",
    "                user_raitings = self.get_user_raitings(user_id)\n",
    "                # получаем массив индексов отсортированный по значению рейтинга\n",
    "                top_n = user_raitings.argsort()\n",
    "                # берем индексы наибольших рейтингов\n",
    "                top_n = top_n[~np.isin(top_n, x)][-self.num_top_elements:]\n",
    "            # если пользователь не знаком для модели\n",
    "            else:\n",
    "                # x = x[:min(len(x), self.num_top_elements)]\n",
    "                # ищем ближайших исполнителей для x (аналогично NearestPersonsSVD)\n",
    "                top_n = self.search_person_nn(x, self.num_top_elements)\n",
    "            y_pred.append(top_n)\n",
    "        return np.array(y_pred)"
   ]
  },
  {
   "cell_type": "markdown",
   "metadata": {},
   "source": [
    "## Обучение моделей"
   ]
  },
  {
   "cell_type": "code",
   "execution_count": 16,
   "metadata": {
    "scrolled": true
   },
   "outputs": [
    {
     "name": "stdout",
     "output_type": "stream",
     "text": [
      "CPU times: user 32.6 s, sys: 690 ms, total: 33.3 s\n",
      "Wall time: 22.8 s\n"
     ]
    }
   ],
   "source": [
    "%%time\n",
    "svd_np = NearestPersonsSVD(num_top_elements=20)\n",
    "svd_np.fit(X_train)"
   ]
  },
  {
   "cell_type": "code",
   "execution_count": 17,
   "metadata": {
    "scrolled": true
   },
   "outputs": [
    {
     "name": "stdout",
     "output_type": "stream",
     "text": [
      "CPU times: user 31.7 s, sys: 514 ms, total: 32.2 s\n",
      "Wall time: 21.8 s\n"
     ]
    }
   ],
   "source": [
    "%%time\n",
    "svd_ur = UserRaitingsSVD(le_user, le_person, num_top_elements=20, metric='cosine', demeaned=False)\n",
    "svd_ur.fit(X_train)"
   ]
  },
  {
   "cell_type": "code",
   "execution_count": 18,
   "metadata": {},
   "outputs": [
    {
     "name": "stdout",
     "output_type": "stream",
     "text": [
      "CPU times: user 5min 12s, sys: 13.9 s, total: 5min 25s\n",
      "Wall time: 1min 21s\n"
     ]
    }
   ],
   "source": [
    "%%time\n",
    "svd_ur_demeaned = UserRaitingsSVD(le_user, le_person, num_top_elements=20, metric='cosine', demeaned=True)\n",
    "svd_ur_demeaned.fit(X_train)"
   ]
  },
  {
   "cell_type": "markdown",
   "metadata": {},
   "source": [
    "### Оценка качества на первой тысяче строк из тестовых данных"
   ]
  },
  {
   "cell_type": "code",
   "execution_count": 19,
   "metadata": {},
   "outputs": [],
   "source": [
    "X, y = X_test.head(1000), y_test.head(1000)"
   ]
  },
  {
   "cell_type": "code",
   "execution_count": 20,
   "metadata": {},
   "outputs": [
    {
     "name": "stderr",
     "output_type": "stream",
     "text": [
      "100%|██████████| 1000/1000 [00:04<00:00, 205.03it/s]\n",
      "  2%|▎         | 25/1000 [00:00<00:03, 245.65it/s]"
     ]
    },
    {
     "name": "stdout",
     "output_type": "stream",
     "text": [
      "0.095\n"
     ]
    },
    {
     "name": "stderr",
     "output_type": "stream",
     "text": [
      "100%|██████████| 1000/1000 [00:02<00:00, 416.60it/s]\n",
      "  3%|▎         | 28/1000 [00:00<00:03, 279.74it/s]"
     ]
    },
    {
     "name": "stdout",
     "output_type": "stream",
     "text": [
      "0.158\n"
     ]
    },
    {
     "name": "stderr",
     "output_type": "stream",
     "text": [
      "100%|██████████| 1000/1000 [00:02<00:00, 400.44it/s]"
     ]
    },
    {
     "name": "stdout",
     "output_type": "stream",
     "text": [
      "0.177\n"
     ]
    },
    {
     "name": "stderr",
     "output_type": "stream",
     "text": [
      "\n"
     ]
    }
   ],
   "source": [
    "print(svd_np.score(X, y))\n",
    "print(svd_ur.score(X, y))\n",
    "print(svd_ur_demeaned.score(X, y))"
   ]
  },
  {
   "cell_type": "markdown",
   "metadata": {},
   "source": [
    "### Оценка качества на множестве подвыборок из тестовых данных\n",
    "Тк данных много, кросс-валидационную оценку качества работы моделей не получается провести. Было решено провести неуоторое количество проверок на небольших объемах данных (из тестовой выборки). "
   ]
  },
  {
   "cell_type": "code",
   "execution_count": 21,
   "metadata": {},
   "outputs": [
    {
     "data": {
      "text/plain": [
       "array([[441018, 641794, 114362, ..., 122807, 486036,  77339],\n",
       "       [536733, 590173, 128065, ..., 620637, 412967, 675518],\n",
       "       [269151, 557625, 373890, ..., 448700,  83159, 591480],\n",
       "       ...,\n",
       "       [397088, 172342, 212303, ..., 508341, 510772, 408924],\n",
       "       [733822, 363969, 669691, ..., 636931, 152393, 471168],\n",
       "       [558185, 526927, 188581, ..., 527678,  94261,  74606]])"
      ]
     },
     "execution_count": 21,
     "metadata": {},
     "output_type": "execute_result"
    }
   ],
   "source": [
    "# Возьмем 100 выборок по 1000 наблюдений из тестовых данных\n",
    "n_samples = 100\n",
    "sample_size = 1000\n",
    "np.random.seed(42)\n",
    "samples = np.array([\n",
    "    np.random.choice(len(X_test), sample_size, replace=False)\n",
    "    for _ in range(n_samples)\n",
    "])\n",
    "\n",
    "samples"
   ]
  },
  {
   "cell_type": "code",
   "execution_count": 22,
   "metadata": {},
   "outputs": [],
   "source": [
    "def sampled_score(model, X, y, samples):\n",
    "    '''\n",
    "    Расчет качества работы модели по наборам индексов\n",
    "    '''\n",
    "    score_lst = []\n",
    "    for i, sample in enumerate(samples):\n",
    "        print(i)\n",
    "        sample_score = model.score(\n",
    "            X.iloc[sample],\n",
    "            y.iloc[sample]\n",
    "        )\n",
    "        score_lst.append(sample_score)\n",
    "    return np.array(score_lst)"
   ]
  },
  {
   "cell_type": "code",
   "execution_count": 23,
   "metadata": {},
   "outputs": [
    {
     "name": "stderr",
     "output_type": "stream",
     "text": [
      "  1%|          | 12/1000 [00:00<00:08, 112.73it/s]"
     ]
    },
    {
     "name": "stdout",
     "output_type": "stream",
     "text": [
      "0\n"
     ]
    },
    {
     "name": "stderr",
     "output_type": "stream",
     "text": [
      "100%|██████████| 1000/1000 [00:06<00:00, 161.32it/s]\n",
      "  2%|▏         | 16/1000 [00:00<00:06, 153.03it/s]"
     ]
    },
    {
     "name": "stdout",
     "output_type": "stream",
     "text": [
      "1\n"
     ]
    },
    {
     "name": "stderr",
     "output_type": "stream",
     "text": [
      "100%|██████████| 1000/1000 [00:06<00:00, 159.08it/s]\n",
      "  2%|▏         | 18/1000 [00:00<00:05, 168.32it/s]"
     ]
    },
    {
     "name": "stdout",
     "output_type": "stream",
     "text": [
      "2\n"
     ]
    },
    {
     "name": "stderr",
     "output_type": "stream",
     "text": [
      "100%|██████████| 1000/1000 [00:05<00:00, 168.77it/s]\n",
      "  2%|▏         | 18/1000 [00:00<00:05, 178.64it/s]"
     ]
    },
    {
     "name": "stdout",
     "output_type": "stream",
     "text": [
      "3\n"
     ]
    },
    {
     "name": "stderr",
     "output_type": "stream",
     "text": [
      "100%|██████████| 1000/1000 [00:05<00:00, 177.46it/s]\n",
      "  2%|▏         | 18/1000 [00:00<00:05, 177.85it/s]"
     ]
    },
    {
     "name": "stdout",
     "output_type": "stream",
     "text": [
      "4\n"
     ]
    },
    {
     "name": "stderr",
     "output_type": "stream",
     "text": [
      "100%|██████████| 1000/1000 [00:05<00:00, 184.60it/s]\n",
      "  2%|▏         | 18/1000 [00:00<00:05, 179.20it/s]"
     ]
    },
    {
     "name": "stdout",
     "output_type": "stream",
     "text": [
      "5\n"
     ]
    },
    {
     "name": "stderr",
     "output_type": "stream",
     "text": [
      "100%|██████████| 1000/1000 [00:06<00:00, 164.81it/s]\n",
      "  2%|▏         | 21/1000 [00:00<00:04, 207.24it/s]"
     ]
    },
    {
     "name": "stdout",
     "output_type": "stream",
     "text": [
      "6\n"
     ]
    },
    {
     "name": "stderr",
     "output_type": "stream",
     "text": [
      "100%|██████████| 1000/1000 [00:06<00:00, 162.35it/s]\n",
      "  2%|▏         | 16/1000 [00:00<00:06, 153.89it/s]"
     ]
    },
    {
     "name": "stdout",
     "output_type": "stream",
     "text": [
      "7\n"
     ]
    },
    {
     "name": "stderr",
     "output_type": "stream",
     "text": [
      "100%|██████████| 1000/1000 [00:05<00:00, 173.91it/s]\n",
      "  2%|▏         | 16/1000 [00:00<00:06, 155.94it/s]"
     ]
    },
    {
     "name": "stdout",
     "output_type": "stream",
     "text": [
      "8\n"
     ]
    },
    {
     "name": "stderr",
     "output_type": "stream",
     "text": [
      "100%|██████████| 1000/1000 [00:05<00:00, 182.12it/s]\n",
      "  2%|▏         | 21/1000 [00:00<00:04, 201.28it/s]"
     ]
    },
    {
     "name": "stdout",
     "output_type": "stream",
     "text": [
      "9\n"
     ]
    },
    {
     "name": "stderr",
     "output_type": "stream",
     "text": [
      "100%|██████████| 1000/1000 [00:05<00:00, 178.93it/s]\n",
      "  2%|▏         | 19/1000 [00:00<00:05, 185.70it/s]"
     ]
    },
    {
     "name": "stdout",
     "output_type": "stream",
     "text": [
      "10\n"
     ]
    },
    {
     "name": "stderr",
     "output_type": "stream",
     "text": [
      "100%|██████████| 1000/1000 [00:05<00:00, 176.11it/s]\n",
      "  2%|▏         | 16/1000 [00:00<00:06, 154.40it/s]"
     ]
    },
    {
     "name": "stdout",
     "output_type": "stream",
     "text": [
      "11\n"
     ]
    },
    {
     "name": "stderr",
     "output_type": "stream",
     "text": [
      "100%|██████████| 1000/1000 [00:05<00:00, 179.56it/s]\n",
      "  2%|▏         | 15/1000 [00:00<00:06, 146.83it/s]"
     ]
    },
    {
     "name": "stdout",
     "output_type": "stream",
     "text": [
      "12\n"
     ]
    },
    {
     "name": "stderr",
     "output_type": "stream",
     "text": [
      "100%|██████████| 1000/1000 [00:05<00:00, 178.44it/s]\n",
      "  2%|▏         | 18/1000 [00:00<00:05, 176.59it/s]"
     ]
    },
    {
     "name": "stdout",
     "output_type": "stream",
     "text": [
      "13\n"
     ]
    },
    {
     "name": "stderr",
     "output_type": "stream",
     "text": [
      "100%|██████████| 1000/1000 [00:05<00:00, 185.91it/s]\n",
      "  2%|▏         | 17/1000 [00:00<00:05, 169.90it/s]"
     ]
    },
    {
     "name": "stdout",
     "output_type": "stream",
     "text": [
      "14\n"
     ]
    },
    {
     "name": "stderr",
     "output_type": "stream",
     "text": [
      "100%|██████████| 1000/1000 [00:05<00:00, 170.98it/s]\n",
      "  2%|▏         | 15/1000 [00:00<00:06, 146.47it/s]"
     ]
    },
    {
     "name": "stdout",
     "output_type": "stream",
     "text": [
      "15\n"
     ]
    },
    {
     "name": "stderr",
     "output_type": "stream",
     "text": [
      "100%|██████████| 1000/1000 [00:05<00:00, 173.19it/s]\n",
      "  2%|▏         | 17/1000 [00:00<00:06, 155.38it/s]"
     ]
    },
    {
     "name": "stdout",
     "output_type": "stream",
     "text": [
      "16\n"
     ]
    },
    {
     "name": "stderr",
     "output_type": "stream",
     "text": [
      "100%|██████████| 1000/1000 [00:05<00:00, 168.65it/s]\n",
      "  2%|▏         | 21/1000 [00:00<00:04, 205.03it/s]"
     ]
    },
    {
     "name": "stdout",
     "output_type": "stream",
     "text": [
      "17\n"
     ]
    },
    {
     "name": "stderr",
     "output_type": "stream",
     "text": [
      "100%|██████████| 1000/1000 [00:06<00:00, 164.05it/s]\n",
      "  2%|▏         | 20/1000 [00:00<00:04, 197.91it/s]"
     ]
    },
    {
     "name": "stdout",
     "output_type": "stream",
     "text": [
      "18\n"
     ]
    },
    {
     "name": "stderr",
     "output_type": "stream",
     "text": [
      "100%|██████████| 1000/1000 [00:05<00:00, 170.76it/s]\n",
      "  1%|▏         | 14/1000 [00:00<00:07, 129.96it/s]"
     ]
    },
    {
     "name": "stdout",
     "output_type": "stream",
     "text": [
      "19\n"
     ]
    },
    {
     "name": "stderr",
     "output_type": "stream",
     "text": [
      "100%|██████████| 1000/1000 [00:06<00:00, 164.01it/s]\n",
      "  2%|▏         | 17/1000 [00:00<00:05, 169.25it/s]"
     ]
    },
    {
     "name": "stdout",
     "output_type": "stream",
     "text": [
      "20\n"
     ]
    },
    {
     "name": "stderr",
     "output_type": "stream",
     "text": [
      "100%|██████████| 1000/1000 [00:06<00:00, 161.37it/s]\n",
      "  2%|▏         | 19/1000 [00:00<00:05, 187.15it/s]"
     ]
    },
    {
     "name": "stdout",
     "output_type": "stream",
     "text": [
      "21\n"
     ]
    },
    {
     "name": "stderr",
     "output_type": "stream",
     "text": [
      "100%|██████████| 1000/1000 [00:05<00:00, 178.54it/s]\n",
      "  2%|▏         | 19/1000 [00:00<00:05, 184.61it/s]"
     ]
    },
    {
     "name": "stdout",
     "output_type": "stream",
     "text": [
      "22\n"
     ]
    },
    {
     "name": "stderr",
     "output_type": "stream",
     "text": [
      "100%|██████████| 1000/1000 [00:06<00:00, 160.79it/s]\n",
      "  2%|▏         | 19/1000 [00:00<00:05, 176.29it/s]"
     ]
    },
    {
     "name": "stdout",
     "output_type": "stream",
     "text": [
      "23\n"
     ]
    },
    {
     "name": "stderr",
     "output_type": "stream",
     "text": [
      "100%|██████████| 1000/1000 [00:05<00:00, 167.78it/s]\n",
      "  1%|          | 11/1000 [00:00<00:09, 109.83it/s]"
     ]
    },
    {
     "name": "stdout",
     "output_type": "stream",
     "text": [
      "24\n"
     ]
    },
    {
     "name": "stderr",
     "output_type": "stream",
     "text": [
      "100%|██████████| 1000/1000 [00:06<00:00, 163.64it/s]\n",
      "  1%|▏         | 13/1000 [00:00<00:07, 129.20it/s]"
     ]
    },
    {
     "name": "stdout",
     "output_type": "stream",
     "text": [
      "25\n"
     ]
    },
    {
     "name": "stderr",
     "output_type": "stream",
     "text": [
      "100%|██████████| 1000/1000 [00:06<00:00, 156.00it/s]\n",
      "  2%|▏         | 21/1000 [00:00<00:04, 203.62it/s]"
     ]
    },
    {
     "name": "stdout",
     "output_type": "stream",
     "text": [
      "26\n"
     ]
    },
    {
     "name": "stderr",
     "output_type": "stream",
     "text": [
      "100%|██████████| 1000/1000 [00:05<00:00, 170.76it/s]\n",
      "  2%|▏         | 17/1000 [00:00<00:05, 167.10it/s]"
     ]
    },
    {
     "name": "stdout",
     "output_type": "stream",
     "text": [
      "27\n"
     ]
    },
    {
     "name": "stderr",
     "output_type": "stream",
     "text": [
      "100%|██████████| 1000/1000 [00:05<00:00, 168.65it/s]\n",
      "  2%|▏         | 23/1000 [00:00<00:04, 221.50it/s]"
     ]
    },
    {
     "name": "stdout",
     "output_type": "stream",
     "text": [
      "28\n"
     ]
    },
    {
     "name": "stderr",
     "output_type": "stream",
     "text": [
      "100%|██████████| 1000/1000 [00:05<00:00, 171.45it/s]\n",
      "  2%|▏         | 16/1000 [00:00<00:07, 139.41it/s]"
     ]
    },
    {
     "name": "stdout",
     "output_type": "stream",
     "text": [
      "29\n"
     ]
    },
    {
     "name": "stderr",
     "output_type": "stream",
     "text": [
      "100%|██████████| 1000/1000 [00:05<00:00, 169.71it/s]\n",
      "  2%|▏         | 20/1000 [00:00<00:05, 183.69it/s]"
     ]
    },
    {
     "name": "stdout",
     "output_type": "stream",
     "text": [
      "30\n"
     ]
    },
    {
     "name": "stderr",
     "output_type": "stream",
     "text": [
      "100%|██████████| 1000/1000 [00:05<00:00, 174.50it/s]\n",
      "  2%|▏         | 24/1000 [00:00<00:04, 226.20it/s]"
     ]
    },
    {
     "name": "stdout",
     "output_type": "stream",
     "text": [
      "31\n"
     ]
    },
    {
     "name": "stderr",
     "output_type": "stream",
     "text": [
      "100%|██████████| 1000/1000 [00:05<00:00, 168.43it/s]\n",
      "  1%|          | 11/1000 [00:00<00:09, 106.84it/s]"
     ]
    },
    {
     "name": "stdout",
     "output_type": "stream",
     "text": [
      "32\n"
     ]
    },
    {
     "name": "stderr",
     "output_type": "stream",
     "text": [
      "100%|██████████| 1000/1000 [00:07<00:00, 133.51it/s]\n",
      "  1%|▏         | 13/1000 [00:00<00:07, 125.36it/s]"
     ]
    },
    {
     "name": "stdout",
     "output_type": "stream",
     "text": [
      "33\n"
     ]
    },
    {
     "name": "stderr",
     "output_type": "stream",
     "text": [
      "100%|██████████| 1000/1000 [00:06<00:00, 145.55it/s]\n",
      "  1%|▏         | 13/1000 [00:00<00:08, 121.68it/s]"
     ]
    },
    {
     "name": "stdout",
     "output_type": "stream",
     "text": [
      "34\n"
     ]
    },
    {
     "name": "stderr",
     "output_type": "stream",
     "text": [
      "100%|██████████| 1000/1000 [00:06<00:00, 144.30it/s]\n",
      "  2%|▏         | 17/1000 [00:00<00:06, 163.42it/s]"
     ]
    },
    {
     "name": "stdout",
     "output_type": "stream",
     "text": [
      "35\n"
     ]
    },
    {
     "name": "stderr",
     "output_type": "stream",
     "text": [
      "100%|██████████| 1000/1000 [00:06<00:00, 145.30it/s]\n",
      "  1%|▏         | 14/1000 [00:00<00:07, 138.24it/s]"
     ]
    },
    {
     "name": "stdout",
     "output_type": "stream",
     "text": [
      "36\n"
     ]
    },
    {
     "name": "stderr",
     "output_type": "stream",
     "text": [
      "100%|██████████| 1000/1000 [00:06<00:00, 149.05it/s]\n",
      "  2%|▏         | 20/1000 [00:00<00:05, 192.16it/s]"
     ]
    },
    {
     "name": "stdout",
     "output_type": "stream",
     "text": [
      "37\n"
     ]
    },
    {
     "name": "stderr",
     "output_type": "stream",
     "text": [
      "100%|██████████| 1000/1000 [00:06<00:00, 145.64it/s]\n",
      "  1%|▏         | 13/1000 [00:00<00:07, 126.44it/s]"
     ]
    },
    {
     "name": "stdout",
     "output_type": "stream",
     "text": [
      "38\n"
     ]
    },
    {
     "name": "stderr",
     "output_type": "stream",
     "text": [
      "100%|██████████| 1000/1000 [00:06<00:00, 147.69it/s]\n",
      "  2%|▏         | 15/1000 [00:00<00:06, 145.92it/s]"
     ]
    },
    {
     "name": "stdout",
     "output_type": "stream",
     "text": [
      "39\n"
     ]
    },
    {
     "name": "stderr",
     "output_type": "stream",
     "text": [
      "100%|██████████| 1000/1000 [00:06<00:00, 147.96it/s]\n",
      "  2%|▏         | 16/1000 [00:00<00:06, 157.30it/s]"
     ]
    },
    {
     "name": "stdout",
     "output_type": "stream",
     "text": [
      "40\n"
     ]
    },
    {
     "name": "stderr",
     "output_type": "stream",
     "text": [
      "100%|██████████| 1000/1000 [00:06<00:00, 153.43it/s]\n",
      "  2%|▏         | 17/1000 [00:00<00:06, 155.21it/s]"
     ]
    },
    {
     "name": "stdout",
     "output_type": "stream",
     "text": [
      "41\n"
     ]
    },
    {
     "name": "stderr",
     "output_type": "stream",
     "text": [
      "100%|██████████| 1000/1000 [00:06<00:00, 152.35it/s]\n",
      "  2%|▏         | 22/1000 [00:00<00:04, 219.64it/s]"
     ]
    },
    {
     "name": "stdout",
     "output_type": "stream",
     "text": [
      "42\n"
     ]
    },
    {
     "name": "stderr",
     "output_type": "stream",
     "text": [
      "100%|██████████| 1000/1000 [00:06<00:00, 153.49it/s]\n",
      "  1%|          | 9/1000 [00:00<00:11, 86.83it/s]"
     ]
    },
    {
     "name": "stdout",
     "output_type": "stream",
     "text": [
      "43\n"
     ]
    },
    {
     "name": "stderr",
     "output_type": "stream",
     "text": [
      "100%|██████████| 1000/1000 [00:06<00:00, 147.55it/s]\n",
      "  2%|▏         | 16/1000 [00:00<00:06, 154.13it/s]"
     ]
    },
    {
     "name": "stdout",
     "output_type": "stream",
     "text": [
      "44\n"
     ]
    },
    {
     "name": "stderr",
     "output_type": "stream",
     "text": [
      "100%|██████████| 1000/1000 [00:06<00:00, 147.99it/s]\n",
      "  2%|▏         | 18/1000 [00:00<00:05, 165.53it/s]"
     ]
    },
    {
     "name": "stdout",
     "output_type": "stream",
     "text": [
      "45\n"
     ]
    },
    {
     "name": "stderr",
     "output_type": "stream",
     "text": [
      "100%|██████████| 1000/1000 [00:06<00:00, 156.98it/s]\n",
      "  2%|▏         | 16/1000 [00:00<00:06, 146.52it/s]"
     ]
    },
    {
     "name": "stdout",
     "output_type": "stream",
     "text": [
      "46\n"
     ]
    },
    {
     "name": "stderr",
     "output_type": "stream",
     "text": [
      "100%|██████████| 1000/1000 [00:06<00:00, 145.95it/s]\n",
      "  1%|▏         | 14/1000 [00:00<00:07, 133.74it/s]"
     ]
    },
    {
     "name": "stdout",
     "output_type": "stream",
     "text": [
      "47\n"
     ]
    },
    {
     "name": "stderr",
     "output_type": "stream",
     "text": [
      "100%|██████████| 1000/1000 [00:06<00:00, 151.15it/s]\n",
      "  1%|▏         | 13/1000 [00:00<00:07, 124.38it/s]"
     ]
    },
    {
     "name": "stdout",
     "output_type": "stream",
     "text": [
      "48\n"
     ]
    },
    {
     "name": "stderr",
     "output_type": "stream",
     "text": [
      "100%|██████████| 1000/1000 [00:06<00:00, 142.87it/s]\n",
      "  1%|▏         | 14/1000 [00:00<00:07, 136.68it/s]"
     ]
    },
    {
     "name": "stdout",
     "output_type": "stream",
     "text": [
      "49\n"
     ]
    },
    {
     "name": "stderr",
     "output_type": "stream",
     "text": [
      "100%|██████████| 1000/1000 [00:06<00:00, 146.08it/s]\n",
      "  1%|▏         | 13/1000 [00:00<00:07, 126.19it/s]"
     ]
    },
    {
     "name": "stdout",
     "output_type": "stream",
     "text": [
      "50\n"
     ]
    },
    {
     "name": "stderr",
     "output_type": "stream",
     "text": [
      "100%|██████████| 1000/1000 [00:05<00:00, 173.28it/s]\n",
      "  2%|▏         | 18/1000 [00:00<00:05, 175.92it/s]"
     ]
    },
    {
     "name": "stdout",
     "output_type": "stream",
     "text": [
      "51\n"
     ]
    },
    {
     "name": "stderr",
     "output_type": "stream",
     "text": [
      "100%|██████████| 1000/1000 [00:06<00:00, 153.59it/s]\n",
      "  2%|▏         | 15/1000 [00:00<00:07, 133.71it/s]"
     ]
    },
    {
     "name": "stdout",
     "output_type": "stream",
     "text": [
      "52\n"
     ]
    },
    {
     "name": "stderr",
     "output_type": "stream",
     "text": [
      "100%|██████████| 1000/1000 [00:06<00:00, 147.51it/s]\n",
      "  2%|▏         | 17/1000 [00:00<00:05, 166.08it/s]"
     ]
    },
    {
     "name": "stdout",
     "output_type": "stream",
     "text": [
      "53\n"
     ]
    },
    {
     "name": "stderr",
     "output_type": "stream",
     "text": [
      "100%|██████████| 1000/1000 [00:07<00:00, 139.29it/s]\n",
      "  2%|▏         | 17/1000 [00:00<00:05, 168.22it/s]"
     ]
    },
    {
     "name": "stdout",
     "output_type": "stream",
     "text": [
      "54\n"
     ]
    },
    {
     "name": "stderr",
     "output_type": "stream",
     "text": [
      "100%|██████████| 1000/1000 [00:06<00:00, 145.72it/s]\n",
      "  1%|▏         | 13/1000 [00:00<00:07, 129.20it/s]"
     ]
    },
    {
     "name": "stdout",
     "output_type": "stream",
     "text": [
      "55\n"
     ]
    },
    {
     "name": "stderr",
     "output_type": "stream",
     "text": [
      "100%|██████████| 1000/1000 [00:07<00:00, 137.03it/s]\n",
      "  1%|▏         | 14/1000 [00:00<00:07, 133.21it/s]"
     ]
    },
    {
     "name": "stdout",
     "output_type": "stream",
     "text": [
      "56\n"
     ]
    },
    {
     "name": "stderr",
     "output_type": "stream",
     "text": [
      "100%|██████████| 1000/1000 [00:07<00:00, 129.68it/s]\n",
      "  1%|          | 10/1000 [00:00<00:09, 99.34it/s]"
     ]
    },
    {
     "name": "stdout",
     "output_type": "stream",
     "text": [
      "57\n"
     ]
    },
    {
     "name": "stderr",
     "output_type": "stream",
     "text": [
      "100%|██████████| 1000/1000 [00:07<00:00, 132.72it/s]\n",
      "  2%|▏         | 15/1000 [00:00<00:06, 146.60it/s]"
     ]
    },
    {
     "name": "stdout",
     "output_type": "stream",
     "text": [
      "58\n"
     ]
    },
    {
     "name": "stderr",
     "output_type": "stream",
     "text": [
      "100%|██████████| 1000/1000 [00:06<00:00, 145.05it/s]\n",
      "  2%|▏         | 15/1000 [00:00<00:06, 147.74it/s]"
     ]
    },
    {
     "name": "stdout",
     "output_type": "stream",
     "text": [
      "59\n"
     ]
    },
    {
     "name": "stderr",
     "output_type": "stream",
     "text": [
      "100%|██████████| 1000/1000 [00:06<00:00, 144.21it/s]\n",
      "  2%|▏         | 15/1000 [00:00<00:06, 143.75it/s]"
     ]
    },
    {
     "name": "stdout",
     "output_type": "stream",
     "text": [
      "60\n"
     ]
    },
    {
     "name": "stderr",
     "output_type": "stream",
     "text": [
      "100%|██████████| 1000/1000 [00:06<00:00, 156.28it/s]\n",
      "  2%|▏         | 17/1000 [00:00<00:05, 168.02it/s]"
     ]
    },
    {
     "name": "stdout",
     "output_type": "stream",
     "text": [
      "61\n"
     ]
    },
    {
     "name": "stderr",
     "output_type": "stream",
     "text": [
      "100%|██████████| 1000/1000 [00:06<00:00, 159.10it/s]\n",
      "  2%|▏         | 18/1000 [00:00<00:06, 158.12it/s]"
     ]
    },
    {
     "name": "stdout",
     "output_type": "stream",
     "text": [
      "62\n"
     ]
    },
    {
     "name": "stderr",
     "output_type": "stream",
     "text": [
      "100%|██████████| 1000/1000 [00:06<00:00, 155.27it/s]\n",
      "  2%|▏         | 16/1000 [00:00<00:06, 159.81it/s]"
     ]
    },
    {
     "name": "stdout",
     "output_type": "stream",
     "text": [
      "63\n"
     ]
    },
    {
     "name": "stderr",
     "output_type": "stream",
     "text": [
      "100%|██████████| 1000/1000 [00:06<00:00, 155.30it/s]\n",
      "  1%|          | 11/1000 [00:00<00:09, 106.95it/s]"
     ]
    },
    {
     "name": "stdout",
     "output_type": "stream",
     "text": [
      "64\n"
     ]
    },
    {
     "name": "stderr",
     "output_type": "stream",
     "text": [
      "100%|██████████| 1000/1000 [00:06<00:00, 157.04it/s]\n",
      "  2%|▏         | 22/1000 [00:00<00:04, 217.90it/s]"
     ]
    },
    {
     "name": "stdout",
     "output_type": "stream",
     "text": [
      "65\n"
     ]
    },
    {
     "name": "stderr",
     "output_type": "stream",
     "text": [
      "100%|██████████| 1000/1000 [00:06<00:00, 156.53it/s]\n",
      "  2%|▏         | 15/1000 [00:00<00:06, 143.00it/s]"
     ]
    },
    {
     "name": "stdout",
     "output_type": "stream",
     "text": [
      "66\n"
     ]
    },
    {
     "name": "stderr",
     "output_type": "stream",
     "text": [
      "100%|██████████| 1000/1000 [00:06<00:00, 147.00it/s]\n",
      "  2%|▏         | 16/1000 [00:00<00:06, 158.54it/s]"
     ]
    },
    {
     "name": "stdout",
     "output_type": "stream",
     "text": [
      "67\n"
     ]
    },
    {
     "name": "stderr",
     "output_type": "stream",
     "text": [
      "100%|██████████| 1000/1000 [00:06<00:00, 155.54it/s]\n",
      "  1%|▏         | 14/1000 [00:00<00:07, 137.91it/s]"
     ]
    },
    {
     "name": "stdout",
     "output_type": "stream",
     "text": [
      "68\n"
     ]
    },
    {
     "name": "stderr",
     "output_type": "stream",
     "text": [
      "100%|██████████| 1000/1000 [00:06<00:00, 152.04it/s]\n",
      "  2%|▏         | 16/1000 [00:00<00:06, 159.30it/s]"
     ]
    },
    {
     "name": "stdout",
     "output_type": "stream",
     "text": [
      "69\n"
     ]
    },
    {
     "name": "stderr",
     "output_type": "stream",
     "text": [
      "100%|██████████| 1000/1000 [00:06<00:00, 153.01it/s]\n",
      "  2%|▏         | 16/1000 [00:00<00:06, 155.45it/s]"
     ]
    },
    {
     "name": "stdout",
     "output_type": "stream",
     "text": [
      "70\n"
     ]
    },
    {
     "name": "stderr",
     "output_type": "stream",
     "text": [
      "100%|██████████| 1000/1000 [00:06<00:00, 163.61it/s]\n",
      "  2%|▏         | 19/1000 [00:00<00:05, 184.51it/s]"
     ]
    },
    {
     "name": "stdout",
     "output_type": "stream",
     "text": [
      "71\n"
     ]
    },
    {
     "name": "stderr",
     "output_type": "stream",
     "text": [
      "100%|██████████| 1000/1000 [00:06<00:00, 156.13it/s]\n",
      "  1%|▏         | 14/1000 [00:00<00:07, 130.67it/s]"
     ]
    },
    {
     "name": "stdout",
     "output_type": "stream",
     "text": [
      "72\n"
     ]
    },
    {
     "name": "stderr",
     "output_type": "stream",
     "text": [
      "100%|██████████| 1000/1000 [00:06<00:00, 161.40it/s]\n",
      "  2%|▏         | 16/1000 [00:00<00:06, 153.79it/s]"
     ]
    },
    {
     "name": "stdout",
     "output_type": "stream",
     "text": [
      "73\n"
     ]
    },
    {
     "name": "stderr",
     "output_type": "stream",
     "text": [
      "100%|██████████| 1000/1000 [00:06<00:00, 159.73it/s]\n",
      "  1%|▏         | 14/1000 [00:00<00:07, 138.67it/s]"
     ]
    },
    {
     "name": "stdout",
     "output_type": "stream",
     "text": [
      "74\n"
     ]
    },
    {
     "name": "stderr",
     "output_type": "stream",
     "text": [
      "100%|██████████| 1000/1000 [00:06<00:00, 154.99it/s]\n",
      "  2%|▏         | 18/1000 [00:00<00:05, 174.52it/s]"
     ]
    },
    {
     "name": "stdout",
     "output_type": "stream",
     "text": [
      "75\n"
     ]
    },
    {
     "name": "stderr",
     "output_type": "stream",
     "text": [
      "100%|██████████| 1000/1000 [00:06<00:00, 158.73it/s]\n",
      "  2%|▏         | 18/1000 [00:00<00:05, 175.19it/s]"
     ]
    },
    {
     "name": "stdout",
     "output_type": "stream",
     "text": [
      "76\n"
     ]
    },
    {
     "name": "stderr",
     "output_type": "stream",
     "text": [
      "100%|██████████| 1000/1000 [00:06<00:00, 148.09it/s]\n",
      "  1%|          | 10/1000 [00:00<00:10, 94.82it/s]"
     ]
    },
    {
     "name": "stdout",
     "output_type": "stream",
     "text": [
      "77\n"
     ]
    },
    {
     "name": "stderr",
     "output_type": "stream",
     "text": [
      "100%|██████████| 1000/1000 [00:06<00:00, 153.18it/s]\n",
      "  1%|▏         | 13/1000 [00:00<00:08, 122.52it/s]"
     ]
    },
    {
     "name": "stdout",
     "output_type": "stream",
     "text": [
      "78\n"
     ]
    },
    {
     "name": "stderr",
     "output_type": "stream",
     "text": [
      "100%|██████████| 1000/1000 [00:06<00:00, 159.94it/s]\n",
      "  2%|▏         | 15/1000 [00:00<00:06, 146.24it/s]"
     ]
    },
    {
     "name": "stdout",
     "output_type": "stream",
     "text": [
      "79\n"
     ]
    },
    {
     "name": "stderr",
     "output_type": "stream",
     "text": [
      "100%|██████████| 1000/1000 [00:06<00:00, 153.32it/s]\n",
      "  1%|▏         | 14/1000 [00:00<00:07, 133.27it/s]"
     ]
    },
    {
     "name": "stdout",
     "output_type": "stream",
     "text": [
      "80\n"
     ]
    },
    {
     "name": "stderr",
     "output_type": "stream",
     "text": [
      "100%|██████████| 1000/1000 [00:06<00:00, 147.30it/s]\n",
      "  2%|▏         | 15/1000 [00:00<00:07, 136.23it/s]"
     ]
    },
    {
     "name": "stdout",
     "output_type": "stream",
     "text": [
      "81\n"
     ]
    },
    {
     "name": "stderr",
     "output_type": "stream",
     "text": [
      "100%|██████████| 1000/1000 [00:06<00:00, 156.96it/s]\n",
      "  1%|▏         | 13/1000 [00:00<00:07, 125.21it/s]"
     ]
    },
    {
     "name": "stdout",
     "output_type": "stream",
     "text": [
      "82\n"
     ]
    },
    {
     "name": "stderr",
     "output_type": "stream",
     "text": [
      "100%|██████████| 1000/1000 [00:06<00:00, 149.47it/s]\n",
      "  2%|▏         | 16/1000 [00:00<00:06, 159.38it/s]"
     ]
    },
    {
     "name": "stdout",
     "output_type": "stream",
     "text": [
      "83\n"
     ]
    },
    {
     "name": "stderr",
     "output_type": "stream",
     "text": [
      "100%|██████████| 1000/1000 [00:06<00:00, 148.75it/s]\n",
      "  2%|▏         | 16/1000 [00:00<00:06, 155.66it/s]"
     ]
    },
    {
     "name": "stdout",
     "output_type": "stream",
     "text": [
      "84\n"
     ]
    },
    {
     "name": "stderr",
     "output_type": "stream",
     "text": [
      "100%|██████████| 1000/1000 [00:06<00:00, 148.27it/s]\n",
      "  2%|▏         | 20/1000 [00:00<00:05, 193.07it/s]"
     ]
    },
    {
     "name": "stdout",
     "output_type": "stream",
     "text": [
      "85\n"
     ]
    },
    {
     "name": "stderr",
     "output_type": "stream",
     "text": [
      "100%|██████████| 1000/1000 [00:06<00:00, 144.27it/s]\n",
      "  2%|▏         | 18/1000 [00:00<00:05, 177.95it/s]"
     ]
    },
    {
     "name": "stdout",
     "output_type": "stream",
     "text": [
      "86\n"
     ]
    },
    {
     "name": "stderr",
     "output_type": "stream",
     "text": [
      "100%|██████████| 1000/1000 [00:06<00:00, 153.94it/s]\n",
      "  1%|          | 10/1000 [00:00<00:10, 95.52it/s]"
     ]
    },
    {
     "name": "stdout",
     "output_type": "stream",
     "text": [
      "87\n"
     ]
    },
    {
     "name": "stderr",
     "output_type": "stream",
     "text": [
      "100%|██████████| 1000/1000 [00:06<00:00, 149.80it/s]\n",
      "  2%|▏         | 17/1000 [00:00<00:05, 165.31it/s]"
     ]
    },
    {
     "name": "stdout",
     "output_type": "stream",
     "text": [
      "88\n"
     ]
    },
    {
     "name": "stderr",
     "output_type": "stream",
     "text": [
      "100%|██████████| 1000/1000 [00:06<00:00, 151.67it/s]\n",
      "  2%|▏         | 18/1000 [00:00<00:05, 168.43it/s]"
     ]
    },
    {
     "name": "stdout",
     "output_type": "stream",
     "text": [
      "89\n"
     ]
    },
    {
     "name": "stderr",
     "output_type": "stream",
     "text": [
      "100%|██████████| 1000/1000 [00:06<00:00, 149.89it/s]\n",
      "  1%|▏         | 13/1000 [00:00<00:07, 126.36it/s]"
     ]
    },
    {
     "name": "stdout",
     "output_type": "stream",
     "text": [
      "90\n"
     ]
    },
    {
     "name": "stderr",
     "output_type": "stream",
     "text": [
      "100%|██████████| 1000/1000 [00:06<00:00, 149.17it/s]\n",
      "  1%|▏         | 13/1000 [00:00<00:08, 112.28it/s]"
     ]
    },
    {
     "name": "stdout",
     "output_type": "stream",
     "text": [
      "91\n"
     ]
    },
    {
     "name": "stderr",
     "output_type": "stream",
     "text": [
      "100%|██████████| 1000/1000 [00:06<00:00, 150.05it/s]\n",
      "  1%|          | 10/1000 [00:00<00:09, 99.30it/s]"
     ]
    },
    {
     "name": "stdout",
     "output_type": "stream",
     "text": [
      "92\n"
     ]
    },
    {
     "name": "stderr",
     "output_type": "stream",
     "text": [
      "100%|██████████| 1000/1000 [00:07<00:00, 134.56it/s]\n",
      "  2%|▏         | 22/1000 [00:00<00:04, 209.78it/s]"
     ]
    },
    {
     "name": "stdout",
     "output_type": "stream",
     "text": [
      "93\n"
     ]
    },
    {
     "name": "stderr",
     "output_type": "stream",
     "text": [
      "100%|██████████| 1000/1000 [00:06<00:00, 152.05it/s]\n",
      "  1%|          | 12/1000 [00:00<00:08, 118.07it/s]"
     ]
    },
    {
     "name": "stdout",
     "output_type": "stream",
     "text": [
      "94\n"
     ]
    },
    {
     "name": "stderr",
     "output_type": "stream",
     "text": [
      "100%|██████████| 1000/1000 [00:06<00:00, 145.08it/s]\n",
      "  1%|▏         | 13/1000 [00:00<00:09, 106.52it/s]"
     ]
    },
    {
     "name": "stdout",
     "output_type": "stream",
     "text": [
      "95\n"
     ]
    },
    {
     "name": "stderr",
     "output_type": "stream",
     "text": [
      "100%|██████████| 1000/1000 [00:06<00:00, 151.88it/s]\n",
      "  2%|▏         | 16/1000 [00:00<00:06, 154.81it/s]"
     ]
    },
    {
     "name": "stdout",
     "output_type": "stream",
     "text": [
      "96\n"
     ]
    },
    {
     "name": "stderr",
     "output_type": "stream",
     "text": [
      "100%|██████████| 1000/1000 [00:06<00:00, 148.20it/s]\n",
      "  1%|          | 12/1000 [00:00<00:08, 117.24it/s]"
     ]
    },
    {
     "name": "stdout",
     "output_type": "stream",
     "text": [
      "97\n"
     ]
    },
    {
     "name": "stderr",
     "output_type": "stream",
     "text": [
      "100%|██████████| 1000/1000 [00:07<00:00, 139.67it/s]\n",
      "  1%|▏         | 13/1000 [00:00<00:07, 126.44it/s]"
     ]
    },
    {
     "name": "stdout",
     "output_type": "stream",
     "text": [
      "98\n"
     ]
    },
    {
     "name": "stderr",
     "output_type": "stream",
     "text": [
      "100%|██████████| 1000/1000 [00:06<00:00, 148.25it/s]\n",
      "  1%|▏         | 14/1000 [00:00<00:07, 137.64it/s]"
     ]
    },
    {
     "name": "stdout",
     "output_type": "stream",
     "text": [
      "99\n"
     ]
    },
    {
     "name": "stderr",
     "output_type": "stream",
     "text": [
      "100%|██████████| 1000/1000 [00:06<00:00, 149.72it/s]"
     ]
    },
    {
     "name": "stdout",
     "output_type": "stream",
     "text": [
      "CPU times: user 10min 46s, sys: 2.23 s, total: 10min 48s\n",
      "Wall time: 10min 43s\n"
     ]
    },
    {
     "name": "stderr",
     "output_type": "stream",
     "text": [
      "\n"
     ]
    }
   ],
   "source": [
    "%%time\n",
    "scores_svd_np = sampled_score(svd_np, X_test, y_test, samples)"
   ]
  },
  {
   "cell_type": "code",
   "execution_count": 24,
   "metadata": {
    "scrolled": true
   },
   "outputs": [
    {
     "name": "stderr",
     "output_type": "stream",
     "text": [
      "  2%|▏         | 15/1000 [00:00<00:06, 149.32it/s]"
     ]
    },
    {
     "name": "stdout",
     "output_type": "stream",
     "text": [
      "0\n"
     ]
    },
    {
     "name": "stderr",
     "output_type": "stream",
     "text": [
      "100%|██████████| 1000/1000 [00:04<00:00, 201.99it/s]\n",
      "  2%|▏         | 23/1000 [00:00<00:04, 223.45it/s]"
     ]
    },
    {
     "name": "stdout",
     "output_type": "stream",
     "text": [
      "1\n"
     ]
    },
    {
     "name": "stderr",
     "output_type": "stream",
     "text": [
      "100%|██████████| 1000/1000 [00:04<00:00, 215.02it/s]\n",
      "  3%|▎         | 26/1000 [00:00<00:03, 259.81it/s]"
     ]
    },
    {
     "name": "stdout",
     "output_type": "stream",
     "text": [
      "2\n"
     ]
    },
    {
     "name": "stderr",
     "output_type": "stream",
     "text": [
      "100%|██████████| 1000/1000 [00:04<00:00, 215.68it/s]\n",
      "  2%|▏         | 18/1000 [00:00<00:05, 167.27it/s]"
     ]
    },
    {
     "name": "stdout",
     "output_type": "stream",
     "text": [
      "3\n"
     ]
    },
    {
     "name": "stderr",
     "output_type": "stream",
     "text": [
      "100%|██████████| 1000/1000 [00:04<00:00, 223.88it/s]\n",
      "  2%|▏         | 16/1000 [00:00<00:07, 136.83it/s]"
     ]
    },
    {
     "name": "stdout",
     "output_type": "stream",
     "text": [
      "4\n"
     ]
    },
    {
     "name": "stderr",
     "output_type": "stream",
     "text": [
      "100%|██████████| 1000/1000 [00:04<00:00, 217.58it/s]\n",
      "  2%|▏         | 17/1000 [00:00<00:06, 161.52it/s]"
     ]
    },
    {
     "name": "stdout",
     "output_type": "stream",
     "text": [
      "5\n"
     ]
    },
    {
     "name": "stderr",
     "output_type": "stream",
     "text": [
      "100%|██████████| 1000/1000 [00:04<00:00, 216.02it/s]\n",
      "  2%|▏         | 20/1000 [00:00<00:04, 199.40it/s]"
     ]
    },
    {
     "name": "stdout",
     "output_type": "stream",
     "text": [
      "6\n"
     ]
    },
    {
     "name": "stderr",
     "output_type": "stream",
     "text": [
      "100%|██████████| 1000/1000 [00:04<00:00, 216.67it/s]\n",
      "  2%|▏         | 17/1000 [00:00<00:07, 138.08it/s]"
     ]
    },
    {
     "name": "stdout",
     "output_type": "stream",
     "text": [
      "7\n"
     ]
    },
    {
     "name": "stderr",
     "output_type": "stream",
     "text": [
      "100%|██████████| 1000/1000 [00:04<00:00, 214.91it/s]\n",
      "  1%|▏         | 14/1000 [00:00<00:07, 139.06it/s]"
     ]
    },
    {
     "name": "stdout",
     "output_type": "stream",
     "text": [
      "8\n"
     ]
    },
    {
     "name": "stderr",
     "output_type": "stream",
     "text": [
      "100%|██████████| 1000/1000 [00:04<00:00, 218.88it/s]\n",
      "  2%|▏         | 23/1000 [00:00<00:04, 206.72it/s]"
     ]
    },
    {
     "name": "stdout",
     "output_type": "stream",
     "text": [
      "9\n"
     ]
    },
    {
     "name": "stderr",
     "output_type": "stream",
     "text": [
      "100%|██████████| 1000/1000 [00:04<00:00, 200.98it/s]\n",
      "  2%|▏         | 24/1000 [00:00<00:04, 229.32it/s]"
     ]
    },
    {
     "name": "stdout",
     "output_type": "stream",
     "text": [
      "10\n"
     ]
    },
    {
     "name": "stderr",
     "output_type": "stream",
     "text": [
      "100%|██████████| 1000/1000 [00:05<00:00, 185.66it/s]\n",
      "  1%|          | 12/1000 [00:00<00:08, 114.31it/s]"
     ]
    },
    {
     "name": "stdout",
     "output_type": "stream",
     "text": [
      "11\n"
     ]
    },
    {
     "name": "stderr",
     "output_type": "stream",
     "text": [
      "100%|██████████| 1000/1000 [00:04<00:00, 203.14it/s]\n",
      "  2%|▏         | 15/1000 [00:00<00:06, 148.25it/s]"
     ]
    },
    {
     "name": "stdout",
     "output_type": "stream",
     "text": [
      "12\n"
     ]
    },
    {
     "name": "stderr",
     "output_type": "stream",
     "text": [
      "100%|██████████| 1000/1000 [00:05<00:00, 195.12it/s]\n",
      "  2%|▎         | 25/1000 [00:00<00:04, 211.50it/s]"
     ]
    },
    {
     "name": "stdout",
     "output_type": "stream",
     "text": [
      "13\n"
     ]
    },
    {
     "name": "stderr",
     "output_type": "stream",
     "text": [
      "100%|██████████| 1000/1000 [00:04<00:00, 205.15it/s]\n",
      "  2%|▏         | 17/1000 [00:00<00:05, 168.31it/s]"
     ]
    },
    {
     "name": "stdout",
     "output_type": "stream",
     "text": [
      "14\n"
     ]
    },
    {
     "name": "stderr",
     "output_type": "stream",
     "text": [
      "100%|██████████| 1000/1000 [00:05<00:00, 194.18it/s]\n",
      "  2%|▏         | 18/1000 [00:00<00:05, 173.73it/s]"
     ]
    },
    {
     "name": "stdout",
     "output_type": "stream",
     "text": [
      "15\n"
     ]
    },
    {
     "name": "stderr",
     "output_type": "stream",
     "text": [
      "100%|██████████| 1000/1000 [00:04<00:00, 209.44it/s]\n",
      "  2%|▏         | 21/1000 [00:00<00:05, 178.63it/s]"
     ]
    },
    {
     "name": "stdout",
     "output_type": "stream",
     "text": [
      "16\n"
     ]
    },
    {
     "name": "stderr",
     "output_type": "stream",
     "text": [
      "100%|██████████| 1000/1000 [00:04<00:00, 209.40it/s]\n",
      "  3%|▎         | 32/1000 [00:00<00:03, 304.83it/s]"
     ]
    },
    {
     "name": "stdout",
     "output_type": "stream",
     "text": [
      "17\n"
     ]
    },
    {
     "name": "stderr",
     "output_type": "stream",
     "text": [
      "100%|██████████| 1000/1000 [00:05<00:00, 182.89it/s]\n",
      "  3%|▎         | 28/1000 [00:00<00:03, 270.53it/s]"
     ]
    },
    {
     "name": "stdout",
     "output_type": "stream",
     "text": [
      "18\n"
     ]
    },
    {
     "name": "stderr",
     "output_type": "stream",
     "text": [
      "100%|██████████| 1000/1000 [00:04<00:00, 214.55it/s]\n",
      "  2%|▏         | 16/1000 [00:00<00:06, 151.43it/s]"
     ]
    },
    {
     "name": "stdout",
     "output_type": "stream",
     "text": [
      "19\n"
     ]
    },
    {
     "name": "stderr",
     "output_type": "stream",
     "text": [
      "100%|██████████| 1000/1000 [00:04<00:00, 202.06it/s]\n",
      "  2%|▏         | 18/1000 [00:00<00:05, 176.65it/s]"
     ]
    },
    {
     "name": "stdout",
     "output_type": "stream",
     "text": [
      "20\n"
     ]
    },
    {
     "name": "stderr",
     "output_type": "stream",
     "text": [
      "100%|██████████| 1000/1000 [00:04<00:00, 208.35it/s]\n",
      "  2%|▎         | 25/1000 [00:00<00:03, 248.24it/s]"
     ]
    },
    {
     "name": "stdout",
     "output_type": "stream",
     "text": [
      "21\n"
     ]
    },
    {
     "name": "stderr",
     "output_type": "stream",
     "text": [
      "100%|██████████| 1000/1000 [00:04<00:00, 217.40it/s]\n",
      "  2%|▎         | 25/1000 [00:00<00:04, 243.38it/s]"
     ]
    },
    {
     "name": "stdout",
     "output_type": "stream",
     "text": [
      "22\n"
     ]
    },
    {
     "name": "stderr",
     "output_type": "stream",
     "text": [
      "100%|██████████| 1000/1000 [00:04<00:00, 209.38it/s]\n",
      "  3%|▎         | 30/1000 [00:00<00:03, 255.09it/s]"
     ]
    },
    {
     "name": "stdout",
     "output_type": "stream",
     "text": [
      "23\n"
     ]
    },
    {
     "name": "stderr",
     "output_type": "stream",
     "text": [
      "100%|██████████| 1000/1000 [00:04<00:00, 220.98it/s]\n",
      "  2%|▏         | 20/1000 [00:00<00:05, 164.87it/s]"
     ]
    },
    {
     "name": "stdout",
     "output_type": "stream",
     "text": [
      "24\n"
     ]
    },
    {
     "name": "stderr",
     "output_type": "stream",
     "text": [
      "100%|██████████| 1000/1000 [00:04<00:00, 221.10it/s]\n",
      "  2%|▏         | 24/1000 [00:00<00:04, 226.59it/s]"
     ]
    },
    {
     "name": "stdout",
     "output_type": "stream",
     "text": [
      "25\n"
     ]
    },
    {
     "name": "stderr",
     "output_type": "stream",
     "text": [
      "100%|██████████| 1000/1000 [00:04<00:00, 238.51it/s]\n",
      "  2%|▏         | 20/1000 [00:00<00:04, 199.63it/s]"
     ]
    },
    {
     "name": "stdout",
     "output_type": "stream",
     "text": [
      "26\n"
     ]
    },
    {
     "name": "stderr",
     "output_type": "stream",
     "text": [
      "100%|██████████| 1000/1000 [00:04<00:00, 220.31it/s]\n",
      "  2%|▏         | 20/1000 [00:00<00:04, 197.74it/s]"
     ]
    },
    {
     "name": "stdout",
     "output_type": "stream",
     "text": [
      "27\n"
     ]
    },
    {
     "name": "stderr",
     "output_type": "stream",
     "text": [
      "100%|██████████| 1000/1000 [00:04<00:00, 212.04it/s]\n",
      "  2%|▏         | 20/1000 [00:00<00:05, 190.77it/s]"
     ]
    },
    {
     "name": "stdout",
     "output_type": "stream",
     "text": [
      "28\n"
     ]
    },
    {
     "name": "stderr",
     "output_type": "stream",
     "text": [
      "100%|██████████| 1000/1000 [00:04<00:00, 224.34it/s]\n",
      "  2%|▏         | 17/1000 [00:00<00:05, 168.19it/s]"
     ]
    },
    {
     "name": "stdout",
     "output_type": "stream",
     "text": [
      "29\n"
     ]
    },
    {
     "name": "stderr",
     "output_type": "stream",
     "text": [
      "100%|██████████| 1000/1000 [00:04<00:00, 217.84it/s]\n",
      "  2%|▏         | 20/1000 [00:00<00:05, 181.36it/s]"
     ]
    },
    {
     "name": "stdout",
     "output_type": "stream",
     "text": [
      "30\n"
     ]
    },
    {
     "name": "stderr",
     "output_type": "stream",
     "text": [
      "100%|██████████| 1000/1000 [00:04<00:00, 211.95it/s]\n",
      "  2%|▏         | 17/1000 [00:00<00:06, 162.41it/s]"
     ]
    },
    {
     "name": "stdout",
     "output_type": "stream",
     "text": [
      "31\n"
     ]
    },
    {
     "name": "stderr",
     "output_type": "stream",
     "text": [
      "100%|██████████| 1000/1000 [00:04<00:00, 222.40it/s]\n",
      "  3%|▎         | 26/1000 [00:00<00:03, 252.02it/s]"
     ]
    },
    {
     "name": "stdout",
     "output_type": "stream",
     "text": [
      "32\n"
     ]
    },
    {
     "name": "stderr",
     "output_type": "stream",
     "text": [
      "100%|██████████| 1000/1000 [00:04<00:00, 241.84it/s]\n",
      "  2%|▎         | 25/1000 [00:00<00:04, 230.58it/s]"
     ]
    },
    {
     "name": "stdout",
     "output_type": "stream",
     "text": [
      "33\n"
     ]
    },
    {
     "name": "stderr",
     "output_type": "stream",
     "text": [
      "100%|██████████| 1000/1000 [00:04<00:00, 228.08it/s]\n",
      "  2%|▏         | 21/1000 [00:00<00:04, 209.03it/s]"
     ]
    },
    {
     "name": "stdout",
     "output_type": "stream",
     "text": [
      "34\n"
     ]
    },
    {
     "name": "stderr",
     "output_type": "stream",
     "text": [
      "100%|██████████| 1000/1000 [00:04<00:00, 216.10it/s]\n",
      "  3%|▎         | 28/1000 [00:00<00:03, 269.78it/s]"
     ]
    },
    {
     "name": "stdout",
     "output_type": "stream",
     "text": [
      "35\n"
     ]
    },
    {
     "name": "stderr",
     "output_type": "stream",
     "text": [
      "100%|██████████| 1000/1000 [00:04<00:00, 211.08it/s]\n",
      "  2%|▏         | 24/1000 [00:00<00:04, 237.48it/s]"
     ]
    },
    {
     "name": "stdout",
     "output_type": "stream",
     "text": [
      "36\n"
     ]
    },
    {
     "name": "stderr",
     "output_type": "stream",
     "text": [
      "100%|██████████| 1000/1000 [00:04<00:00, 218.91it/s]\n",
      "  2%|▏         | 23/1000 [00:00<00:04, 210.64it/s]"
     ]
    },
    {
     "name": "stdout",
     "output_type": "stream",
     "text": [
      "37\n"
     ]
    },
    {
     "name": "stderr",
     "output_type": "stream",
     "text": [
      "100%|██████████| 1000/1000 [00:04<00:00, 225.25it/s]\n",
      "  2%|▏         | 19/1000 [00:00<00:05, 183.17it/s]"
     ]
    },
    {
     "name": "stdout",
     "output_type": "stream",
     "text": [
      "38\n"
     ]
    },
    {
     "name": "stderr",
     "output_type": "stream",
     "text": [
      "100%|██████████| 1000/1000 [00:04<00:00, 215.84it/s]\n",
      "  2%|▏         | 21/1000 [00:00<00:05, 173.17it/s]"
     ]
    },
    {
     "name": "stdout",
     "output_type": "stream",
     "text": [
      "39\n"
     ]
    },
    {
     "name": "stderr",
     "output_type": "stream",
     "text": [
      "100%|██████████| 1000/1000 [00:04<00:00, 218.43it/s]\n",
      "  2%|▏         | 17/1000 [00:00<00:06, 162.45it/s]"
     ]
    },
    {
     "name": "stdout",
     "output_type": "stream",
     "text": [
      "40\n"
     ]
    },
    {
     "name": "stderr",
     "output_type": "stream",
     "text": [
      "100%|██████████| 1000/1000 [00:04<00:00, 233.13it/s]\n",
      "  3%|▎         | 26/1000 [00:00<00:04, 230.82it/s]"
     ]
    },
    {
     "name": "stdout",
     "output_type": "stream",
     "text": [
      "41\n"
     ]
    },
    {
     "name": "stderr",
     "output_type": "stream",
     "text": [
      "100%|██████████| 1000/1000 [00:04<00:00, 216.53it/s]\n",
      "  3%|▎         | 31/1000 [00:00<00:03, 307.53it/s]"
     ]
    },
    {
     "name": "stdout",
     "output_type": "stream",
     "text": [
      "42\n"
     ]
    },
    {
     "name": "stderr",
     "output_type": "stream",
     "text": [
      "100%|██████████| 1000/1000 [00:04<00:00, 207.01it/s]\n",
      "  1%|▏         | 14/1000 [00:00<00:07, 137.72it/s]"
     ]
    },
    {
     "name": "stdout",
     "output_type": "stream",
     "text": [
      "43\n"
     ]
    },
    {
     "name": "stderr",
     "output_type": "stream",
     "text": [
      "100%|██████████| 1000/1000 [00:04<00:00, 209.04it/s]\n",
      "  3%|▎         | 29/1000 [00:00<00:03, 280.92it/s]"
     ]
    },
    {
     "name": "stdout",
     "output_type": "stream",
     "text": [
      "44\n"
     ]
    },
    {
     "name": "stderr",
     "output_type": "stream",
     "text": [
      "100%|██████████| 1000/1000 [00:04<00:00, 237.57it/s]\n",
      "  2%|▏         | 18/1000 [00:00<00:05, 178.00it/s]"
     ]
    },
    {
     "name": "stdout",
     "output_type": "stream",
     "text": [
      "45\n"
     ]
    },
    {
     "name": "stderr",
     "output_type": "stream",
     "text": [
      "100%|██████████| 1000/1000 [00:04<00:00, 221.71it/s]\n",
      "  2%|▏         | 20/1000 [00:00<00:05, 180.55it/s]"
     ]
    },
    {
     "name": "stdout",
     "output_type": "stream",
     "text": [
      "46\n"
     ]
    },
    {
     "name": "stderr",
     "output_type": "stream",
     "text": [
      "100%|██████████| 1000/1000 [00:04<00:00, 219.34it/s]\n",
      "  3%|▎         | 30/1000 [00:00<00:03, 276.47it/s]"
     ]
    },
    {
     "name": "stdout",
     "output_type": "stream",
     "text": [
      "47\n"
     ]
    },
    {
     "name": "stderr",
     "output_type": "stream",
     "text": [
      "100%|██████████| 1000/1000 [00:04<00:00, 234.97it/s]\n",
      "  2%|▏         | 23/1000 [00:00<00:04, 204.61it/s]"
     ]
    },
    {
     "name": "stdout",
     "output_type": "stream",
     "text": [
      "48\n"
     ]
    },
    {
     "name": "stderr",
     "output_type": "stream",
     "text": [
      "100%|██████████| 1000/1000 [00:04<00:00, 215.49it/s]\n",
      "  3%|▎         | 28/1000 [00:00<00:03, 279.70it/s]"
     ]
    },
    {
     "name": "stdout",
     "output_type": "stream",
     "text": [
      "49\n"
     ]
    },
    {
     "name": "stderr",
     "output_type": "stream",
     "text": [
      "100%|██████████| 1000/1000 [00:04<00:00, 224.51it/s]\n",
      "  2%|▏         | 24/1000 [00:00<00:04, 232.21it/s]"
     ]
    },
    {
     "name": "stdout",
     "output_type": "stream",
     "text": [
      "50\n"
     ]
    },
    {
     "name": "stderr",
     "output_type": "stream",
     "text": [
      "100%|██████████| 1000/1000 [00:04<00:00, 218.31it/s]\n",
      "  3%|▎         | 30/1000 [00:00<00:03, 299.71it/s]"
     ]
    },
    {
     "name": "stdout",
     "output_type": "stream",
     "text": [
      "51\n"
     ]
    },
    {
     "name": "stderr",
     "output_type": "stream",
     "text": [
      "100%|██████████| 1000/1000 [00:04<00:00, 219.95it/s]\n",
      "  1%|▏         | 13/1000 [00:00<00:07, 127.25it/s]"
     ]
    },
    {
     "name": "stdout",
     "output_type": "stream",
     "text": [
      "52\n"
     ]
    },
    {
     "name": "stderr",
     "output_type": "stream",
     "text": [
      "100%|██████████| 1000/1000 [00:04<00:00, 212.62it/s]\n",
      "  2%|▏         | 22/1000 [00:00<00:04, 219.89it/s]"
     ]
    },
    {
     "name": "stdout",
     "output_type": "stream",
     "text": [
      "53\n"
     ]
    },
    {
     "name": "stderr",
     "output_type": "stream",
     "text": [
      "100%|██████████| 1000/1000 [00:04<00:00, 243.81it/s]\n",
      "  3%|▎         | 31/1000 [00:00<00:03, 286.27it/s]"
     ]
    },
    {
     "name": "stdout",
     "output_type": "stream",
     "text": [
      "54\n"
     ]
    },
    {
     "name": "stderr",
     "output_type": "stream",
     "text": [
      "100%|██████████| 1000/1000 [00:04<00:00, 204.65it/s]\n",
      "  2%|▏         | 23/1000 [00:00<00:04, 204.47it/s]"
     ]
    },
    {
     "name": "stdout",
     "output_type": "stream",
     "text": [
      "55\n"
     ]
    },
    {
     "name": "stderr",
     "output_type": "stream",
     "text": [
      "100%|██████████| 1000/1000 [00:04<00:00, 202.13it/s]\n",
      "  2%|▏         | 22/1000 [00:00<00:04, 217.75it/s]"
     ]
    },
    {
     "name": "stdout",
     "output_type": "stream",
     "text": [
      "56\n"
     ]
    },
    {
     "name": "stderr",
     "output_type": "stream",
     "text": [
      "100%|██████████| 1000/1000 [00:05<00:00, 187.04it/s]\n",
      "  2%|▎         | 25/1000 [00:00<00:04, 224.56it/s]"
     ]
    },
    {
     "name": "stdout",
     "output_type": "stream",
     "text": [
      "57\n"
     ]
    },
    {
     "name": "stderr",
     "output_type": "stream",
     "text": [
      "100%|██████████| 1000/1000 [00:05<00:00, 184.13it/s]\n",
      "  2%|▏         | 23/1000 [00:00<00:04, 228.35it/s]"
     ]
    },
    {
     "name": "stdout",
     "output_type": "stream",
     "text": [
      "58\n"
     ]
    },
    {
     "name": "stderr",
     "output_type": "stream",
     "text": [
      "100%|██████████| 1000/1000 [00:05<00:00, 179.29it/s]\n",
      "  1%|          | 12/1000 [00:00<00:08, 111.62it/s]"
     ]
    },
    {
     "name": "stdout",
     "output_type": "stream",
     "text": [
      "59\n"
     ]
    },
    {
     "name": "stderr",
     "output_type": "stream",
     "text": [
      "100%|██████████| 1000/1000 [00:05<00:00, 172.49it/s]\n",
      "  2%|▏         | 20/1000 [00:00<00:04, 196.49it/s]"
     ]
    },
    {
     "name": "stdout",
     "output_type": "stream",
     "text": [
      "60\n"
     ]
    },
    {
     "name": "stderr",
     "output_type": "stream",
     "text": [
      "100%|██████████| 1000/1000 [00:04<00:00, 205.42it/s]\n",
      "  2%|▏         | 15/1000 [00:00<00:08, 122.88it/s]"
     ]
    },
    {
     "name": "stdout",
     "output_type": "stream",
     "text": [
      "61\n"
     ]
    },
    {
     "name": "stderr",
     "output_type": "stream",
     "text": [
      "100%|██████████| 1000/1000 [00:05<00:00, 172.48it/s]\n",
      "  2%|▏         | 18/1000 [00:00<00:06, 155.72it/s]"
     ]
    },
    {
     "name": "stdout",
     "output_type": "stream",
     "text": [
      "62\n"
     ]
    },
    {
     "name": "stderr",
     "output_type": "stream",
     "text": [
      "100%|██████████| 1000/1000 [00:04<00:00, 200.06it/s]\n",
      "  2%|▏         | 23/1000 [00:00<00:04, 217.81it/s]"
     ]
    },
    {
     "name": "stdout",
     "output_type": "stream",
     "text": [
      "63\n"
     ]
    },
    {
     "name": "stderr",
     "output_type": "stream",
     "text": [
      "100%|██████████| 1000/1000 [00:04<00:00, 205.67it/s]\n",
      "  2%|▏         | 17/1000 [00:00<00:06, 162.35it/s]"
     ]
    },
    {
     "name": "stdout",
     "output_type": "stream",
     "text": [
      "64\n"
     ]
    },
    {
     "name": "stderr",
     "output_type": "stream",
     "text": [
      "100%|██████████| 1000/1000 [00:05<00:00, 193.98it/s]\n",
      "  2%|▏         | 19/1000 [00:00<00:05, 184.57it/s]"
     ]
    },
    {
     "name": "stdout",
     "output_type": "stream",
     "text": [
      "65\n"
     ]
    },
    {
     "name": "stderr",
     "output_type": "stream",
     "text": [
      "100%|██████████| 1000/1000 [00:05<00:00, 191.08it/s]\n",
      "  2%|▏         | 21/1000 [00:00<00:04, 206.85it/s]"
     ]
    },
    {
     "name": "stdout",
     "output_type": "stream",
     "text": [
      "66\n"
     ]
    },
    {
     "name": "stderr",
     "output_type": "stream",
     "text": [
      "100%|██████████| 1000/1000 [00:05<00:00, 182.09it/s]\n",
      "  2%|▏         | 15/1000 [00:00<00:06, 147.65it/s]"
     ]
    },
    {
     "name": "stdout",
     "output_type": "stream",
     "text": [
      "67\n"
     ]
    },
    {
     "name": "stderr",
     "output_type": "stream",
     "text": [
      "100%|██████████| 1000/1000 [00:05<00:00, 199.96it/s]\n",
      "  2%|▏         | 21/1000 [00:00<00:04, 199.51it/s]"
     ]
    },
    {
     "name": "stdout",
     "output_type": "stream",
     "text": [
      "68\n"
     ]
    },
    {
     "name": "stderr",
     "output_type": "stream",
     "text": [
      "100%|██████████| 1000/1000 [00:05<00:00, 191.58it/s]\n",
      "  3%|▎         | 28/1000 [00:00<00:03, 269.33it/s]"
     ]
    },
    {
     "name": "stdout",
     "output_type": "stream",
     "text": [
      "69\n"
     ]
    },
    {
     "name": "stderr",
     "output_type": "stream",
     "text": [
      "100%|██████████| 1000/1000 [00:05<00:00, 199.68it/s]\n",
      "  2%|▎         | 25/1000 [00:00<00:04, 238.39it/s]"
     ]
    },
    {
     "name": "stdout",
     "output_type": "stream",
     "text": [
      "70\n"
     ]
    },
    {
     "name": "stderr",
     "output_type": "stream",
     "text": [
      "100%|██████████| 1000/1000 [00:05<00:00, 188.40it/s]\n",
      "  2%|▏         | 19/1000 [00:00<00:05, 180.57it/s]"
     ]
    },
    {
     "name": "stdout",
     "output_type": "stream",
     "text": [
      "71\n"
     ]
    },
    {
     "name": "stderr",
     "output_type": "stream",
     "text": [
      "100%|██████████| 1000/1000 [00:05<00:00, 194.76it/s]\n",
      "  1%|          | 12/1000 [00:00<00:08, 117.21it/s]"
     ]
    },
    {
     "name": "stdout",
     "output_type": "stream",
     "text": [
      "72\n"
     ]
    },
    {
     "name": "stderr",
     "output_type": "stream",
     "text": [
      "100%|██████████| 1000/1000 [00:05<00:00, 186.96it/s]\n",
      "  2%|▎         | 25/1000 [00:00<00:03, 249.06it/s]"
     ]
    },
    {
     "name": "stdout",
     "output_type": "stream",
     "text": [
      "73\n"
     ]
    },
    {
     "name": "stderr",
     "output_type": "stream",
     "text": [
      "100%|██████████| 1000/1000 [00:04<00:00, 208.03it/s]\n",
      "  2%|▏         | 17/1000 [00:00<00:05, 169.38it/s]"
     ]
    },
    {
     "name": "stdout",
     "output_type": "stream",
     "text": [
      "74\n"
     ]
    },
    {
     "name": "stderr",
     "output_type": "stream",
     "text": [
      "100%|██████████| 1000/1000 [00:04<00:00, 209.57it/s]\n",
      "  2%|▏         | 23/1000 [00:00<00:04, 214.53it/s]"
     ]
    },
    {
     "name": "stdout",
     "output_type": "stream",
     "text": [
      "75\n"
     ]
    },
    {
     "name": "stderr",
     "output_type": "stream",
     "text": [
      "100%|██████████| 1000/1000 [00:04<00:00, 202.41it/s]\n",
      "  2%|▏         | 20/1000 [00:00<00:04, 196.71it/s]"
     ]
    },
    {
     "name": "stdout",
     "output_type": "stream",
     "text": [
      "76\n"
     ]
    },
    {
     "name": "stderr",
     "output_type": "stream",
     "text": [
      "100%|██████████| 1000/1000 [00:04<00:00, 215.72it/s]\n",
      "  2%|▏         | 21/1000 [00:00<00:04, 209.83it/s]"
     ]
    },
    {
     "name": "stdout",
     "output_type": "stream",
     "text": [
      "77\n"
     ]
    },
    {
     "name": "stderr",
     "output_type": "stream",
     "text": [
      "100%|██████████| 1000/1000 [00:04<00:00, 212.87it/s]\n",
      "  2%|▏         | 15/1000 [00:00<00:07, 137.70it/s]"
     ]
    },
    {
     "name": "stdout",
     "output_type": "stream",
     "text": [
      "78\n"
     ]
    },
    {
     "name": "stderr",
     "output_type": "stream",
     "text": [
      "100%|██████████| 1000/1000 [00:05<00:00, 187.75it/s]\n",
      "  2%|▏         | 19/1000 [00:00<00:05, 184.12it/s]"
     ]
    },
    {
     "name": "stdout",
     "output_type": "stream",
     "text": [
      "79\n"
     ]
    },
    {
     "name": "stderr",
     "output_type": "stream",
     "text": [
      "100%|██████████| 1000/1000 [00:05<00:00, 193.93it/s]\n",
      "  2%|▏         | 15/1000 [00:00<00:07, 139.26it/s]"
     ]
    },
    {
     "name": "stdout",
     "output_type": "stream",
     "text": [
      "80\n"
     ]
    },
    {
     "name": "stderr",
     "output_type": "stream",
     "text": [
      "100%|██████████| 1000/1000 [00:04<00:00, 200.68it/s]\n",
      "  2%|▏         | 21/1000 [00:00<00:04, 202.69it/s]"
     ]
    },
    {
     "name": "stdout",
     "output_type": "stream",
     "text": [
      "81\n"
     ]
    },
    {
     "name": "stderr",
     "output_type": "stream",
     "text": [
      "100%|██████████| 1000/1000 [00:05<00:00, 193.60it/s]\n",
      "  3%|▎         | 26/1000 [00:00<00:03, 245.39it/s]"
     ]
    },
    {
     "name": "stdout",
     "output_type": "stream",
     "text": [
      "82\n"
     ]
    },
    {
     "name": "stderr",
     "output_type": "stream",
     "text": [
      "100%|██████████| 1000/1000 [00:04<00:00, 208.29it/s]\n",
      "  2%|▏         | 22/1000 [00:00<00:04, 207.93it/s]"
     ]
    },
    {
     "name": "stdout",
     "output_type": "stream",
     "text": [
      "83\n"
     ]
    },
    {
     "name": "stderr",
     "output_type": "stream",
     "text": [
      "100%|██████████| 1000/1000 [00:04<00:00, 215.51it/s]\n",
      "  2%|▏         | 23/1000 [00:00<00:04, 228.20it/s]"
     ]
    },
    {
     "name": "stdout",
     "output_type": "stream",
     "text": [
      "84\n"
     ]
    },
    {
     "name": "stderr",
     "output_type": "stream",
     "text": [
      "100%|██████████| 1000/1000 [00:04<00:00, 207.35it/s]\n",
      "  2%|▏         | 24/1000 [00:00<00:04, 229.01it/s]"
     ]
    },
    {
     "name": "stdout",
     "output_type": "stream",
     "text": [
      "85\n"
     ]
    },
    {
     "name": "stderr",
     "output_type": "stream",
     "text": [
      "100%|██████████| 1000/1000 [00:05<00:00, 195.95it/s]\n",
      "  2%|▏         | 21/1000 [00:00<00:04, 207.93it/s]"
     ]
    },
    {
     "name": "stdout",
     "output_type": "stream",
     "text": [
      "86\n"
     ]
    },
    {
     "name": "stderr",
     "output_type": "stream",
     "text": [
      "100%|██████████| 1000/1000 [00:05<00:00, 194.13it/s]\n",
      "  3%|▎         | 26/1000 [00:00<00:03, 255.64it/s]"
     ]
    },
    {
     "name": "stdout",
     "output_type": "stream",
     "text": [
      "87\n"
     ]
    },
    {
     "name": "stderr",
     "output_type": "stream",
     "text": [
      "100%|██████████| 1000/1000 [00:04<00:00, 211.18it/s]\n",
      "  2%|▏         | 21/1000 [00:00<00:04, 198.41it/s]"
     ]
    },
    {
     "name": "stdout",
     "output_type": "stream",
     "text": [
      "88\n"
     ]
    },
    {
     "name": "stderr",
     "output_type": "stream",
     "text": [
      "100%|██████████| 1000/1000 [00:04<00:00, 208.53it/s]\n",
      "  3%|▎         | 31/1000 [00:00<00:03, 298.25it/s]"
     ]
    },
    {
     "name": "stdout",
     "output_type": "stream",
     "text": [
      "89\n"
     ]
    },
    {
     "name": "stderr",
     "output_type": "stream",
     "text": [
      "100%|██████████| 1000/1000 [00:04<00:00, 208.26it/s]\n",
      "  2%|▏         | 16/1000 [00:00<00:06, 157.53it/s]"
     ]
    },
    {
     "name": "stdout",
     "output_type": "stream",
     "text": [
      "90\n"
     ]
    },
    {
     "name": "stderr",
     "output_type": "stream",
     "text": [
      "100%|██████████| 1000/1000 [00:04<00:00, 210.01it/s]\n",
      "  2%|▏         | 23/1000 [00:00<00:04, 204.31it/s]"
     ]
    },
    {
     "name": "stdout",
     "output_type": "stream",
     "text": [
      "91\n"
     ]
    },
    {
     "name": "stderr",
     "output_type": "stream",
     "text": [
      "100%|██████████| 1000/1000 [00:04<00:00, 215.94it/s]\n",
      "  2%|▏         | 16/1000 [00:00<00:06, 157.68it/s]"
     ]
    },
    {
     "name": "stdout",
     "output_type": "stream",
     "text": [
      "92\n"
     ]
    },
    {
     "name": "stderr",
     "output_type": "stream",
     "text": [
      "100%|██████████| 1000/1000 [00:04<00:00, 207.43it/s]\n",
      "  2%|▏         | 24/1000 [00:00<00:04, 228.09it/s]"
     ]
    },
    {
     "name": "stdout",
     "output_type": "stream",
     "text": [
      "93\n"
     ]
    },
    {
     "name": "stderr",
     "output_type": "stream",
     "text": [
      "100%|██████████| 1000/1000 [00:04<00:00, 215.88it/s]\n",
      "  2%|▏         | 15/1000 [00:00<00:06, 148.55it/s]"
     ]
    },
    {
     "name": "stdout",
     "output_type": "stream",
     "text": [
      "94\n"
     ]
    },
    {
     "name": "stderr",
     "output_type": "stream",
     "text": [
      "100%|██████████| 1000/1000 [00:04<00:00, 209.70it/s]\n",
      "  1%|▏         | 13/1000 [00:00<00:08, 110.93it/s]"
     ]
    },
    {
     "name": "stdout",
     "output_type": "stream",
     "text": [
      "95\n"
     ]
    },
    {
     "name": "stderr",
     "output_type": "stream",
     "text": [
      "100%|██████████| 1000/1000 [00:04<00:00, 201.18it/s]\n",
      "  2%|▏         | 19/1000 [00:00<00:05, 187.08it/s]"
     ]
    },
    {
     "name": "stdout",
     "output_type": "stream",
     "text": [
      "96\n"
     ]
    },
    {
     "name": "stderr",
     "output_type": "stream",
     "text": [
      "100%|██████████| 1000/1000 [00:04<00:00, 212.56it/s]\n",
      "  3%|▎         | 27/1000 [00:00<00:03, 257.44it/s]"
     ]
    },
    {
     "name": "stdout",
     "output_type": "stream",
     "text": [
      "97\n"
     ]
    },
    {
     "name": "stderr",
     "output_type": "stream",
     "text": [
      "100%|██████████| 1000/1000 [00:04<00:00, 201.42it/s]\n",
      "  3%|▎         | 29/1000 [00:00<00:03, 286.59it/s]"
     ]
    },
    {
     "name": "stdout",
     "output_type": "stream",
     "text": [
      "98\n"
     ]
    },
    {
     "name": "stderr",
     "output_type": "stream",
     "text": [
      "100%|██████████| 1000/1000 [00:04<00:00, 223.21it/s]\n",
      "  2%|▏         | 22/1000 [00:00<00:04, 208.93it/s]"
     ]
    },
    {
     "name": "stdout",
     "output_type": "stream",
     "text": [
      "99\n"
     ]
    },
    {
     "name": "stderr",
     "output_type": "stream",
     "text": [
      "100%|██████████| 1000/1000 [00:04<00:00, 205.07it/s]"
     ]
    },
    {
     "name": "stdout",
     "output_type": "stream",
     "text": [
      "CPU times: user 46min 8s, sys: 2min 10s, total: 48min 19s\n",
      "Wall time: 8min 2s\n"
     ]
    },
    {
     "name": "stderr",
     "output_type": "stream",
     "text": [
      "\n"
     ]
    }
   ],
   "source": [
    "%%time\n",
    "scores_svd_ur = sampled_score(svd_ur, X_test, y_test, samples)"
   ]
  },
  {
   "cell_type": "code",
   "execution_count": 25,
   "metadata": {
    "scrolled": true
   },
   "outputs": [
    {
     "name": "stderr",
     "output_type": "stream",
     "text": [
      "  1%|▏         | 14/1000 [00:00<00:07, 135.84it/s]"
     ]
    },
    {
     "name": "stdout",
     "output_type": "stream",
     "text": [
      "0\n"
     ]
    },
    {
     "name": "stderr",
     "output_type": "stream",
     "text": [
      "100%|██████████| 1000/1000 [00:05<00:00, 193.64it/s]\n",
      "  2%|▏         | 22/1000 [00:00<00:04, 219.90it/s]"
     ]
    },
    {
     "name": "stdout",
     "output_type": "stream",
     "text": [
      "1\n"
     ]
    },
    {
     "name": "stderr",
     "output_type": "stream",
     "text": [
      "100%|██████████| 1000/1000 [00:04<00:00, 212.40it/s]\n",
      "  2%|▎         | 25/1000 [00:00<00:04, 237.35it/s]"
     ]
    },
    {
     "name": "stdout",
     "output_type": "stream",
     "text": [
      "2\n"
     ]
    },
    {
     "name": "stderr",
     "output_type": "stream",
     "text": [
      "100%|██████████| 1000/1000 [00:04<00:00, 211.72it/s]\n",
      "  2%|▏         | 16/1000 [00:00<00:06, 152.84it/s]"
     ]
    },
    {
     "name": "stdout",
     "output_type": "stream",
     "text": [
      "3\n"
     ]
    },
    {
     "name": "stderr",
     "output_type": "stream",
     "text": [
      "100%|██████████| 1000/1000 [00:04<00:00, 212.04it/s]\n",
      "  2%|▏         | 15/1000 [00:00<00:06, 147.23it/s]"
     ]
    },
    {
     "name": "stdout",
     "output_type": "stream",
     "text": [
      "4\n"
     ]
    },
    {
     "name": "stderr",
     "output_type": "stream",
     "text": [
      "100%|██████████| 1000/1000 [00:04<00:00, 211.71it/s]\n",
      "  2%|▏         | 16/1000 [00:00<00:06, 151.07it/s]"
     ]
    },
    {
     "name": "stdout",
     "output_type": "stream",
     "text": [
      "5\n"
     ]
    },
    {
     "name": "stderr",
     "output_type": "stream",
     "text": [
      "100%|██████████| 1000/1000 [00:04<00:00, 205.96it/s]\n",
      "  2%|▏         | 23/1000 [00:00<00:04, 229.20it/s]"
     ]
    },
    {
     "name": "stdout",
     "output_type": "stream",
     "text": [
      "6\n"
     ]
    },
    {
     "name": "stderr",
     "output_type": "stream",
     "text": [
      "100%|██████████| 1000/1000 [00:05<00:00, 198.85it/s]\n",
      "  2%|▏         | 17/1000 [00:00<00:06, 151.30it/s]"
     ]
    },
    {
     "name": "stdout",
     "output_type": "stream",
     "text": [
      "7\n"
     ]
    },
    {
     "name": "stderr",
     "output_type": "stream",
     "text": [
      "100%|██████████| 1000/1000 [00:04<00:00, 200.89it/s]\n",
      "  2%|▏         | 18/1000 [00:00<00:05, 171.61it/s]"
     ]
    },
    {
     "name": "stdout",
     "output_type": "stream",
     "text": [
      "8\n"
     ]
    },
    {
     "name": "stderr",
     "output_type": "stream",
     "text": [
      "100%|██████████| 1000/1000 [00:04<00:00, 207.63it/s]\n",
      "  2%|▏         | 20/1000 [00:00<00:05, 178.83it/s]"
     ]
    },
    {
     "name": "stdout",
     "output_type": "stream",
     "text": [
      "9\n"
     ]
    },
    {
     "name": "stderr",
     "output_type": "stream",
     "text": [
      "100%|██████████| 1000/1000 [00:05<00:00, 190.54it/s]\n",
      "  2%|▏         | 17/1000 [00:00<00:06, 162.44it/s]"
     ]
    },
    {
     "name": "stdout",
     "output_type": "stream",
     "text": [
      "10\n"
     ]
    },
    {
     "name": "stderr",
     "output_type": "stream",
     "text": [
      "100%|██████████| 1000/1000 [00:05<00:00, 184.51it/s]\n",
      "  2%|▏         | 15/1000 [00:00<00:07, 138.04it/s]"
     ]
    },
    {
     "name": "stdout",
     "output_type": "stream",
     "text": [
      "11\n"
     ]
    },
    {
     "name": "stderr",
     "output_type": "stream",
     "text": [
      "100%|██████████| 1000/1000 [00:04<00:00, 211.34it/s]\n",
      "  1%|          | 10/1000 [00:00<00:10, 98.82it/s]"
     ]
    },
    {
     "name": "stdout",
     "output_type": "stream",
     "text": [
      "12\n"
     ]
    },
    {
     "name": "stderr",
     "output_type": "stream",
     "text": [
      "100%|██████████| 1000/1000 [00:05<00:00, 193.09it/s]\n",
      "  2%|▎         | 25/1000 [00:00<00:04, 213.16it/s]"
     ]
    },
    {
     "name": "stdout",
     "output_type": "stream",
     "text": [
      "13\n"
     ]
    },
    {
     "name": "stderr",
     "output_type": "stream",
     "text": [
      "100%|██████████| 1000/1000 [00:04<00:00, 216.05it/s]\n",
      "  1%|          | 12/1000 [00:00<00:08, 118.74it/s]"
     ]
    },
    {
     "name": "stdout",
     "output_type": "stream",
     "text": [
      "14\n"
     ]
    },
    {
     "name": "stderr",
     "output_type": "stream",
     "text": [
      "100%|██████████| 1000/1000 [00:05<00:00, 194.93it/s]\n",
      "  2%|▏         | 23/1000 [00:00<00:04, 214.02it/s]"
     ]
    },
    {
     "name": "stdout",
     "output_type": "stream",
     "text": [
      "15\n"
     ]
    },
    {
     "name": "stderr",
     "output_type": "stream",
     "text": [
      "100%|██████████| 1000/1000 [00:04<00:00, 215.55it/s]\n",
      "  2%|▏         | 17/1000 [00:00<00:06, 146.43it/s]"
     ]
    },
    {
     "name": "stdout",
     "output_type": "stream",
     "text": [
      "16\n"
     ]
    },
    {
     "name": "stderr",
     "output_type": "stream",
     "text": [
      "100%|██████████| 1000/1000 [00:04<00:00, 211.13it/s]\n",
      "  3%|▎         | 31/1000 [00:00<00:03, 309.10it/s]"
     ]
    },
    {
     "name": "stdout",
     "output_type": "stream",
     "text": [
      "17\n"
     ]
    },
    {
     "name": "stderr",
     "output_type": "stream",
     "text": [
      "100%|██████████| 1000/1000 [00:05<00:00, 187.71it/s]\n",
      "  3%|▎         | 26/1000 [00:00<00:03, 249.08it/s]"
     ]
    },
    {
     "name": "stdout",
     "output_type": "stream",
     "text": [
      "18\n"
     ]
    },
    {
     "name": "stderr",
     "output_type": "stream",
     "text": [
      "100%|██████████| 1000/1000 [00:04<00:00, 204.23it/s]\n",
      "  2%|▏         | 15/1000 [00:00<00:06, 149.32it/s]"
     ]
    },
    {
     "name": "stdout",
     "output_type": "stream",
     "text": [
      "19\n"
     ]
    },
    {
     "name": "stderr",
     "output_type": "stream",
     "text": [
      "100%|██████████| 1000/1000 [00:04<00:00, 206.45it/s]\n",
      "  2%|▏         | 21/1000 [00:00<00:04, 209.28it/s]"
     ]
    },
    {
     "name": "stdout",
     "output_type": "stream",
     "text": [
      "20\n"
     ]
    },
    {
     "name": "stderr",
     "output_type": "stream",
     "text": [
      "100%|██████████| 1000/1000 [00:04<00:00, 215.24it/s]\n",
      "  3%|▎         | 32/1000 [00:00<00:03, 285.82it/s]"
     ]
    },
    {
     "name": "stdout",
     "output_type": "stream",
     "text": [
      "21\n"
     ]
    },
    {
     "name": "stderr",
     "output_type": "stream",
     "text": [
      "100%|██████████| 1000/1000 [00:04<00:00, 211.44it/s]\n",
      "  3%|▎         | 28/1000 [00:00<00:03, 267.51it/s]"
     ]
    },
    {
     "name": "stdout",
     "output_type": "stream",
     "text": [
      "22\n"
     ]
    },
    {
     "name": "stderr",
     "output_type": "stream",
     "text": [
      "100%|██████████| 1000/1000 [00:04<00:00, 211.15it/s]\n",
      "  3%|▎         | 27/1000 [00:00<00:03, 250.02it/s]"
     ]
    },
    {
     "name": "stdout",
     "output_type": "stream",
     "text": [
      "23\n"
     ]
    },
    {
     "name": "stderr",
     "output_type": "stream",
     "text": [
      "100%|██████████| 1000/1000 [00:04<00:00, 221.72it/s]\n",
      "  2%|▏         | 17/1000 [00:00<00:05, 169.22it/s]"
     ]
    },
    {
     "name": "stdout",
     "output_type": "stream",
     "text": [
      "24\n"
     ]
    },
    {
     "name": "stderr",
     "output_type": "stream",
     "text": [
      "100%|██████████| 1000/1000 [00:05<00:00, 189.34it/s]\n",
      "  2%|▏         | 21/1000 [00:00<00:05, 190.64it/s]"
     ]
    },
    {
     "name": "stdout",
     "output_type": "stream",
     "text": [
      "25\n"
     ]
    },
    {
     "name": "stderr",
     "output_type": "stream",
     "text": [
      "100%|██████████| 1000/1000 [00:04<00:00, 221.39it/s]\n",
      "  2%|▏         | 19/1000 [00:00<00:05, 188.63it/s]"
     ]
    },
    {
     "name": "stdout",
     "output_type": "stream",
     "text": [
      "26\n"
     ]
    },
    {
     "name": "stderr",
     "output_type": "stream",
     "text": [
      "100%|██████████| 1000/1000 [00:04<00:00, 219.89it/s]\n",
      "  2%|▏         | 20/1000 [00:00<00:05, 194.84it/s]"
     ]
    },
    {
     "name": "stdout",
     "output_type": "stream",
     "text": [
      "27\n"
     ]
    },
    {
     "name": "stderr",
     "output_type": "stream",
     "text": [
      "100%|██████████| 1000/1000 [00:04<00:00, 217.61it/s]\n",
      "  2%|▏         | 21/1000 [00:00<00:04, 198.43it/s]"
     ]
    },
    {
     "name": "stdout",
     "output_type": "stream",
     "text": [
      "28\n"
     ]
    },
    {
     "name": "stderr",
     "output_type": "stream",
     "text": [
      "100%|██████████| 1000/1000 [00:04<00:00, 223.62it/s]\n",
      "  2%|▏         | 19/1000 [00:00<00:05, 189.52it/s]"
     ]
    },
    {
     "name": "stdout",
     "output_type": "stream",
     "text": [
      "29\n"
     ]
    },
    {
     "name": "stderr",
     "output_type": "stream",
     "text": [
      "100%|██████████| 1000/1000 [00:04<00:00, 215.61it/s]\n",
      "  2%|▏         | 20/1000 [00:00<00:05, 177.73it/s]"
     ]
    },
    {
     "name": "stdout",
     "output_type": "stream",
     "text": [
      "30\n"
     ]
    },
    {
     "name": "stderr",
     "output_type": "stream",
     "text": [
      "100%|██████████| 1000/1000 [00:04<00:00, 205.90it/s]\n",
      "  2%|▏         | 17/1000 [00:00<00:05, 167.39it/s]"
     ]
    },
    {
     "name": "stdout",
     "output_type": "stream",
     "text": [
      "31\n"
     ]
    },
    {
     "name": "stderr",
     "output_type": "stream",
     "text": [
      "100%|██████████| 1000/1000 [00:04<00:00, 216.97it/s]\n",
      "  2%|▏         | 22/1000 [00:00<00:04, 218.46it/s]"
     ]
    },
    {
     "name": "stdout",
     "output_type": "stream",
     "text": [
      "32\n"
     ]
    },
    {
     "name": "stderr",
     "output_type": "stream",
     "text": [
      "100%|██████████| 1000/1000 [00:04<00:00, 204.07it/s]\n",
      "  2%|▏         | 22/1000 [00:00<00:04, 201.48it/s]"
     ]
    },
    {
     "name": "stdout",
     "output_type": "stream",
     "text": [
      "33\n"
     ]
    },
    {
     "name": "stderr",
     "output_type": "stream",
     "text": [
      "100%|██████████| 1000/1000 [00:05<00:00, 194.06it/s]\n",
      "  1%|▏         | 13/1000 [00:00<00:07, 125.45it/s]"
     ]
    },
    {
     "name": "stdout",
     "output_type": "stream",
     "text": [
      "34\n"
     ]
    },
    {
     "name": "stderr",
     "output_type": "stream",
     "text": [
      "100%|██████████| 1000/1000 [00:05<00:00, 194.24it/s]\n",
      "  2%|▎         | 25/1000 [00:00<00:04, 238.99it/s]"
     ]
    },
    {
     "name": "stdout",
     "output_type": "stream",
     "text": [
      "35\n"
     ]
    },
    {
     "name": "stderr",
     "output_type": "stream",
     "text": [
      "100%|██████████| 1000/1000 [00:05<00:00, 195.87it/s]\n",
      "  2%|▏         | 24/1000 [00:00<00:04, 237.83it/s]"
     ]
    },
    {
     "name": "stdout",
     "output_type": "stream",
     "text": [
      "36\n"
     ]
    },
    {
     "name": "stderr",
     "output_type": "stream",
     "text": [
      "100%|██████████| 1000/1000 [00:04<00:00, 215.45it/s]\n",
      "  2%|▏         | 23/1000 [00:00<00:04, 221.60it/s]"
     ]
    },
    {
     "name": "stdout",
     "output_type": "stream",
     "text": [
      "37\n"
     ]
    },
    {
     "name": "stderr",
     "output_type": "stream",
     "text": [
      "100%|██████████| 1000/1000 [00:04<00:00, 203.36it/s]\n",
      "  2%|▏         | 20/1000 [00:00<00:05, 194.66it/s]"
     ]
    },
    {
     "name": "stdout",
     "output_type": "stream",
     "text": [
      "38\n"
     ]
    },
    {
     "name": "stderr",
     "output_type": "stream",
     "text": [
      "100%|██████████| 1000/1000 [00:06<00:00, 159.11it/s]\n",
      "  2%|▏         | 16/1000 [00:00<00:06, 153.82it/s]"
     ]
    },
    {
     "name": "stdout",
     "output_type": "stream",
     "text": [
      "39\n"
     ]
    },
    {
     "name": "stderr",
     "output_type": "stream",
     "text": [
      "100%|██████████| 1000/1000 [00:05<00:00, 171.90it/s]\n",
      "  1%|▏         | 13/1000 [00:00<00:08, 118.48it/s]"
     ]
    },
    {
     "name": "stdout",
     "output_type": "stream",
     "text": [
      "40\n"
     ]
    },
    {
     "name": "stderr",
     "output_type": "stream",
     "text": [
      "100%|██████████| 1000/1000 [00:05<00:00, 171.59it/s]\n",
      "  2%|▏         | 19/1000 [00:00<00:05, 188.04it/s]"
     ]
    },
    {
     "name": "stdout",
     "output_type": "stream",
     "text": [
      "41\n"
     ]
    },
    {
     "name": "stderr",
     "output_type": "stream",
     "text": [
      "100%|██████████| 1000/1000 [00:05<00:00, 173.68it/s]\n",
      "  3%|▎         | 28/1000 [00:00<00:03, 277.52it/s]"
     ]
    },
    {
     "name": "stdout",
     "output_type": "stream",
     "text": [
      "42\n"
     ]
    },
    {
     "name": "stderr",
     "output_type": "stream",
     "text": [
      "100%|██████████| 1000/1000 [00:05<00:00, 197.18it/s]\n",
      "  2%|▏         | 17/1000 [00:00<00:06, 158.32it/s]"
     ]
    },
    {
     "name": "stdout",
     "output_type": "stream",
     "text": [
      "43\n"
     ]
    },
    {
     "name": "stderr",
     "output_type": "stream",
     "text": [
      "100%|██████████| 1000/1000 [00:04<00:00, 207.78it/s]\n",
      "  3%|▎         | 27/1000 [00:00<00:03, 262.20it/s]"
     ]
    },
    {
     "name": "stdout",
     "output_type": "stream",
     "text": [
      "44\n"
     ]
    },
    {
     "name": "stderr",
     "output_type": "stream",
     "text": [
      "100%|██████████| 1000/1000 [00:04<00:00, 204.12it/s]\n",
      "  2%|▏         | 17/1000 [00:00<00:06, 162.33it/s]"
     ]
    },
    {
     "name": "stdout",
     "output_type": "stream",
     "text": [
      "45\n"
     ]
    },
    {
     "name": "stderr",
     "output_type": "stream",
     "text": [
      "100%|██████████| 1000/1000 [00:04<00:00, 202.98it/s]\n",
      "  2%|▏         | 20/1000 [00:00<00:05, 164.96it/s]"
     ]
    },
    {
     "name": "stdout",
     "output_type": "stream",
     "text": [
      "46\n"
     ]
    },
    {
     "name": "stderr",
     "output_type": "stream",
     "text": [
      "100%|██████████| 1000/1000 [00:05<00:00, 195.19it/s]\n",
      "  3%|▎         | 30/1000 [00:00<00:03, 255.44it/s]"
     ]
    },
    {
     "name": "stdout",
     "output_type": "stream",
     "text": [
      "47\n"
     ]
    },
    {
     "name": "stderr",
     "output_type": "stream",
     "text": [
      "100%|██████████| 1000/1000 [00:04<00:00, 209.11it/s]\n",
      "  2%|▏         | 23/1000 [00:00<00:05, 194.61it/s]"
     ]
    },
    {
     "name": "stdout",
     "output_type": "stream",
     "text": [
      "48\n"
     ]
    },
    {
     "name": "stderr",
     "output_type": "stream",
     "text": [
      "100%|██████████| 1000/1000 [00:05<00:00, 196.85it/s]\n",
      "  3%|▎         | 27/1000 [00:00<00:03, 265.67it/s]"
     ]
    },
    {
     "name": "stdout",
     "output_type": "stream",
     "text": [
      "49\n"
     ]
    },
    {
     "name": "stderr",
     "output_type": "stream",
     "text": [
      "100%|██████████| 1000/1000 [00:04<00:00, 204.20it/s]\n",
      "  2%|▎         | 25/1000 [00:00<00:03, 247.28it/s]"
     ]
    },
    {
     "name": "stdout",
     "output_type": "stream",
     "text": [
      "50\n"
     ]
    },
    {
     "name": "stderr",
     "output_type": "stream",
     "text": [
      "100%|██████████| 1000/1000 [00:05<00:00, 199.84it/s]\n",
      "  2%|▏         | 24/1000 [00:00<00:04, 227.97it/s]"
     ]
    },
    {
     "name": "stdout",
     "output_type": "stream",
     "text": [
      "51\n"
     ]
    },
    {
     "name": "stderr",
     "output_type": "stream",
     "text": [
      "100%|██████████| 1000/1000 [00:04<00:00, 209.72it/s]\n",
      "  1%|          | 12/1000 [00:00<00:08, 115.09it/s]"
     ]
    },
    {
     "name": "stdout",
     "output_type": "stream",
     "text": [
      "52\n"
     ]
    },
    {
     "name": "stderr",
     "output_type": "stream",
     "text": [
      "100%|██████████| 1000/1000 [00:05<00:00, 199.00it/s]\n",
      "  2%|▏         | 22/1000 [00:00<00:04, 216.30it/s]"
     ]
    },
    {
     "name": "stdout",
     "output_type": "stream",
     "text": [
      "53\n"
     ]
    },
    {
     "name": "stderr",
     "output_type": "stream",
     "text": [
      "100%|██████████| 1000/1000 [00:04<00:00, 221.43it/s]\n",
      "  3%|▎         | 30/1000 [00:00<00:03, 282.28it/s]"
     ]
    },
    {
     "name": "stdout",
     "output_type": "stream",
     "text": [
      "54\n"
     ]
    },
    {
     "name": "stderr",
     "output_type": "stream",
     "text": [
      "100%|██████████| 1000/1000 [00:04<00:00, 209.62it/s]\n",
      "  2%|▏         | 22/1000 [00:00<00:04, 213.64it/s]"
     ]
    },
    {
     "name": "stdout",
     "output_type": "stream",
     "text": [
      "55\n"
     ]
    },
    {
     "name": "stderr",
     "output_type": "stream",
     "text": [
      "100%|██████████| 1000/1000 [00:04<00:00, 205.64it/s]\n",
      "  2%|▏         | 23/1000 [00:00<00:04, 223.06it/s]"
     ]
    },
    {
     "name": "stdout",
     "output_type": "stream",
     "text": [
      "56\n"
     ]
    },
    {
     "name": "stderr",
     "output_type": "stream",
     "text": [
      "100%|██████████| 1000/1000 [00:05<00:00, 198.07it/s]\n",
      "  2%|▎         | 25/1000 [00:00<00:04, 242.63it/s]"
     ]
    },
    {
     "name": "stdout",
     "output_type": "stream",
     "text": [
      "57\n"
     ]
    },
    {
     "name": "stderr",
     "output_type": "stream",
     "text": [
      "100%|██████████| 1000/1000 [00:04<00:00, 214.12it/s]\n",
      "  3%|▎         | 27/1000 [00:00<00:03, 269.98it/s]"
     ]
    },
    {
     "name": "stdout",
     "output_type": "stream",
     "text": [
      "58\n"
     ]
    },
    {
     "name": "stderr",
     "output_type": "stream",
     "text": [
      "100%|██████████| 1000/1000 [00:05<00:00, 198.90it/s]\n",
      "  1%|▏         | 14/1000 [00:00<00:07, 138.65it/s]"
     ]
    },
    {
     "name": "stdout",
     "output_type": "stream",
     "text": [
      "59\n"
     ]
    },
    {
     "name": "stderr",
     "output_type": "stream",
     "text": [
      "100%|██████████| 1000/1000 [00:05<00:00, 193.07it/s]\n",
      "  2%|▏         | 21/1000 [00:00<00:04, 200.91it/s]"
     ]
    },
    {
     "name": "stdout",
     "output_type": "stream",
     "text": [
      "60\n"
     ]
    },
    {
     "name": "stderr",
     "output_type": "stream",
     "text": [
      "100%|██████████| 1000/1000 [00:04<00:00, 202.25it/s]\n",
      "  2%|▏         | 17/1000 [00:00<00:06, 156.02it/s]"
     ]
    },
    {
     "name": "stdout",
     "output_type": "stream",
     "text": [
      "61\n"
     ]
    },
    {
     "name": "stderr",
     "output_type": "stream",
     "text": [
      "100%|██████████| 1000/1000 [00:05<00:00, 190.95it/s]\n",
      "  2%|▏         | 18/1000 [00:00<00:06, 161.81it/s]"
     ]
    },
    {
     "name": "stdout",
     "output_type": "stream",
     "text": [
      "62\n"
     ]
    },
    {
     "name": "stderr",
     "output_type": "stream",
     "text": [
      "100%|██████████| 1000/1000 [00:04<00:00, 211.62it/s]\n",
      "  2%|▏         | 24/1000 [00:00<00:04, 237.28it/s]"
     ]
    },
    {
     "name": "stdout",
     "output_type": "stream",
     "text": [
      "63\n"
     ]
    },
    {
     "name": "stderr",
     "output_type": "stream",
     "text": [
      "100%|██████████| 1000/1000 [00:04<00:00, 204.15it/s]\n",
      "  2%|▏         | 17/1000 [00:00<00:06, 162.87it/s]"
     ]
    },
    {
     "name": "stdout",
     "output_type": "stream",
     "text": [
      "64\n"
     ]
    },
    {
     "name": "stderr",
     "output_type": "stream",
     "text": [
      "100%|██████████| 1000/1000 [00:04<00:00, 202.70it/s]\n",
      "  2%|▏         | 24/1000 [00:00<00:04, 224.10it/s]"
     ]
    },
    {
     "name": "stdout",
     "output_type": "stream",
     "text": [
      "65\n"
     ]
    },
    {
     "name": "stderr",
     "output_type": "stream",
     "text": [
      "100%|██████████| 1000/1000 [00:04<00:00, 210.31it/s]\n",
      "  2%|▏         | 24/1000 [00:00<00:04, 237.50it/s]"
     ]
    },
    {
     "name": "stdout",
     "output_type": "stream",
     "text": [
      "66\n"
     ]
    },
    {
     "name": "stderr",
     "output_type": "stream",
     "text": [
      "100%|██████████| 1000/1000 [00:04<00:00, 206.34it/s]\n",
      "  2%|▏         | 20/1000 [00:00<00:05, 186.91it/s]"
     ]
    },
    {
     "name": "stdout",
     "output_type": "stream",
     "text": [
      "67\n"
     ]
    },
    {
     "name": "stderr",
     "output_type": "stream",
     "text": [
      "100%|██████████| 1000/1000 [00:04<00:00, 208.08it/s]\n",
      "  2%|▏         | 16/1000 [00:00<00:06, 150.78it/s]"
     ]
    },
    {
     "name": "stdout",
     "output_type": "stream",
     "text": [
      "68\n"
     ]
    },
    {
     "name": "stderr",
     "output_type": "stream",
     "text": [
      "100%|██████████| 1000/1000 [00:05<00:00, 185.97it/s]\n",
      "  3%|▎         | 28/1000 [00:00<00:03, 272.70it/s]"
     ]
    },
    {
     "name": "stdout",
     "output_type": "stream",
     "text": [
      "69\n"
     ]
    },
    {
     "name": "stderr",
     "output_type": "stream",
     "text": [
      "100%|██████████| 1000/1000 [00:05<00:00, 197.88it/s]\n",
      "  2%|▎         | 25/1000 [00:00<00:03, 247.10it/s]"
     ]
    },
    {
     "name": "stdout",
     "output_type": "stream",
     "text": [
      "70\n"
     ]
    },
    {
     "name": "stderr",
     "output_type": "stream",
     "text": [
      "100%|██████████| 1000/1000 [00:04<00:00, 212.42it/s]\n",
      "  2%|▏         | 23/1000 [00:00<00:04, 210.09it/s]"
     ]
    },
    {
     "name": "stdout",
     "output_type": "stream",
     "text": [
      "71\n"
     ]
    },
    {
     "name": "stderr",
     "output_type": "stream",
     "text": [
      "100%|██████████| 1000/1000 [00:04<00:00, 213.22it/s]\n",
      "  2%|▏         | 18/1000 [00:00<00:05, 173.13it/s]"
     ]
    },
    {
     "name": "stdout",
     "output_type": "stream",
     "text": [
      "72\n"
     ]
    },
    {
     "name": "stderr",
     "output_type": "stream",
     "text": [
      "100%|██████████| 1000/1000 [00:04<00:00, 200.08it/s]\n",
      "  3%|▎         | 26/1000 [00:00<00:03, 251.47it/s]"
     ]
    },
    {
     "name": "stdout",
     "output_type": "stream",
     "text": [
      "73\n"
     ]
    },
    {
     "name": "stderr",
     "output_type": "stream",
     "text": [
      "100%|██████████| 1000/1000 [00:04<00:00, 202.57it/s]\n",
      "  2%|▏         | 16/1000 [00:00<00:06, 146.76it/s]"
     ]
    },
    {
     "name": "stdout",
     "output_type": "stream",
     "text": [
      "74\n"
     ]
    },
    {
     "name": "stderr",
     "output_type": "stream",
     "text": [
      "100%|██████████| 1000/1000 [00:05<00:00, 179.87it/s]\n",
      "  2%|▏         | 23/1000 [00:00<00:04, 221.62it/s]"
     ]
    },
    {
     "name": "stdout",
     "output_type": "stream",
     "text": [
      "75\n"
     ]
    },
    {
     "name": "stderr",
     "output_type": "stream",
     "text": [
      "100%|██████████| 1000/1000 [00:05<00:00, 198.78it/s]\n",
      "  2%|▏         | 24/1000 [00:00<00:04, 236.45it/s]"
     ]
    },
    {
     "name": "stdout",
     "output_type": "stream",
     "text": [
      "76\n"
     ]
    },
    {
     "name": "stderr",
     "output_type": "stream",
     "text": [
      "100%|██████████| 1000/1000 [00:04<00:00, 218.19it/s]\n",
      "  2%|▏         | 22/1000 [00:00<00:04, 217.43it/s]"
     ]
    },
    {
     "name": "stdout",
     "output_type": "stream",
     "text": [
      "77\n"
     ]
    },
    {
     "name": "stderr",
     "output_type": "stream",
     "text": [
      "100%|██████████| 1000/1000 [00:05<00:00, 192.64it/s]\n",
      "  1%|▏         | 13/1000 [00:00<00:07, 125.35it/s]"
     ]
    },
    {
     "name": "stdout",
     "output_type": "stream",
     "text": [
      "78\n"
     ]
    },
    {
     "name": "stderr",
     "output_type": "stream",
     "text": [
      "100%|██████████| 1000/1000 [00:05<00:00, 177.95it/s]\n",
      "  2%|▏         | 24/1000 [00:00<00:04, 233.12it/s]"
     ]
    },
    {
     "name": "stdout",
     "output_type": "stream",
     "text": [
      "79\n"
     ]
    },
    {
     "name": "stderr",
     "output_type": "stream",
     "text": [
      "100%|██████████| 1000/1000 [00:04<00:00, 204.78it/s]\n",
      "  1%|▏         | 14/1000 [00:00<00:07, 133.66it/s]"
     ]
    },
    {
     "name": "stdout",
     "output_type": "stream",
     "text": [
      "80\n"
     ]
    },
    {
     "name": "stderr",
     "output_type": "stream",
     "text": [
      "100%|██████████| 1000/1000 [00:04<00:00, 212.46it/s]\n",
      "  2%|▏         | 21/1000 [00:00<00:04, 199.44it/s]"
     ]
    },
    {
     "name": "stdout",
     "output_type": "stream",
     "text": [
      "81\n"
     ]
    },
    {
     "name": "stderr",
     "output_type": "stream",
     "text": [
      "100%|██████████| 1000/1000 [00:04<00:00, 210.29it/s]\n",
      "  2%|▏         | 23/1000 [00:00<00:04, 229.54it/s]"
     ]
    },
    {
     "name": "stdout",
     "output_type": "stream",
     "text": [
      "82\n"
     ]
    },
    {
     "name": "stderr",
     "output_type": "stream",
     "text": [
      "100%|██████████| 1000/1000 [00:04<00:00, 201.50it/s]\n",
      "  2%|▏         | 22/1000 [00:00<00:04, 197.76it/s]"
     ]
    },
    {
     "name": "stdout",
     "output_type": "stream",
     "text": [
      "83\n"
     ]
    },
    {
     "name": "stderr",
     "output_type": "stream",
     "text": [
      "100%|██████████| 1000/1000 [00:05<00:00, 198.73it/s]\n",
      "  3%|▎         | 26/1000 [00:00<00:03, 259.80it/s]"
     ]
    },
    {
     "name": "stdout",
     "output_type": "stream",
     "text": [
      "84\n"
     ]
    },
    {
     "name": "stderr",
     "output_type": "stream",
     "text": [
      "100%|██████████| 1000/1000 [00:04<00:00, 200.69it/s]\n",
      "  3%|▎         | 26/1000 [00:00<00:03, 246.46it/s]"
     ]
    },
    {
     "name": "stdout",
     "output_type": "stream",
     "text": [
      "85\n"
     ]
    },
    {
     "name": "stderr",
     "output_type": "stream",
     "text": [
      "100%|██████████| 1000/1000 [00:05<00:00, 177.02it/s]\n",
      "  2%|▏         | 22/1000 [00:00<00:04, 211.94it/s]"
     ]
    },
    {
     "name": "stdout",
     "output_type": "stream",
     "text": [
      "86\n"
     ]
    },
    {
     "name": "stderr",
     "output_type": "stream",
     "text": [
      "100%|██████████| 1000/1000 [00:05<00:00, 196.40it/s]\n",
      "  1%|▏         | 13/1000 [00:00<00:07, 124.78it/s]"
     ]
    },
    {
     "name": "stdout",
     "output_type": "stream",
     "text": [
      "87\n"
     ]
    },
    {
     "name": "stderr",
     "output_type": "stream",
     "text": [
      "100%|██████████| 1000/1000 [00:04<00:00, 201.66it/s]\n",
      "  2%|▏         | 24/1000 [00:00<00:04, 230.66it/s]"
     ]
    },
    {
     "name": "stdout",
     "output_type": "stream",
     "text": [
      "88\n"
     ]
    },
    {
     "name": "stderr",
     "output_type": "stream",
     "text": [
      "100%|██████████| 1000/1000 [00:04<00:00, 205.64it/s]\n",
      "  3%|▎         | 31/1000 [00:00<00:03, 307.59it/s]"
     ]
    },
    {
     "name": "stdout",
     "output_type": "stream",
     "text": [
      "89\n"
     ]
    },
    {
     "name": "stderr",
     "output_type": "stream",
     "text": [
      "100%|██████████| 1000/1000 [00:04<00:00, 216.43it/s]\n",
      "  2%|▏         | 15/1000 [00:00<00:07, 138.77it/s]"
     ]
    },
    {
     "name": "stdout",
     "output_type": "stream",
     "text": [
      "90\n"
     ]
    },
    {
     "name": "stderr",
     "output_type": "stream",
     "text": [
      "100%|██████████| 1000/1000 [00:04<00:00, 206.31it/s]\n",
      "  2%|▏         | 24/1000 [00:00<00:04, 238.72it/s]"
     ]
    },
    {
     "name": "stdout",
     "output_type": "stream",
     "text": [
      "91\n"
     ]
    },
    {
     "name": "stderr",
     "output_type": "stream",
     "text": [
      "100%|██████████| 1000/1000 [00:04<00:00, 201.51it/s]\n",
      "  2%|▏         | 20/1000 [00:00<00:05, 194.08it/s]"
     ]
    },
    {
     "name": "stdout",
     "output_type": "stream",
     "text": [
      "92\n"
     ]
    },
    {
     "name": "stderr",
     "output_type": "stream",
     "text": [
      "100%|██████████| 1000/1000 [00:04<00:00, 202.85it/s]\n",
      "  2%|▎         | 25/1000 [00:00<00:04, 220.65it/s]"
     ]
    },
    {
     "name": "stdout",
     "output_type": "stream",
     "text": [
      "93\n"
     ]
    },
    {
     "name": "stderr",
     "output_type": "stream",
     "text": [
      "100%|██████████| 1000/1000 [00:04<00:00, 204.71it/s]\n",
      "  1%|▏         | 13/1000 [00:00<00:08, 118.59it/s]"
     ]
    },
    {
     "name": "stdout",
     "output_type": "stream",
     "text": [
      "94\n"
     ]
    },
    {
     "name": "stderr",
     "output_type": "stream",
     "text": [
      "100%|██████████| 1000/1000 [00:05<00:00, 198.01it/s]\n",
      "  1%|▏         | 13/1000 [00:00<00:09, 107.43it/s]"
     ]
    },
    {
     "name": "stdout",
     "output_type": "stream",
     "text": [
      "95\n"
     ]
    },
    {
     "name": "stderr",
     "output_type": "stream",
     "text": [
      "100%|██████████| 1000/1000 [00:05<00:00, 197.43it/s]\n",
      "  2%|▏         | 23/1000 [00:00<00:04, 219.59it/s]"
     ]
    },
    {
     "name": "stdout",
     "output_type": "stream",
     "text": [
      "96\n"
     ]
    },
    {
     "name": "stderr",
     "output_type": "stream",
     "text": [
      "100%|██████████| 1000/1000 [00:04<00:00, 214.13it/s]\n",
      "  3%|▎         | 26/1000 [00:00<00:03, 258.10it/s]"
     ]
    },
    {
     "name": "stdout",
     "output_type": "stream",
     "text": [
      "97\n"
     ]
    },
    {
     "name": "stderr",
     "output_type": "stream",
     "text": [
      "100%|██████████| 1000/1000 [00:04<00:00, 203.76it/s]\n",
      "  3%|▎         | 29/1000 [00:00<00:03, 283.64it/s]"
     ]
    },
    {
     "name": "stdout",
     "output_type": "stream",
     "text": [
      "98\n"
     ]
    },
    {
     "name": "stderr",
     "output_type": "stream",
     "text": [
      "100%|██████████| 1000/1000 [00:04<00:00, 216.13it/s]\n",
      "  2%|▏         | 23/1000 [00:00<00:04, 217.25it/s]"
     ]
    },
    {
     "name": "stdout",
     "output_type": "stream",
     "text": [
      "99\n"
     ]
    },
    {
     "name": "stderr",
     "output_type": "stream",
     "text": [
      "100%|██████████| 1000/1000 [00:04<00:00, 202.94it/s]"
     ]
    },
    {
     "name": "stdout",
     "output_type": "stream",
     "text": [
      "CPU times: user 47min 24s, sys: 2min 17s, total: 49min 41s\n",
      "Wall time: 8min 16s\n"
     ]
    },
    {
     "name": "stderr",
     "output_type": "stream",
     "text": [
      "\n"
     ]
    }
   ],
   "source": [
    "%%time\n",
    "scores_svd_ur_demeaned = sampled_score(svd_ur_demeaned, X_test, y_test, samples)"
   ]
  },
  {
   "cell_type": "code",
   "execution_count": 31,
   "metadata": {},
   "outputs": [
    {
     "name": "stdout",
     "output_type": "stream",
     "text": [
      "0.10689 0.010367154865246298\n",
      "0.15527999999999997 0.013091279540213021\n",
      "0.16410999999999998 0.013131561217159212\n"
     ]
    }
   ],
   "source": [
    "# среднее и среднеквадратичное отклонение по моделям\n",
    "print(scores_svd_np.mean(), scores_svd_np.std())\n",
    "print(scores_svd_ur.mean(), scores_svd_ur.std())\n",
    "print(scores_svd_ur_demeaned.mean(), scores_svd_ur_demeaned.std())"
   ]
  },
  {
   "cell_type": "markdown",
   "metadata": {},
   "source": [
    "# Оценка статистической значимости"
   ]
  },
  {
   "cell_type": "code",
   "execution_count": 32,
   "metadata": {},
   "outputs": [
    {
     "data": {
      "text/plain": [
       "<AxesSubplot:>"
      ]
     },
     "execution_count": 32,
     "metadata": {},
     "output_type": "execute_result"
    },
    {
     "data": {
      "image/png": "[encoded data removed]",
      "text/plain": [
       "<Figure size 432x288 with 1 Axes>"
      ]
     },
     "metadata": {
      "needs_background": "light"
     },
     "output_type": "display_data"
    }
   ],
   "source": [
    "pd.Series(scores_svd_np).hist()\n",
    "pd.Series(scores_svd_ur).hist()\n",
    "pd.Series(scores_svd_ur_demeaned).hist()"
   ]
  },
  {
   "cell_type": "code",
   "execution_count": 33,
   "metadata": {},
   "outputs": [
    {
     "name": "stdout",
     "output_type": "stream",
     "text": [
      "p-value svd_np: 0.39414629340171814\n",
      "p-value svd_ur: 0.272228866815567\n",
      "p-value svd_ur_demeaned: 0.6873562932014465\n"
     ]
    }
   ],
   "source": [
    "from scipy import stats\n",
    "\n",
    "shapiro_svd_np = stats.shapiro(scores_svd_np)\n",
    "shapiro_svd_ur = stats.shapiro(scores_svd_ur)\n",
    "shapiro_svd_ur_demeaned = stats.shapiro(scores_svd_ur_demeaned)\n",
    "\n",
    "print(f'p-value svd_np: {shapiro_svd_np[1]}')\n",
    "print(f'p-value svd_ur: {shapiro_svd_ur[1]}')\n",
    "print(f'p-value svd_ur_demeaned: {shapiro_svd_ur_demeaned[1]}')"
   ]
  },
  {
   "cell_type": "markdown",
   "metadata": {},
   "source": [
    "Тк `p-value` > 0.05, делаем вывод, что случайные величины нормально распределены.\n",
    "\n",
    "Далее применем Т-тест для определения стат. значимости, тк эти выборки зависимые, то используем `ttest_rel`."
   ]
  },
  {
   "cell_type": "code",
   "execution_count": 34,
   "metadata": {},
   "outputs": [
    {
     "data": {
      "text/plain": [
       "Ttest_relResult(statistic=-40.291395456702574, pvalue=3.243169086690267e-63)"
      ]
     },
     "execution_count": 34,
     "metadata": {},
     "output_type": "execute_result"
    }
   ],
   "source": [
    "stats.ttest_rel(scores_svd_np, scores_svd_ur)"
   ]
  },
  {
   "cell_type": "code",
   "execution_count": 35,
   "metadata": {},
   "outputs": [
    {
     "data": {
      "text/plain": [
       "Ttest_relResult(statistic=-22.431073087868118, pvalue=1.3478405587703388e-40)"
      ]
     },
     "execution_count": 35,
     "metadata": {},
     "output_type": "execute_result"
    }
   ],
   "source": [
    "stats.ttest_rel(scores_svd_ur, scores_svd_ur_demeaned)"
   ]
  },
  {
   "cell_type": "markdown",
   "metadata": {},
   "source": [
    "Тк `pvalue < 0.05` мы можем отклонить проверяемую нулевую гипотезу о равенстве выборочных средних."
   ]
  },
  {
   "cell_type": "markdown",
   "metadata": {},
   "source": [
    "# Топ 20 для ряда испонителей"
   ]
  },
  {
   "cell_type": "code",
   "execution_count": 40,
   "metadata": {
    "scrolled": true
   },
   "outputs": [
    {
     "data": {
      "text/html": [
       "<div>\n",
       "<style scoped>\n",
       "    .dataframe tbody tr th:only-of-type {\n",
       "        vertical-align: middle;\n",
       "    }\n",
       "\n",
       "    .dataframe tbody tr th {\n",
       "        vertical-align: top;\n",
       "    }\n",
       "\n",
       "    .dataframe thead th {\n",
       "        text-align: right;\n",
       "    }\n",
       "</style>\n",
       "<table border=\"1\" class=\"dataframe\">\n",
       "  <thead>\n",
       "    <tr style=\"text-align: right;\">\n",
       "      <th></th>\n",
       "      <th>person_id</th>\n",
       "      <th>person_name</th>\n",
       "      <th>person_MBID</th>\n",
       "    </tr>\n",
       "  </thead>\n",
       "  <tbody>\n",
       "    <tr>\n",
       "      <th>1373</th>\n",
       "      <td>56683</td>\n",
       "      <td>Bowie</td>\n",
       "      <td>5441c29d-3602-4898-b1a1-b77fa23b8e50</td>\n",
       "    </tr>\n",
       "    <tr>\n",
       "      <th>21043</th>\n",
       "      <td>276125</td>\n",
       "      <td>Pink+Floyd+&amp;+Floyd</td>\n",
       "      <td>83d91898-7763-47d7-b03b-b92132375c47</td>\n",
       "    </tr>\n",
       "    <tr>\n",
       "      <th>25139</th>\n",
       "      <td>56683</td>\n",
       "      <td>David+Bowie+&amp;+Bing+Crosby</td>\n",
       "      <td>5441c29d-3602-4898-b1a1-b77fa23b8e50</td>\n",
       "    </tr>\n",
       "    <tr>\n",
       "      <th>27674</th>\n",
       "      <td>56683</td>\n",
       "      <td>David+Bowie+&amp;+Pet+Shop+Boys</td>\n",
       "      <td>5441c29d-3602-4898-b1a1-b77fa23b8e50</td>\n",
       "    </tr>\n",
       "    <tr>\n",
       "      <th>32700</th>\n",
       "      <td>56683</td>\n",
       "      <td>David+Bowie+&amp;+Phillip+Glass</td>\n",
       "      <td>NaN</td>\n",
       "    </tr>\n",
       "    <tr>\n",
       "      <th>40008</th>\n",
       "      <td>56683</td>\n",
       "      <td>David+Bowie+&amp;+Trent+Reznor</td>\n",
       "      <td>5441c29d-3602-4898-b1a1-b77fa23b8e50</td>\n",
       "    </tr>\n",
       "    <tr>\n",
       "      <th>40030</th>\n",
       "      <td>200082</td>\n",
       "      <td>Lil+Wayne+Feat.+Drake+&amp;+Rick+Ross</td>\n",
       "      <td>NaN</td>\n",
       "    </tr>\n",
       "    <tr>\n",
       "      <th>44602</th>\n",
       "      <td>276125</td>\n",
       "      <td>Pink+Floyd+&amp;+The+Orb</td>\n",
       "      <td>83d91898-7763-47d7-b03b-b92132375c47</td>\n",
       "    </tr>\n",
       "    <tr>\n",
       "      <th>44799</th>\n",
       "      <td>56683</td>\n",
       "      <td>David+Bowie+&amp;+Pat+Metheny</td>\n",
       "      <td>5441c29d-3602-4898-b1a1-b77fa23b8e50</td>\n",
       "    </tr>\n",
       "    <tr>\n",
       "      <th>49995</th>\n",
       "      <td>56683</td>\n",
       "      <td>David+Bowie+&amp;+Freddie+Mercury</td>\n",
       "      <td>5441c29d-3602-4898-b1a1-b77fa23b8e50</td>\n",
       "    </tr>\n",
       "    <tr>\n",
       "      <th>79045</th>\n",
       "      <td>276125</td>\n",
       "      <td>The+Pink+Floyd</td>\n",
       "      <td>83d91898-7763-47d7-b03b-b92132375c47</td>\n",
       "    </tr>\n",
       "    <tr>\n",
       "      <th>90193</th>\n",
       "      <td>200082</td>\n",
       "      <td>Lil+Wayne</td>\n",
       "      <td>NaN</td>\n",
       "    </tr>\n",
       "    <tr>\n",
       "      <th>129430</th>\n",
       "      <td>56683</td>\n",
       "      <td>Dawid+Bowie</td>\n",
       "      <td>5441c29d-3602-4898-b1a1-b77fa23b8e50</td>\n",
       "    </tr>\n",
       "    <tr>\n",
       "      <th>134688</th>\n",
       "      <td>200082</td>\n",
       "      <td>Lil+Wayne+Ft.+Birdman+&amp;+Euro</td>\n",
       "      <td>NaN</td>\n",
       "    </tr>\n",
       "    <tr>\n",
       "      <th>144998</th>\n",
       "      <td>200082</td>\n",
       "      <td>Lil%27+Wayne+ft.+Nicki+Minaj</td>\n",
       "      <td>NaN</td>\n",
       "    </tr>\n",
       "    <tr>\n",
       "      <th>151438</th>\n",
       "      <td>200082</td>\n",
       "      <td>Lil%27+Wayne+&amp;+Juelz+Santana</td>\n",
       "      <td>NaN</td>\n",
       "    </tr>\n",
       "    <tr>\n",
       "      <th>153740</th>\n",
       "      <td>56683</td>\n",
       "      <td>David+Bowie+&amp;+Annie+Lennox</td>\n",
       "      <td>5441c29d-3602-4898-b1a1-b77fa23b8e50</td>\n",
       "    </tr>\n",
       "    <tr>\n",
       "      <th>156888</th>\n",
       "      <td>200082</td>\n",
       "      <td>Lil%27+Wayne</td>\n",
       "      <td>NaN</td>\n",
       "    </tr>\n",
       "    <tr>\n",
       "      <th>207420</th>\n",
       "      <td>281542</td>\n",
       "      <td>The+Prodigy+&amp;+Tom+Morello</td>\n",
       "      <td>4a4ee089-93b1-4470-af9a-6ff575d32704</td>\n",
       "    </tr>\n",
       "    <tr>\n",
       "      <th>211327</th>\n",
       "      <td>276125</td>\n",
       "      <td>Pink+Floyd+&amp;+Candy+Dulfer</td>\n",
       "      <td>83d91898-7763-47d7-b03b-b92132375c47</td>\n",
       "    </tr>\n",
       "    <tr>\n",
       "      <th>220195</th>\n",
       "      <td>56683</td>\n",
       "      <td>David+Bowie+&amp;+Mick+Jagger</td>\n",
       "      <td>5441c29d-3602-4898-b1a1-b77fa23b8e50</td>\n",
       "    </tr>\n",
       "    <tr>\n",
       "      <th>222435</th>\n",
       "      <td>200082</td>\n",
       "      <td>Lil+Wayne+&amp;+T-Pain</td>\n",
       "      <td>NaN</td>\n",
       "    </tr>\n",
       "    <tr>\n",
       "      <th>234814</th>\n",
       "      <td>200082</td>\n",
       "      <td>Lil+Wayne,+Static+Major+&amp;+Kanye+West</td>\n",
       "      <td>NaN</td>\n",
       "    </tr>\n",
       "    <tr>\n",
       "      <th>236780</th>\n",
       "      <td>56683</td>\n",
       "      <td>DAVID+BOWIE+&amp;++FOO+FIGHTERS</td>\n",
       "      <td>5441c29d-3602-4898-b1a1-b77fa23b8e50</td>\n",
       "    </tr>\n",
       "    <tr>\n",
       "      <th>237956</th>\n",
       "      <td>56683</td>\n",
       "      <td>David+Bowie+&amp;+Lou+Reed</td>\n",
       "      <td>5441c29d-3602-4898-b1a1-b77fa23b8e50</td>\n",
       "    </tr>\n",
       "    <tr>\n",
       "      <th>256571</th>\n",
       "      <td>56683</td>\n",
       "      <td>Bowie+&amp;+Eno+meet+Glass</td>\n",
       "      <td>5441c29d-3602-4898-b1a1-b77fa23b8e50</td>\n",
       "    </tr>\n",
       "    <tr>\n",
       "      <th>257937</th>\n",
       "      <td>200082</td>\n",
       "      <td>Lil+Wayne+&amp;+Drake</td>\n",
       "      <td>NaN</td>\n",
       "    </tr>\n",
       "    <tr>\n",
       "      <th>263415</th>\n",
       "      <td>276125</td>\n",
       "      <td>Pink+Floyd+&amp;+D.J.+Fish</td>\n",
       "      <td>NaN</td>\n",
       "    </tr>\n",
       "    <tr>\n",
       "      <th>285598</th>\n",
       "      <td>281542</td>\n",
       "      <td>Prodigy,+The</td>\n",
       "      <td>4a4ee089-93b1-4470-af9a-6ff575d32704</td>\n",
       "    </tr>\n",
       "    <tr>\n",
       "      <th>287448</th>\n",
       "      <td>56683</td>\n",
       "      <td>David+Bowie+&amp;+The+Tony+Visconti+Orchestra</td>\n",
       "      <td>NaN</td>\n",
       "    </tr>\n",
       "    <tr>\n",
       "      <th>300264</th>\n",
       "      <td>281542</td>\n",
       "      <td>The+Prodigy+&amp;+Pain</td>\n",
       "      <td>NaN</td>\n",
       "    </tr>\n",
       "    <tr>\n",
       "      <th>305503</th>\n",
       "      <td>56683</td>\n",
       "      <td>David+Bowie+&amp;+Stevie+Ray+Vaughan</td>\n",
       "      <td>5441c29d-3602-4898-b1a1-b77fa23b8e50</td>\n",
       "    </tr>\n",
       "    <tr>\n",
       "      <th>308147</th>\n",
       "      <td>56683</td>\n",
       "      <td>David+Bowie+&amp;+Nine+Inch+Nails</td>\n",
       "      <td>5441c29d-3602-4898-b1a1-b77fa23b8e50</td>\n",
       "    </tr>\n",
       "    <tr>\n",
       "      <th>312095</th>\n",
       "      <td>200082</td>\n",
       "      <td>LIL+WAYNE+&amp;+NICKI+MINAJ</td>\n",
       "      <td>NaN</td>\n",
       "    </tr>\n",
       "    <tr>\n",
       "      <th>340746</th>\n",
       "      <td>56683</td>\n",
       "      <td>David+Bowie+&amp;+Philadelphia+Orchestra</td>\n",
       "      <td>NaN</td>\n",
       "    </tr>\n",
       "    <tr>\n",
       "      <th>342357</th>\n",
       "      <td>276125</td>\n",
       "      <td>Pink+Floyd</td>\n",
       "      <td>83d91898-7763-47d7-b03b-b92132375c47</td>\n",
       "    </tr>\n",
       "    <tr>\n",
       "      <th>361017</th>\n",
       "      <td>200082</td>\n",
       "      <td>Lil+Wayne+&amp;+Nicki+Minaj+&amp;+Rick+Ross+&amp;+The+Game</td>\n",
       "      <td>NaN</td>\n",
       "    </tr>\n",
       "    <tr>\n",
       "      <th>370474</th>\n",
       "      <td>281542</td>\n",
       "      <td>Prod%C4%B1gy</td>\n",
       "      <td>2996c6a2-215d-4f78-aed6-81a130b04816</td>\n",
       "    </tr>\n",
       "    <tr>\n",
       "      <th>391292</th>\n",
       "      <td>56683</td>\n",
       "      <td>David+Bowie%2Fpat+Metheny</td>\n",
       "      <td>NaN</td>\n",
       "    </tr>\n",
       "    <tr>\n",
       "      <th>419678</th>\n",
       "      <td>281542</td>\n",
       "      <td>Prodigyremixed.com</td>\n",
       "      <td>4a4ee089-93b1-4470-af9a-6ff575d32704</td>\n",
       "    </tr>\n",
       "    <tr>\n",
       "      <th>420948</th>\n",
       "      <td>56683</td>\n",
       "      <td>David+Bowie+&amp;+Marianne+Faithfull</td>\n",
       "      <td>5441c29d-3602-4898-b1a1-b77fa23b8e50</td>\n",
       "    </tr>\n",
       "    <tr>\n",
       "      <th>425170</th>\n",
       "      <td>200082</td>\n",
       "      <td>Lil+Wayne+&amp;+Phoenix</td>\n",
       "      <td>NaN</td>\n",
       "    </tr>\n",
       "    <tr>\n",
       "      <th>425545</th>\n",
       "      <td>281542</td>\n",
       "      <td>Prodigy</td>\n",
       "      <td>2996c6a2-215d-4f78-aed6-81a130b04816</td>\n",
       "    </tr>\n",
       "    <tr>\n",
       "      <th>427620</th>\n",
       "      <td>56683</td>\n",
       "      <td>David+Bowie+&amp;+Queen</td>\n",
       "      <td>5441c29d-3602-4898-b1a1-b77fa23b8e50</td>\n",
       "    </tr>\n",
       "    <tr>\n",
       "      <th>450252</th>\n",
       "      <td>56683</td>\n",
       "      <td>David+Bowie+&amp;+Massive+Attack</td>\n",
       "      <td>5441c29d-3602-4898-b1a1-b77fa23b8e50</td>\n",
       "    </tr>\n",
       "    <tr>\n",
       "      <th>452189</th>\n",
       "      <td>56683</td>\n",
       "      <td>David+Bowie+&amp;+The+Tony+Visconti+Trio</td>\n",
       "      <td>NaN</td>\n",
       "    </tr>\n",
       "    <tr>\n",
       "      <th>453800</th>\n",
       "      <td>276125</td>\n",
       "      <td>Pink+Floud</td>\n",
       "      <td>NaN</td>\n",
       "    </tr>\n",
       "    <tr>\n",
       "      <th>467016</th>\n",
       "      <td>281542</td>\n",
       "      <td>The+Prodigy+&amp;+Pendulum+Vs+Limp+Bizkit+%5BRemix%5D</td>\n",
       "      <td>NaN</td>\n",
       "    </tr>\n",
       "    <tr>\n",
       "      <th>481543</th>\n",
       "      <td>56683</td>\n",
       "      <td>Scumfrog+vs+David+Bowie</td>\n",
       "      <td>5441c29d-3602-4898-b1a1-b77fa23b8e50</td>\n",
       "    </tr>\n",
       "    <tr>\n",
       "      <th>487168</th>\n",
       "      <td>281542</td>\n",
       "      <td>The+Prodigy</td>\n",
       "      <td>4a4ee089-93b1-4470-af9a-6ff575d32704</td>\n",
       "    </tr>\n",
       "    <tr>\n",
       "      <th>510180</th>\n",
       "      <td>56683</td>\n",
       "      <td>Bowie,+David</td>\n",
       "      <td>5441c29d-3602-4898-b1a1-b77fa23b8e50</td>\n",
       "    </tr>\n",
       "    <tr>\n",
       "      <th>529402</th>\n",
       "      <td>200082</td>\n",
       "      <td>Lil+Wayne+&amp;+The+Sqad</td>\n",
       "      <td>NaN</td>\n",
       "    </tr>\n",
       "    <tr>\n",
       "      <th>535081</th>\n",
       "      <td>56683</td>\n",
       "      <td>David+Bowie</td>\n",
       "      <td>5441c29d-3602-4898-b1a1-b77fa23b8e50</td>\n",
       "    </tr>\n",
       "  </tbody>\n",
       "</table>\n",
       "</div>"
      ],
      "text/plain": [
       "        person_id                                        person_name  \\\n",
       "1373        56683                                              Bowie   \n",
       "21043      276125                                 Pink+Floyd+&+Floyd   \n",
       "25139       56683                          David+Bowie+&+Bing+Crosby   \n",
       "27674       56683                        David+Bowie+&+Pet+Shop+Boys   \n",
       "32700       56683                        David+Bowie+&+Phillip+Glass   \n",
       "40008       56683                         David+Bowie+&+Trent+Reznor   \n",
       "40030      200082                  Lil+Wayne+Feat.+Drake+&+Rick+Ross   \n",
       "44602      276125                               Pink+Floyd+&+The+Orb   \n",
       "44799       56683                          David+Bowie+&+Pat+Metheny   \n",
       "49995       56683                      David+Bowie+&+Freddie+Mercury   \n",
       "79045      276125                                     The+Pink+Floyd   \n",
       "90193      200082                                          Lil+Wayne   \n",
       "129430      56683                                        Dawid+Bowie   \n",
       "134688     200082                       Lil+Wayne+Ft.+Birdman+&+Euro   \n",
       "144998     200082                       Lil%27+Wayne+ft.+Nicki+Minaj   \n",
       "151438     200082                       Lil%27+Wayne+&+Juelz+Santana   \n",
       "153740      56683                         David+Bowie+&+Annie+Lennox   \n",
       "156888     200082                                       Lil%27+Wayne   \n",
       "207420     281542                          The+Prodigy+&+Tom+Morello   \n",
       "211327     276125                          Pink+Floyd+&+Candy+Dulfer   \n",
       "220195      56683                          David+Bowie+&+Mick+Jagger   \n",
       "222435     200082                                 Lil+Wayne+&+T-Pain   \n",
       "234814     200082               Lil+Wayne,+Static+Major+&+Kanye+West   \n",
       "236780      56683                        DAVID+BOWIE+&++FOO+FIGHTERS   \n",
       "237956      56683                             David+Bowie+&+Lou+Reed   \n",
       "256571      56683                             Bowie+&+Eno+meet+Glass   \n",
       "257937     200082                                  Lil+Wayne+&+Drake   \n",
       "263415     276125                             Pink+Floyd+&+D.J.+Fish   \n",
       "285598     281542                                       Prodigy,+The   \n",
       "287448      56683          David+Bowie+&+The+Tony+Visconti+Orchestra   \n",
       "300264     281542                                 The+Prodigy+&+Pain   \n",
       "305503      56683                   David+Bowie+&+Stevie+Ray+Vaughan   \n",
       "308147      56683                      David+Bowie+&+Nine+Inch+Nails   \n",
       "312095     200082                            LIL+WAYNE+&+NICKI+MINAJ   \n",
       "340746      56683               David+Bowie+&+Philadelphia+Orchestra   \n",
       "342357     276125                                         Pink+Floyd   \n",
       "361017     200082     Lil+Wayne+&+Nicki+Minaj+&+Rick+Ross+&+The+Game   \n",
       "370474     281542                                       Prod%C4%B1gy   \n",
       "391292      56683                          David+Bowie%2Fpat+Metheny   \n",
       "419678     281542                                 Prodigyremixed.com   \n",
       "420948      56683                   David+Bowie+&+Marianne+Faithfull   \n",
       "425170     200082                                Lil+Wayne+&+Phoenix   \n",
       "425545     281542                                            Prodigy   \n",
       "427620      56683                                David+Bowie+&+Queen   \n",
       "450252      56683                       David+Bowie+&+Massive+Attack   \n",
       "452189      56683               David+Bowie+&+The+Tony+Visconti+Trio   \n",
       "453800     276125                                         Pink+Floud   \n",
       "467016     281542  The+Prodigy+&+Pendulum+Vs+Limp+Bizkit+%5BRemix%5D   \n",
       "481543      56683                            Scumfrog+vs+David+Bowie   \n",
       "487168     281542                                        The+Prodigy   \n",
       "510180      56683                                       Bowie,+David   \n",
       "529402     200082                               Lil+Wayne+&+The+Sqad   \n",
       "535081      56683                                        David+Bowie   \n",
       "\n",
       "                                 person_MBID  \n",
       "1373    5441c29d-3602-4898-b1a1-b77fa23b8e50  \n",
       "21043   83d91898-7763-47d7-b03b-b92132375c47  \n",
       "25139   5441c29d-3602-4898-b1a1-b77fa23b8e50  \n",
       "27674   5441c29d-3602-4898-b1a1-b77fa23b8e50  \n",
       "32700                                    NaN  \n",
       "40008   5441c29d-3602-4898-b1a1-b77fa23b8e50  \n",
       "40030                                    NaN  \n",
       "44602   83d91898-7763-47d7-b03b-b92132375c47  \n",
       "44799   5441c29d-3602-4898-b1a1-b77fa23b8e50  \n",
       "49995   5441c29d-3602-4898-b1a1-b77fa23b8e50  \n",
       "79045   83d91898-7763-47d7-b03b-b92132375c47  \n",
       "90193                                    NaN  \n",
       "129430  5441c29d-3602-4898-b1a1-b77fa23b8e50  \n",
       "134688                                   NaN  \n",
       "144998                                   NaN  \n",
       "151438                                   NaN  \n",
       "153740  5441c29d-3602-4898-b1a1-b77fa23b8e50  \n",
       "156888                                   NaN  \n",
       "207420  4a4ee089-93b1-4470-af9a-6ff575d32704  \n",
       "211327  83d91898-7763-47d7-b03b-b92132375c47  \n",
       "220195  5441c29d-3602-4898-b1a1-b77fa23b8e50  \n",
       "222435                                   NaN  \n",
       "234814                                   NaN  \n",
       "236780  5441c29d-3602-4898-b1a1-b77fa23b8e50  \n",
       "237956  5441c29d-3602-4898-b1a1-b77fa23b8e50  \n",
       "256571  5441c29d-3602-4898-b1a1-b77fa23b8e50  \n",
       "257937                                   NaN  \n",
       "263415                                   NaN  \n",
       "285598  4a4ee089-93b1-4470-af9a-6ff575d32704  \n",
       "287448                                   NaN  \n",
       "300264                                   NaN  \n",
       "305503  5441c29d-3602-4898-b1a1-b77fa23b8e50  \n",
       "308147  5441c29d-3602-4898-b1a1-b77fa23b8e50  \n",
       "312095                                   NaN  \n",
       "340746                                   NaN  \n",
       "342357  83d91898-7763-47d7-b03b-b92132375c47  \n",
       "361017                                   NaN  \n",
       "370474  2996c6a2-215d-4f78-aed6-81a130b04816  \n",
       "391292                                   NaN  \n",
       "419678  4a4ee089-93b1-4470-af9a-6ff575d32704  \n",
       "420948  5441c29d-3602-4898-b1a1-b77fa23b8e50  \n",
       "425170                                   NaN  \n",
       "425545  2996c6a2-215d-4f78-aed6-81a130b04816  \n",
       "427620  5441c29d-3602-4898-b1a1-b77fa23b8e50  \n",
       "450252  5441c29d-3602-4898-b1a1-b77fa23b8e50  \n",
       "452189                                   NaN  \n",
       "453800                                   NaN  \n",
       "467016                                   NaN  \n",
       "481543  5441c29d-3602-4898-b1a1-b77fa23b8e50  \n",
       "487168  4a4ee089-93b1-4470-af9a-6ff575d32704  \n",
       "510180  5441c29d-3602-4898-b1a1-b77fa23b8e50  \n",
       "529402                                   NaN  \n",
       "535081  5441c29d-3602-4898-b1a1-b77fa23b8e50  "
      ]
     },
     "execution_count": 40,
     "metadata": {},
     "output_type": "execute_result"
    }
   ],
   "source": [
    "persons_lst = [\n",
    "    281542, # The Prodigy\n",
    "    56683,  # Bowie\n",
    "    276125, # Pink Floyd\n",
    "    200082  # Lil Wayne\n",
    "]\n",
    "persons[persons['person_id'].isin(persons_lst)]"
   ]
  },
  {
   "cell_type": "code",
   "execution_count": 42,
   "metadata": {},
   "outputs": [
    {
     "data": {
      "text/plain": [
       "array([3621,  718, 3542, 2631])"
      ]
     },
     "execution_count": 42,
     "metadata": {},
     "output_type": "execute_result"
    }
   ],
   "source": [
    "person_id_svd = svd_ur.le_person.transform(persons_lst)\n",
    "person_id_svd"
   ]
  },
  {
   "cell_type": "code",
   "execution_count": 74,
   "metadata": {},
   "outputs": [
    {
     "data": {
      "text/html": [
       "<div>\n",
       "<style scoped>\n",
       "    .dataframe tbody tr th:only-of-type {\n",
       "        vertical-align: middle;\n",
       "    }\n",
       "\n",
       "    .dataframe tbody tr th {\n",
       "        vertical-align: top;\n",
       "    }\n",
       "\n",
       "    .dataframe thead th {\n",
       "        text-align: right;\n",
       "    }\n",
       "</style>\n",
       "<table border=\"1\" class=\"dataframe\">\n",
       "  <thead>\n",
       "    <tr style=\"text-align: right;\">\n",
       "      <th></th>\n",
       "      <th>person_id</th>\n",
       "      <th>top</th>\n",
       "    </tr>\n",
       "  </thead>\n",
       "  <tbody>\n",
       "    <tr>\n",
       "      <th>0</th>\n",
       "      <td>3621</td>\n",
       "      <td>1145</td>\n",
       "    </tr>\n",
       "    <tr>\n",
       "      <th>0</th>\n",
       "      <td>3621</td>\n",
       "      <td>561</td>\n",
       "    </tr>\n",
       "    <tr>\n",
       "      <th>0</th>\n",
       "      <td>3621</td>\n",
       "      <td>694</td>\n",
       "    </tr>\n",
       "    <tr>\n",
       "      <th>0</th>\n",
       "      <td>3621</td>\n",
       "      <td>2646</td>\n",
       "    </tr>\n",
       "    <tr>\n",
       "      <th>0</th>\n",
       "      <td>3621</td>\n",
       "      <td>962</td>\n",
       "    </tr>\n",
       "    <tr>\n",
       "      <th>...</th>\n",
       "      <td>...</td>\n",
       "      <td>...</td>\n",
       "    </tr>\n",
       "    <tr>\n",
       "      <th>3</th>\n",
       "      <td>2631</td>\n",
       "      <td>2921</td>\n",
       "    </tr>\n",
       "    <tr>\n",
       "      <th>3</th>\n",
       "      <td>2631</td>\n",
       "      <td>569</td>\n",
       "    </tr>\n",
       "    <tr>\n",
       "      <th>3</th>\n",
       "      <td>2631</td>\n",
       "      <td>677</td>\n",
       "    </tr>\n",
       "    <tr>\n",
       "      <th>3</th>\n",
       "      <td>2631</td>\n",
       "      <td>4909</td>\n",
       "    </tr>\n",
       "    <tr>\n",
       "      <th>3</th>\n",
       "      <td>2631</td>\n",
       "      <td>2732</td>\n",
       "    </tr>\n",
       "  </tbody>\n",
       "</table>\n",
       "<p>80 rows × 2 columns</p>\n",
       "</div>"
      ],
      "text/plain": [
       "    person_id   top\n",
       "0        3621  1145\n",
       "0        3621   561\n",
       "0        3621   694\n",
       "0        3621  2646\n",
       "0        3621   962\n",
       "..        ...   ...\n",
       "3        2631  2921\n",
       "3        2631   569\n",
       "3        2631   677\n",
       "3        2631  4909\n",
       "3        2631  2732\n",
       "\n",
       "[80 rows x 2 columns]"
      ]
     },
     "execution_count": 74,
     "metadata": {},
     "output_type": "execute_result"
    }
   ],
   "source": [
    "# получим топы в внутренних для SVD id (т.е. координатах)\n",
    "top_20_svd = [(person_id, svd_ur.search_person_nn([person_id], 20)) for person_id in person_id_svd]\n",
    "top_20_svd = pd.DataFrame(top_20_svd, columns=['person_id', 'top']).explode('top')\n",
    "top_20_svd['top'] = top_20_svd['top'].astype(int)\n",
    "top_20_svd"
   ]
  },
  {
   "cell_type": "code",
   "execution_count": 78,
   "metadata": {
    "scrolled": false
   },
   "outputs": [
    {
     "data": {
      "text/html": [
       "<div>\n",
       "<style scoped>\n",
       "    .dataframe tbody tr th:only-of-type {\n",
       "        vertical-align: middle;\n",
       "    }\n",
       "\n",
       "    .dataframe tbody tr th {\n",
       "        vertical-align: top;\n",
       "    }\n",
       "\n",
       "    .dataframe thead th {\n",
       "        text-align: right;\n",
       "    }\n",
       "</style>\n",
       "<table border=\"1\" class=\"dataframe\">\n",
       "  <thead>\n",
       "    <tr style=\"text-align: right;\">\n",
       "      <th></th>\n",
       "      <th>person_id</th>\n",
       "      <th>top</th>\n",
       "    </tr>\n",
       "  </thead>\n",
       "  <tbody>\n",
       "    <tr>\n",
       "      <th>0</th>\n",
       "      <td>281542</td>\n",
       "      <td>87347</td>\n",
       "    </tr>\n",
       "    <tr>\n",
       "      <th>0</th>\n",
       "      <td>281542</td>\n",
       "      <td>47301</td>\n",
       "    </tr>\n",
       "    <tr>\n",
       "      <th>0</th>\n",
       "      <td>281542</td>\n",
       "      <td>55071</td>\n",
       "    </tr>\n",
       "    <tr>\n",
       "      <th>0</th>\n",
       "      <td>281542</td>\n",
       "      <td>201331</td>\n",
       "    </tr>\n",
       "    <tr>\n",
       "      <th>0</th>\n",
       "      <td>281542</td>\n",
       "      <td>74637</td>\n",
       "    </tr>\n",
       "    <tr>\n",
       "      <th>...</th>\n",
       "      <td>...</td>\n",
       "      <td>...</td>\n",
       "    </tr>\n",
       "    <tr>\n",
       "      <th>3</th>\n",
       "      <td>200082</td>\n",
       "      <td>225790</td>\n",
       "    </tr>\n",
       "    <tr>\n",
       "      <th>3</th>\n",
       "      <td>200082</td>\n",
       "      <td>47600</td>\n",
       "    </tr>\n",
       "    <tr>\n",
       "      <th>3</th>\n",
       "      <td>200082</td>\n",
       "      <td>53400</td>\n",
       "    </tr>\n",
       "    <tr>\n",
       "      <th>3</th>\n",
       "      <td>200082</td>\n",
       "      <td>380933</td>\n",
       "    </tr>\n",
       "    <tr>\n",
       "      <th>3</th>\n",
       "      <td>200082</td>\n",
       "      <td>208682</td>\n",
       "    </tr>\n",
       "  </tbody>\n",
       "</table>\n",
       "<p>80 rows × 2 columns</p>\n",
       "</div>"
      ],
      "text/plain": [
       "    person_id     top\n",
       "0      281542   87347\n",
       "0      281542   47301\n",
       "0      281542   55071\n",
       "0      281542  201331\n",
       "0      281542   74637\n",
       "..        ...     ...\n",
       "3      200082  225790\n",
       "3      200082   47600\n",
       "3      200082   53400\n",
       "3      200082  380933\n",
       "3      200082  208682\n",
       "\n",
       "[80 rows x 2 columns]"
      ]
     },
     "execution_count": 78,
     "metadata": {},
     "output_type": "execute_result"
    }
   ],
   "source": [
    "# получим топы с исходными id\n",
    "top_20 = top_20_svd.copy()\n",
    "top_20['person_id'] = svd_ur.le_person.inverse_transform(top_20['person_id'])\n",
    "top_20['top'] = svd_ur.le_person.inverse_transform(top_20['top'])\n",
    "\n",
    "top_20"
   ]
  },
  {
   "cell_type": "code",
   "execution_count": 103,
   "metadata": {},
   "outputs": [
    {
     "data": {
      "text/html": [
       "<div>\n",
       "<style scoped>\n",
       "    .dataframe tbody tr th:only-of-type {\n",
       "        vertical-align: middle;\n",
       "    }\n",
       "\n",
       "    .dataframe tbody tr th {\n",
       "        vertical-align: top;\n",
       "    }\n",
       "\n",
       "    .dataframe thead th {\n",
       "        text-align: right;\n",
       "    }\n",
       "</style>\n",
       "<table border=\"1\" class=\"dataframe\">\n",
       "  <thead>\n",
       "    <tr style=\"text-align: right;\">\n",
       "      <th></th>\n",
       "      <th>person_id</th>\n",
       "      <th>person_name</th>\n",
       "    </tr>\n",
       "  </thead>\n",
       "  <tbody>\n",
       "    <tr>\n",
       "      <th>0</th>\n",
       "      <td>0</td>\n",
       "      <td>000003+Music+Instructor</td>\n",
       "    </tr>\n",
       "    <tr>\n",
       "      <th>1</th>\n",
       "      <td>1</td>\n",
       "      <td>00-01</td>\n",
       "    </tr>\n",
       "    <tr>\n",
       "      <th>2</th>\n",
       "      <td>2</td>\n",
       "      <td>0005.+Overkill</td>\n",
       "    </tr>\n",
       "    <tr>\n",
       "      <th>3</th>\n",
       "      <td>3</td>\n",
       "      <td>000C+Tony+Dize</td>\n",
       "    </tr>\n",
       "    <tr>\n",
       "      <th>4</th>\n",
       "      <td>4</td>\n",
       "      <td>000+Oscarcito</td>\n",
       "    </tr>\n",
       "    <tr>\n",
       "      <th>...</th>\n",
       "      <td>...</td>\n",
       "      <td>...</td>\n",
       "    </tr>\n",
       "    <tr>\n",
       "      <th>560922</th>\n",
       "      <td>595136</td>\n",
       "      <td>Kwajbasket+&amp;+Gimu</td>\n",
       "    </tr>\n",
       "    <tr>\n",
       "      <th>560923</th>\n",
       "      <td>595137</td>\n",
       "      <td>David+Granha+&amp;+John+Axion</td>\n",
       "    </tr>\n",
       "    <tr>\n",
       "      <th>560924</th>\n",
       "      <td>595138</td>\n",
       "      <td>Tam+Cooper,+Will+Saul</td>\n",
       "    </tr>\n",
       "    <tr>\n",
       "      <th>560925</th>\n",
       "      <td>595139</td>\n",
       "      <td>Cousin+Silas+&amp;+LPF12</td>\n",
       "    </tr>\n",
       "    <tr>\n",
       "      <th>560926</th>\n",
       "      <td>595140</td>\n",
       "      <td>The+Dwindlers</td>\n",
       "    </tr>\n",
       "  </tbody>\n",
       "</table>\n",
       "<p>560927 rows × 2 columns</p>\n",
       "</div>"
      ],
      "text/plain": [
       "        person_id                person_name\n",
       "0               0    000003+Music+Instructor\n",
       "1               1                      00-01\n",
       "2               2             0005.+Overkill\n",
       "3               3             000C+Tony+Dize\n",
       "4               4              000+Oscarcito\n",
       "...           ...                        ...\n",
       "560922     595136          Kwajbasket+&+Gimu\n",
       "560923     595137  David+Granha+&+John+Axion\n",
       "560924     595138      Tam+Cooper,+Will+Saul\n",
       "560925     595139       Cousin+Silas+&+LPF12\n",
       "560926     595140              The+Dwindlers\n",
       "\n",
       "[560927 rows x 2 columns]"
      ]
     },
     "execution_count": 103,
     "metadata": {},
     "output_type": "execute_result"
    }
   ],
   "source": [
    "persons_uniq = persons.copy()\n",
    "persons_uniq['person_lenght'] = persons_uniq['person_name'].str.len()\n",
    "persons_uniq = persons_uniq.sort_values('person_lenght')\n",
    "persons_uniq = persons_uniq.groupby(['person_id'], as_index=False)['person_name'].first()\n",
    "persons_uniq"
   ]
  },
  {
   "cell_type": "code",
   "execution_count": 114,
   "metadata": {},
   "outputs": [
    {
     "data": {
      "text/html": [
       "<div>\n",
       "<style scoped>\n",
       "    .dataframe tbody tr th:only-of-type {\n",
       "        vertical-align: middle;\n",
       "    }\n",
       "\n",
       "    .dataframe tbody tr th {\n",
       "        vertical-align: top;\n",
       "    }\n",
       "\n",
       "    .dataframe thead th {\n",
       "        text-align: right;\n",
       "    }\n",
       "</style>\n",
       "<table border=\"1\" class=\"dataframe\">\n",
       "  <thead>\n",
       "    <tr style=\"text-align: right;\">\n",
       "      <th></th>\n",
       "      <th>person_id</th>\n",
       "      <th>top</th>\n",
       "      <th>person_name</th>\n",
       "      <th>person_name_neighbour</th>\n",
       "    </tr>\n",
       "  </thead>\n",
       "  <tbody>\n",
       "    <tr>\n",
       "      <th>0</th>\n",
       "      <td>281542</td>\n",
       "      <td>87347</td>\n",
       "      <td>Prodigy</td>\n",
       "      <td>TCM</td>\n",
       "    </tr>\n",
       "    <tr>\n",
       "      <th>1</th>\n",
       "      <td>281542</td>\n",
       "      <td>47301</td>\n",
       "      <td>Prodigy</td>\n",
       "      <td>Big+Giant+Circles</td>\n",
       "    </tr>\n",
       "    <tr>\n",
       "      <th>2</th>\n",
       "      <td>281542</td>\n",
       "      <td>55071</td>\n",
       "      <td>Prodigy</td>\n",
       "      <td>Bomfunk+MCs</td>\n",
       "    </tr>\n",
       "    <tr>\n",
       "      <th>3</th>\n",
       "      <td>281542</td>\n",
       "      <td>201331</td>\n",
       "      <td>Prodigy</td>\n",
       "      <td>Lionrock</td>\n",
       "    </tr>\n",
       "    <tr>\n",
       "      <th>4</th>\n",
       "      <td>281542</td>\n",
       "      <td>74637</td>\n",
       "      <td>Prodigy</td>\n",
       "      <td>Chemical+Brothers</td>\n",
       "    </tr>\n",
       "    <tr>\n",
       "      <th>...</th>\n",
       "      <td>...</td>\n",
       "      <td>...</td>\n",
       "      <td>...</td>\n",
       "      <td>...</td>\n",
       "    </tr>\n",
       "    <tr>\n",
       "      <th>75</th>\n",
       "      <td>200082</td>\n",
       "      <td>225790</td>\n",
       "      <td>Lil+Wayne</td>\n",
       "      <td>Meek+Mill</td>\n",
       "    </tr>\n",
       "    <tr>\n",
       "      <th>76</th>\n",
       "      <td>200082</td>\n",
       "      <td>47600</td>\n",
       "      <td>Lil+Wayne</td>\n",
       "      <td>Big+Sean</td>\n",
       "    </tr>\n",
       "    <tr>\n",
       "      <th>77</th>\n",
       "      <td>200082</td>\n",
       "      <td>53400</td>\n",
       "      <td>Lil+Wayne</td>\n",
       "      <td>B.o.B</td>\n",
       "    </tr>\n",
       "    <tr>\n",
       "      <th>78</th>\n",
       "      <td>200082</td>\n",
       "      <td>380933</td>\n",
       "      <td>Lil+Wayne</td>\n",
       "      <td>T-Pain</td>\n",
       "    </tr>\n",
       "    <tr>\n",
       "      <th>79</th>\n",
       "      <td>200082</td>\n",
       "      <td>208682</td>\n",
       "      <td>Lil+Wayne</td>\n",
       "      <td>Ludacris</td>\n",
       "    </tr>\n",
       "  </tbody>\n",
       "</table>\n",
       "<p>80 rows × 4 columns</p>\n",
       "</div>"
      ],
      "text/plain": [
       "    person_id     top person_name person_name_neighbour\n",
       "0      281542   87347     Prodigy                   TCM\n",
       "1      281542   47301     Prodigy     Big+Giant+Circles\n",
       "2      281542   55071     Prodigy           Bomfunk+MCs\n",
       "3      281542  201331     Prodigy              Lionrock\n",
       "4      281542   74637     Prodigy     Chemical+Brothers\n",
       "..        ...     ...         ...                   ...\n",
       "75     200082  225790   Lil+Wayne             Meek+Mill\n",
       "76     200082   47600   Lil+Wayne              Big+Sean\n",
       "77     200082   53400   Lil+Wayne                 B.o.B\n",
       "78     200082  380933   Lil+Wayne                T-Pain\n",
       "79     200082  208682   Lil+Wayne              Ludacris\n",
       "\n",
       "[80 rows x 4 columns]"
      ]
     },
     "execution_count": 114,
     "metadata": {},
     "output_type": "execute_result"
    }
   ],
   "source": [
    "top_20_with_names = (top_20\n",
    "    .merge(persons_uniq, how=\"left\", on=['person_id'])\n",
    "    .merge(persons_uniq, how=\"left\", left_on=['top'], right_on=['person_id'], suffixes=('', '_neighbour'))\n",
    "    .drop(columns=['person_id_neighbour'])\n",
    ")\n",
    "\n",
    "top_20_with_names"
   ]
  },
  {
   "cell_type": "markdown",
   "metadata": {},
   "source": [
    "### Посмотрим поближе на топ 20 по ряду исполнителей"
   ]
  },
  {
   "cell_type": "code",
   "execution_count": 115,
   "metadata": {},
   "outputs": [
    {
     "data": {
      "text/html": [
       "<div>\n",
       "<style scoped>\n",
       "    .dataframe tbody tr th:only-of-type {\n",
       "        vertical-align: middle;\n",
       "    }\n",
       "\n",
       "    .dataframe tbody tr th {\n",
       "        vertical-align: top;\n",
       "    }\n",
       "\n",
       "    .dataframe thead th {\n",
       "        text-align: right;\n",
       "    }\n",
       "</style>\n",
       "<table border=\"1\" class=\"dataframe\">\n",
       "  <thead>\n",
       "    <tr style=\"text-align: right;\">\n",
       "      <th></th>\n",
       "      <th>person_id</th>\n",
       "      <th>top</th>\n",
       "      <th>person_name</th>\n",
       "      <th>person_name_neighbour</th>\n",
       "    </tr>\n",
       "  </thead>\n",
       "  <tbody>\n",
       "    <tr>\n",
       "      <th>0</th>\n",
       "      <td>281542</td>\n",
       "      <td>87347</td>\n",
       "      <td>Prodigy</td>\n",
       "      <td>TCM</td>\n",
       "    </tr>\n",
       "    <tr>\n",
       "      <th>1</th>\n",
       "      <td>281542</td>\n",
       "      <td>47301</td>\n",
       "      <td>Prodigy</td>\n",
       "      <td>Big+Giant+Circles</td>\n",
       "    </tr>\n",
       "    <tr>\n",
       "      <th>2</th>\n",
       "      <td>281542</td>\n",
       "      <td>55071</td>\n",
       "      <td>Prodigy</td>\n",
       "      <td>Bomfunk+MCs</td>\n",
       "    </tr>\n",
       "    <tr>\n",
       "      <th>3</th>\n",
       "      <td>281542</td>\n",
       "      <td>201331</td>\n",
       "      <td>Prodigy</td>\n",
       "      <td>Lionrock</td>\n",
       "    </tr>\n",
       "    <tr>\n",
       "      <th>4</th>\n",
       "      <td>281542</td>\n",
       "      <td>74637</td>\n",
       "      <td>Prodigy</td>\n",
       "      <td>Chemical+Brothers</td>\n",
       "    </tr>\n",
       "    <tr>\n",
       "      <th>5</th>\n",
       "      <td>281542</td>\n",
       "      <td>147331</td>\n",
       "      <td>Prodigy</td>\n",
       "      <td>Fake+Blood</td>\n",
       "    </tr>\n",
       "    <tr>\n",
       "      <th>6</th>\n",
       "      <td>281542</td>\n",
       "      <td>253878</td>\n",
       "      <td>Prodigy</td>\n",
       "      <td>Noir+D%C3%A9sir</td>\n",
       "    </tr>\n",
       "    <tr>\n",
       "      <th>7</th>\n",
       "      <td>281542</td>\n",
       "      <td>148559</td>\n",
       "      <td>Prodigy</td>\n",
       "      <td>Fatboy+Slim</td>\n",
       "    </tr>\n",
       "    <tr>\n",
       "      <th>8</th>\n",
       "      <td>281542</td>\n",
       "      <td>436980</td>\n",
       "      <td>Prodigy</td>\n",
       "      <td>Hybrid</td>\n",
       "    </tr>\n",
       "    <tr>\n",
       "      <th>9</th>\n",
       "      <td>281542</td>\n",
       "      <td>235902</td>\n",
       "      <td>Prodigy</td>\n",
       "      <td>Moby</td>\n",
       "    </tr>\n",
       "    <tr>\n",
       "      <th>10</th>\n",
       "      <td>281542</td>\n",
       "      <td>463333</td>\n",
       "      <td>Prodigy</td>\n",
       "      <td>JXL</td>\n",
       "    </tr>\n",
       "    <tr>\n",
       "      <th>11</th>\n",
       "      <td>281542</td>\n",
       "      <td>255657</td>\n",
       "      <td>Prodigy</td>\n",
       "      <td>Nouvelle+Vague</td>\n",
       "    </tr>\n",
       "    <tr>\n",
       "      <th>12</th>\n",
       "      <td>281542</td>\n",
       "      <td>213159</td>\n",
       "      <td>Prodigy</td>\n",
       "      <td>Major+League</td>\n",
       "    </tr>\n",
       "    <tr>\n",
       "      <th>13</th>\n",
       "      <td>281542</td>\n",
       "      <td>286103</td>\n",
       "      <td>Prodigy</td>\n",
       "      <td>UNKLE</td>\n",
       "    </tr>\n",
       "    <tr>\n",
       "      <th>14</th>\n",
       "      <td>281542</td>\n",
       "      <td>158011</td>\n",
       "      <td>Prodigy</td>\n",
       "      <td>Freestylers</td>\n",
       "    </tr>\n",
       "    <tr>\n",
       "      <th>15</th>\n",
       "      <td>281542</td>\n",
       "      <td>105541</td>\n",
       "      <td>Prodigy</td>\n",
       "      <td>David+Arnold</td>\n",
       "    </tr>\n",
       "    <tr>\n",
       "      <th>16</th>\n",
       "      <td>281542</td>\n",
       "      <td>412368</td>\n",
       "      <td>Prodigy</td>\n",
       "      <td>Zircon</td>\n",
       "    </tr>\n",
       "    <tr>\n",
       "      <th>17</th>\n",
       "      <td>281542</td>\n",
       "      <td>44807</td>\n",
       "      <td>Prodigy</td>\n",
       "      <td>Ben+Prunty</td>\n",
       "    </tr>\n",
       "    <tr>\n",
       "      <th>18</th>\n",
       "      <td>281542</td>\n",
       "      <td>458254</td>\n",
       "      <td>Prodigy</td>\n",
       "      <td>Joint+Venture</td>\n",
       "    </tr>\n",
       "    <tr>\n",
       "      <th>19</th>\n",
       "      <td>281542</td>\n",
       "      <td>59349</td>\n",
       "      <td>Prodigy</td>\n",
       "      <td>Broadway+Calls</td>\n",
       "    </tr>\n",
       "  </tbody>\n",
       "</table>\n",
       "</div>"
      ],
      "text/plain": [
       "    person_id     top person_name person_name_neighbour\n",
       "0      281542   87347     Prodigy                   TCM\n",
       "1      281542   47301     Prodigy     Big+Giant+Circles\n",
       "2      281542   55071     Prodigy           Bomfunk+MCs\n",
       "3      281542  201331     Prodigy              Lionrock\n",
       "4      281542   74637     Prodigy     Chemical+Brothers\n",
       "5      281542  147331     Prodigy            Fake+Blood\n",
       "6      281542  253878     Prodigy       Noir+D%C3%A9sir\n",
       "7      281542  148559     Prodigy           Fatboy+Slim\n",
       "8      281542  436980     Prodigy                Hybrid\n",
       "9      281542  235902     Prodigy                  Moby\n",
       "10     281542  463333     Prodigy                   JXL\n",
       "11     281542  255657     Prodigy        Nouvelle+Vague\n",
       "12     281542  213159     Prodigy          Major+League\n",
       "13     281542  286103     Prodigy                 UNKLE\n",
       "14     281542  158011     Prodigy           Freestylers\n",
       "15     281542  105541     Prodigy          David+Arnold\n",
       "16     281542  412368     Prodigy                Zircon\n",
       "17     281542   44807     Prodigy            Ben+Prunty\n",
       "18     281542  458254     Prodigy         Joint+Venture\n",
       "19     281542   59349     Prodigy        Broadway+Calls"
      ]
     },
     "execution_count": 115,
     "metadata": {},
     "output_type": "execute_result"
    }
   ],
   "source": [
    "# Prodigy\n",
    "top_20_with_names[\n",
    "    top_20_with_names['person_id'].isin([281542])\n",
    "]\n",
    "\n",
    "# Посмотрел похожие на сайте самого last.fm\n",
    "# https://www.last.fm/ru/music/The+Prodigy/+similar\n",
    "# 1 страница: TCM, Chemical+Brothers, Fatboy+Slim, JXL\n",
    "# 2 страница: Moby, Freestylers\n",
    "# 3 страница: Bomfunk+MCs"
   ]
  },
  {
   "cell_type": "code",
   "execution_count": 116,
   "metadata": {},
   "outputs": [
    {
     "data": {
      "text/html": [
       "<div>\n",
       "<style scoped>\n",
       "    .dataframe tbody tr th:only-of-type {\n",
       "        vertical-align: middle;\n",
       "    }\n",
       "\n",
       "    .dataframe tbody tr th {\n",
       "        vertical-align: top;\n",
       "    }\n",
       "\n",
       "    .dataframe thead th {\n",
       "        text-align: right;\n",
       "    }\n",
       "</style>\n",
       "<table border=\"1\" class=\"dataframe\">\n",
       "  <thead>\n",
       "    <tr style=\"text-align: right;\">\n",
       "      <th></th>\n",
       "      <th>person_id</th>\n",
       "      <th>top</th>\n",
       "      <th>person_name</th>\n",
       "      <th>person_name_neighbour</th>\n",
       "    </tr>\n",
       "  </thead>\n",
       "  <tbody>\n",
       "    <tr>\n",
       "      <th>20</th>\n",
       "      <td>56683</td>\n",
       "      <td>297427</td>\n",
       "      <td>Bowie</td>\n",
       "      <td>Roberto+Carlos</td>\n",
       "    </tr>\n",
       "    <tr>\n",
       "      <th>21</th>\n",
       "      <td>56683</td>\n",
       "      <td>75323</td>\n",
       "      <td>Bowie</td>\n",
       "      <td>Chico+Buarque</td>\n",
       "    </tr>\n",
       "    <tr>\n",
       "      <th>22</th>\n",
       "      <td>56683</td>\n",
       "      <td>375671</td>\n",
       "      <td>Bowie</td>\n",
       "      <td>Tim+Maia</td>\n",
       "    </tr>\n",
       "    <tr>\n",
       "      <th>23</th>\n",
       "      <td>56683</td>\n",
       "      <td>141934</td>\n",
       "      <td>Bowie</td>\n",
       "      <td>Eric+Clapton</td>\n",
       "    </tr>\n",
       "    <tr>\n",
       "      <th>24</th>\n",
       "      <td>56683</td>\n",
       "      <td>41687</td>\n",
       "      <td>Bowie</td>\n",
       "      <td>B.B.King</td>\n",
       "    </tr>\n",
       "    <tr>\n",
       "      <th>25</th>\n",
       "      <td>56683</td>\n",
       "      <td>378157</td>\n",
       "      <td>Bowie</td>\n",
       "      <td>Tom+Jones</td>\n",
       "    </tr>\n",
       "    <tr>\n",
       "      <th>26</th>\n",
       "      <td>56683</td>\n",
       "      <td>374371</td>\n",
       "      <td>Bowie</td>\n",
       "      <td>Tiago+Iorc</td>\n",
       "    </tr>\n",
       "    <tr>\n",
       "      <th>27</th>\n",
       "      <td>56683</td>\n",
       "      <td>29575</td>\n",
       "      <td>Bowie</td>\n",
       "      <td>Aretha+Franklin</td>\n",
       "    </tr>\n",
       "    <tr>\n",
       "      <th>28</th>\n",
       "      <td>56683</td>\n",
       "      <td>286567</td>\n",
       "      <td>Bowie</td>\n",
       "      <td>Raffi</td>\n",
       "    </tr>\n",
       "    <tr>\n",
       "      <th>29</th>\n",
       "      <td>56683</td>\n",
       "      <td>86006</td>\n",
       "      <td>Bowie</td>\n",
       "      <td>Cream</td>\n",
       "    </tr>\n",
       "    <tr>\n",
       "      <th>30</th>\n",
       "      <td>56683</td>\n",
       "      <td>215654</td>\n",
       "      <td>Bowie</td>\n",
       "      <td>T+Rex</td>\n",
       "    </tr>\n",
       "    <tr>\n",
       "      <th>31</th>\n",
       "      <td>56683</td>\n",
       "      <td>386651</td>\n",
       "      <td>Bowie</td>\n",
       "      <td>UFO</td>\n",
       "    </tr>\n",
       "    <tr>\n",
       "      <th>32</th>\n",
       "      <td>56683</td>\n",
       "      <td>140510</td>\n",
       "      <td>Bowie</td>\n",
       "      <td>New+Order</td>\n",
       "    </tr>\n",
       "    <tr>\n",
       "      <th>33</th>\n",
       "      <td>56683</td>\n",
       "      <td>255847</td>\n",
       "      <td>Bowie</td>\n",
       "      <td>Novos+Baianos</td>\n",
       "    </tr>\n",
       "    <tr>\n",
       "      <th>34</th>\n",
       "      <td>56683</td>\n",
       "      <td>123386</td>\n",
       "      <td>Bowie</td>\n",
       "      <td>Duke+Ellington</td>\n",
       "    </tr>\n",
       "    <tr>\n",
       "      <th>35</th>\n",
       "      <td>56683</td>\n",
       "      <td>296151</td>\n",
       "      <td>Bowie</td>\n",
       "      <td>Rita+Lee</td>\n",
       "    </tr>\n",
       "    <tr>\n",
       "      <th>36</th>\n",
       "      <td>56683</td>\n",
       "      <td>459519</td>\n",
       "      <td>Bowie</td>\n",
       "      <td>Jorge+Ben</td>\n",
       "    </tr>\n",
       "    <tr>\n",
       "      <th>37</th>\n",
       "      <td>56683</td>\n",
       "      <td>163720</td>\n",
       "      <td>Bowie</td>\n",
       "      <td>Genesis</td>\n",
       "    </tr>\n",
       "    <tr>\n",
       "      <th>38</th>\n",
       "      <td>56683</td>\n",
       "      <td>371134</td>\n",
       "      <td>Bowie</td>\n",
       "      <td>Velvet+Underground</td>\n",
       "    </tr>\n",
       "    <tr>\n",
       "      <th>39</th>\n",
       "      <td>56683</td>\n",
       "      <td>161364</td>\n",
       "      <td>Bowie</td>\n",
       "      <td>Gal+Costa</td>\n",
       "    </tr>\n",
       "  </tbody>\n",
       "</table>\n",
       "</div>"
      ],
      "text/plain": [
       "    person_id     top person_name person_name_neighbour\n",
       "20      56683  297427       Bowie        Roberto+Carlos\n",
       "21      56683   75323       Bowie         Chico+Buarque\n",
       "22      56683  375671       Bowie              Tim+Maia\n",
       "23      56683  141934       Bowie          Eric+Clapton\n",
       "24      56683   41687       Bowie              B.B.King\n",
       "25      56683  378157       Bowie             Tom+Jones\n",
       "26      56683  374371       Bowie            Tiago+Iorc\n",
       "27      56683   29575       Bowie       Aretha+Franklin\n",
       "28      56683  286567       Bowie                 Raffi\n",
       "29      56683   86006       Bowie                 Cream\n",
       "30      56683  215654       Bowie                 T+Rex\n",
       "31      56683  386651       Bowie                   UFO\n",
       "32      56683  140510       Bowie             New+Order\n",
       "33      56683  255847       Bowie         Novos+Baianos\n",
       "34      56683  123386       Bowie        Duke+Ellington\n",
       "35      56683  296151       Bowie              Rita+Lee\n",
       "36      56683  459519       Bowie             Jorge+Ben\n",
       "37      56683  163720       Bowie               Genesis\n",
       "38      56683  371134       Bowie    Velvet+Underground\n",
       "39      56683  161364       Bowie             Gal+Costa"
      ]
     },
     "execution_count": 116,
     "metadata": {},
     "output_type": "execute_result"
    }
   ],
   "source": [
    "# Bowie\n",
    "top_20_with_names[\n",
    "    top_20_with_names['person_id'].isin([56683])\n",
    "]\n",
    "\n",
    "# Посмотрел похожие на сайте самого last.fm\n",
    "# https://www.last.fm/ru/music/David+Bowie/+similar\n",
    "# 1 страница: T+Rex, Velvet+Underground, \n",
    "# 2 страница: \n",
    "# 3 страница: \n",
    "# 4 страница: Genesis, New+Order"
   ]
  },
  {
   "cell_type": "code",
   "execution_count": 117,
   "metadata": {},
   "outputs": [
    {
     "data": {
      "text/html": [
       "<div>\n",
       "<style scoped>\n",
       "    .dataframe tbody tr th:only-of-type {\n",
       "        vertical-align: middle;\n",
       "    }\n",
       "\n",
       "    .dataframe tbody tr th {\n",
       "        vertical-align: top;\n",
       "    }\n",
       "\n",
       "    .dataframe thead th {\n",
       "        text-align: right;\n",
       "    }\n",
       "</style>\n",
       "<table border=\"1\" class=\"dataframe\">\n",
       "  <thead>\n",
       "    <tr style=\"text-align: right;\">\n",
       "      <th></th>\n",
       "      <th>person_id</th>\n",
       "      <th>top</th>\n",
       "      <th>person_name</th>\n",
       "      <th>person_name_neighbour</th>\n",
       "    </tr>\n",
       "  </thead>\n",
       "  <tbody>\n",
       "    <tr>\n",
       "      <th>40</th>\n",
       "      <td>276125</td>\n",
       "      <td>452182</td>\n",
       "      <td>Pink+Floud</td>\n",
       "      <td>Jethro+Tull</td>\n",
       "    </tr>\n",
       "    <tr>\n",
       "      <th>41</th>\n",
       "      <td>276125</td>\n",
       "      <td>407892</td>\n",
       "      <td>Pink+Floud</td>\n",
       "      <td>Yes</td>\n",
       "    </tr>\n",
       "    <tr>\n",
       "      <th>42</th>\n",
       "      <td>276125</td>\n",
       "      <td>354785</td>\n",
       "      <td>Pink+Floud</td>\n",
       "      <td>Doors</td>\n",
       "    </tr>\n",
       "    <tr>\n",
       "      <th>43</th>\n",
       "      <td>276125</td>\n",
       "      <td>66400</td>\n",
       "      <td>Pink+Floud</td>\n",
       "      <td>Camel</td>\n",
       "    </tr>\n",
       "    <tr>\n",
       "      <th>44</th>\n",
       "      <td>276125</td>\n",
       "      <td>47753</td>\n",
       "      <td>Pink+Floud</td>\n",
       "      <td>Big+Wreck</td>\n",
       "    </tr>\n",
       "    <tr>\n",
       "      <th>45</th>\n",
       "      <td>276125</td>\n",
       "      <td>364487</td>\n",
       "      <td>Pink+Floud</td>\n",
       "      <td>The+Pack+AD</td>\n",
       "    </tr>\n",
       "    <tr>\n",
       "      <th>46</th>\n",
       "      <td>276125</td>\n",
       "      <td>344133</td>\n",
       "      <td>Pink+Floud</td>\n",
       "      <td>Tangerine+Dream</td>\n",
       "    </tr>\n",
       "    <tr>\n",
       "      <th>47</th>\n",
       "      <td>276125</td>\n",
       "      <td>212350</td>\n",
       "      <td>Pink+Floud</td>\n",
       "      <td>Magma</td>\n",
       "    </tr>\n",
       "    <tr>\n",
       "      <th>48</th>\n",
       "      <td>276125</td>\n",
       "      <td>321461</td>\n",
       "      <td>Pink+Floud</td>\n",
       "      <td>Sixx:A.M.</td>\n",
       "    </tr>\n",
       "    <tr>\n",
       "      <th>49</th>\n",
       "      <td>276125</td>\n",
       "      <td>66695</td>\n",
       "      <td>Pink+Floud</td>\n",
       "      <td>Can</td>\n",
       "    </tr>\n",
       "    <tr>\n",
       "      <th>50</th>\n",
       "      <td>276125</td>\n",
       "      <td>428974</td>\n",
       "      <td>Pink+Floud</td>\n",
       "      <td>Hawkwind</td>\n",
       "    </tr>\n",
       "    <tr>\n",
       "      <th>51</th>\n",
       "      <td>276125</td>\n",
       "      <td>464283</td>\n",
       "      <td>Pink+Floud</td>\n",
       "      <td>Kaerbholz</td>\n",
       "    </tr>\n",
       "    <tr>\n",
       "      <th>52</th>\n",
       "      <td>276125</td>\n",
       "      <td>148868</td>\n",
       "      <td>Pink+Floud</td>\n",
       "      <td>Faust</td>\n",
       "    </tr>\n",
       "    <tr>\n",
       "      <th>53</th>\n",
       "      <td>276125</td>\n",
       "      <td>279219</td>\n",
       "      <td>Pink+Floud</td>\n",
       "      <td>Popol+Vuh</td>\n",
       "    </tr>\n",
       "    <tr>\n",
       "      <th>54</th>\n",
       "      <td>276125</td>\n",
       "      <td>367124</td>\n",
       "      <td>Pink+Floud</td>\n",
       "      <td>The+Ruins+Of+Beverast</td>\n",
       "    </tr>\n",
       "    <tr>\n",
       "      <th>55</th>\n",
       "      <td>276125</td>\n",
       "      <td>231968</td>\n",
       "      <td>Pink+Floud</td>\n",
       "      <td>Mike+Oldfield</td>\n",
       "    </tr>\n",
       "    <tr>\n",
       "      <th>56</th>\n",
       "      <td>276125</td>\n",
       "      <td>390687</td>\n",
       "      <td>Pink+Floud</td>\n",
       "      <td>Van+der+Graaf+Generator</td>\n",
       "    </tr>\n",
       "    <tr>\n",
       "      <th>57</th>\n",
       "      <td>276125</td>\n",
       "      <td>106003</td>\n",
       "      <td>Pink+Floud</td>\n",
       "      <td>David+Gilmour</td>\n",
       "    </tr>\n",
       "    <tr>\n",
       "      <th>58</th>\n",
       "      <td>276125</td>\n",
       "      <td>135623</td>\n",
       "      <td>Pink+Floud</td>\n",
       "      <td>Ekatarina+Velika</td>\n",
       "    </tr>\n",
       "    <tr>\n",
       "      <th>59</th>\n",
       "      <td>276125</td>\n",
       "      <td>159162</td>\n",
       "      <td>Pink+Floud</td>\n",
       "      <td>FSOL</td>\n",
       "    </tr>\n",
       "  </tbody>\n",
       "</table>\n",
       "</div>"
      ],
      "text/plain": [
       "    person_id     top person_name    person_name_neighbour\n",
       "40     276125  452182  Pink+Floud              Jethro+Tull\n",
       "41     276125  407892  Pink+Floud                      Yes\n",
       "42     276125  354785  Pink+Floud                    Doors\n",
       "43     276125   66400  Pink+Floud                    Camel\n",
       "44     276125   47753  Pink+Floud                Big+Wreck\n",
       "45     276125  364487  Pink+Floud              The+Pack+AD\n",
       "46     276125  344133  Pink+Floud          Tangerine+Dream\n",
       "47     276125  212350  Pink+Floud                    Magma\n",
       "48     276125  321461  Pink+Floud                Sixx:A.M.\n",
       "49     276125   66695  Pink+Floud                      Can\n",
       "50     276125  428974  Pink+Floud                 Hawkwind\n",
       "51     276125  464283  Pink+Floud                Kaerbholz\n",
       "52     276125  148868  Pink+Floud                    Faust\n",
       "53     276125  279219  Pink+Floud                Popol+Vuh\n",
       "54     276125  367124  Pink+Floud    The+Ruins+Of+Beverast\n",
       "55     276125  231968  Pink+Floud            Mike+Oldfield\n",
       "56     276125  390687  Pink+Floud  Van+der+Graaf+Generator\n",
       "57     276125  106003  Pink+Floud            David+Gilmour\n",
       "58     276125  135623  Pink+Floud         Ekatarina+Velika\n",
       "59     276125  159162  Pink+Floud                     FSOL"
      ]
     },
     "execution_count": 117,
     "metadata": {},
     "output_type": "execute_result"
    }
   ],
   "source": [
    "# Pink Floyd\n",
    "top_20_with_names[\n",
    "    top_20_with_names['person_id'].isin([276125])\n",
    "]\n",
    "\n",
    "# Посмотрел похожие на сайте самого last.fm\n",
    "# https://www.last.fm/ru/music/Pink+Floyd/+similar\n",
    "# 1 страница: David+Gilmour, Doors, Yes\n",
    "# 2 страница: Camel\n",
    "# 3 страница: \n",
    "# 4 страница: Van+der+Graaf+Generator"
   ]
  },
  {
   "cell_type": "code",
   "execution_count": 118,
   "metadata": {},
   "outputs": [
    {
     "data": {
      "text/html": [
       "<div>\n",
       "<style scoped>\n",
       "    .dataframe tbody tr th:only-of-type {\n",
       "        vertical-align: middle;\n",
       "    }\n",
       "\n",
       "    .dataframe tbody tr th {\n",
       "        vertical-align: top;\n",
       "    }\n",
       "\n",
       "    .dataframe thead th {\n",
       "        text-align: right;\n",
       "    }\n",
       "</style>\n",
       "<table border=\"1\" class=\"dataframe\">\n",
       "  <thead>\n",
       "    <tr style=\"text-align: right;\">\n",
       "      <th></th>\n",
       "      <th>person_id</th>\n",
       "      <th>top</th>\n",
       "      <th>person_name</th>\n",
       "      <th>person_name_neighbour</th>\n",
       "    </tr>\n",
       "  </thead>\n",
       "  <tbody>\n",
       "    <tr>\n",
       "      <th>60</th>\n",
       "      <td>200082</td>\n",
       "      <td>161570</td>\n",
       "      <td>Lil+Wayne</td>\n",
       "      <td>Tyga</td>\n",
       "    </tr>\n",
       "    <tr>\n",
       "      <th>61</th>\n",
       "      <td>200082</td>\n",
       "      <td>3165</td>\n",
       "      <td>Lil+Wayne</td>\n",
       "      <td>2+Chainz</td>\n",
       "    </tr>\n",
       "    <tr>\n",
       "      <th>62</th>\n",
       "      <td>200082</td>\n",
       "      <td>374349</td>\n",
       "      <td>Lil+Wayne</td>\n",
       "      <td>T.I.</td>\n",
       "    </tr>\n",
       "    <tr>\n",
       "      <th>63</th>\n",
       "      <td>200082</td>\n",
       "      <td>397111</td>\n",
       "      <td>Lil+Wayne</td>\n",
       "      <td>Wale</td>\n",
       "    </tr>\n",
       "    <tr>\n",
       "      <th>64</th>\n",
       "      <td>200082</td>\n",
       "      <td>160331</td>\n",
       "      <td>Lil+Wayne</td>\n",
       "      <td>Future</td>\n",
       "    </tr>\n",
       "    <tr>\n",
       "      <th>65</th>\n",
       "      <td>200082</td>\n",
       "      <td>420178</td>\n",
       "      <td>Lil+Wayne</td>\n",
       "      <td>DJ+Khaled</td>\n",
       "    </tr>\n",
       "    <tr>\n",
       "      <th>66</th>\n",
       "      <td>200082</td>\n",
       "      <td>200037</td>\n",
       "      <td>Lil+Wayne</td>\n",
       "      <td>Lil+Jon</td>\n",
       "    </tr>\n",
       "    <tr>\n",
       "      <th>67</th>\n",
       "      <td>200082</td>\n",
       "      <td>408323</td>\n",
       "      <td>Lil+Wayne</td>\n",
       "      <td>Jeezy</td>\n",
       "    </tr>\n",
       "    <tr>\n",
       "      <th>68</th>\n",
       "      <td>200082</td>\n",
       "      <td>173505</td>\n",
       "      <td>Lil+Wayne</td>\n",
       "      <td>Gucci+Mane</td>\n",
       "    </tr>\n",
       "    <tr>\n",
       "      <th>69</th>\n",
       "      <td>200082</td>\n",
       "      <td>449356</td>\n",
       "      <td>Lil+Wayne</td>\n",
       "      <td>j.cole</td>\n",
       "    </tr>\n",
       "    <tr>\n",
       "      <th>70</th>\n",
       "      <td>200082</td>\n",
       "      <td>49227</td>\n",
       "      <td>Lil+Wayne</td>\n",
       "      <td>Birdman</td>\n",
       "    </tr>\n",
       "    <tr>\n",
       "      <th>71</th>\n",
       "      <td>200082</td>\n",
       "      <td>8846</td>\n",
       "      <td>Lil+Wayne</td>\n",
       "      <td>Ace+Hood</td>\n",
       "    </tr>\n",
       "    <tr>\n",
       "      <th>72</th>\n",
       "      <td>200082</td>\n",
       "      <td>231164</td>\n",
       "      <td>Lil+Wayne</td>\n",
       "      <td>Migos</td>\n",
       "    </tr>\n",
       "    <tr>\n",
       "      <th>73</th>\n",
       "      <td>200082</td>\n",
       "      <td>281939</td>\n",
       "      <td>Lil+Wayne</td>\n",
       "      <td>Project+Pat</td>\n",
       "    </tr>\n",
       "    <tr>\n",
       "      <th>74</th>\n",
       "      <td>200082</td>\n",
       "      <td>158190</td>\n",
       "      <td>Lil+Wayne</td>\n",
       "      <td>French+Montana</td>\n",
       "    </tr>\n",
       "    <tr>\n",
       "      <th>75</th>\n",
       "      <td>200082</td>\n",
       "      <td>225790</td>\n",
       "      <td>Lil+Wayne</td>\n",
       "      <td>Meek+Mill</td>\n",
       "    </tr>\n",
       "    <tr>\n",
       "      <th>76</th>\n",
       "      <td>200082</td>\n",
       "      <td>47600</td>\n",
       "      <td>Lil+Wayne</td>\n",
       "      <td>Big+Sean</td>\n",
       "    </tr>\n",
       "    <tr>\n",
       "      <th>77</th>\n",
       "      <td>200082</td>\n",
       "      <td>53400</td>\n",
       "      <td>Lil+Wayne</td>\n",
       "      <td>B.o.B</td>\n",
       "    </tr>\n",
       "    <tr>\n",
       "      <th>78</th>\n",
       "      <td>200082</td>\n",
       "      <td>380933</td>\n",
       "      <td>Lil+Wayne</td>\n",
       "      <td>T-Pain</td>\n",
       "    </tr>\n",
       "    <tr>\n",
       "      <th>79</th>\n",
       "      <td>200082</td>\n",
       "      <td>208682</td>\n",
       "      <td>Lil+Wayne</td>\n",
       "      <td>Ludacris</td>\n",
       "    </tr>\n",
       "  </tbody>\n",
       "</table>\n",
       "</div>"
      ],
      "text/plain": [
       "    person_id     top person_name person_name_neighbour\n",
       "60     200082  161570   Lil+Wayne                  Tyga\n",
       "61     200082    3165   Lil+Wayne              2+Chainz\n",
       "62     200082  374349   Lil+Wayne                  T.I.\n",
       "63     200082  397111   Lil+Wayne                  Wale\n",
       "64     200082  160331   Lil+Wayne                Future\n",
       "65     200082  420178   Lil+Wayne             DJ+Khaled\n",
       "66     200082  200037   Lil+Wayne               Lil+Jon\n",
       "67     200082  408323   Lil+Wayne                 Jeezy\n",
       "68     200082  173505   Lil+Wayne            Gucci+Mane\n",
       "69     200082  449356   Lil+Wayne                j.cole\n",
       "70     200082   49227   Lil+Wayne               Birdman\n",
       "71     200082    8846   Lil+Wayne              Ace+Hood\n",
       "72     200082  231164   Lil+Wayne                 Migos\n",
       "73     200082  281939   Lil+Wayne           Project+Pat\n",
       "74     200082  158190   Lil+Wayne        French+Montana\n",
       "75     200082  225790   Lil+Wayne             Meek+Mill\n",
       "76     200082   47600   Lil+Wayne              Big+Sean\n",
       "77     200082   53400   Lil+Wayne                 B.o.B\n",
       "78     200082  380933   Lil+Wayne                T-Pain\n",
       "79     200082  208682   Lil+Wayne              Ludacris"
      ]
     },
     "execution_count": 118,
     "metadata": {},
     "output_type": "execute_result"
    }
   ],
   "source": [
    "# Lil Wayne\n",
    "top_20_with_names[\n",
    "    top_20_with_names['person_id'].isin([200082])\n",
    "]\n",
    "\n",
    "# Посмотрел похожие на сайте самого last.fm\n",
    "# https://www.last.fm/ru/music/Lil%27+Wayne/+similar\n",
    "# 1 страница: 2+Chainz, T.I., Meek+Mill, Jeezy, Birdman\n",
    "# 2 страница: Future, DJ+Khaled, Gucci+Mane, Big+Sean\n",
    "# 3 страница: j.cole, Ace+Hood\n",
    "# 4 страница: Ludacris, T-Pain, Wale"
   ]
  }
 ],
 "metadata": {
  "kernelspec": {
   "display_name": "Python 3",
   "language": "python",
   "name": "python3"
  },
  "language_info": {
   "codemirror_mode": {
    "name": "ipython",
    "version": 3
   },
   "file_extension": ".py",
   "mimetype": "text/x-python",
   "name": "python",
   "nbconvert_exporter": "python",
   "pygments_lexer": "ipython3",
   "version": "3.8.5"
  }
 },
 "nbformat": 4,
 "nbformat_minor": 2
}
